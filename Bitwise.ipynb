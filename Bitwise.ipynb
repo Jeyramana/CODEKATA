{
 "cells": [
  {
   "cell_type": "markdown",
   "metadata": {},
   "source": [
    "P: Bitwise OR AND Opeators"
   ]
  },
  {
   "cell_type": "code",
   "execution_count": null,
   "metadata": {},
   "outputs": [],
   "source": [
    "x = int(input())\n",
    "y = [int(y) for y in input().split(' ',x-1)]\n",
    "ans = y[0]\n",
    "an = y[0]\n",
    "for i in range(1, len(y)):\n",
    "        # ans = ans&y[i]\n",
    "        an |= y[i]\n",
    "print(an)"
   ]
  }
 ],
 "metadata": {
  "language_info": {
   "name": "python"
  },
  "orig_nbformat": 4
 },
 "nbformat": 4,
 "nbformat_minor": 2
}
