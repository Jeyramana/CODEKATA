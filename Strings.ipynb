{
 "cells": [
  {
   "cell_type": "markdown",
   "metadata": {},
   "source": [
    "# Strings"
   ]
  },
  {
   "cell_type": "markdown",
   "metadata": {},
   "source": [
    "P3: Check for only 3 characters in string"
   ]
  },
  {
   "cell_type": "code",
   "execution_count": 10,
   "metadata": {},
   "outputs": [
    {
     "name": "stdout",
     "output_type": "stream",
     "text": [
      "Wonder\n"
     ]
    }
   ],
   "source": [
    "x = list(input())\n",
    "count = []\n",
    "for i in x:\n",
    "    if i not in count:\n",
    "        count.append(i)\n",
    "# print(count)\n",
    "if len(count) == 3:\n",
    "    print('Wonder')\n",
    "else:\n",
    "    print(-1)"
   ]
  },
  {
   "cell_type": "markdown",
   "metadata": {},
   "source": [
    "P11: Check for balanced brackets."
   ]
  },
  {
   "cell_type": "code",
   "execution_count": 3,
   "metadata": {},
   "outputs": [
    {
     "name": "stdout",
     "output_type": "stream",
     "text": [
      "1\n"
     ]
    }
   ],
   "source": [
    "# x = '{({})}'\n",
    "x = list(input())\n",
    "cur = ['{', '}']\n",
    "cir = ['(', ')']\n",
    "count = 0\n",
    "for i in x:\n",
    "    if i in cur or i in cir:\n",
    "        count += 1\n",
    "if count%2 == 0:\n",
    "    print(1)\n",
    "else:\n",
    "    print(0)"
   ]
  },
  {
   "cell_type": "code",
   "execution_count": 14,
   "metadata": {},
   "outputs": [
    {
     "name": "stdout",
     "output_type": "stream",
     "text": [
      "3\n",
      "1\n"
     ]
    }
   ],
   "source": [
    "x = list(input())\n",
    "l = len(x)\n",
    "count = 0\n",
    "print(l)\n",
    "if x[0] == 'A' or x[0] == 'a':\n",
    "    if x[(l-2)//2+1] == 'M' or x[(l-2)//2+1] == 'm':\n",
    "        if x[l-1] == 'Z' or x[l-1] == 'z':\n",
    "            count += 1\n",
    "if count == 1: print(1)\n",
    "else: print(0)\n"
   ]
  },
  {
   "cell_type": "markdown",
   "metadata": {},
   "source": [
    "P14: Print only unrepeated characters."
   ]
  },
  {
   "cell_type": "code",
   "execution_count": 20,
   "metadata": {},
   "outputs": [
    {
     "name": "stdout",
     "output_type": "stream",
     "text": [
      "mpe\n"
     ]
    }
   ],
   "source": [
    "from collections import Counter\n",
    "# x = list(input())\n",
    "x = ['m', 'i', 's', 's', 'i', 's', 's', 'i', 'p', 'i', 'e']\n",
    "d = dict(Counter(x))\n",
    "# print(d)\n",
    "my_dic = {key:value for key, value in d.items() if value == 1}\n",
    "print(*(list(my_dic)),sep='')"
   ]
  },
  {
   "cell_type": "markdown",
   "metadata": {},
   "source": [
    "P15: True string if weight of vowel divisible by 8."
   ]
  },
  {
   "cell_type": "code",
   "execution_count": 21,
   "metadata": {},
   "outputs": [
    {
     "name": "stdout",
     "output_type": "stream",
     "text": [
      "0\n"
     ]
    }
   ],
   "source": [
    "# x = list(input())\n",
    "x = ['r', 'a', 'j', 'a']\n",
    "vow = ['a', 'e', 'i', 'o', 'u']\n",
    "weight = 0\n",
    "for i in x:\n",
    "    if i in vow:\n",
    "        weight += ord(i)\n",
    "if weight%8 == 0:\n",
    "    print(1)\n",
    "else:\n",
    "    print(0)"
   ]
  },
  {
   "cell_type": "markdown",
   "metadata": {},
   "source": [
    "P16: Find highest integer in string of words with full stop '.'"
   ]
  },
  {
   "cell_type": "code",
   "execution_count": 39,
   "metadata": {},
   "outputs": [
    {
     "name": "stdout",
     "output_type": "stream",
     "text": [
      "1947\n"
     ]
    }
   ],
   "source": [
    "# y = input()\n",
    "# y = 'I was born on 12 october 1998.'\n",
    "y = 'India got independence on 15 august 1947. But they were fighting for it for last 90 years.'\n",
    "y = [y.replace(\".\", \"\") for y in y]\n",
    "y = ''.join(y)\n",
    "y = y.split(' ')\n",
    "p = []\n",
    "for i in y:\n",
    "    if i.isdigit():\n",
    "        p.append(int(i))\n",
    "p.sort()\n",
    "print(p[-1])\n"
   ]
  },
  {
   "cell_type": "markdown",
   "metadata": {},
   "source": [
    "P21: Sum integers & put characters in order with the sum."
   ]
  },
  {
   "cell_type": "code",
   "execution_count": 82,
   "metadata": {},
   "outputs": [
    {
     "name": "stdout",
     "output_type": "stream",
     "text": [
      "ACBD7\n"
     ]
    }
   ],
   "source": [
    "# x = list(input())\n",
    "x = ['A', 'C', '3', '0', 'B', 'D', '4', '0']\n",
    "s = 0\n",
    "i = 0\n",
    "while(i < len(x)):\n",
    "    if x[i].isdigit():\n",
    "        s += int(x[i])\n",
    "        x.remove(x[i])\n",
    "    else:\n",
    "        i += 1\n",
    "print(''.join(x)+str(s))\n"
   ]
  },
  {
   "cell_type": "markdown",
   "metadata": {},
   "source": [
    "P22: Grey code sequence"
   ]
  },
  {
   "cell_type": "code",
   "execution_count": 38,
   "metadata": {},
   "outputs": [
    {
     "name": "stdout",
     "output_type": "stream",
     "text": [
      "00\n",
      "01\n",
      "10\n",
      "11\n",
      "['00', '01', '10', '11']\n"
     ]
    }
   ],
   "source": [
    "code = []\n",
    "for i in range(2):\n",
    "    for j in range(2):\n",
    "        print(i, j, sep='')\n",
    "        x = str(i)+str(j)\n",
    "        code.append(''.join(x))\n",
    "print(code)"
   ]
  },
  {
   "cell_type": "code",
   "execution_count": 35,
   "metadata": {},
   "outputs": [
    {
     "name": "stdout",
     "output_type": "stream",
     "text": [
      "000\n",
      "001\n",
      "010\n",
      "011\n",
      "100\n",
      "101\n",
      "110\n",
      "111\n"
     ]
    }
   ],
   "source": [
    "for i in range(2):\n",
    "    for j in range(2):\n",
    "        for k in range(2):\n",
    "            print(i, j, k, sep='')"
   ]
  },
  {
   "cell_type": "markdown",
   "metadata": {},
   "source": [
    "P23: Check for mirror string."
   ]
  },
  {
   "cell_type": "code",
   "execution_count": 92,
   "metadata": {},
   "outputs": [
    {
     "name": "stdout",
     "output_type": "stream",
     "text": [
      "YES\n"
     ]
    }
   ],
   "source": [
    "x = int(input())\n",
    "y = []\n",
    "for i in range(x):\n",
    "    z = input().split(' ')\n",
    "    y.append(z)\n",
    "# print(y, y[0][::-1], len(y))\n",
    "count = False\n",
    "for i in range(len(y)):\n",
    "    for j in range(i+1, len(y)):\n",
    "        if y[i][::-1] == y[j]:\n",
    "            count = True\n",
    "if count:\n",
    "    print('YES')\n",
    "else:\n",
    "    print('NO')\n"
   ]
  },
  {
   "cell_type": "markdown",
   "metadata": {},
   "source": [
    "P: Swap even and odd index characters."
   ]
  },
  {
   "cell_type": "code",
   "execution_count": 32,
   "metadata": {},
   "outputs": [
    {
     "name": "stdout",
     "output_type": "stream",
     "text": [
      "ocedakat\n"
     ]
    }
   ],
   "source": [
    "# x = list(input())\n",
    "x =['c', 'o', 'd', 'e', 'k', 'a', 't', 'a']\n",
    "p = []\n",
    "r = []\n",
    "t = []\n",
    "for i in range(len(x)):\n",
    "    if i%2 == 0:  p.append(x[i])\n",
    "    else:  r.append(x[i])\n",
    "for i in range(max(len(r),len(p))):\n",
    "    t.append(r[i])\n",
    "    t.append(p[i])\n",
    "    \n",
    "# print(p, r)\n",
    "print(*t, sep='')"
   ]
  },
  {
   "cell_type": "markdown",
   "metadata": {},
   "source": [
    "P: Swap even and odd index numbers (other way)."
   ]
  },
  {
   "cell_type": "code",
   "execution_count": 49,
   "metadata": {},
   "outputs": [
    {
     "name": "stdout",
     "output_type": "stream",
     "text": [
      "2 3 2 1 3\n"
     ]
    }
   ],
   "source": [
    "# x = int(input())\n",
    "# y = [int(y) for y in input().split(' ', x-1)]\n",
    "y = [3, 2, 1, 2, 3]\n",
    "odd = False\n",
    "if len(y)%2 == 0:  l = len(y)\n",
    "else:\n",
    "    odd = True\n",
    "    l = len(y) - 1\n",
    "for i in range(0, l, 2):\n",
    "    temp = y[i]\n",
    "    y[i] = y[i+1]\n",
    "    y[i+1] = temp\n",
    "print(*y)"
   ]
  },
  {
   "cell_type": "markdown",
   "metadata": {},
   "source": [
    "P: Remove space \" \" from string and find length"
   ]
  },
  {
   "cell_type": "code",
   "execution_count": 38,
   "metadata": {},
   "outputs": [
    {
     "name": "stdout",
     "output_type": "stream",
     "text": [
      "10\n"
     ]
    }
   ],
   "source": [
    "y = list(input())\n",
    "y = [y for y in y if ' ' not in y]\n",
    "print(len(y))"
   ]
  },
  {
   "cell_type": "markdown",
   "metadata": {},
   "source": [
    "P: Rock / Paper / Scissor"
   ]
  },
  {
   "cell_type": "code",
   "execution_count": 44,
   "metadata": {},
   "outputs": [
    {
     "name": "stdout",
     "output_type": "stream",
     "text": [
      "D\n"
     ]
    }
   ],
   "source": [
    "x, y = map(str, input().split(' '))\n",
    "if x=='R' and y=='P': print('P')\n",
    "elif x=='P' and y=='R': print('P')\n",
    "elif x=='R' and y=='S': print('R')\n",
    "elif x=='S' and y=='R': print('R')\n",
    "elif x=='S' and y=='P': print('S')\n",
    "elif x=='P' and y=='S': print('S')\n",
    "else: print('D')"
   ]
  },
  {
   "cell_type": "markdown",
   "metadata": {},
   "source": [
    "P: Sentence to words then reverse it"
   ]
  },
  {
   "cell_type": "code",
   "execution_count": 48,
   "metadata": {},
   "outputs": [
    {
     "name": "stdout",
     "output_type": "stream",
     "text": [
      "world hello\n"
     ]
    }
   ],
   "source": [
    "x = list(input().split(' '))\n",
    "print(*x[::-1])"
   ]
  },
  {
   "cell_type": "markdown",
   "metadata": {},
   "source": [
    "P: Shift index of string."
   ]
  },
  {
   "cell_type": "code",
   "execution_count": 3,
   "metadata": {},
   "outputs": [
    {
     "name": "stdout",
     "output_type": "stream",
     "text": [
      "XYZaBCDEFGHIJKLMNOPQRSTUVw\n"
     ]
    }
   ],
   "source": [
    "x = 'ABCdEFGHIJKLMNOPQRSTUVWXYz'\n",
    "# x, a = map(str, input().split(' '))\n",
    "x = x.upper()\n",
    "a = 23\n",
    "# print(x)\n",
    "l = len(x)\n",
    "y = []\n",
    "z = l - int(a)\n",
    "for i in range(l):\n",
    "    if i < z:\n",
    "        y.append(x[(l-z)+i])\n",
    "    elif i >= z:\n",
    "        y.append(x[i-z])\n",
    "        if i == 3 or i == 25:\n",
    "            y[i] = y[i].lower()\n",
    "print(*y, sep='')"
   ]
  },
  {
   "cell_type": "markdown",
   "metadata": {},
   "source": [
    "P: Increment character in string. A + 4 = E"
   ]
  },
  {
   "cell_type": "code",
   "execution_count": 32,
   "metadata": {},
   "outputs": [
    {
     "name": "stdout",
     "output_type": "stream",
     "text": [
      "EXXEGOEXSRGI\n"
     ]
    }
   ],
   "source": [
    "x, a = map(str, input().split(' '))\n",
    "# x = 'ATTACKATONCE'\n",
    "a = int(a)\n",
    "alphabet = 'ABCDEFGHIJKLMNOPQRSTUVWXYZ'\n",
    "x = list(x)\n",
    "if x[0] == x[0].lower():\n",
    "    alphabet = alphabet.lower()\n",
    "for i in range(len(x)):\n",
    "    j = alphabet.index(x[i])\n",
    "    x[i] = alphabet[j+a]\n",
    "print(*x, sep='')\n"
   ]
  },
  {
   "cell_type": "markdown",
   "metadata": {},
   "source": [
    "P25: Palindromic String check"
   ]
  },
  {
   "cell_type": "code",
   "execution_count": 3,
   "metadata": {},
   "outputs": [
    {
     "name": "stdout",
     "output_type": "stream",
     "text": [
      "yes\n"
     ]
    }
   ],
   "source": [
    "x = input()\n",
    "y = x[::-1]\n",
    "if x == y:\n",
    "    print('yes')\n",
    "else:\n",
    "    print('no')"
   ]
  },
  {
   "cell_type": "markdown",
   "metadata": {},
   "source": [
    "P26: First non repeating character in string"
   ]
  },
  {
   "cell_type": "code",
   "execution_count": 16,
   "metadata": {},
   "outputs": [
    {
     "name": "stdout",
     "output_type": "stream",
     "text": [
      "-1\n"
     ]
    }
   ],
   "source": [
    "from collections import Counter\n",
    "x = list(input())\n",
    "a = dict(Counter(x))\n",
    "my_dic = [key for key, value in a.items() if value == 1]\n",
    "if my_dic == []:\n",
    "    print(-1)\n",
    "else:\n",
    "    print(my_dic[0])"
   ]
  },
  {
   "cell_type": "markdown",
   "metadata": {},
   "source": [
    "P27: Correct repeated username"
   ]
  },
  {
   "cell_type": "code",
   "execution_count": 19,
   "metadata": {},
   "outputs": [
    {
     "name": "stdout",
     "output_type": "stream",
     "text": [
      "Verified Verified abc1 Verified\n"
     ]
    }
   ],
   "source": [
    "x = int(input())\n",
    "y = [str(x) for x in input().split(' ', x-1)]\n",
    "z = []\n",
    "w = []\n",
    "for i in y:\n",
    "    if i not in z:\n",
    "        z.append(i)\n",
    "        w.append('Verified')\n",
    "    else:\n",
    "        i += '1'\n",
    "        z.append(i)\n",
    "        w.append(i)\n",
    "print(*w)"
   ]
  },
  {
   "cell_type": "markdown",
   "metadata": {},
   "source": [
    "P28: Check for Panagram = Palindrome + Anagram(jumbled)"
   ]
  },
  {
   "cell_type": "code",
   "execution_count": 20,
   "metadata": {},
   "outputs": [
    {
     "name": "stdout",
     "output_type": "stream",
     "text": [
      "1\n"
     ]
    }
   ],
   "source": [
    "x, y = map(str, input().split(' '))\n",
    "count = 0\n",
    "if x == x[::-1] and y == y[::-1]:\n",
    "    count += 1\n",
    "for i in x:\n",
    "    if i in y:\n",
    "        count += 1\n",
    "if count == 1+len(x):\n",
    "    print(1)\n",
    "else:\n",
    "    print(0)\n",
    "\n"
   ]
  },
  {
   "cell_type": "markdown",
   "metadata": {},
   "source": [
    "P29: Alternate upper & lower case words in string"
   ]
  },
  {
   "cell_type": "code",
   "execution_count": 27,
   "metadata": {},
   "outputs": [
    {
     "name": "stdout",
     "output_type": "stream",
     "text": [
      "ABCD efgh IJKL\n"
     ]
    }
   ],
   "source": [
    "# x = list(input().split(' '))\n",
    "x = ['abcd', 'efgH', 'ijkl']\n",
    "for i in range(len(x)):\n",
    "    if i%2 == 0:\n",
    "        x[i]= x[i].upper()\n",
    "    else:\n",
    "        x[i]= x[i].lower()\n",
    "print(*x)"
   ]
  },
  {
   "cell_type": "markdown",
   "metadata": {},
   "source": [
    "P30: Check for PAN authentication"
   ]
  },
  {
   "cell_type": "code",
   "execution_count": 29,
   "metadata": {},
   "outputs": [
    {
     "name": "stdout",
     "output_type": "stream",
     "text": [
      "pan\n"
     ]
    }
   ],
   "source": [
    "# x = list(input())\n",
    "x = ['H', 'X', 'T', 'P', 'S', '2', '1', '4', '2', 'R']\n",
    "count_str = 0\n",
    "count_int = 0\n",
    "if len(x) == 10:\n",
    "    for i in range(len(x)):\n",
    "        if i == len(x)-1 and x[i].isupper():\n",
    "            count_str += 1\n",
    "        elif i < 5 and x[i].isupper():\n",
    "            count_str += 1\n",
    "        elif x[i].isdigit():\n",
    "            count_int += 1\n",
    "if count_str == 6 and count_int == 4:\n",
    "    print('pan') \n",
    "else:\n",
    "    print('not pan')\n"
   ]
  },
  {
   "cell_type": "markdown",
   "metadata": {},
   "source": [
    "P31: Check for sub set string"
   ]
  },
  {
   "cell_type": "code",
   "execution_count": 35,
   "metadata": {},
   "outputs": [
    {
     "name": "stdout",
     "output_type": "stream",
     "text": [
      "yes\n"
     ]
    }
   ],
   "source": [
    "# x, y = map(str, input().split())\n",
    "x = 'abcd'\n",
    "y = 'ab'\n",
    "if y in x or x in y:\n",
    "    print('Yes')\n",
    "else:\n",
    "    print('NO')"
   ]
  },
  {
   "cell_type": "markdown",
   "metadata": {},
   "source": [
    "P32: Remove character from str1 if in str2"
   ]
  },
  {
   "cell_type": "code",
   "execution_count": 46,
   "metadata": {},
   "outputs": [
    {
     "name": "stdout",
     "output_type": "stream",
     "text": [
      "['w', 'r', 'o', 'n', 'g'] ['w', 'r', 'o', 'n', 'g']\n",
      "-1\n"
     ]
    }
   ],
   "source": [
    "x, y = map(str, input().split(' '))\n",
    "x = list(x)\n",
    "y = list(y)\n",
    "# x = ['G', 'U', 'V', 'I']\n",
    "# y = ['G', 'E', 'E', 'K']\n",
    "i = 0\n",
    "while(i < len(x)):\n",
    "    if x[i] in y:\n",
    "        x.remove(x[i])\n",
    "    else:\n",
    "        i += 1\n",
    "if x == []:\n",
    "    print(-1)\n",
    "else:\n",
    "    print(*x, sep='')\n"
   ]
  },
  {
   "cell_type": "markdown",
   "metadata": {},
   "source": [
    "P33: List duplicate characters"
   ]
  },
  {
   "cell_type": "code",
   "execution_count": 51,
   "metadata": {},
   "outputs": [
    {
     "name": "stdout",
     "output_type": "stream",
     "text": [
      "{}\n",
      "\n"
     ]
    }
   ],
   "source": [
    "from collections import Counter\n",
    "x = list(input())\n",
    "a = dict(Counter(x))\n",
    "my_dic = {key:value for key, value in a.items() if value > 1}\n",
    "if my_dic == {}:\n",
    "    print(-1)\n",
    "else:\n",
    "    print(' '.join(list(my_dic)))"
   ]
  },
  {
   "cell_type": "markdown",
   "metadata": {},
   "source": [
    "P34: Check for vowels in string"
   ]
  },
  {
   "cell_type": "code",
   "execution_count": 1,
   "metadata": {},
   "outputs": [
    {
     "name": "stdout",
     "output_type": "stream",
     "text": [
      "yes\n"
     ]
    }
   ],
   "source": [
    "x = input()\n",
    "count = 0\n",
    "for i in x:\n",
    "    if i in ['a','e','i','o','u']:\n",
    "        count += 1\n",
    "if count == 0:\n",
    "    print('no')\n",
    "else: print('yes')"
   ]
  },
  {
   "cell_type": "markdown",
   "metadata": {},
   "source": [
    "P35: Check for weekdays"
   ]
  },
  {
   "cell_type": "code",
   "execution_count": 4,
   "metadata": {},
   "outputs": [
    {
     "name": "stdout",
     "output_type": "stream",
     "text": [
      "no\n"
     ]
    }
   ],
   "source": [
    "x = input()\n",
    "x = x.upper()\n",
    "holidays = ['SATURDAY', 'SUNDAY']\n",
    "if x in holidays: print('yes')\n",
    "else: print('no')"
   ]
  },
  {
   "cell_type": "markdown",
   "metadata": {},
   "source": [
    "P37: Reverse the string"
   ]
  },
  {
   "cell_type": "code",
   "execution_count": 10,
   "metadata": {},
   "outputs": [
    {
     "name": "stdout",
     "output_type": "stream",
     "text": [
      "edoc\n"
     ]
    }
   ],
   "source": [
    "x = list(input())\n",
    "print(*x[::-1],sep='')"
   ]
  },
  {
   "cell_type": "markdown",
   "metadata": {},
   "source": [
    "P38: Display word after article (the, a , an)"
   ]
  },
  {
   "cell_type": "code",
   "execution_count": 15,
   "metadata": {},
   "outputs": [
    {
     "name": "stdout",
     "output_type": "stream",
     "text": [
      "sun east\n"
     ]
    }
   ],
   "source": [
    "x = list(input().split(' '))\n",
    "articles = ['THE', 'A', 'AN']\n",
    "words = []\n",
    "for i in range(len(x)):\n",
    "    if x[i].upper() in articles:\n",
    "        if i+1 <= len(x)-1:\n",
    "            words.append(x[i+1])\n",
    "print(*words)\n"
   ]
  },
  {
   "cell_type": "markdown",
   "metadata": {},
   "source": [
    "P39: Code language problem, increment uppercase characters"
   ]
  },
  {
   "cell_type": "code",
   "execution_count": 29,
   "metadata": {},
   "outputs": [
    {
     "name": "stdout",
     "output_type": "stream",
     "text": [
      "UDGDU\n"
     ]
    }
   ],
   "source": [
    "x = list(input())\n",
    "y = []\n",
    "for i in x:\n",
    "    if ord(i)+3 > 90:\n",
    "        temp = ord(i) + 3 - 90\n",
    "        y.append(chr(64+temp))\n",
    "    else:\n",
    "        y.append(chr(ord(i)+3))\n",
    "print(*y,sep='')"
   ]
  },
  {
   "cell_type": "markdown",
   "metadata": {},
   "source": [
    "P46: Convert the binary number to hexadecimal."
   ]
  },
  {
   "cell_type": "code",
   "execution_count": 1,
   "metadata": {},
   "outputs": [
    {
     "name": "stdout",
     "output_type": "stream",
     "text": [
      "<class 'str'> 0x64\n",
      "64\n"
     ]
    }
   ],
   "source": [
    "# n = input()\n",
    "n = '1100100'\n",
    "h = hex(int(n, 2))\n",
    "print(type(h), h)\n",
    "h = list(h)\n",
    "h = h[2:]\n",
    "print(*h, sep='')"
   ]
  },
  {
   "cell_type": "markdown",
   "metadata": {},
   "source": [
    "P47: Reverse string with '-' in between characters"
   ]
  },
  {
   "cell_type": "code",
   "execution_count": 3,
   "metadata": {},
   "outputs": [
    {
     "name": "stdout",
     "output_type": "stream",
     "text": [
      "a-t-a-k-e-d-o-c\n"
     ]
    }
   ],
   "source": [
    "x = input()\n",
    "x = 'codekata'\n",
    "x = x[::-1]\n",
    "y = ''\n",
    "for i in range(len(x)):\n",
    "    if i < len(x)-1:\n",
    "        y = y + x[i] + '-'\n",
    "    else:\n",
    "        y = y + x[i]\n",
    "print(*y, sep='')"
   ]
  },
  {
   "cell_type": "markdown",
   "metadata": {},
   "source": [
    "P48: Remove subset string"
   ]
  },
  {
   "cell_type": "code",
   "execution_count": 8,
   "metadata": {},
   "outputs": [
    {
     "name": "stdout",
     "output_type": "stream",
     "text": [
      "Birthday\n"
     ]
    }
   ],
   "source": [
    "# x = input()\n",
    "# y = input()\n",
    "x = 'Happy Birthday'\n",
    "y = 'Happy'\n",
    "if y in x:\n",
    "    x = x.replace(y,'')\n",
    "    # x.strip()\n",
    "print(x.strip())"
   ]
  },
  {
   "cell_type": "markdown",
   "metadata": {},
   "source": [
    "P50: Print the intersection of two strings"
   ]
  },
  {
   "cell_type": "code",
   "execution_count": 18,
   "metadata": {},
   "outputs": [
    {
     "name": "stdout",
     "output_type": "stream",
     "text": [
      "no\n"
     ]
    }
   ],
   "source": [
    "x, y = map(str, input().split(' '))\n",
    "if x in y:\n",
    "    print('yes')\n",
    "else:\n",
    "    print('no')"
   ]
  },
  {
   "cell_type": "markdown",
   "metadata": {},
   "source": [
    "P52: Find the max. ocurring string, if multiple then sort it in lexicographical order"
   ]
  },
  {
   "cell_type": "code",
   "execution_count": 18,
   "metadata": {},
   "outputs": [
    {
     "name": "stdout",
     "output_type": "stream",
     "text": [
      "['john', 'johnny', 'jackie', 'johnny', 'john', 'jackie', 'jamie', 'jamie', 'john', 'johnny', 'jamie', 'johnny', 'john']\n",
      "{'jackie': 2, 'jamie': 3, 'john': 4, 'johnny': 4}\n",
      "john 4\n"
     ]
    }
   ],
   "source": [
    "from collections import Counter\n",
    "# x = 'john johnny jackie johnny john jackie jamie jamie john johnny jamie johnny john'\n",
    "x = input()\n",
    "x = list(map(str, x.split(' ')))\n",
    "# print(x)\n",
    "d = dict(Counter(x))\n",
    "sd = dict(sorted(d.items(), key = lambda x: x[1]))\n",
    "# print(sd)\n",
    "key = [key for key, value in sd.items()]\n",
    "value = [value for key, value in sd.items()]\n",
    "mm = max(value)\n",
    "store_i = []\n",
    "for i in range(len(value)):\n",
    "    if value[i] == mm:\n",
    "        store_i.append(i)\n",
    "store_name = []\n",
    "for i in store_i:\n",
    "    store_name.append(key[i])\n",
    "store_name.sort()\n",
    "print(store_name[0], mm)\n",
    "    "
   ]
  },
  {
   "cell_type": "markdown",
   "metadata": {},
   "source": [
    "P16: Minimum no. of character insert to avoid 3 consecutive characters."
   ]
  },
  {
   "cell_type": "code",
   "execution_count": 7,
   "metadata": {},
   "outputs": [
    {
     "name": "stdout",
     "output_type": "stream",
     "text": [
      "['a', 'a', 'b', 'b', 'b', 'c', 'c']\n",
      "{'a': 2, 'b': 3, 'c': 2}\n",
      "1\n"
     ]
    }
   ],
   "source": [
    "from collections import Counter\n",
    "# x = list(input())\n",
    "x = list('aabbbcc')\n",
    "# print(x)\n",
    "d = dict(Counter(x))\n",
    "# print(d)\n",
    "k = {key:value for key, value in d.items() if value >= 3}\n",
    "key = [key for key, value in k.items()]\n",
    "value = [value for key, value in k.items()]\n",
    "count = 0\n",
    "for i in value:\n",
    "    count += i//3\n",
    "print(count)\n"
   ]
  },
  {
   "cell_type": "markdown",
   "metadata": {},
   "source": [
    "P49: Print first position of 1 in binary number of integer from right to left"
   ]
  },
  {
   "cell_type": "code",
   "execution_count": 15,
   "metadata": {},
   "outputs": [
    {
     "name": "stdout",
     "output_type": "stream",
     "text": [
      "[1, 0, 0, 1, 0]\n",
      "2\n"
     ]
    }
   ],
   "source": [
    "# x = int(input())\n",
    "x = 18\n",
    "y = list(map(int, format(x, 'b')))\n",
    "# print(y)\n",
    "i = 0\n",
    "while(i < len(y)):\n",
    "    if y[-(i+1)] == 1:\n",
    "        print(i+1)\n",
    "        break\n",
    "    else:\n",
    "        i += 1"
   ]
  },
  {
   "cell_type": "markdown",
   "metadata": {},
   "source": [
    "P53: Check for repeating digits"
   ]
  },
  {
   "cell_type": "code",
   "execution_count": 21,
   "metadata": {},
   "outputs": [
    {
     "name": "stdout",
     "output_type": "stream",
     "text": [
      "{'1', '2', '3', '4'}\n",
      "yes\n"
     ]
    }
   ],
   "source": [
    "# x = input()\n",
    "x = '11234'\n",
    "y = set(x)\n",
    "# print(y)\n",
    "if len(x) != len(y):\n",
    "    print('yes')\n",
    "else:\n",
    "    print('no')"
   ]
  },
  {
   "cell_type": "markdown",
   "metadata": {},
   "source": [
    "P54: Check for consecutive words"
   ]
  },
  {
   "cell_type": "code",
   "execution_count": 22,
   "metadata": {},
   "outputs": [
    {
     "name": "stdout",
     "output_type": "stream",
     "text": [
      "no\n"
     ]
    }
   ],
   "source": [
    "x = int(input())\n",
    "y = []\n",
    "for i in range(x):\n",
    "    y.append(input())\n",
    "z = set(y)\n",
    "if len(z) != len(y):\n",
    "    print('yes')\n",
    "else:\n",
    "    print('no')"
   ]
  },
  {
   "cell_type": "markdown",
   "metadata": {},
   "source": [
    "P58: Uppercase the kth element in string"
   ]
  },
  {
   "cell_type": "code",
   "execution_count": 9,
   "metadata": {},
   "outputs": [
    {
     "name": "stdout",
     "output_type": "stream",
     "text": [
      "sTrInG\n"
     ]
    }
   ],
   "source": [
    "x, y = map(str, input().split(' '))\n",
    "y = int(y)\n",
    "z = []\n",
    "count = 0\n",
    "for i in range(len(x)):\n",
    "    count += 1\n",
    "    if count == y:\n",
    "        z.append(x[i].upper())\n",
    "        count = 0\n",
    "    else:\n",
    "        z.append(x[i])\n",
    "print(*z, sep='')"
   ]
  },
  {
   "cell_type": "markdown",
   "metadata": {},
   "source": [
    "P59: Search for element. HINT: Learn Binary Search"
   ]
  },
  {
   "cell_type": "code",
   "execution_count": 1,
   "metadata": {},
   "outputs": [
    {
     "name": "stdout",
     "output_type": "stream",
     "text": [
      "yes\n"
     ]
    }
   ],
   "source": [
    "x, y = map(int, input().split(' '))\n",
    "z = [int(x) for x in input().split(' ', x-1)]\n",
    "if y in z:\n",
    "    print('yes')"
   ]
  },
  {
   "cell_type": "markdown",
   "metadata": {},
   "source": [
    "P60: Print only the kth element in string"
   ]
  },
  {
   "cell_type": "code",
   "execution_count": 6,
   "metadata": {},
   "outputs": [
    {
     "name": "stdout",
     "output_type": "stream",
     "text": [
      "r g\n"
     ]
    }
   ],
   "source": [
    "x, y = map(str, input().split(' '))\n",
    "y = int(y)\n",
    "z = []\n",
    "count = 0\n",
    "for i in range(len(x)):\n",
    "    count += 1\n",
    "    if count == y:\n",
    "        z.append(x[i])\n",
    "        count = 0\n",
    "print(*z)"
   ]
  },
  {
   "cell_type": "markdown",
   "metadata": {},
   "source": [
    "P63: Check if y in present in given arrays of range"
   ]
  },
  {
   "cell_type": "code",
   "execution_count": 11,
   "metadata": {},
   "outputs": [
    {
     "name": "stdout",
     "output_type": "stream",
     "text": [
      "yes\n"
     ]
    }
   ],
   "source": [
    "x, y = map(int, input().split(' '))\n",
    "a, b = [], []\n",
    "for i in range(x):\n",
    "    c, d = map(int, input().split(' '))\n",
    "    a.append(c)\n",
    "    b.append(d)\n",
    "present = False\n",
    "for i in range(x):\n",
    "    if y in range(a[i], b[i]+1):\n",
    "        present = True\n",
    "if present:\n",
    "    print('yes')\n",
    "else:\n",
    "    print('no')"
   ]
  },
  {
   "cell_type": "markdown",
   "metadata": {},
   "source": [
    "P67: Check if Quadruplet (i+j+k+l = 1) in array"
   ]
  },
  {
   "cell_type": "code",
   "execution_count": 9,
   "metadata": {},
   "outputs": [
    {
     "name": "stdout",
     "output_type": "stream",
     "text": [
      "Yes\n"
     ]
    }
   ],
   "source": [
    "from itertools import combinations\n",
    "# x = int(input())\n",
    "# y = [int(x) for x in input().split(' ')]\n",
    "x = 5\n",
    "y = [1, -1, 2, -2, 3]\n",
    "if x > 4:\n",
    "    z = list(combinations(y, 4))\n",
    "else:\n",
    "    z = list(combinations(y, len(y)))\n",
    "exists = False\n",
    "for i in z:\n",
    "    sum = 0\n",
    "    for j in i:\n",
    "        sum += j\n",
    "    if sum == 1:\n",
    "        exists = True\n",
    "        print('Yes')\n",
    "        break\n",
    "if exists == False:\n",
    "    print('No')"
   ]
  },
  {
   "cell_type": "markdown",
   "metadata": {},
   "source": [
    "P68: Reverse Saturated order of string except first & last"
   ]
  },
  {
   "cell_type": "code",
   "execution_count": 10,
   "metadata": {},
   "outputs": [
    {
     "name": "stdout",
     "output_type": "stream",
     "text": [
      "Hi woh era you\n"
     ]
    }
   ],
   "source": [
    "x = list(input().split(' '))\n",
    "for i in range(len(x)):\n",
    "    if i not in [0, len(x)-1]:\n",
    "        x[i] = x[i][::-1]\n",
    "print(*x)"
   ]
  },
  {
   "cell_type": "markdown",
   "metadata": {},
   "source": [
    "P70: Check if string is Hexadecimal"
   ]
  },
  {
   "cell_type": "code",
   "execution_count": 11,
   "metadata": {},
   "outputs": [
    {
     "name": "stdout",
     "output_type": "stream",
     "text": [
      "yes\n"
     ]
    }
   ],
   "source": [
    "def is_hex(s):\n",
    "    hex_digits = set(\"0123456789abcdefABCDEF\")\n",
    "    for char in s:\n",
    "        if char in hex_digits:\n",
    "            return True\n",
    "    return False\n",
    "x = input()\n",
    "if is_hex(x):\n",
    "    print('yes')\n",
    "else:\n",
    "    print('no')"
   ]
  },
  {
   "cell_type": "markdown",
   "metadata": {},
   "source": [
    "P78: Isomorphic strings (similar strings)"
   ]
  },
  {
   "cell_type": "code",
   "execution_count": 25,
   "metadata": {},
   "outputs": [
    {
     "name": "stdout",
     "output_type": "stream",
     "text": [
      "yes\n"
     ]
    }
   ],
   "source": [
    "x, y = input().split(' ')\n",
    "def checker(a):\n",
    "    if len(a) > 2:\n",
    "        if ord(a[0]) == ord(a[1]):\n",
    "            b = chr(ord(a[1])+1)\n",
    "            if b == a[2]:\n",
    "                return 'yes'\n",
    "            else:\n",
    "                return 'no'\n",
    "    else:\n",
    "        b = chr(ord(a[0])+1)\n",
    "        if b == a[1]:\n",
    "            return 'yes'\n",
    "        else:\n",
    "            return 'no'\n",
    "x = list(x)\n",
    "y = list(y)\n",
    "i = checker(x)\n",
    "j = checker(y)\n",
    "if i == 'yes' and j == 'yes':\n",
    "    print('yes')\n",
    "else:\n",
    "    print('no')\n"
   ]
  },
  {
   "cell_type": "markdown",
   "metadata": {},
   "source": [
    "P84: Print the zth element from yth index in array"
   ]
  },
  {
   "cell_type": "code",
   "execution_count": null,
   "metadata": {},
   "outputs": [],
   "source": [
    "x, y, z = map(int, input().split(' '))\n",
    "a = str(x)\n",
    "x = list(map(int, a))\n",
    "for i in range(len(x)):\n",
    "    if i == y:\n",
    "        print(x[i+z-1])"
   ]
  },
  {
   "cell_type": "markdown",
   "metadata": {},
   "source": [
    "P85: Check if vowels are present in array of strings"
   ]
  },
  {
   "cell_type": "code",
   "execution_count": 9,
   "metadata": {},
   "outputs": [
    {
     "name": "stdout",
     "output_type": "stream",
     "text": [
      "yes\n"
     ]
    }
   ],
   "source": [
    "# x = int(input())\n",
    "# y = []\n",
    "# for i in range(x):\n",
    "#     y.append(input())\n",
    "x = 5\n",
    "y = ['code','overload','vishal','sundar','anish']\n",
    "vowels = ['a', 'e', 'i', 'o', 'u']\n",
    "count = 0\n",
    "for i in range(x):\n",
    "    for j in range(5):\n",
    "        if vowels[j] in y[i]:\n",
    "            count += 1\n",
    "            break\n",
    "if count == x:\n",
    "    print('yes')\n",
    "else:\n",
    "    print('no')\n"
   ]
  },
  {
   "cell_type": "markdown",
   "metadata": {},
   "source": [
    "P87: Check if string2 present exactly in string1"
   ]
  },
  {
   "cell_type": "code",
   "execution_count": 16,
   "metadata": {},
   "outputs": [
    {
     "name": "stdout",
     "output_type": "stream",
     "text": [
      "1\n"
     ]
    }
   ],
   "source": [
    "x = input().split(' ')\n",
    "y = input()\n",
    "# x = ['codekata', 'coding', 'challenge']\n",
    "# y = 'coding'\n",
    "present = False\n",
    "for i in x:\n",
    "    if i == y:\n",
    "        id = x.index(y)\n",
    "        present = True\n",
    "        print(id+1)\n",
    "if present == False:\n",
    "    print(-1)"
   ]
  },
  {
   "cell_type": "code",
   "execution_count": 32,
   "metadata": {},
   "outputs": [
    {
     "name": "stdout",
     "output_type": "stream",
     "text": [
      "challenge\n"
     ]
    }
   ],
   "source": [
    "x = list(input().split(' '))\n",
    "mm = []\n",
    "for i in x:\n",
    "    mm.append(len(i))\n",
    "d = {x[i]:mm[i] for i in range(len(x))}\n",
    "d = dict(sorted(d.items(), key=lambda x:x[1]))\n",
    "result = [key for key, value in d.items()]\n",
    "print(result[-1])"
   ]
  },
  {
   "cell_type": "markdown",
   "metadata": {},
   "source": [
    "P95: Max. length of alternating vowel & consonant string"
   ]
  },
  {
   "cell_type": "code",
   "execution_count": 29,
   "metadata": {},
   "outputs": [
    {
     "name": "stdout",
     "output_type": "stream",
     "text": [
      "['b', 'e', 'b', 'i', 'b', 'o']\n",
      "b e\n",
      "b i\n",
      "b o\n",
      "6\n"
     ]
    }
   ],
   "source": [
    "x = list(input())\n",
    "vowels = ['a','e','i','o','u']\n",
    "length = len(x)\n",
    "count = 0\n",
    "for i in range(0,length - 1,2):\n",
    "    if (x[i] in vowels and x[i+1] not in vowels) or (x[i] not in vowels and x[i+1] in vowels):\n",
    "        count += 2\n",
    "print(count)\n",
    "\n",
    "\n"
   ]
  },
  {
   "cell_type": "markdown",
   "metadata": {},
   "source": [
    "P96: Print the index of fist occurance of character in string"
   ]
  },
  {
   "cell_type": "code",
   "execution_count": 34,
   "metadata": {},
   "outputs": [
    {
     "name": "stdout",
     "output_type": "stream",
     "text": [
      "-1\n"
     ]
    }
   ],
   "source": [
    "import re\n",
    "x = list(input().split(' '))\n",
    "x2 = re.search(x[1], x[0])\n",
    "try:\n",
    "    print(x2.start()+1)\n",
    "except:\n",
    "    print(-1)"
   ]
  },
  {
   "cell_type": "markdown",
   "metadata": {},
   "source": [
    "P102: Capitalize repeated letters in two given strings"
   ]
  },
  {
   "cell_type": "code",
   "execution_count": 21,
   "metadata": {},
   "outputs": [
    {
     "name": "stdout",
     "output_type": "stream",
     "text": [
      "cOMPuteR PROgRaM\n"
     ]
    }
   ],
   "source": [
    "from collections import Counter\n",
    "# x = list(input().split(' '))\n",
    "x = ['computer', 'program']\n",
    "y = ''\n",
    "for i in x:\n",
    "    y = y + i\n",
    "d = dict(Counter(y))\n",
    "keys = [k for k, v in d.items() if v > 1]\n",
    "y = []\n",
    "for i in x:\n",
    "    z = []\n",
    "    for j in range(len(i)):\n",
    "        if i[j] in keys:\n",
    "            z.append(i[j].upper())\n",
    "        else:\n",
    "            z.append(i[j])\n",
    "    y.append(z)\n",
    "strg = ''\n",
    "for i in range(len(y)):\n",
    "    if i != 0:\n",
    "        strg = strg + ' '\n",
    "    for j in y[i]:\n",
    "        strg = strg + j\n",
    "print(strg)"
   ]
  },
  {
   "cell_type": "markdown",
   "metadata": {},
   "source": [
    "P103: Print vowels first and then consonants"
   ]
  },
  {
   "cell_type": "code",
   "execution_count": 27,
   "metadata": {},
   "outputs": [
    {
     "name": "stdout",
     "output_type": "stream",
     "text": [
      "uIGV\n"
     ]
    }
   ],
   "source": [
    "x = list(input())\n",
    "vowels = ['a', 'e', 'i', 'o', 'u']\n",
    "\n",
    "v = ''\n",
    "c = ''\n",
    "for i in x:\n",
    "    if i.lower() in vowels:\n",
    "        v = v + i\n",
    "    else:\n",
    "        c = c + i\n",
    "strg = v + c\n",
    "print(strg)"
   ]
  },
  {
   "cell_type": "markdown",
   "metadata": {},
   "source": [
    " P104: Check if it can be made palindrome with 1 change"
   ]
  },
  {
   "cell_type": "code",
   "execution_count": null,
   "metadata": {},
   "outputs": [],
   "source": [
    "x = list(input())\n",
    "x[-1] = x[0]\n",
    "if x == x[::-1]:\n",
    "    print('YES')\n"
   ]
  },
  {
   "cell_type": "markdown",
   "metadata": {},
   "source": [
    " P105: Maximum length of substring alternating digits of odd and even."
   ]
  },
  {
   "cell_type": "code",
   "execution_count": null,
   "metadata": {},
   "outputs": [],
   "source": [
    "# x = list(map(int, input()))\n",
    "x = [3, 1, 2, 3, 2, 4, 2, 4]\n",
    "count = 1\n",
    "for i in range(len(x)):\n",
    "    if i+1 < len(x) and (x[i] + x[i+1])%2 != 0:\n",
    "        count += 1\n",
    "print(count)\n"
   ]
  },
  {
   "cell_type": "markdown",
   "metadata": {},
   "source": [
    " P106: Run-length encoding (RLE) aaba -> a2b1a1"
   ]
  },
  {
   "cell_type": "code",
   "execution_count": null,
   "metadata": {},
   "outputs": [],
   "source": [
    "# x = list(input())\n",
    "x = ['a', 'a', 'a', 'b', 'a', 'c']\n",
    "st = ''\n",
    "count = 0\n",
    "for i in range(len(x)):\n",
    "    if i == 0: \n",
    "        st = st + x[i]\n",
    "        count = 1\n",
    "        print(i)\n",
    "    elif x[i] == st[-1]:\n",
    "        print(i)\n",
    "        count += 1\n",
    "    elif x[i] != st[-1]:\n",
    "        print(i)\n",
    "        st = st + str(count) + x[i]\n",
    "        count = 1\n",
    "st = st + str(count)\n",
    "print(st)\n"
   ]
  },
  {
   "cell_type": "markdown",
   "metadata": {},
   "source": [
    " P107: Check if its Anagram (Jumbled)"
   ]
  },
  {
   "cell_type": "code",
   "execution_count": null,
   "metadata": {},
   "outputs": [],
   "source": [
    "y = input()\n",
    "z = input()\n",
    "temp = list(z)\n",
    "if len(y) == len(temp):\n",
    "    while (temp != []):\n",
    "        if temp[0] in y:\n",
    "            temp.remove(temp[0])\n",
    "        else:\n",
    "            break\n",
    "    if temp == []:\n",
    "        print(1)\n",
    "    else:\n",
    "        print(0)\n",
    "else:\n",
    "    print(0)\n",
    "\n"
   ]
  },
  {
   "cell_type": "markdown",
   "metadata": {},
   "source": [
    " P108:"
   ]
  },
  {
   "cell_type": "code",
   "execution_count": 7,
   "metadata": {},
   "outputs": [
    {
     "name": "stdout",
     "output_type": "stream",
     "text": [
      "{'a': 4, 's': 4, 'v': 2, 'k': 2, 'u': 4, 'g': 4, 'f': 2, 'i': 2, 'l': 2, 'd': 2}\n",
      "asvkugfiugsallasguifgukvsa ['a', 's', 'u', 'g', 'v', 'k', 'f', 'i', 'l', 'd']\n",
      "['svkugfiugsllsguifgukvs', 22, 'avkugfiugallaguifgukva', 22, 'asvkgfigsallasgifgkvsa', 22, 'asvkufiusallasuifukvsa', 22, 'askugfiugsallasguifguksa', 24, 'asvugfiugsallasguifguvsa', 24, 'asvkugiugsallasguigukvsa', 24, 'asvkugfugsallasgufgukvsa', 24, 'asvkugfiugsaasguifgukvsa', 24, 'asvkugfiugsallasguifgukvsa', 26]\n"
     ]
    }
   ],
   "source": [
    "from collections import Counter\n",
    "# x = input()\n",
    "# x = 'beabeefeab'\n",
    "x = 'asvkugfiugsalddlasguifgukvsa'\n",
    "# x = 'asdcbsdcagfsdbgdfanfghbsfdab'\n",
    "d = dict(Counter(list(x)))\n",
    "print(d)\n",
    "d = dict(sorted(d.items(), key=lambda x:x[1], reverse=True))\n",
    "k = [k for k, v in d.items()]\n",
    "x = x.replace(k[-1], '')\n",
    "print(x, k)\n",
    "result = []\n",
    "for i in k:\n",
    "    temp = x.replace(i, '')\n",
    "    if temp == temp[::-1] or temp == temp[:-1][::-1]:\n",
    "        result.append(temp)\n",
    "        result.append(len(temp))\n",
    "# print(max(result))\n",
    "print(result)\n"
   ]
  },
  {
   "cell_type": "markdown",
   "metadata": {},
   "source": [
    " P111: Remove adjacent duplicate elements"
   ]
  },
  {
   "cell_type": "code",
   "execution_count": null,
   "metadata": {},
   "outputs": [],
   "source": [
    "x = list(input())\n",
    "y = x[1:]\n",
    "for i,j in zip(x, y):\n",
    "  if i == j:\n",
    "    x.remove(i)\n",
    "    x.remove(i)\n",
    "print(*x, sep='')"
   ]
  },
  {
   "cell_type": "markdown",
   "metadata": {},
   "source": [
    "P112 (Strings)"
   ]
  },
  {
   "cell_type": "code",
   "execution_count": null,
   "metadata": {},
   "outputs": [],
   "source": [
    "# x = input()\n",
    "x = 'ABABAB'\n",
    "a = 'A'\n",
    "b = 'AB'\n",
    "c = 'ABB'\n",
    "found = False\n",
    "if x[0] == a:\n",
    "    count = 0\n",
    "    for i in x:\n",
    "        if i == a: count += 1\n",
    "    if count == len(x): \n",
    "        found = True\n",
    "        print(1)\n",
    "    \n",
    "if x[0:2] == b:\n",
    "    count = 0\n",
    "    for i in range(0, len(x), 2):\n",
    "        if x[i:i+2] == b: count += 1\n",
    "    if count*2 == len(x): \n",
    "        found = True\n",
    "        print(1)\n",
    " \n",
    "if x[0:3] == c:\n",
    "    count = 0\n",
    "    for i in range(0, len(x), 3):\n",
    "        if x[i:i+3] == c: count += 1\n",
    "    if count*3 == len(x): \n",
    "        found = True\n",
    "        print(1)\n",
    "\n",
    "if found == False:\n",
    "    print(0)"
   ]
  },
  {
   "cell_type": "markdown",
   "metadata": {},
   "source": [
    " P114: Expand the string : 3(abc2(a))"
   ]
  },
  {
   "cell_type": "code",
   "execution_count": null,
   "metadata": {},
   "outputs": [
    {
     "name": "stdout",
     "output_type": "stream",
     "text": [
      "abcaaabcaaabcaa\n"
     ]
    }
   ],
   "source": [
    "# x = list(iput())\n",
    "x = ['3', '(', 'a', 'b', 'c', '2', '(', 'a', ')', ')']\n",
    "\n",
    "def looper(arr):\n",
    "    # print(arr)\n",
    "    i = 0\n",
    "    multiplier = 0\n",
    "    string = ''\n",
    "    while (i < len(arr)):\n",
    "        if arr[i].isdigit():\n",
    "            # print(i, arr[i])\n",
    "            multiplier = int(arr[i])\n",
    "            i += 1\n",
    "        elif arr[i] == '(':\n",
    "            # print(i, arr[i])\n",
    "            loop_string, ids = looper(arr[i+1:])\n",
    "            string = string + multiplier * (loop_string)\n",
    "            i += ids \n",
    "        elif arr[i].isalpha():\n",
    "            # print(i, arr[i])\n",
    "            string = string + arr[i]\n",
    "            i += 1\n",
    "        elif arr[i] == ')':\n",
    "            # print(i, arr[i])\n",
    "            return string, i+1\n",
    "        \n",
    "\n",
    "result_string = looper(x)\n",
    "print(*result_string[0], sep='')\n"
   ]
  },
  {
   "cell_type": "markdown",
   "metadata": {},
   "source": [
    "P113: Can one replacement make the string a palindrome?"
   ]
  },
  {
   "cell_type": "code",
   "execution_count": null,
   "metadata": {},
   "outputs": [],
   "source": [
    "from collections import Counter\n",
    "# x = list(input())\n",
    "x = ['a', 'b', 'c', 'd', 'e']\n",
    "n = len(x)\n",
    "d = dict(Counter(x))\n",
    "k = [k for k, v in d.items() if v == 2]\n",
    "p = len(k)*2\n",
    "if n%2 == 0 and p == n - 2:\n",
    "    print('yes')\n",
    "elif n%2 != 0 and p == n - 1:\n",
    "    print('yes')\n",
    "else:\n",
    "    print('no')"
   ]
  },
  {
   "cell_type": "markdown",
   "metadata": {},
   "source": [
    " P115: Longest Common String"
   ]
  },
  {
   "cell_type": "code",
   "execution_count": null,
   "metadata": {},
   "outputs": [
    {
     "name": "stdout",
     "output_type": "stream",
     "text": [
      "uvi\n"
     ]
    }
   ],
   "source": [
    "# x = list(input().split(' '))\n",
    "x = ['Guvi', 'yuvi', 'yuvirat']\n",
    "y = [len(j) for j in x]\n",
    "lcs = ''\n",
    "for i in range(min(y)):\n",
    "    if x[0][i] == x[1][i] and x[1][i] == x[2][i]:\n",
    "        lcs = lcs + x[0][i]\n",
    "if lcs != '':\n",
    "    print(lcs)\n",
    "else:\n",
    "    print(-1)\n"
   ]
  },
  {
   "cell_type": "markdown",
   "metadata": {},
   "source": [
    " P117: Index of string if substring exists"
   ]
  },
  {
   "cell_type": "code",
   "execution_count": null,
   "metadata": {},
   "outputs": [],
   "source": [
    "x = input()\n",
    "y = input()\n",
    "\n",
    "def checker(L, S):\n",
    "    for i in range(len(L)):\n",
    "        if L[i] == S[0]:\n",
    "            print(i+1)\n",
    "            break\n",
    "\n",
    "if len(x) > len(y):\n",
    "    checker(x, y)\n",
    "else:\n",
    "    checker(y, x)"
   ]
  },
  {
   "cell_type": "markdown",
   "metadata": {},
   "source": [
    " P118: Sort the characters based on the frequency"
   ]
  },
  {
   "cell_type": "code",
   "execution_count": null,
   "metadata": {},
   "outputs": [
    {
     "name": "stdout",
     "output_type": "stream",
     "text": [
      "aaabbb\n"
     ]
    }
   ],
   "source": [
    "from collections import Counter\n",
    "\n",
    "from numpy import array\n",
    "# y = list(input())\n",
    "y = ['a', 'a', 'b', 'b', 'b', 'a']\n",
    "d = dict(Counter(y))\n",
    "d = dict(sorted(d.items(), key=lambda x:x[1], reverse=True))\n",
    "string = ''\n",
    "for i, j in d.items():\n",
    "    string = string + i*j\n",
    "print(string)\n"
   ]
  },
  {
   "cell_type": "markdown",
   "metadata": {},
   "source": [
    " P120"
   ]
  },
  {
   "cell_type": "code",
   "execution_count": null,
   "metadata": {},
   "outputs": [],
   "source": [
    "def toString(List):\n",
    "    s = \"\"\n",
    "    for x in List:\n",
    "        if x == '&# 092;&# 048;':\n",
    "            break\n",
    "        s += x\n",
    "    return s\n",
    " \n",
    "# Function recursively prints the\n",
    "# strings having space pattern.\n",
    "# i and j are indices in 'str[]'\n",
    "# and 'buff[]' respectively\n",
    "def printPatternUtil(string, buff, i, j, n):\n",
    "    \n",
    "    print('printPatternUtil ',buff, i, j )\n",
    "\n",
    "    if i == n:\n",
    "        buff[j] = '&# 092;&# 048;'\n",
    "        print (toString(buff))\n",
    "        return\n",
    " \n",
    "    # Either put the character\n",
    "    buff[j] = string[i]\n",
    "    printPatternUtil(string, buff, i + 1,\n",
    "                                 j + 1, n)\n",
    " \n",
    "    # Or put a space followed by next character\n",
    "    buff[j] = ' '\n",
    "    buff[j + 1] = string[i]\n",
    " \n",
    "    printPatternUtil(string, buff, i + 1,\n",
    "                                 j + 2, n)\n",
    " \n",
    "# This function creates buf[] to\n",
    "# store individual output string\n",
    "# and uses printPatternUtil() to\n",
    "# print all permutations.\n",
    "def printPattern(string):\n",
    "    n = len(string)\n",
    " \n",
    "    # Buffer to hold the string\n",
    "    # containing spaces\n",
    "     \n",
    "    # 2n - 1 characters and 1 string terminator\n",
    "    buff = [0] * (2 * n)\n",
    " \n",
    "    # Copy the first character as it is,\n",
    "    # since it will be always\n",
    "    # at first position\n",
    "    buff[0] = string[0]\n",
    "    print('printPattern ',buff, buff[0], string)\n",
    " \n",
    "    printPatternUtil(string, buff, 1, 1, n)\n",
    " \n",
    "# Driver program\n",
    "string = \"ABCD\"\n",
    "printPattern(string)\n"
   ]
  },
  {
   "cell_type": "markdown",
   "metadata": {},
   "source": [
    "P124: Roman numerals to integer"
   ]
  },
  {
   "cell_type": "code",
   "execution_count": null,
   "metadata": {},
   "outputs": [
    {
     "name": "stdout",
     "output_type": "stream",
     "text": [
      "4\n"
     ]
    }
   ],
   "source": [
    "# rom_num = list(input())\n",
    "rom_num = ['I', 'V']\n",
    "rom = {'I': 1, 'V': 5, 'X': 10, 'L': 50, 'C': 100, 'D': 500, 'M': 1000}\n",
    "sum = 0\n",
    "for id, value in enumerate(rom_num):\n",
    "    if id < len(rom_num)-1 and rom[value] < rom[rom_num[id+1]]:\n",
    "        sum -= rom[value]\n",
    "    else:\n",
    "        sum += rom[value]\n",
    "print(sum)    \n"
   ]
  },
  {
   "cell_type": "markdown",
   "metadata": {},
   "source": [
    " P128: Remove extra spaces in the string (utmost one space between 2 strings)."
   ]
  },
  {
   "cell_type": "code",
   "execution_count": null,
   "metadata": {},
   "outputs": [
    {
     "name": "stdout",
     "output_type": "stream",
     "text": [
      "\n"
     ]
    }
   ],
   "source": [
    "x = input()\n",
    "x = x.strip()\n",
    "\n",
    "space = 0\n",
    "space_del = []\n",
    "x = list(x)\n",
    "# print(x)\n",
    "for i in range(len(x)):\n",
    "    if x[i] == ' ': space += 1\n",
    "    if space == 2:\n",
    "        space_del.append(i)\n",
    "        space = 0\n",
    "for i in space_del:\n",
    "    del x[i]\n",
    "\n",
    "print(*x, sep='')\n"
   ]
  },
  {
   "cell_type": "markdown",
   "metadata": {},
   "source": [
    " P129: GCD of (A!, B!)"
   ]
  },
  {
   "cell_type": "code",
   "execution_count": 2,
   "metadata": {},
   "outputs": [
    {
     "ename": "KeyboardInterrupt",
     "evalue": "",
     "output_type": "error",
     "traceback": [
      "\u001b[1;31m---------------------------------------------------------------------------\u001b[0m",
      "\u001b[1;31mKeyboardInterrupt\u001b[0m                         Traceback (most recent call last)",
      "\u001b[1;32mc:\\Users\\PandiyaDS\\Desktop\\Data_Science\\CODEKATA\\Strings.ipynb Cell 142'\u001b[0m in \u001b[0;36m<cell line: 16>\u001b[1;34m()\u001b[0m\n\u001b[0;32m     <a href='vscode-notebook-cell:/c%3A/Users/PandiyaDS/Desktop/Data_Science/CODEKATA/Strings.ipynb#ch0000141?line=15'>16</a>\u001b[0m \u001b[39mif\u001b[39;00m x \u001b[39m!=\u001b[39m \u001b[39m0\u001b[39m \u001b[39mand\u001b[39;00m y \u001b[39m!=\u001b[39m \u001b[39m0\u001b[39m: \n\u001b[0;32m     <a href='vscode-notebook-cell:/c%3A/Users/PandiyaDS/Desktop/Data_Science/CODEKATA/Strings.ipynb#ch0000141?line=16'>17</a>\u001b[0m     \u001b[39mfor\u001b[39;00m i \u001b[39min\u001b[39;00m \u001b[39mrange\u001b[39m(\u001b[39m1\u001b[39m, \u001b[39mmax\u001b[39m(x,y)\u001b[39m+\u001b[39m\u001b[39m1\u001b[39m): \n\u001b[1;32m---> <a href='vscode-notebook-cell:/c%3A/Users/PandiyaDS/Desktop/Data_Science/CODEKATA/Strings.ipynb#ch0000141?line=17'>18</a>\u001b[0m         \u001b[39mif\u001b[39;00m x\u001b[39m%\u001b[39mi \u001b[39m==\u001b[39m \u001b[39m0\u001b[39m \u001b[39mand\u001b[39;00m y\u001b[39m%\u001b[39mi \u001b[39m==\u001b[39m \u001b[39m0\u001b[39m: \n\u001b[0;32m     <a href='vscode-notebook-cell:/c%3A/Users/PandiyaDS/Desktop/Data_Science/CODEKATA/Strings.ipynb#ch0000141?line=18'>19</a>\u001b[0m             p\u001b[39m.\u001b[39mappend(i) \n\u001b[0;32m     <a href='vscode-notebook-cell:/c%3A/Users/PandiyaDS/Desktop/Data_Science/CODEKATA/Strings.ipynb#ch0000141?line=20'>21</a>\u001b[0m \u001b[39mif\u001b[39;00m p \u001b[39m==\u001b[39m []: \n",
      "\u001b[1;31mKeyboardInterrupt\u001b[0m: "
     ]
    }
   ],
   "source": [
    "import math\n",
    "# x, y = map(int, input().split(' ')) \n",
    "# def factorial(N): \n",
    "#     M = 1000000007 \n",
    "#     j=1 \n",
    "#     for i in range(1, N+1): \n",
    "#         j=(j*i) %M\n",
    "#     return j \n",
    "# x = factorial(x)\n",
    "# y = factorial(y)\n",
    "# print(x, y)\n",
    "\n",
    "x, y = 682498929, 40320\n",
    "p = [] \n",
    "\n",
    "if x != 0 and y != 0: \n",
    "    for i in range(1, max(x,y)+1): \n",
    "        if x%i == 0 and y%i == 0: \n",
    "            p.append(i) \n",
    "\n",
    "if p == []: \n",
    "    print(-1) \n",
    "else: print(max(p)) \n",
    "\n"
   ]
  },
  {
   "cell_type": "markdown",
   "metadata": {},
   "source": [
    " P130: Print month in words"
   ]
  },
  {
   "cell_type": "code",
   "execution_count": null,
   "metadata": {},
   "outputs": [],
   "source": [
    "d, m, y = map(int, input().split('-'))\n",
    "# print(d, m, y)\n",
    "month = ['', 'JANUARY', 'FEBRUARY', 'MARCH', 'APRIL', 'MAY', 'JUNE', 'JULY', 'AUGUST', 'SEPTEMBER', 'OCTOBER', 'NOVEMBER', 'DECEMBER'] \n",
    "string = ''\n",
    "for i in range(len(month)):\n",
    "    if i == m:\n",
    "        string = month[i][0] + month[i][1:].lower()\n",
    "        print(string)\n",
    "        break"
   ]
  },
  {
   "cell_type": "markdown",
   "metadata": {},
   "source": [
    " P131: Reverse every word in place"
   ]
  },
  {
   "cell_type": "code",
   "execution_count": null,
   "metadata": {},
   "outputs": [],
   "source": [
    "x = input().split()\n",
    "result = []\n",
    "for i in x:\n",
    "    result.append(i[::-1])\n",
    "print(*result)\n"
   ]
  },
  {
   "cell_type": "markdown",
   "metadata": {},
   "source": [
    " P132: Print all the substrings of S of length K"
   ]
  },
  {
   "cell_type": "code",
   "execution_count": null,
   "metadata": {},
   "outputs": [],
   "source": [
    "# x = input().split(' ')\n",
    "# y = int(x[1])\n",
    "# x = x.pop(0)\n",
    "# print(x, y)\n",
    "x, y = 'prog', 2\n",
    "result = []\n",
    "for i in range(len(x)):\n",
    "    # print(i, i+2)\n",
    "    result.append(x[i:i+y])\n",
    "# print(result)\n",
    "k = [k for k in result if len(k) == y]\n",
    "print(*k)\n"
   ]
  },
  {
   "cell_type": "markdown",
   "metadata": {},
   "source": [
    " P133: Reverse words at odd position"
   ]
  },
  {
   "cell_type": "code",
   "execution_count": null,
   "metadata": {},
   "outputs": [],
   "source": [
    "# x = input().split()\n",
    "x = ['This', 'is', 'an', 'example', 'for', 'this', 'question']\n",
    "result = []\n",
    "for i in range(len(x)):\n",
    "    if i%2 == 0:\n",
    "        result.append(x[i][::-1])\n",
    "    else:\n",
    "        result.append(x[i])\n",
    "print(*result)\n"
   ]
  },
  {
   "cell_type": "markdown",
   "metadata": {},
   "source": [
    " P134: Find the weight of the string s w.r.t big string"
   ]
  },
  {
   "cell_type": "code",
   "execution_count": null,
   "metadata": {},
   "outputs": [],
   "source": [
    "# s = input()\n",
    "big_string = 'abcdefghijklmnopqrstuvwxyz1234567890ABCDEFGHIJKLMNOPQRSTUVWXY'\n",
    "s = 'aA1 b'\n",
    "result = 0\n",
    "for i in s:\n",
    "    if i in big_string:\n",
    "        result += big_string.index(i)\n",
    "        # print(ord(i), big_string.index(i))\n",
    "print(result)"
   ]
  },
  {
   "cell_type": "markdown",
   "metadata": {},
   "source": [
    " P135: Print single occurring element"
   ]
  },
  {
   "cell_type": "code",
   "execution_count": null,
   "metadata": {},
   "outputs": [],
   "source": [
    "from collections import Counter\n",
    "# x = list(input())\n",
    "x = ['E', 'n', 'g', 'i', 'n', 'e', 'e', 'r', 'i', 'n', 'g']\n",
    "d = dict(Counter(x))\n",
    "keys = [k for k, v in d.items() if v == 1]\n",
    "print(*keys, sep='')\n"
   ]
  },
  {
   "cell_type": "markdown",
   "metadata": {},
   "source": [
    " P136: Check for camelcase"
   ]
  },
  {
   "cell_type": "code",
   "execution_count": null,
   "metadata": {},
   "outputs": [],
   "source": [
    "# x = list(input())\n",
    "x = 'CodekataChallenge'\n",
    "count = 0\n",
    "if x[0].isupper():\n",
    "    count += 1\n",
    "    for i in range(1, len(x)):\n",
    "        if x[i].isupper():\n",
    "            count += 1\n",
    "if count >= 2:\n",
    "    print('yes')\n",
    "else:\n",
    "    print('no')\n"
   ]
  },
  {
   "cell_type": "markdown",
   "metadata": {},
   "source": [
    " P137: Create password"
   ]
  },
  {
   "cell_type": "code",
   "execution_count": null,
   "metadata": {},
   "outputs": [],
   "source": [
    "# x = input().split()\n",
    "# x = ['Abi', 'Bhuvana']\n",
    "x = ['Vishal', 'Yadav']\n",
    "N = len(x[0])\n",
    "M = len(x[1])\n",
    "if N < M:\n",
    "    for i in range(1, M-N+1):\n",
    "        x[0] = x[0] + str(i)\n",
    "elif N > M:\n",
    "    for i in range(1, N-M+1):\n",
    "        x[1] = x[1] + str(i)\n",
    "\n",
    "result = ''\n",
    "for i in range(len(x[0])):\n",
    "    result = result + x[0][i] + x[1][i]\n",
    "print(result)"
   ]
  },
  {
   "cell_type": "markdown",
   "metadata": {},
   "source": [
    " P138: Elaborate the chr for even number of the string"
   ]
  },
  {
   "cell_type": "code",
   "execution_count": null,
   "metadata": {},
   "outputs": [],
   "source": [
    "# x = input()\n",
    "x = 'a1b10'\n",
    "x = 'b3c6d15'\n",
    "result = []\n",
    "multi = ''\n",
    "for i in range(len(x)):\n",
    "    if x[i].isnumeric():\n",
    "        multi = multi + x[i]\n",
    "        try:\n",
    "            if x[i+1].isnumeric():\n",
    "                pass\n",
    "            else:\n",
    "                result.append(multi)\n",
    "                multi = ''\n",
    "        except:\n",
    "            result.append(multi)\n",
    "            multi = ''\n",
    "    else:\n",
    "        multi = multi + x[i]\n",
    "\n",
    "string = ''\n",
    "for i in result:\n",
    "    if int(i[1:])%2 == 0:\n",
    "        string = string + i[0]*int(i[1:])\n",
    "    else:\n",
    "        string = string + i\n",
    "print(string)\n"
   ]
  },
  {
   "cell_type": "markdown",
   "metadata": {},
   "source": [
    " P140: Print the first occurance of substring in main string"
   ]
  },
  {
   "cell_type": "code",
   "execution_count": null,
   "metadata": {},
   "outputs": [],
   "source": [
    "import re\n",
    "# x = input().split()\n",
    "x = ['testing12','1234']\n",
    "result = re.search(x[1], x[0])\n",
    "if result == None:\n",
    "    print(-1)\n",
    "else: print(result.span()[0])\n"
   ]
  },
  {
   "cell_type": "markdown",
   "metadata": {},
   "source": [
    " P142: Count the initial string 2 occurance in string 1"
   ]
  },
  {
   "cell_type": "code",
   "execution_count": null,
   "metadata": {},
   "outputs": [],
   "source": [
    "N = int(input())\n",
    "text = input().split()\n",
    "text2 = input()\n",
    "N = 5\n",
    "text = '100 111 10100 10 1111'\n",
    "text = text.split()\n",
    "text2 = '10'\n",
    "count = 0\n",
    "for i in text: \n",
    "    if i[:len(text2)] == text2:\n",
    "        count += 1\n",
    "print(count)"
   ]
  },
  {
   "cell_type": "markdown",
   "metadata": {},
   "source": [
    " P143: Remove same adjacent words and make sentence with distinct words"
   ]
  },
  {
   "cell_type": "code",
   "execution_count": null,
   "metadata": {},
   "outputs": [],
   "source": [
    "N = int(input())\n",
    "text = input().split()\n",
    "y = []\n",
    "for i in text:\n",
    "    if y == []:\n",
    "        y.append(i)\n",
    "    elif i != y[-1]:\n",
    "        y.append(i)\n",
    "    else:\n",
    "        y.pop()\n",
    "print(len(y))\n"
   ]
  },
  {
   "cell_type": "markdown",
   "metadata": {},
   "source": [
    " P145: Find the longest common substring"
   ]
  },
  {
   "cell_type": "code",
   "execution_count": null,
   "metadata": {},
   "outputs": [],
   "source": [
    "text = input().split()\n",
    "if text[0] > text[1] and text[1] in text[0]:\n",
    "        print(text[1])\n",
    "elif text[0] in text[1]:\n",
    "        print(text[0])\n",
    "else:\n",
    "    print(-1)\n"
   ]
  },
  {
   "cell_type": "markdown",
   "metadata": {},
   "source": [
    " P149: Check for maximum length of palindrome substring"
   ]
  },
  {
   "cell_type": "code",
   "execution_count": null,
   "metadata": {},
   "outputs": [],
   "source": [
    "text = input()\n",
    "if text[1:] == text[1:][::-1]:\n",
    "    print(len(text[1:]))\n",
    "elif text[:-1] == text[:-1][::-1]:\n",
    "    print(len(text[:-1]))"
   ]
  },
  {
   "cell_type": "markdown",
   "metadata": {},
   "source": [
    " P150: Email validation"
   ]
  },
  {
   "cell_type": "code",
   "execution_count": null,
   "metadata": {},
   "outputs": [],
   "source": [
    "import re\n",
    "username = input()\n",
    "small_alpha = 'abcdefghijklmnopqrstuvwxyz'\n",
    "capit_alpha = 'ABCDEFGHIJKLMNOPQRSTUVWXYZ'\n",
    "spcial_chr = '!@#$%^&*()?'\n",
    "numbers = '0123456789'\n",
    "if '@' in username and '.' in username and len(username) <= 100000:\n",
    "    user_id = re.split('@', username)\n",
    "    login_id = re.split('[.]', user_id[1])\n",
    "    user_id.remove(user_id[1])\n",
    "\n",
    "    if len(user_id) + len(login_id) == 3 and '' not in user_id and '' not in login_id:\n",
    "        if user_id[0].count('.') == 0 and user_id[0][0] not in (spcial_chr + numbers) and user_id[0][-1] not in spcial_chr+'_':\n",
    "            special_s = [user_id[0][i] for i in range(1, len(user_id[0])-1) if user_id[0][i] in spcial_chr+' ']\n",
    "            special_s1 = [login_id[0][i] for i in range(len(login_id[0])) if login_id[0][i] in (spcial_chr+numbers)]\n",
    "            mailer_len = len(login_id[0])\n",
    "            special_s2 = [login_id[1][i] for i in range(len(login_id[1])) if login_id[1][i] in (spcial_chr+numbers)]\n",
    "            domain_len = len(login_id[1])\n",
    "            user_len = len(user_id[0])\n",
    "            if special_s == [] and special_s1 == [] and mailer_len >= 4 and user_len >= 3 and login_id[1] == 'com' and special_s2 == [] and domain_len >= 2:\n",
    "                print('yes')\n",
    "            else: print('no')\n",
    "        else: print('no')\n",
    "    else: print('no')\n",
    "else: print('no')"
   ]
  },
  {
   "cell_type": "markdown",
   "metadata": {},
   "source": [
    "P151: Replace vowels in ascending order in string"
   ]
  },
  {
   "cell_type": "code",
   "execution_count": null,
   "metadata": {},
   "outputs": [],
   "source": [
    "text = list(input())\n",
    "vowels = ['a', 'e', 'i', 'o', 'u']\n",
    "get_vowels = []\n",
    "for i in range(len(text)):\n",
    "    if text[i] in vowels:\n",
    "        get_vowels.append(text[i])\n",
    "get_vowels.sort()\n",
    "for i in range(len(text)):\n",
    "    if text[i] in vowels:\n",
    "        text[i] = get_vowels[0]\n",
    "        get_vowels.remove(get_vowels[0])\n",
    "print(*text, sep='')\n",
    "\n"
   ]
  },
  {
   "cell_type": "markdown",
   "metadata": {},
   "source": [
    " P152: Find the length of ab in string"
   ]
  },
  {
   "cell_type": "code",
   "execution_count": null,
   "metadata": {},
   "outputs": [],
   "source": [
    "import re\n",
    "txt = input()\n",
    "print(len(re.findall('ab', txt)))"
   ]
  },
  {
   "cell_type": "markdown",
   "metadata": {},
   "source": [
    " P153: Check for complementary strings; added alphabets should be 26"
   ]
  },
  {
   "cell_type": "code",
   "execution_count": null,
   "metadata": {},
   "outputs": [],
   "source": [
    "from collections import Counter\n",
    "# txt1 = input()\n",
    "# txt2 = input()\n",
    "txt1 = 'ABDCFGIJKLMNOPQUVWXYZ'\n",
    "txt2 = 'EHRST'\n",
    "txt = txt1 + txt2\n",
    "d = dict(Counter(txt))\n",
    "k = sum([v for k, v in d.items()])\n",
    "if k == 26:\n",
    "    print('yes')\n",
    "else:\n",
    "    print('no')"
   ]
  },
  {
   "cell_type": "markdown",
   "metadata": {},
   "source": [
    " P154: Print the start and end index in matrix from big string"
   ]
  },
  {
   "cell_type": "code",
   "execution_count": null,
   "metadata": {},
   "outputs": [],
   "source": [
    "import numpy as np\n",
    "big_str = np.array(list('WELCOMETOGUVICORPORATIONS'))\n",
    "big_str = np.reshape(big_str, (5,5))\n",
    "# print(big_str)\n",
    "# txt = list(input())\n",
    "# txt = ['T', 'I', 'O']\n",
    "# txt = ['P', 'O', 'R']\n",
    "txt = ['W', '']\n",
    "count = 0\n",
    "for k in [txt[0], txt[-1]]:\n",
    "    result = []\n",
    "    for i in range(5):\n",
    "        for j in range(5):\n",
    "            if k == big_str[i][j]:\n",
    "                result.append([i, j])\n",
    "    if result != []:\n",
    "        print(*result[-1])\n",
    "    else:\n",
    "        print(0, 0)\n",
    "\n"
   ]
  },
  {
   "cell_type": "markdown",
   "metadata": {},
   "source": [
    " P155: Check Palindrome after deleting one character"
   ]
  },
  {
   "cell_type": "code",
   "execution_count": null,
   "metadata": {},
   "outputs": [],
   "source": [
    "# txt = list(input())\n",
    "# txt = ['a', 'b', 'x', 'b', 'a']\n",
    "# txt = ['a', 'b', 'c', 'a', 'c', 'b', 'b']\n",
    "txt = ['a', 'a', 'a']\n",
    "count = 0\n",
    "temp = []\n",
    "for i in range(len(txt)):\n",
    "    temp = txt.copy()\n",
    "    # print(txt[i])\n",
    "    temp.pop(i)\n",
    "    if temp == temp[::-1]:\n",
    "        count += 1\n",
    "        # print(temp, temp[::-1])\n",
    "    temp = []\n",
    "if count >= 1:\n",
    "    print('YES')\n",
    "else:\n",
    "    print('NO')\n"
   ]
  },
  {
   "cell_type": "markdown",
   "metadata": {},
   "source": [
    " P157: Find the largest palindrome from given string"
   ]
  },
  {
   "cell_type": "code",
   "execution_count": null,
   "metadata": {},
   "outputs": [],
   "source": [
    "# txt = input()\n",
    "\n",
    "def palinFinder(txt, j, k):\n",
    "    result = []\n",
    "    while j >= 0 and k < len(txt):\n",
    "        if txt[j] != txt[k]:\n",
    "            break\n",
    "        result.append(txt[j:k+1])\n",
    "        j -= 1\n",
    "        k += 1\n",
    "    return result\n",
    "\n",
    "txt = 'DIEHEIDI'\n",
    "# txt = 'JOKOTXXGUGX'\n",
    "\n",
    "result = []\n",
    "for i in range(len(txt)):\n",
    "    result += palinFinder(txt, i-1, i+1)\n",
    "    result += palinFinder(txt, i, i+1)\n",
    "\n",
    "largestPalindrome = {result[i] : len(result[i]) for i in range(len(result))}\n",
    "largestPalindrome_sorted = dict(sorted(largestPalindrome.items(), key=lambda x:x[1]))\n",
    "largestString = [k for k, v in largestPalindrome_sorted.items()]\n",
    "print(largestString[-1])"
   ]
  },
  {
   "cell_type": "markdown",
   "metadata": {},
   "source": [
    " P158: Check for palindrome using stack or linked list"
   ]
  },
  {
   "cell_type": "code",
   "execution_count": null,
   "metadata": {},
   "outputs": [],
   "source": [
    "class stacker:\n",
    "    def __init__(self):\n",
    "        self.s = []\n",
    "        # print('initiated', self.s)\n",
    "    def push(self, e):\n",
    "        # print(f'{e} added')\n",
    "        self.s.append(e)\n",
    "    def pull(self):\n",
    "        x = self.s[-1]\n",
    "        # print(f'{x} deleted')\n",
    "        self.s = self.s[:-1]\n",
    "        return x\n",
    "\n",
    "palin = stacker()\n",
    "txt = list(input())\n",
    "for i in range(len(txt)):\n",
    "    palin.push(txt[i])\n",
    "count = 0\n",
    "for i in range(len(txt)):\n",
    "    if txt[i] == palin.pull():\n",
    "        count += 1\n",
    "if count == len(txt):\n",
    "    print('yes')\n",
    "else:\n",
    "    print('no')\n"
   ]
  },
  {
   "cell_type": "markdown",
   "metadata": {},
   "source": [
    " P159: Find if double string if one character deleted from string"
   ]
  },
  {
   "cell_type": "code",
   "execution_count": null,
   "metadata": {},
   "outputs": [],
   "source": [
    "txt = list(input())\n",
    "\n",
    "if len(txt)%2 != 0:\n",
    "    temp = []\n",
    "    found = False\n",
    "    for i in range(len(txt)):\n",
    "        temp = txt.copy()\n",
    "        temp.pop(i)\n",
    "        mid = len(temp)//2\n",
    "        if temp[:mid] == temp[mid:]:\n",
    "            print('YES')\n",
    "            found = True\n",
    "            break\n",
    "    if found == False:\n",
    "        print('NO')\n",
    "else:\n",
    "    print('NO')\n",
    "    "
   ]
  }
 ],
 "metadata": {
  "interpreter": {
   "hash": "5024435cbfb8faf8bbbcdcac495405647c340211599983c8ce8e312773b27794"
  },
  "kernelspec": {
   "display_name": "Python 3.9.12 ('env1')",
   "language": "python",
   "name": "python3"
  },
  "language_info": {
   "codemirror_mode": {
    "name": "ipython",
    "version": 3
   },
   "file_extension": ".py",
   "mimetype": "text/x-python",
   "name": "python",
   "nbconvert_exporter": "python",
   "pygments_lexer": "ipython3",
   "version": "3.10.4"
  },
  "orig_nbformat": 4
 },
 "nbformat": 4,
 "nbformat_minor": 2
}
