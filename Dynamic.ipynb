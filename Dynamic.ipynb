{
 "cells": [
  {
   "cell_type": "markdown",
   "metadata": {},
   "source": [
    "P: Check for minium no. of coins."
   ]
  },
  {
   "cell_type": "code",
   "execution_count": 5,
   "metadata": {},
   "outputs": [
    {
     "name": "stdout",
     "output_type": "stream",
     "text": [
      "3 11 [5, 3, 1]\n"
     ]
    }
   ],
   "source": [
    "# x, y = map(int, input().split(' '))\n",
    "# z = [int(z) for z in input().spit(' ', x-1)]\n",
    "x, y = 3, 11\n",
    "z = [1, 5, 3]\n",
    "z.sort(reverse=True)\n",
    "print(x, y, z)\n",
    "coins = []\n",
    "for i in z:\n",
    "    "
   ]
  },
  {
   "cell_type": "code",
   "execution_count": 7,
   "metadata": {},
   "outputs": [
    {
     "name": "stdout",
     "output_type": "stream",
     "text": [
      "2 1\n"
     ]
    }
   ],
   "source": [
    "print(11//5, 11%5)\n"
   ]
  }
 ],
 "metadata": {
  "interpreter": {
   "hash": "5024435cbfb8faf8bbbcdcac495405647c340211599983c8ce8e312773b27794"
  },
  "kernelspec": {
   "display_name": "Python 3.9.12 ('env1')",
   "language": "python",
   "name": "python3"
  },
  "language_info": {
   "codemirror_mode": {
    "name": "ipython",
    "version": 3
   },
   "file_extension": ".py",
   "mimetype": "text/x-python",
   "name": "python",
   "nbconvert_exporter": "python",
   "pygments_lexer": "ipython3",
   "version": "3.9.12"
  },
  "orig_nbformat": 4
 },
 "nbformat": 4,
 "nbformat_minor": 2
}
