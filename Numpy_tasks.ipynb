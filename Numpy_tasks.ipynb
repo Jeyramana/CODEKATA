{
 "cells": [
  {
   "cell_type": "markdown",
   "metadata": {},
   "source": [
    "# Numpy\n",
    "\n"
   ]
  },
  {
   "cell_type": "markdown",
   "metadata": {},
   "source": [
    "#### 1. Import the numpy package under the name `np` (★☆☆) \n",
    "(**hint**: import … as …)"
   ]
  },
  {
   "cell_type": "code",
   "execution_count": 1,
   "metadata": {
    "collapsed": true
   },
   "outputs": [],
   "source": [
    "import numpy as np"
   ]
  },
  {
   "cell_type": "markdown",
   "metadata": {},
   "source": [
    "#### 2. Print the numpy version and the configuration (★☆☆) \n",
    "(**hint**: np.\\_\\_version\\_\\_, np.show\\_config)"
   ]
  },
  {
   "cell_type": "code",
   "execution_count": 4,
   "metadata": {},
   "outputs": [
    {
     "name": "stdout",
     "output_type": "stream",
     "text": [
      "1.22.3\n",
      "<function show at 0x0000022E37DAE8C0>\n"
     ]
    }
   ],
   "source": [
    "print(np.__version__)\n",
    "print(np.show_config)"
   ]
  },
  {
   "cell_type": "markdown",
   "metadata": {},
   "source": [
    "#### 3. Create a null vector of size 10 (★☆☆) \n",
    "(**hint**: np.zeros)"
   ]
  },
  {
   "cell_type": "code",
   "execution_count": 8,
   "metadata": {},
   "outputs": [
    {
     "name": "stdout",
     "output_type": "stream",
     "text": [
      "[0 0 0 0 0 0 0 0 0 0]\n"
     ]
    }
   ],
   "source": [
    "a = np.zeros(10, dtype=np.int8)\n",
    "print(a)"
   ]
  },
  {
   "cell_type": "markdown",
   "metadata": {},
   "source": [
    "#### 4.  How to find the memory size of any array (★☆☆) \n",
    "(**hint**: size, itemsize)"
   ]
  },
  {
   "cell_type": "code",
   "execution_count": 19,
   "metadata": {},
   "outputs": [
    {
     "name": "stdout",
     "output_type": "stream",
     "text": [
      "Any array memory size: 120 bytes\n",
      "Memory size of Numpy array: 16 bytes\n"
     ]
    }
   ],
   "source": [
    "# Memory size of any array\n",
    "import sys\n",
    "aa = [100, 130, 45, 67]\n",
    "print(f'Any array memory size: {sys.getsizeof(aa)} bytes')\n",
    "\n",
    "# Memory size for numpy array\n",
    "arr = np.array([100, 130, 45, 67])\n",
    "print(f'Memory size of Numpy array: {arr.size * arr.itemsize} bytes')"
   ]
  },
  {
   "cell_type": "markdown",
   "metadata": {},
   "source": [
    "#### 5.  How to get the documentation of the numpy add function from the command line? (★☆☆) \n",
    "(**hint**: np.info)"
   ]
  },
  {
   "cell_type": "code",
   "execution_count": 22,
   "metadata": {
    "collapsed": true
   },
   "outputs": [
    {
     "name": "stdout",
     "output_type": "stream",
     "text": [
      "add(x1, x2, /, out=None, *, where=True, casting='same_kind', order='K', dtype=None, subok=True[, signature, extobj])\n",
      "\n",
      "Add arguments element-wise.\n",
      "\n",
      "Parameters\n",
      "----------\n",
      "x1, x2 : array_like\n",
      "    The arrays to be added.\n",
      "    If ``x1.shape != x2.shape``, they must be broadcastable to a common\n",
      "    shape (which becomes the shape of the output).\n",
      "out : ndarray, None, or tuple of ndarray and None, optional\n",
      "    A location into which the result is stored. If provided, it must have\n",
      "    a shape that the inputs broadcast to. If not provided or None,\n",
      "    a freshly-allocated array is returned. A tuple (possible only as a\n",
      "    keyword argument) must have length equal to the number of outputs.\n",
      "where : array_like, optional\n",
      "    This condition is broadcast over the input. At locations where the\n",
      "    condition is True, the `out` array will be set to the ufunc result.\n",
      "    Elsewhere, the `out` array will retain its original value.\n",
      "    Note that if an uninitialized `out` array is created via the default\n",
      "    ``out=None``, locations within it where the condition is False will\n",
      "    remain uninitialized.\n",
      "**kwargs\n",
      "    For other keyword-only arguments, see the\n",
      "    :ref:`ufunc docs <ufuncs.kwargs>`.\n",
      "\n",
      "Returns\n",
      "-------\n",
      "add : ndarray or scalar\n",
      "    The sum of `x1` and `x2`, element-wise.\n",
      "    This is a scalar if both `x1` and `x2` are scalars.\n",
      "\n",
      "Notes\n",
      "-----\n",
      "Equivalent to `x1` + `x2` in terms of array broadcasting.\n",
      "\n",
      "Examples\n",
      "--------\n",
      ">>> np.add(1.0, 4.0)\n",
      "5.0\n",
      ">>> x1 = np.arange(9.0).reshape((3, 3))\n",
      ">>> x2 = np.arange(3.0)\n",
      ">>> np.add(x1, x2)\n",
      "array([[  0.,   2.,   4.],\n",
      "       [  3.,   5.,   7.],\n",
      "       [  6.,   8.,  10.]])\n",
      "\n",
      "The ``+`` operator can be used as a shorthand for ``np.add`` on ndarrays.\n",
      "\n",
      ">>> x1 = np.arange(9.0).reshape((3, 3))\n",
      ">>> x2 = np.arange(3.0)\n",
      ">>> x1 + x2\n",
      "array([[ 0.,  2.,  4.],\n",
      "       [ 3.,  5.,  7.],\n",
      "       [ 6.,  8., 10.]])\n"
     ]
    }
   ],
   "source": [
    "np.info(np.add)"
   ]
  },
  {
   "cell_type": "markdown",
   "metadata": {},
   "source": [
    "#### 6.  Create a null vector of size 10 but the fifth value which is 1 (★☆☆) \n",
    "(**hint**: array\\[4\\])"
   ]
  },
  {
   "cell_type": "code",
   "execution_count": 25,
   "metadata": {},
   "outputs": [
    {
     "name": "stdout",
     "output_type": "stream",
     "text": [
      "[0 0 0 0 1 0 0 0 0 0]\n"
     ]
    }
   ],
   "source": [
    "a = np.zeros(10, dtype=np.int8)\n",
    "a[4] = 1\n",
    "print(a)"
   ]
  },
  {
   "cell_type": "markdown",
   "metadata": {},
   "source": [
    "#### 7.  Create a vector with values ranging from 10 to 49 (★☆☆) \n",
    "(**hint**: np.arange)"
   ]
  },
  {
   "cell_type": "code",
   "execution_count": 27,
   "metadata": {},
   "outputs": [
    {
     "name": "stdout",
     "output_type": "stream",
     "text": [
      "[10 11 12 13 14 15 16 17 18 19 20 21 22 23 24 25 26 27 28 29 30 31 32 33\n",
      " 34 35 36 37 38 39 40 41 42 43 44 45 46 47 48 49]\n"
     ]
    }
   ],
   "source": [
    "a = np.arange(10, 50)\n",
    "print(a)"
   ]
  },
  {
   "cell_type": "markdown",
   "metadata": {},
   "source": [
    "#### 8.  Reverse a vector (first element becomes last) (★☆☆) \n",
    "(**hint**: array\\[::-1\\])"
   ]
  },
  {
   "cell_type": "code",
   "execution_count": 28,
   "metadata": {},
   "outputs": [
    {
     "name": "stdout",
     "output_type": "stream",
     "text": [
      "[5 4 3 2 1]\n"
     ]
    }
   ],
   "source": [
    "a = np.array([1, 2, 3, 4, 5])\n",
    "print(a[::-1])"
   ]
  },
  {
   "cell_type": "markdown",
   "metadata": {},
   "source": [
    "#### 9.  Create a 3x3 matrix with values ranging from 0 to 8 (★☆☆) \n",
    "(**hint**: reshape)"
   ]
  },
  {
   "cell_type": "code",
   "execution_count": 30,
   "metadata": {},
   "outputs": [
    {
     "data": {
      "text/plain": [
       "array([[0, 1, 2],\n",
       "       [3, 4, 5],\n",
       "       [6, 7, 8]])"
      ]
     },
     "execution_count": 30,
     "metadata": {},
     "output_type": "execute_result"
    }
   ],
   "source": [
    "a = np.arange(0,9)\n",
    "np.reshape(a, (3,3))"
   ]
  },
  {
   "cell_type": "markdown",
   "metadata": {},
   "source": [
    "#### 10. Find indices of non-zero elements from \\[1,2,0,0,4,0\\] (★☆☆) \n",
    "(**hint**: np.nonzero)"
   ]
  },
  {
   "cell_type": "code",
   "execution_count": 35,
   "metadata": {},
   "outputs": [
    {
     "name": "stdout",
     "output_type": "stream",
     "text": [
      "[0 1 4]\n"
     ]
    }
   ],
   "source": [
    "a = np.array([1, 2, 0, 0, 4, 0])\n",
    "print(np.nonzero(a)[0])"
   ]
  },
  {
   "cell_type": "markdown",
   "metadata": {},
   "source": [
    "#### 11. Create a 3x3 identity matrix (★☆☆) \n",
    "(**hint**: np.eye)"
   ]
  },
  {
   "cell_type": "code",
   "execution_count": 38,
   "metadata": {},
   "outputs": [
    {
     "name": "stdout",
     "output_type": "stream",
     "text": [
      "[[1 0 0]\n",
      " [0 1 0]\n",
      " [0 0 1]]\n"
     ]
    }
   ],
   "source": [
    "a = np.eye(3, dtype=np.int8)\n",
    "print(a)"
   ]
  },
  {
   "cell_type": "markdown",
   "metadata": {},
   "source": [
    "#### 12. Create a 3x3x3 array with random values (★☆☆) \n",
    "(**hint**: np.random.random)"
   ]
  },
  {
   "cell_type": "code",
   "execution_count": 40,
   "metadata": {
    "collapsed": true
   },
   "outputs": [
    {
     "name": "stdout",
     "output_type": "stream",
     "text": [
      "[[[0.25606489 0.74396899 0.87668439]\n",
      "  [0.83305714 0.88124918 0.70829769]\n",
      "  [0.76918529 0.06732762 0.95432078]]\n",
      "\n",
      " [[0.75336234 0.38343871 0.87507083]\n",
      "  [0.62048331 0.79232771 0.22236663]\n",
      "  [0.93645151 0.5708797  0.68966902]]\n",
      "\n",
      " [[0.69124544 0.42103233 0.56212531]\n",
      "  [0.55898579 0.4831788  0.74339231]\n",
      "  [0.78090626 0.45788413 0.88733332]]]\n"
     ]
    }
   ],
   "source": [
    "a = np.random.random((3, 3, 3))\n",
    "print(a)"
   ]
  },
  {
   "cell_type": "markdown",
   "metadata": {},
   "source": [
    "#### 13. Create a 10x10 array with random values and find the minimum and maximum values (★☆☆) \n",
    "(**hint**: min, max)"
   ]
  },
  {
   "cell_type": "code",
   "execution_count": 47,
   "metadata": {},
   "outputs": [
    {
     "name": "stdout",
     "output_type": "stream",
     "text": [
      "[[0.72603255 0.82242197 0.32170667 0.8557199  0.28875345 0.8339759\n",
      "  0.42980454 0.64655693 0.65628721 0.63650394]\n",
      " [0.03797999 0.77595118 0.36309617 0.90565895 0.17951329 0.25746749\n",
      "  0.41931775 0.91913068 0.37918558 0.18308135]\n",
      " [0.09622338 0.61833386 0.38629256 0.11979979 0.36870352 0.35098479\n",
      "  0.52124218 0.39224867 0.0394067  0.41661843]\n",
      " [0.07132643 0.34031158 0.59861887 0.29176762 0.09827178 0.15259602\n",
      "  0.66925422 0.55954923 0.79659598 0.47451709]\n",
      " [0.70143201 0.17549647 0.06784566 0.00909144 0.17998753 0.40819555\n",
      "  0.38014119 0.86513156 0.25626971 0.61701468]\n",
      " [0.23153305 0.95156361 0.23722465 0.63782444 0.4378334  0.91915519\n",
      "  0.82119143 0.81878905 0.2121941  0.9343397 ]\n",
      " [0.83744055 0.5768603  0.35895798 0.34095581 0.01693516 0.50045432\n",
      "  0.5252274  0.03150036 0.75806371 0.53403767]\n",
      " [0.97045515 0.04201873 0.57597497 0.39386831 0.43961842 0.27126815\n",
      "  0.46047852 0.4139205  0.8046552  0.07554066]\n",
      " [0.06931741 0.37268601 0.90103932 0.70017269 0.41384673 0.80960238\n",
      "  0.18630759 0.70127343 0.81690478 0.66428482]\n",
      " [0.69093572 0.25705486 0.53594458 0.83478992 0.11964073 0.02768877\n",
      "  0.39553435 0.31436621 0.40901874 0.88718083]]\n",
      "max:  0.9704551544448557  min:  0.009091442445350872\n"
     ]
    }
   ],
   "source": [
    "a = np.random.random((10, 10))\n",
    "print(a)\n",
    "print('max: ',np.max(a), ' min: ', np.min(a))"
   ]
  },
  {
   "cell_type": "markdown",
   "metadata": {},
   "source": [
    "#### 14. Create a random vector of size 30 and find the mean value (★☆☆) \n",
    "(**hint**: mean)"
   ]
  },
  {
   "cell_type": "code",
   "execution_count": 51,
   "metadata": {},
   "outputs": [
    {
     "name": "stdout",
     "output_type": "stream",
     "text": [
      "[0.20223938 0.45954576 0.86910615 0.78389258 0.73974706 0.32572318\n",
      " 0.49451663 0.14156752 0.04730427 0.76101227]\n",
      "mean:  0.48246548085442126\n"
     ]
    }
   ],
   "source": [
    "a = np.random.rand(10)\n",
    "# print(a)\n",
    "print('mean: ', np.mean(a))"
   ]
  },
  {
   "cell_type": "markdown",
   "metadata": {},
   "source": [
    "#### 15. Create a 2d array with 1 on the border and 0 inside (★☆☆) \n",
    "(**hint**: array\\[1:-1, 1:-1\\])"
   ]
  },
  {
   "cell_type": "code",
   "execution_count": 59,
   "metadata": {},
   "outputs": [
    {
     "name": "stdout",
     "output_type": "stream",
     "text": [
      "[[1 1 1 1 1]\n",
      " [1 0 0 0 1]\n",
      " [1 0 0 0 1]\n",
      " [1 0 0 0 1]\n",
      " [1 1 1 1 1]]\n"
     ]
    }
   ],
   "source": [
    "n, m = 5, 5\n",
    "a = np.full((n, m), 1)\n",
    "for i in range(1, n-1):\n",
    "    for j in range(1, m-1):\n",
    "        a[i][j] = 0\n",
    "print(a)"
   ]
  },
  {
   "cell_type": "markdown",
   "metadata": {},
   "source": [
    "#### 16. How to add a border (filled with 0's) around an existing array? (★☆☆) \n",
    "(**hint**: np.pad)"
   ]
  },
  {
   "cell_type": "code",
   "execution_count": 65,
   "metadata": {},
   "outputs": [
    {
     "name": "stdout",
     "output_type": "stream",
     "text": [
      "[[1 1 1 1 1 1 1]\n",
      " [1 0 0 0 0 0 1]\n",
      " [1 0 0 0 0 0 1]\n",
      " [1 0 0 0 0 0 1]\n",
      " [1 0 0 0 0 0 1]\n",
      " [1 0 0 0 0 0 1]\n",
      " [1 1 1 1 1 1 1]]\n"
     ]
    }
   ],
   "source": [
    "x = np.full((5, 5), 0)\n",
    "y = np.pad(x, pad_width=1, mode='constant', constant_values=1)\n",
    "print(y)"
   ]
  },
  {
   "cell_type": "markdown",
   "metadata": {},
   "source": [
    "#### 17. What is the result of the following expression? (★☆☆) \n",
    "(**hint**: NaN = not a number, inf = infinity)"
   ]
  },
  {
   "cell_type": "markdown",
   "metadata": {},
   "source": [
    "```python\n",
    "0 * np.nan\n",
    "np.nan == np.nan\n",
    "np.inf > np.nan\n",
    "np.nan - np.nan\n",
    "0.3 == 3 * 0.1\n",
    "```"
   ]
  },
  {
   "cell_type": "markdown",
   "metadata": {},
   "source": [
    "```python\n",
    "nan\n",
    "false\n",
    "false\n",
    "nan\n",
    "false\n",
    "```"
   ]
  },
  {
   "cell_type": "markdown",
   "metadata": {},
   "source": [
    "#### 18. Create a 5x5 matrix with values 1,2,3,4 just below the diagonal (★☆☆) \n",
    "(**hint**: np.diag)"
   ]
  },
  {
   "cell_type": "code",
   "execution_count": 74,
   "metadata": {},
   "outputs": [
    {
     "name": "stdout",
     "output_type": "stream",
     "text": [
      "[[1 0 0 0 0]\n",
      " [0 2 0 0 0]\n",
      " [0 0 3 0 0]\n",
      " [0 0 0 4 0]\n",
      " [0 0 0 0 5]]\n"
     ]
    }
   ],
   "source": [
    "x = np.diag([1, 2, 3, 4, 5])\n",
    "print(x)"
   ]
  },
  {
   "cell_type": "markdown",
   "metadata": {},
   "source": [
    "#### 19. Create a 8x8 matrix and fill it with a checkerboard pattern (★☆☆) \n",
    "(**hint**: array\\[::2\\])"
   ]
  },
  {
   "cell_type": "code",
   "execution_count": 76,
   "metadata": {},
   "outputs": [
    {
     "name": "stdout",
     "output_type": "stream",
     "text": [
      "[[0 1 0 1 0 1 0 1]\n",
      " [1 0 1 0 1 0 1 0]\n",
      " [0 1 0 1 0 1 0 1]\n",
      " [1 0 1 0 1 0 1 0]\n",
      " [0 1 0 1 0 1 0 1]\n",
      " [1 0 1 0 1 0 1 0]\n",
      " [0 1 0 1 0 1 0 1]\n",
      " [1 0 1 0 1 0 1 0]]\n"
     ]
    }
   ],
   "source": [
    "x = np.full((8,8),0)\n",
    "for i in range(8):\n",
    "    for j in range(8):\n",
    "        if (i+j)%2 != 0:\n",
    "            x[i][j] = 1\n",
    "print(x)            "
   ]
  },
  {
   "cell_type": "markdown",
   "metadata": {},
   "source": [
    "#### 20. Consider a (6,7,8) shape array, what is the index (x,y,z) of the 100th element? \n",
    "(**hint**: np.unravel_index)"
   ]
  },
  {
   "cell_type": "code",
   "execution_count": 7,
   "metadata": {},
   "outputs": [
    {
     "data": {
      "text/plain": [
       "array([[[  1,   2,   3,   4,   5,   6,   7,   8],\n",
       "        [  9,  10,  11,  12,  13,  14,  15,  16],\n",
       "        [ 17,  18,  19,  20,  21,  22,  23,  24],\n",
       "        [ 25,  26,  27,  28,  29,  30,  31,  32],\n",
       "        [ 33,  34,  35,  36,  37,  38,  39,  40],\n",
       "        [ 41,  42,  43,  44,  45,  46,  47,  48],\n",
       "        [ 49,  50,  51,  52,  53,  54,  55,  56]],\n",
       "\n",
       "       [[ 57,  58,  59,  60,  61,  62,  63,  64],\n",
       "        [ 65,  66,  67,  68,  69,  70,  71,  72],\n",
       "        [ 73,  74,  75,  76,  77,  78,  79,  80],\n",
       "        [ 81,  82,  83,  84,  85,  86,  87,  88],\n",
       "        [ 89,  90,  91,  92,  93,  94,  95,  96],\n",
       "        [ 97,  98,  99, 100, 101, 102, 103, 104],\n",
       "        [105, 106, 107, 108, 109, 110, 111, 112]],\n",
       "\n",
       "       [[113, 114, 115, 116, 117, 118, 119, 120],\n",
       "        [121, 122, 123, 124, 125, 126, 127, 128],\n",
       "        [129, 130, 131, 132, 133, 134, 135, 136],\n",
       "        [137, 138, 139, 140, 141, 142, 143, 144],\n",
       "        [145, 146, 147, 148, 149, 150, 151, 152],\n",
       "        [153, 154, 155, 156, 157, 158, 159, 160],\n",
       "        [161, 162, 163, 164, 165, 166, 167, 168]],\n",
       "\n",
       "       [[169, 170, 171, 172, 173, 174, 175, 176],\n",
       "        [177, 178, 179, 180, 181, 182, 183, 184],\n",
       "        [185, 186, 187, 188, 189, 190, 191, 192],\n",
       "        [193, 194, 195, 196, 197, 198, 199, 200],\n",
       "        [201, 202, 203, 204, 205, 206, 207, 208],\n",
       "        [209, 210, 211, 212, 213, 214, 215, 216],\n",
       "        [217, 218, 219, 220, 221, 222, 223, 224]],\n",
       "\n",
       "       [[225, 226, 227, 228, 229, 230, 231, 232],\n",
       "        [233, 234, 235, 236, 237, 238, 239, 240],\n",
       "        [241, 242, 243, 244, 245, 246, 247, 248],\n",
       "        [249, 250, 251, 252, 253, 254, 255, 256],\n",
       "        [257, 258, 259, 260, 261, 262, 263, 264],\n",
       "        [265, 266, 267, 268, 269, 270, 271, 272],\n",
       "        [273, 274, 275, 276, 277, 278, 279, 280]],\n",
       "\n",
       "       [[281, 282, 283, 284, 285, 286, 287, 288],\n",
       "        [289, 290, 291, 292, 293, 294, 295, 296],\n",
       "        [297, 298, 299, 300, 301, 302, 303, 304],\n",
       "        [305, 306, 307, 308, 309, 310, 311, 312],\n",
       "        [313, 314, 315, 316, 317, 318, 319, 320],\n",
       "        [321, 322, 323, 324, 325, 326, 327, 328],\n",
       "        [329, 330, 331, 332, 333, 334, 335, 336]]])"
      ]
     },
     "execution_count": 7,
     "metadata": {},
     "output_type": "execute_result"
    }
   ],
   "source": [
    "x = np.array(np.arange(1, 6*7*8+1))\n",
    "x = np.reshape(x, (6, 7, 8))\n",
    "x"
   ]
  },
  {
   "cell_type": "code",
   "execution_count": 2,
   "metadata": {},
   "outputs": [
    {
     "data": {
      "text/plain": [
       "(1, 5, 3)"
      ]
     },
     "execution_count": 2,
     "metadata": {},
     "output_type": "execute_result"
    }
   ],
   "source": [
    "np.unravel_index(99, (6, 7, 8))"
   ]
  },
  {
   "cell_type": "markdown",
   "metadata": {},
   "source": [
    "#### 21. Create a checkerboard 8x8 matrix using the tile function (★☆☆) \n",
    "(**hint**: np.tile)"
   ]
  },
  {
   "cell_type": "code",
   "execution_count": 8,
   "metadata": {},
   "outputs": [
    {
     "data": {
      "text/plain": [
       "array([[1, 0, 1, 0, 1, 0, 1, 0],\n",
       "       [0, 1, 0, 1, 0, 1, 0, 1],\n",
       "       [1, 0, 1, 0, 1, 0, 1, 0],\n",
       "       [0, 1, 0, 1, 0, 1, 0, 1],\n",
       "       [1, 0, 1, 0, 1, 0, 1, 0],\n",
       "       [0, 1, 0, 1, 0, 1, 0, 1],\n",
       "       [1, 0, 1, 0, 1, 0, 1, 0],\n",
       "       [0, 1, 0, 1, 0, 1, 0, 1]])"
      ]
     },
     "execution_count": 8,
     "metadata": {},
     "output_type": "execute_result"
    }
   ],
   "source": [
    "x = np.tile(np.array([[1, 0], [0, 1]]), (4, 4))\n",
    "x"
   ]
  },
  {
   "cell_type": "markdown",
   "metadata": {},
   "source": [
    "#### 22. Normalize a 5x5 random matrix (★☆☆) \n",
    "(**hint**: (x - min) / (max - min))"
   ]
  },
  {
   "cell_type": "code",
   "execution_count": 12,
   "metadata": {},
   "outputs": [
    {
     "data": {
      "text/plain": [
       "array([[0.75454758, 0.40700948, 0.01341453, 0.53889911, 0.945498  ],\n",
       "       [0.        , 0.50880286, 0.37862865, 0.88344233, 0.05830338],\n",
       "       [0.35982182, 0.88518495, 0.96435231, 0.92862334, 0.48897811],\n",
       "       [0.09683527, 0.94318003, 1.        , 0.96305866, 0.59630517],\n",
       "       [0.51341141, 0.93109171, 0.81869603, 0.56692239, 0.260332  ]])"
      ]
     },
     "execution_count": 12,
     "metadata": {},
     "output_type": "execute_result"
    }
   ],
   "source": [
    "m = np.random.random((5, 5))\n",
    "result = (m-np.min(m))/(np.max(m) - np.min(m))\n",
    "result"
   ]
  },
  {
   "cell_type": "markdown",
   "metadata": {},
   "source": [
    "#### 23. Create a custom dtype that describes a color as four unsigned bytes (RGBA) (★☆☆) \n",
    "(**hint**: np.dtype)"
   ]
  },
  {
   "cell_type": "code",
   "execution_count": 19,
   "metadata": {
    "collapsed": true
   },
   "outputs": [
    {
     "data": {
      "text/plain": [
       "dtype([('r', 'u1'), ('g', 'u1'), ('b', 'u1'), ('a', 'u1')])"
      ]
     },
     "execution_count": 19,
     "metadata": {},
     "output_type": "execute_result"
    }
   ],
   "source": [
    "color = np.dtype([\n",
    "                    ('r', np.ubyte),\n",
    "                    ('g', np.ubyte),\n",
    "                    ('b', np.ubyte),\n",
    "                    ('a', np.ubyte)\n",
    "])\n",
    "color"
   ]
  },
  {
   "cell_type": "markdown",
   "metadata": {},
   "source": [
    "#### 24. Multiply a 5x3 matrix by a 3x2 matrix (real matrix product) (★☆☆) \n",
    "(**hint**: np.dot | @)"
   ]
  },
  {
   "cell_type": "code",
   "execution_count": 23,
   "metadata": {},
   "outputs": [
    {
     "name": "stdout",
     "output_type": "stream",
     "text": [
      "[[3 3]\n",
      " [3 3]\n",
      " [3 3]\n",
      " [3 3]\n",
      " [3 3]]\n"
     ]
    }
   ],
   "source": [
    "x = np.dot(np.ones((5,3), dtype=np.int8), np.ones((3, 2), dtype=np.int8))\n",
    "print(x)"
   ]
  },
  {
   "cell_type": "markdown",
   "metadata": {},
   "source": [
    "#### 25. Given a 1D array, negate all elements which are between 3 and 8, in place. (★☆☆) \n",
    "(**hint**: >, <=)"
   ]
  },
  {
   "cell_type": "code",
   "execution_count": 25,
   "metadata": {},
   "outputs": [
    {
     "data": {
      "text/plain": [
       "array([-4, -5, -6, -7])"
      ]
     },
     "execution_count": 25,
     "metadata": {},
     "output_type": "execute_result"
    }
   ],
   "source": [
    "arr = np.arange(11)\n",
    "# Make elements negative\n",
    "arr = arr[(3 < arr) & (arr < 8)] * -1\n",
    "arr"
   ]
  },
  {
   "cell_type": "markdown",
   "metadata": {},
   "source": [
    "#### 26. What is the output of the following script? (★☆☆) \n",
    "(**hint**: np.sum)"
   ]
  },
  {
   "cell_type": "markdown",
   "metadata": {},
   "source": [
    "```python\n",
    "# Author: Jake VanderPlas\n",
    "\n",
    "print(sum(range(5),-1))\n",
    "from numpy import *\n",
    "print(sum(range(5),-1))\n",
    "```"
   ]
  },
  {
   "cell_type": "code",
   "execution_count": 28,
   "metadata": {},
   "outputs": [
    {
     "name": "stdout",
     "output_type": "stream",
     "text": [
      "9\n"
     ]
    }
   ],
   "source": [
    "print(sum(range(5),-1))"
   ]
  },
  {
   "cell_type": "code",
   "execution_count": 30,
   "metadata": {},
   "outputs": [
    {
     "name": "stdout",
     "output_type": "stream",
     "text": [
      "10\n"
     ]
    }
   ],
   "source": [
    "from numpy import *\n",
    "print(sum(range(5),-1))"
   ]
  },
  {
   "cell_type": "markdown",
   "metadata": {},
   "source": [
    "#### 27. Consider an integer vector Z, which of these expressions are legal? (★☆☆)"
   ]
  },
  {
   "cell_type": "markdown",
   "metadata": {},
   "source": [
    "```python\n",
    "Z**Z\n",
    "2 << Z >> 2\n",
    "Z <- Z\n",
    "1j*Z\n",
    "Z/1/1\n",
    "Z<Z>Z\n",
    "```"
   ]
  },
  {
   "cell_type": "markdown",
   "metadata": {},
   "source": [
    "```python\n",
    "All this experssions are valid\n",
    "Z**Z\n",
    "2 << Z >> 2\n",
    "Z <- Z\n",
    "1j*Z\n",
    "Z/1/1\n",
    "Z<Z>Z\n",
    "```"
   ]
  },
  {
   "cell_type": "markdown",
   "metadata": {},
   "source": [
    "#### 28. What are the result of the following expressions?"
   ]
  },
  {
   "cell_type": "markdown",
   "metadata": {},
   "source": [
    "```python\n",
    "np.array(0) / np.array(0)\n",
    "np.array(0) // np.array(0)\n",
    "np.array([np.nan]).astype(int).astype(float)\n",
    "```"
   ]
  },
  {
   "cell_type": "markdown",
   "metadata": {},
   "source": [
    "```python\n",
    "nan\n",
    "0\n",
    "[-2.14748365e+09]\n",
    "```"
   ]
  },
  {
   "cell_type": "markdown",
   "metadata": {},
   "source": [
    "#### 29. How to round away from zero a float array ? (★☆☆) \n",
    "(**hint**: np.uniform, np.copysign, np.ceil, np.abs)"
   ]
  },
  {
   "cell_type": "code",
   "execution_count": 45,
   "metadata": {},
   "outputs": [
    {
     "data": {
      "text/plain": [
       "array([  9.,   3.,   9., -10.,  -3.,  -9.,   8.,   6.,  -3.,  -8.])"
      ]
     },
     "execution_count": 45,
     "metadata": {},
     "output_type": "execute_result"
    }
   ],
   "source": [
    "z1 = np.random.uniform(-10, 10, 10)\n",
    "np.copysign(np.ceil(np.abs(z1)), z1)"
   ]
  },
  {
   "cell_type": "markdown",
   "metadata": {},
   "source": [
    "#### 30. How to find common values between two arrays? (★☆☆) \n",
    "(**hint**: np.intersect1d)"
   ]
  },
  {
   "cell_type": "code",
   "execution_count": 46,
   "metadata": {},
   "outputs": [
    {
     "data": {
      "text/plain": [
       "array([5, 6, 7, 8, 9])"
      ]
     },
     "execution_count": 46,
     "metadata": {},
     "output_type": "execute_result"
    }
   ],
   "source": [
    "arr1 = np.random.randint(0, 10, 10)\n",
    "arr2 = np.random.randint(0, 10, 10)\n",
    "np.intersect1d(arr1, arr2)"
   ]
  },
  {
   "cell_type": "markdown",
   "metadata": {},
   "source": [
    "#### 31. How to ignore all numpy warnings (not recommended)? (★☆☆) \n",
    "(**hint**: np.seterr, np.errstate)"
   ]
  },
  {
   "cell_type": "code",
   "execution_count": 48,
   "metadata": {},
   "outputs": [
    {
     "name": "stderr",
     "output_type": "stream",
     "text": [
      "C:\\Users\\PandiyaDS\\AppData\\Local\\Temp\\ipykernel_16504\\2419392353.py:1: RuntimeWarning: divide by zero encountered in true_divide\n",
      "  np.arange(3)/0\n",
      "C:\\Users\\PandiyaDS\\AppData\\Local\\Temp\\ipykernel_16504\\2419392353.py:1: RuntimeWarning: invalid value encountered in true_divide\n",
      "  np.arange(3)/0\n"
     ]
    },
    {
     "data": {
      "text/plain": [
       "array([nan, inf, inf])"
      ]
     },
     "execution_count": 48,
     "metadata": {},
     "output_type": "execute_result"
    }
   ],
   "source": [
    "np.arange(3)/0"
   ]
  },
  {
   "cell_type": "code",
   "execution_count": 47,
   "metadata": {},
   "outputs": [],
   "source": [
    "with np.errstate(all='ignore'):\n",
    "    np.arange(3)/0"
   ]
  },
  {
   "cell_type": "markdown",
   "metadata": {},
   "source": [
    "#### 32. Is the following expressions true? (★☆☆) \n",
    "(**hint**: imaginary number)"
   ]
  },
  {
   "cell_type": "markdown",
   "metadata": {},
   "source": [
    "```python\n",
    "np.sqrt(-1) == np.emath.sqrt(-1)\n",
    "```"
   ]
  },
  {
   "cell_type": "markdown",
   "metadata": {},
   "source": [
    "```\n",
    "false\n",
    "```"
   ]
  },
  {
   "cell_type": "markdown",
   "metadata": {},
   "source": [
    "#### 33. How to get the dates of yesterday, today and tomorrow? (★☆☆) \n",
    "(**hint**: np.datetime64, np.timedelta64)"
   ]
  },
  {
   "cell_type": "code",
   "execution_count": 7,
   "metadata": {
    "collapsed": true
   },
   "outputs": [
    {
     "name": "stdout",
     "output_type": "stream",
     "text": [
      "2022-07-23\n"
     ]
    }
   ],
   "source": [
    "today = np.datetime64('today')\n",
    "print(today)"
   ]
  },
  {
   "cell_type": "code",
   "execution_count": 9,
   "metadata": {},
   "outputs": [
    {
     "name": "stdout",
     "output_type": "stream",
     "text": [
      "2022-07-22\n"
     ]
    }
   ],
   "source": [
    "yesterday = np.datetime64('today') - np.timedelta64(1)\n",
    "print(yesterday)"
   ]
  },
  {
   "cell_type": "code",
   "execution_count": 10,
   "metadata": {},
   "outputs": [
    {
     "name": "stdout",
     "output_type": "stream",
     "text": [
      "2022-07-24\n"
     ]
    }
   ],
   "source": [
    "tomorrow = np.datetime64('today') + np.timedelta64(1)\n",
    "print(tomorrow)"
   ]
  },
  {
   "cell_type": "markdown",
   "metadata": {},
   "source": [
    "#### 34. How to get all the dates corresponding to the month of July 2016? (★★☆) \n",
    "(**hint**: np.arange(dtype=datetime64\\['D'\\]))"
   ]
  },
  {
   "cell_type": "code",
   "execution_count": 12,
   "metadata": {},
   "outputs": [
    {
     "name": "stdout",
     "output_type": "stream",
     "text": [
      "['2022-07-01' '2022-07-02' '2022-07-03' '2022-07-04' '2022-07-05'\n",
      " '2022-07-06' '2022-07-07' '2022-07-08' '2022-07-09' '2022-07-10'\n",
      " '2022-07-11' '2022-07-12' '2022-07-13' '2022-07-14' '2022-07-15'\n",
      " '2022-07-16' '2022-07-17' '2022-07-18' '2022-07-19' '2022-07-20'\n",
      " '2022-07-21' '2022-07-22' '2022-07-23' '2022-07-24' '2022-07-25'\n",
      " '2022-07-26' '2022-07-27' '2022-07-28' '2022-07-29' '2022-07-30'\n",
      " '2022-07-31']\n"
     ]
    }
   ],
   "source": [
    "date = np.arange('2022-07', '2022-08', dtype='datetime64[D]')\n",
    "print(date)"
   ]
  },
  {
   "cell_type": "markdown",
   "metadata": {},
   "source": [
    "#### 35. How to compute ((A+B)\\*(-A/2)) in place (without copy)? (★★☆) \n",
    "(**hint**: np.add(out=), np.negative(out=), np.multiply(out=), np.divide(out=))"
   ]
  },
  {
   "cell_type": "code",
   "execution_count": 23,
   "metadata": {},
   "outputs": [
    {
     "name": "stdout",
     "output_type": "stream",
     "text": [
      "[11. 11. 11.]\n",
      "[1.5 1.5 1.5]\n",
      "[-1.5 -1.5 -1.5]\n",
      "[-16.5 -16.5 -16.5]\n"
     ]
    }
   ],
   "source": [
    "x = np.ones(3)*3\n",
    "y = np.ones(3)*8\n",
    "print(np.add(x, y,out=y))\n",
    "print(np.divide(x, 2, out=x))\n",
    "print(np.negative(x, out=x))\n",
    "print(np.multiply(x, y, out=x))"
   ]
  },
  {
   "cell_type": "markdown",
   "metadata": {},
   "source": [
    "#### 36. Extract the integer part of a random array using 5 different methods (★★☆) \n",
    "(**hint**: %, np.floor, np.ceil, astype, np.trunc)"
   ]
  },
  {
   "cell_type": "code",
   "execution_count": 26,
   "metadata": {},
   "outputs": [
    {
     "data": {
      "text/plain": [
       "array([7.86654243, 9.03888437, 4.86786477, 4.0964729 , 1.53214395,\n",
       "       5.60280714, 6.64077708, 4.34779935, 2.0971848 , 9.22510223])"
      ]
     },
     "execution_count": 26,
     "metadata": {},
     "output_type": "execute_result"
    }
   ],
   "source": [
    "arr = np.random.uniform(1, 10, 10)\n",
    "arr"
   ]
  },
  {
   "cell_type": "code",
   "execution_count": 31,
   "metadata": {},
   "outputs": [
    {
     "name": "stdout",
     "output_type": "stream",
     "text": [
      "[6. 8. 4. 4. 0. 4. 6. 4. 2. 8.]\n",
      "[3. 4. 2. 2. 0. 2. 3. 2. 1. 4.]\n",
      "[7. 9. 4. 4. 1. 5. 6. 4. 2. 9.]\n",
      "[ 8. 10.  5.  5.  2.  6.  7.  5.  3. 10.]\n",
      "[7. 9. 4. 4. 1. 5. 6. 4. 2. 9.]\n"
     ]
    }
   ],
   "source": [
    "print(arr - arr%2)\n",
    "print(arr // 2)\n",
    "print(np.floor(arr))\n",
    "print(np.ceil(arr))\n",
    "print(np.trunc(arr))"
   ]
  },
  {
   "cell_type": "markdown",
   "metadata": {},
   "source": [
    "#### 37. Create a 5x5 matrix with row values ranging from 0 to 4 (★★☆) \n",
    "(**hint**: np.arange)"
   ]
  },
  {
   "cell_type": "code",
   "execution_count": 33,
   "metadata": {},
   "outputs": [
    {
     "name": "stdout",
     "output_type": "stream",
     "text": [
      "[[0. 1. 2. 3. 4.]\n",
      " [0. 1. 2. 3. 4.]\n",
      " [0. 1. 2. 3. 4.]\n",
      " [0. 1. 2. 3. 4.]\n",
      " [0. 1. 2. 3. 4.]]\n"
     ]
    }
   ],
   "source": [
    "mat = np.zeros((5,5))\n",
    "mat += np.arange(5)\n",
    "print(mat)"
   ]
  },
  {
   "cell_type": "markdown",
   "metadata": {},
   "source": [
    "#### 38. Consider a generator function that generates 10 integers and use it to build an array (★☆☆) \n",
    "(**hint**: np.fromiter)"
   ]
  },
  {
   "cell_type": "code",
   "execution_count": 38,
   "metadata": {},
   "outputs": [
    {
     "name": "stdout",
     "output_type": "stream",
     "text": [
      "[0 1 2 3 4 5 6 7 8 9]\n"
     ]
    }
   ],
   "source": [
    "def gen():\n",
    "    for x in range(10):\n",
    "        yield x\n",
    "arr = np.fromiter(gen(), dtype=np.int8)\n",
    "print(arr)"
   ]
  },
  {
   "cell_type": "markdown",
   "metadata": {},
   "source": [
    "#### 39. Create a vector of size 10 with values ranging from 0 to 1, both excluded (★★☆) \n",
    "(**hint**: np.linspace)"
   ]
  },
  {
   "cell_type": "code",
   "execution_count": 40,
   "metadata": {},
   "outputs": [
    {
     "data": {
      "text/plain": [
       "array([0.1, 0.2, 0.3, 0.4, 0.5, 0.6, 0.7, 0.8, 0.9])"
      ]
     },
     "execution_count": 40,
     "metadata": {},
     "output_type": "execute_result"
    }
   ],
   "source": [
    "np.linspace(0, 1, 11)[1:-1]"
   ]
  },
  {
   "cell_type": "markdown",
   "metadata": {},
   "source": [
    "#### 40. Create a random vector of size 10 and sort it (★★☆) \n",
    "(**hint**: sort)"
   ]
  },
  {
   "cell_type": "code",
   "execution_count": 44,
   "metadata": {},
   "outputs": [
    {
     "name": "stdout",
     "output_type": "stream",
     "text": [
      "[0.15432865 0.18157    0.19179657 0.45459148 0.55886236 0.61501237\n",
      " 0.64224937 0.80664553 0.88876239 0.90048009]\n"
     ]
    }
   ],
   "source": [
    "z = np.random.random(10)\n",
    "z.sort()\n",
    "print(z)"
   ]
  },
  {
   "cell_type": "markdown",
   "metadata": {},
   "source": [
    "#### 41. How to sum a small array faster than np.sum? (★★☆) \n",
    "(**hint**: np.add.reduce)"
   ]
  },
  {
   "cell_type": "code",
   "execution_count": 45,
   "metadata": {},
   "outputs": [
    {
     "data": {
      "text/plain": [
       "45"
      ]
     },
     "execution_count": 45,
     "metadata": {},
     "output_type": "execute_result"
    }
   ],
   "source": [
    "arr = np.arange(10)\n",
    "np.add.reduce(arr)"
   ]
  },
  {
   "cell_type": "markdown",
   "metadata": {},
   "source": [
    "#### 42. Consider two random array A and B, check if they are equal (★★☆) \n",
    "(**hint**: np.allclose, np.array\\_equal)"
   ]
  },
  {
   "cell_type": "code",
   "execution_count": 48,
   "metadata": {},
   "outputs": [
    {
     "name": "stdout",
     "output_type": "stream",
     "text": [
      "False\n",
      "False\n"
     ]
    }
   ],
   "source": [
    "a = np.random.randint(1, 3, 4)\n",
    "b = np.random.randint(1, 3, 4)\n",
    "print(np.array_equal(a, b))\n",
    "print(np.allclose(a, b))"
   ]
  },
  {
   "cell_type": "markdown",
   "metadata": {},
   "source": [
    "#### 43. Make an array immutable (read-only) (★★☆) \n",
    "(**hint**: flags.writeable)"
   ]
  },
  {
   "cell_type": "code",
   "execution_count": 52,
   "metadata": {},
   "outputs": [
    {
     "ename": "ValueError",
     "evalue": "assignment destination is read-only",
     "output_type": "error",
     "traceback": [
      "\u001b[1;31m---------------------------------------------------------------------------\u001b[0m",
      "\u001b[1;31mValueError\u001b[0m                                Traceback (most recent call last)",
      "\u001b[1;32mc:\\Users\\PandiyaDS\\Desktop\\Data_Science\\Concepts\\Assessments\\Numpy_tasks.ipynb Cell 98\u001b[0m in \u001b[0;36m<cell line: 3>\u001b[1;34m()\u001b[0m\n\u001b[0;32m      <a href='vscode-notebook-cell:/c%3A/Users/PandiyaDS/Desktop/Data_Science/Concepts/Assessments/Numpy_tasks.ipynb#ch0000094?line=0'>1</a>\u001b[0m arr \u001b[39m=\u001b[39m np\u001b[39m.\u001b[39marange(\u001b[39m0\u001b[39m, \u001b[39m10\u001b[39m)\n\u001b[0;32m      <a href='vscode-notebook-cell:/c%3A/Users/PandiyaDS/Desktop/Data_Science/Concepts/Assessments/Numpy_tasks.ipynb#ch0000094?line=1'>2</a>\u001b[0m arr\u001b[39m.\u001b[39mflags\u001b[39m.\u001b[39mwriteable \u001b[39m=\u001b[39m \u001b[39mFalse\u001b[39;00m\n\u001b[1;32m----> <a href='vscode-notebook-cell:/c%3A/Users/PandiyaDS/Desktop/Data_Science/Concepts/Assessments/Numpy_tasks.ipynb#ch0000094?line=2'>3</a>\u001b[0m arr[\u001b[39m3\u001b[39m] \u001b[39m=\u001b[39m \u001b[39m12\u001b[39m\n",
      "\u001b[1;31mValueError\u001b[0m: assignment destination is read-only"
     ]
    }
   ],
   "source": [
    "arr = np.arange(0, 10)\n",
    "arr.flags.writeable = False\n",
    "arr[3] = 12 # not writable"
   ]
  },
  {
   "cell_type": "markdown",
   "metadata": {},
   "source": [
    "#### 44. Consider a random 10x2 matrix representing cartesian coordinates, convert them to polar coordinates (★★☆) \n",
    "(**hint**: np.sqrt, np.arctan2)"
   ]
  },
  {
   "cell_type": "code",
   "execution_count": 55,
   "metadata": {},
   "outputs": [
    {
     "data": {
      "text/plain": [
       "array([[0.75696828, 0.20213079],\n",
       "       [0.312677  , 0.01146029],\n",
       "       [0.85858881, 0.12144439],\n",
       "       [0.01936222, 0.36627747],\n",
       "       [0.7534688 , 0.57858606],\n",
       "       [0.5388754 , 0.25978558],\n",
       "       [0.53780481, 0.60125742],\n",
       "       [0.74378622, 0.48576607],\n",
       "       [0.44506104, 0.92807805],\n",
       "       [0.15445315, 0.10800526]])"
      ]
     },
     "execution_count": 55,
     "metadata": {},
     "output_type": "execute_result"
    }
   ],
   "source": [
    "arr = np.random.random((10, 2))\n",
    "arr"
   ]
  },
  {
   "cell_type": "code",
   "execution_count": 61,
   "metadata": {},
   "outputs": [
    {
     "name": "stdout",
     "output_type": "stream",
     "text": [
      "[0.7834908  0.31288695 0.86713522 0.36678888 0.94998793 0.59822676\n",
      " 0.80668736 0.88836176 1.02927557 0.18846992]\n",
      "[0.26093855 0.03663576 0.14051436 1.51798331 0.65485683 0.44921593\n",
      " 0.84104666 0.57855073 1.12364109 0.61023936]\n"
     ]
    }
   ],
   "source": [
    "x, y = arr[:,0], arr[:,1]\n",
    "r = np.sqrt(x**2 + y**2)\n",
    "theta = np.arctan2(y,x)\n",
    "print(r)\n",
    "print(theta)"
   ]
  },
  {
   "cell_type": "markdown",
   "metadata": {},
   "source": [
    "#### 45. Create random vector of size 10 and replace the maximum value by 0 (★★☆) \n",
    "(**hint**: argmax)"
   ]
  },
  {
   "cell_type": "code",
   "execution_count": 63,
   "metadata": {},
   "outputs": [
    {
     "name": "stdout",
     "output_type": "stream",
     "text": [
      "[0.27362822 0.1985364  0.4773498  0.32818185 0.19338855 0.21201974\n",
      " 0.         0.40054553 0.53837466 0.00322738]\n"
     ]
    }
   ],
   "source": [
    "z = np.random.random(10)\n",
    "z[z.argmax()] = 0\n",
    "print(z)"
   ]
  },
  {
   "cell_type": "markdown",
   "metadata": {},
   "source": [
    "#### 46. Create a structured array with `x` and `y` coordinates covering the \\[0,1\\]x\\[0,1\\] area (★★☆) \n",
    "(**hint**: np.meshgrid)"
   ]
  },
  {
   "cell_type": "code",
   "execution_count": 66,
   "metadata": {},
   "outputs": [
    {
     "name": "stdout",
     "output_type": "stream",
     "text": [
      "[[(0.  , 0.  ) (0.25, 0.  ) (0.5 , 0.  ) (0.75, 0.  ) (1.  , 0.  )]\n",
      " [(0.  , 0.25) (0.25, 0.25) (0.5 , 0.25) (0.75, 0.25) (1.  , 0.25)]\n",
      " [(0.  , 0.5 ) (0.25, 0.5 ) (0.5 , 0.5 ) (0.75, 0.5 ) (1.  , 0.5 )]\n",
      " [(0.  , 0.75) (0.25, 0.75) (0.5 , 0.75) (0.75, 0.75) (1.  , 0.75)]\n",
      " [(0.  , 1.  ) (0.25, 1.  ) (0.5 , 1.  ) (0.75, 1.  ) (1.  , 1.  )]]\n"
     ]
    }
   ],
   "source": [
    "z = np.zeros((5, 5), [('x', float), ('y', float)])\n",
    "z['x'], z['y'] = np.meshgrid(np.linspace(0,1,5), np.linspace(0, 1, 5))\n",
    "print(z)"
   ]
  },
  {
   "cell_type": "markdown",
   "metadata": {},
   "source": [
    "####  47. Given two arrays, X and Y, construct the Cauchy matrix C (Cij =1/(xi - yj)) \n",
    "(**hint**: np.subtract.outer)"
   ]
  },
  {
   "cell_type": "code",
   "execution_count": 69,
   "metadata": {},
   "outputs": [
    {
     "name": "stdout",
     "output_type": "stream",
     "text": [
      "[[-5.         -0.83333333 -0.45454545 -0.3125     -0.23809524]\n",
      " [ 1.25       -5.         -0.83333333 -0.45454545 -0.3125    ]\n",
      " [ 0.55555556  1.25       -5.         -0.83333333 -0.45454545]\n",
      " [ 0.35714286  0.55555556  1.25       -5.         -0.83333333]\n",
      " [ 0.26315789  0.35714286  0.55555556  1.25       -5.        ]]\n"
     ]
    }
   ],
   "source": [
    "x=np.arange(5)\n",
    "y = x+0.2\n",
    "c = 1/np.subtract.outer(x, y)\n",
    "print(c)"
   ]
  },
  {
   "cell_type": "markdown",
   "metadata": {},
   "source": [
    "#### 48. Print the minimum and maximum representable value for each numpy scalar type (★★☆) \n",
    "(**hint**: np.iinfo, np.finfo, eps)"
   ]
  },
  {
   "cell_type": "code",
   "execution_count": 70,
   "metadata": {},
   "outputs": [
    {
     "name": "stdout",
     "output_type": "stream",
     "text": [
      "-128\n",
      "127\n",
      "-2147483648\n",
      "2147483647\n",
      "-9223372036854775808\n",
      "9223372036854775807\n"
     ]
    }
   ],
   "source": [
    "for i in [np.int8, np.int32, np.int64]:\n",
    "    print(np.iinfo(i).min)\n",
    "    print(np.iinfo(i).max)"
   ]
  },
  {
   "cell_type": "code",
   "execution_count": 73,
   "metadata": {},
   "outputs": [
    {
     "name": "stdout",
     "output_type": "stream",
     "text": [
      "-3.4028235e+38\n",
      "3.4028235e+38\n",
      "1.1920929e-07\n",
      "-1.7976931348623157e+308\n",
      "1.7976931348623157e+308\n",
      "2.220446049250313e-16\n"
     ]
    }
   ],
   "source": [
    "for i in [np.float32, np.float64]:\n",
    "    print(np.finfo(i).min)\n",
    "    print(np.finfo(i).max)\n",
    "    print(np.finfo(i).eps)"
   ]
  },
  {
   "cell_type": "markdown",
   "metadata": {},
   "source": [
    "#### 49. How to print all the values of an array? (★★☆) \n",
    "(**hint**: np.set\\_printoptions)"
   ]
  },
  {
   "cell_type": "code",
   "execution_count": 74,
   "metadata": {},
   "outputs": [
    {
     "name": "stdout",
     "output_type": "stream",
     "text": [
      "[[0. 0. 0. 0. 0. 0. 0. 0. 0. 0. 0. 0. 0. 0. 0. 0. 0. 0. 0. 0. 0. 0. 0. 0.\n",
      "  0. 0. 0. 0. 0. 0. 0. 0. 0. 0. 0. 0. 0. 0. 0. 0.]\n",
      " [0. 0. 0. 0. 0. 0. 0. 0. 0. 0. 0. 0. 0. 0. 0. 0. 0. 0. 0. 0. 0. 0. 0. 0.\n",
      "  0. 0. 0. 0. 0. 0. 0. 0. 0. 0. 0. 0. 0. 0. 0. 0.]\n",
      " [0. 0. 0. 0. 0. 0. 0. 0. 0. 0. 0. 0. 0. 0. 0. 0. 0. 0. 0. 0. 0. 0. 0. 0.\n",
      "  0. 0. 0. 0. 0. 0. 0. 0. 0. 0. 0. 0. 0. 0. 0. 0.]\n",
      " [0. 0. 0. 0. 0. 0. 0. 0. 0. 0. 0. 0. 0. 0. 0. 0. 0. 0. 0. 0. 0. 0. 0. 0.\n",
      "  0. 0. 0. 0. 0. 0. 0. 0. 0. 0. 0. 0. 0. 0. 0. 0.]\n",
      " [0. 0. 0. 0. 0. 0. 0. 0. 0. 0. 0. 0. 0. 0. 0. 0. 0. 0. 0. 0. 0. 0. 0. 0.\n",
      "  0. 0. 0. 0. 0. 0. 0. 0. 0. 0. 0. 0. 0. 0. 0. 0.]\n",
      " [0. 0. 0. 0. 0. 0. 0. 0. 0. 0. 0. 0. 0. 0. 0. 0. 0. 0. 0. 0. 0. 0. 0. 0.\n",
      "  0. 0. 0. 0. 0. 0. 0. 0. 0. 0. 0. 0. 0. 0. 0. 0.]\n",
      " [0. 0. 0. 0. 0. 0. 0. 0. 0. 0. 0. 0. 0. 0. 0. 0. 0. 0. 0. 0. 0. 0. 0. 0.\n",
      "  0. 0. 0. 0. 0. 0. 0. 0. 0. 0. 0. 0. 0. 0. 0. 0.]\n",
      " [0. 0. 0. 0. 0. 0. 0. 0. 0. 0. 0. 0. 0. 0. 0. 0. 0. 0. 0. 0. 0. 0. 0. 0.\n",
      "  0. 0. 0. 0. 0. 0. 0. 0. 0. 0. 0. 0. 0. 0. 0. 0.]\n",
      " [0. 0. 0. 0. 0. 0. 0. 0. 0. 0. 0. 0. 0. 0. 0. 0. 0. 0. 0. 0. 0. 0. 0. 0.\n",
      "  0. 0. 0. 0. 0. 0. 0. 0. 0. 0. 0. 0. 0. 0. 0. 0.]\n",
      " [0. 0. 0. 0. 0. 0. 0. 0. 0. 0. 0. 0. 0. 0. 0. 0. 0. 0. 0. 0. 0. 0. 0. 0.\n",
      "  0. 0. 0. 0. 0. 0. 0. 0. 0. 0. 0. 0. 0. 0. 0. 0.]\n",
      " [0. 0. 0. 0. 0. 0. 0. 0. 0. 0. 0. 0. 0. 0. 0. 0. 0. 0. 0. 0. 0. 0. 0. 0.\n",
      "  0. 0. 0. 0. 0. 0. 0. 0. 0. 0. 0. 0. 0. 0. 0. 0.]\n",
      " [0. 0. 0. 0. 0. 0. 0. 0. 0. 0. 0. 0. 0. 0. 0. 0. 0. 0. 0. 0. 0. 0. 0. 0.\n",
      "  0. 0. 0. 0. 0. 0. 0. 0. 0. 0. 0. 0. 0. 0. 0. 0.]\n",
      " [0. 0. 0. 0. 0. 0. 0. 0. 0. 0. 0. 0. 0. 0. 0. 0. 0. 0. 0. 0. 0. 0. 0. 0.\n",
      "  0. 0. 0. 0. 0. 0. 0. 0. 0. 0. 0. 0. 0. 0. 0. 0.]\n",
      " [0. 0. 0. 0. 0. 0. 0. 0. 0. 0. 0. 0. 0. 0. 0. 0. 0. 0. 0. 0. 0. 0. 0. 0.\n",
      "  0. 0. 0. 0. 0. 0. 0. 0. 0. 0. 0. 0. 0. 0. 0. 0.]\n",
      " [0. 0. 0. 0. 0. 0. 0. 0. 0. 0. 0. 0. 0. 0. 0. 0. 0. 0. 0. 0. 0. 0. 0. 0.\n",
      "  0. 0. 0. 0. 0. 0. 0. 0. 0. 0. 0. 0. 0. 0. 0. 0.]\n",
      " [0. 0. 0. 0. 0. 0. 0. 0. 0. 0. 0. 0. 0. 0. 0. 0. 0. 0. 0. 0. 0. 0. 0. 0.\n",
      "  0. 0. 0. 0. 0. 0. 0. 0. 0. 0. 0. 0. 0. 0. 0. 0.]\n",
      " [0. 0. 0. 0. 0. 0. 0. 0. 0. 0. 0. 0. 0. 0. 0. 0. 0. 0. 0. 0. 0. 0. 0. 0.\n",
      "  0. 0. 0. 0. 0. 0. 0. 0. 0. 0. 0. 0. 0. 0. 0. 0.]\n",
      " [0. 0. 0. 0. 0. 0. 0. 0. 0. 0. 0. 0. 0. 0. 0. 0. 0. 0. 0. 0. 0. 0. 0. 0.\n",
      "  0. 0. 0. 0. 0. 0. 0. 0. 0. 0. 0. 0. 0. 0. 0. 0.]\n",
      " [0. 0. 0. 0. 0. 0. 0. 0. 0. 0. 0. 0. 0. 0. 0. 0. 0. 0. 0. 0. 0. 0. 0. 0.\n",
      "  0. 0. 0. 0. 0. 0. 0. 0. 0. 0. 0. 0. 0. 0. 0. 0.]\n",
      " [0. 0. 0. 0. 0. 0. 0. 0. 0. 0. 0. 0. 0. 0. 0. 0. 0. 0. 0. 0. 0. 0. 0. 0.\n",
      "  0. 0. 0. 0. 0. 0. 0. 0. 0. 0. 0. 0. 0. 0. 0. 0.]\n",
      " [0. 0. 0. 0. 0. 0. 0. 0. 0. 0. 0. 0. 0. 0. 0. 0. 0. 0. 0. 0. 0. 0. 0. 0.\n",
      "  0. 0. 0. 0. 0. 0. 0. 0. 0. 0. 0. 0. 0. 0. 0. 0.]\n",
      " [0. 0. 0. 0. 0. 0. 0. 0. 0. 0. 0. 0. 0. 0. 0. 0. 0. 0. 0. 0. 0. 0. 0. 0.\n",
      "  0. 0. 0. 0. 0. 0. 0. 0. 0. 0. 0. 0. 0. 0. 0. 0.]\n",
      " [0. 0. 0. 0. 0. 0. 0. 0. 0. 0. 0. 0. 0. 0. 0. 0. 0. 0. 0. 0. 0. 0. 0. 0.\n",
      "  0. 0. 0. 0. 0. 0. 0. 0. 0. 0. 0. 0. 0. 0. 0. 0.]\n",
      " [0. 0. 0. 0. 0. 0. 0. 0. 0. 0. 0. 0. 0. 0. 0. 0. 0. 0. 0. 0. 0. 0. 0. 0.\n",
      "  0. 0. 0. 0. 0. 0. 0. 0. 0. 0. 0. 0. 0. 0. 0. 0.]\n",
      " [0. 0. 0. 0. 0. 0. 0. 0. 0. 0. 0. 0. 0. 0. 0. 0. 0. 0. 0. 0. 0. 0. 0. 0.\n",
      "  0. 0. 0. 0. 0. 0. 0. 0. 0. 0. 0. 0. 0. 0. 0. 0.]\n",
      " [0. 0. 0. 0. 0. 0. 0. 0. 0. 0. 0. 0. 0. 0. 0. 0. 0. 0. 0. 0. 0. 0. 0. 0.\n",
      "  0. 0. 0. 0. 0. 0. 0. 0. 0. 0. 0. 0. 0. 0. 0. 0.]\n",
      " [0. 0. 0. 0. 0. 0. 0. 0. 0. 0. 0. 0. 0. 0. 0. 0. 0. 0. 0. 0. 0. 0. 0. 0.\n",
      "  0. 0. 0. 0. 0. 0. 0. 0. 0. 0. 0. 0. 0. 0. 0. 0.]\n",
      " [0. 0. 0. 0. 0. 0. 0. 0. 0. 0. 0. 0. 0. 0. 0. 0. 0. 0. 0. 0. 0. 0. 0. 0.\n",
      "  0. 0. 0. 0. 0. 0. 0. 0. 0. 0. 0. 0. 0. 0. 0. 0.]\n",
      " [0. 0. 0. 0. 0. 0. 0. 0. 0. 0. 0. 0. 0. 0. 0. 0. 0. 0. 0. 0. 0. 0. 0. 0.\n",
      "  0. 0. 0. 0. 0. 0. 0. 0. 0. 0. 0. 0. 0. 0. 0. 0.]\n",
      " [0. 0. 0. 0. 0. 0. 0. 0. 0. 0. 0. 0. 0. 0. 0. 0. 0. 0. 0. 0. 0. 0. 0. 0.\n",
      "  0. 0. 0. 0. 0. 0. 0. 0. 0. 0. 0. 0. 0. 0. 0. 0.]\n",
      " [0. 0. 0. 0. 0. 0. 0. 0. 0. 0. 0. 0. 0. 0. 0. 0. 0. 0. 0. 0. 0. 0. 0. 0.\n",
      "  0. 0. 0. 0. 0. 0. 0. 0. 0. 0. 0. 0. 0. 0. 0. 0.]\n",
      " [0. 0. 0. 0. 0. 0. 0. 0. 0. 0. 0. 0. 0. 0. 0. 0. 0. 0. 0. 0. 0. 0. 0. 0.\n",
      "  0. 0. 0. 0. 0. 0. 0. 0. 0. 0. 0. 0. 0. 0. 0. 0.]\n",
      " [0. 0. 0. 0. 0. 0. 0. 0. 0. 0. 0. 0. 0. 0. 0. 0. 0. 0. 0. 0. 0. 0. 0. 0.\n",
      "  0. 0. 0. 0. 0. 0. 0. 0. 0. 0. 0. 0. 0. 0. 0. 0.]\n",
      " [0. 0. 0. 0. 0. 0. 0. 0. 0. 0. 0. 0. 0. 0. 0. 0. 0. 0. 0. 0. 0. 0. 0. 0.\n",
      "  0. 0. 0. 0. 0. 0. 0. 0. 0. 0. 0. 0. 0. 0. 0. 0.]\n",
      " [0. 0. 0. 0. 0. 0. 0. 0. 0. 0. 0. 0. 0. 0. 0. 0. 0. 0. 0. 0. 0. 0. 0. 0.\n",
      "  0. 0. 0. 0. 0. 0. 0. 0. 0. 0. 0. 0. 0. 0. 0. 0.]\n",
      " [0. 0. 0. 0. 0. 0. 0. 0. 0. 0. 0. 0. 0. 0. 0. 0. 0. 0. 0. 0. 0. 0. 0. 0.\n",
      "  0. 0. 0. 0. 0. 0. 0. 0. 0. 0. 0. 0. 0. 0. 0. 0.]\n",
      " [0. 0. 0. 0. 0. 0. 0. 0. 0. 0. 0. 0. 0. 0. 0. 0. 0. 0. 0. 0. 0. 0. 0. 0.\n",
      "  0. 0. 0. 0. 0. 0. 0. 0. 0. 0. 0. 0. 0. 0. 0. 0.]\n",
      " [0. 0. 0. 0. 0. 0. 0. 0. 0. 0. 0. 0. 0. 0. 0. 0. 0. 0. 0. 0. 0. 0. 0. 0.\n",
      "  0. 0. 0. 0. 0. 0. 0. 0. 0. 0. 0. 0. 0. 0. 0. 0.]\n",
      " [0. 0. 0. 0. 0. 0. 0. 0. 0. 0. 0. 0. 0. 0. 0. 0. 0. 0. 0. 0. 0. 0. 0. 0.\n",
      "  0. 0. 0. 0. 0. 0. 0. 0. 0. 0. 0. 0. 0. 0. 0. 0.]\n",
      " [0. 0. 0. 0. 0. 0. 0. 0. 0. 0. 0. 0. 0. 0. 0. 0. 0. 0. 0. 0. 0. 0. 0. 0.\n",
      "  0. 0. 0. 0. 0. 0. 0. 0. 0. 0. 0. 0. 0. 0. 0. 0.]]\n"
     ]
    }
   ],
   "source": [
    "np.set_printoptions(threshold=float(\"inf\"))\n",
    "Z = np.zeros((40,40))\n",
    "print(Z)"
   ]
  },
  {
   "cell_type": "markdown",
   "metadata": {},
   "source": [
    "#### 50. How to find the closest value (to a given scalar) in a vector? (★★☆) \n",
    "(**hint**: argmin)"
   ]
  },
  {
   "cell_type": "code",
   "execution_count": 75,
   "metadata": {},
   "outputs": [
    {
     "name": "stdout",
     "output_type": "stream",
     "text": [
      "34\n"
     ]
    }
   ],
   "source": [
    "Z = np.arange(100)\n",
    "v = np.random.uniform(0,100)\n",
    "index = (np.abs(Z-v)).argmin()\n",
    "print(Z[index])"
   ]
  },
  {
   "cell_type": "markdown",
   "metadata": {},
   "source": [
    "#### 51. Create a structured array representing a position (x,y) and a color (r,g,b) (★★☆) \n",
    "(**hint**: dtype)"
   ]
  },
  {
   "cell_type": "code",
   "execution_count": 76,
   "metadata": {},
   "outputs": [
    {
     "name": "stdout",
     "output_type": "stream",
     "text": [
      "[((0., 0.), (0., 0., 0.)) ((0., 0.), (0., 0., 0.))\n",
      " ((0., 0.), (0., 0., 0.)) ((0., 0.), (0., 0., 0.))\n",
      " ((0., 0.), (0., 0., 0.)) ((0., 0.), (0., 0., 0.))\n",
      " ((0., 0.), (0., 0., 0.)) ((0., 0.), (0., 0., 0.))\n",
      " ((0., 0.), (0., 0., 0.)) ((0., 0.), (0., 0., 0.))]\n"
     ]
    },
    {
     "name": "stderr",
     "output_type": "stream",
     "text": [
      "C:\\Users\\PandiyaDS\\AppData\\Local\\Temp\\ipykernel_17608\\274409719.py:1: FutureWarning: Passing (type, 1) or '1type' as a synonym of type is deprecated; in a future version of numpy, it will be understood as (type, (1,)) / '(1,)type'.\n",
      "  Z = np.zeros(10, [ ('position', [ ('x', float, 1),\n"
     ]
    }
   ],
   "source": [
    "Z = np.zeros(10, [ ('position', [ ('x', float, 1),\n",
    "                                  ('y', float, 1)]),\n",
    "                   ('color',    [ ('r', float, 1),\n",
    "                                  ('g', float, 1),\n",
    "                                  ('b', float, 1)])])\n",
    "print(Z)"
   ]
  },
  {
   "cell_type": "markdown",
   "metadata": {},
   "source": [
    "#### 52. Consider a random vector with shape (100,2) representing coordinates, find point by point distances (★★☆) \n",
    "(**hint**: np.atleast\\_2d, T, np.sqrt)"
   ]
  },
  {
   "cell_type": "code",
   "execution_count": 77,
   "metadata": {},
   "outputs": [
    {
     "name": "stdout",
     "output_type": "stream",
     "text": [
      "[[0.         0.61567893 0.17319423 0.72273349 0.31013328 0.43431169\n",
      "  0.34382951 0.65213641 0.32838904 0.37074666]\n",
      " [0.61567893 0.         0.73343304 0.2503919  0.36996815 1.03589418\n",
      "  0.59449247 0.70105379 0.55077881 0.398293  ]\n",
      " [0.17319423 0.73343304 0.         0.87270315 0.47262859 0.41462586\n",
      "  0.51177956 0.82111196 0.49979456 0.54019614]\n",
      " [0.72273349 0.2503919  0.87270315 0.         0.41796264 1.09609751\n",
      "  0.57017738 0.55784009 0.53449889 0.39065855]\n",
      " [0.31013328 0.36996815 0.47262859 0.41796264 0.         0.68522655\n",
      "  0.23917835 0.45729389 0.1948342  0.08784492]\n",
      " [0.43431169 1.03589418 0.41462586 1.09609751 0.68522655 0.\n",
      "  0.55757593 0.80738609 0.57940015 0.7065891 ]\n",
      " [0.34382951 0.59449247 0.51177956 0.57017738 0.23917835 0.55757593\n",
      "  0.         0.30934663 0.04455246 0.19721342]\n",
      " [0.65213641 0.70105379 0.82111196 0.55784009 0.45729389 0.80738609\n",
      "  0.30934663 0.         0.32540633 0.37221963]\n",
      " [0.32838904 0.55077881 0.49979456 0.53449889 0.1948342  0.57940015\n",
      "  0.04455246 0.32540633 0.         0.15473129]\n",
      " [0.37074666 0.398293   0.54019614 0.39065855 0.08784492 0.7065891\n",
      "  0.19721342 0.37221963 0.15473129 0.        ]]\n"
     ]
    }
   ],
   "source": [
    "Z = np.random.random((10,2))\n",
    "X,Y = np.atleast_2d(Z[:,0], Z[:,1])\n",
    "D = np.sqrt( (X-X.T)**2 + (Y-Y.T)**2)\n",
    "print(D)"
   ]
  },
  {
   "cell_type": "markdown",
   "metadata": {},
   "source": [
    "#### 53. How to convert a float (32 bits) array into an integer (32 bits) in place? \n",
    "(**hint**: astype(copy=False))"
   ]
  },
  {
   "cell_type": "code",
   "execution_count": 78,
   "metadata": {},
   "outputs": [
    {
     "name": "stdout",
     "output_type": "stream",
     "text": [
      "[28 67 69 80 29 66 58 10 49 41]\n"
     ]
    }
   ],
   "source": [
    "Z = (np.random.rand(10)*100).astype(np.float32)\n",
    "Y = Z.view(np.int32)\n",
    "Y[:] = Z\n",
    "print(Y)"
   ]
  },
  {
   "cell_type": "markdown",
   "metadata": {},
   "source": [
    "#### 54. How to read the following file? (★★☆) \n",
    "(**hint**: np.genfromtxt)"
   ]
  },
  {
   "cell_type": "markdown",
   "metadata": {},
   "source": [
    "```\n",
    "1, 2, 3, 4, 5\n",
    "6,  ,  , 7, 8\n",
    " ,  , 9,10,11\n",
    "```"
   ]
  },
  {
   "cell_type": "code",
   "execution_count": 79,
   "metadata": {},
   "outputs": [
    {
     "name": "stdout",
     "output_type": "stream",
     "text": [
      "[[ 1  2  3  4  5]\n",
      " [ 6 -1 -1  7  8]\n",
      " [-1 -1  9 10 11]]\n"
     ]
    },
    {
     "name": "stderr",
     "output_type": "stream",
     "text": [
      "C:\\Users\\PandiyaDS\\AppData\\Local\\Temp\\ipykernel_17608\\1868410621.py:10: DeprecationWarning: `np.int` is a deprecated alias for the builtin `int`. To silence this warning, use `int` by itself. Doing this will not modify any behavior and is safe. When replacing `np.int`, you may wish to use e.g. `np.int64` or `np.int32` to specify the precision. If you wish to review your current use, check the release note link for additional information.\n",
      "Deprecated in NumPy 1.20; for more details and guidance: https://numpy.org/devdocs/release/1.20.0-notes.html#deprecations\n",
      "  Z = np.genfromtxt(s, delimiter=\",\", dtype=np.int)\n"
     ]
    }
   ],
   "source": [
    "from io import StringIO\n",
    "\n",
    "# Fake file\n",
    "s = StringIO('''1, 2, 3, 4, 5\n",
    "\n",
    "                6,  ,  , 7, 8\n",
    "\n",
    "                 ,  , 9,10,11\n",
    "''')\n",
    "Z = np.genfromtxt(s, delimiter=\",\", dtype=np.int)\n",
    "print(Z)"
   ]
  },
  {
   "cell_type": "markdown",
   "metadata": {},
   "source": [
    "#### 55. What is the equivalent of enumerate for numpy arrays? (★★☆) \n",
    "(**hint**: np.ndenumerate, np.ndindex)"
   ]
  },
  {
   "cell_type": "code",
   "execution_count": 80,
   "metadata": {},
   "outputs": [
    {
     "name": "stdout",
     "output_type": "stream",
     "text": [
      "(0, 0) 0\n",
      "(0, 1) 1\n",
      "(0, 2) 2\n",
      "(1, 0) 3\n",
      "(1, 1) 4\n",
      "(1, 2) 5\n",
      "(2, 0) 6\n",
      "(2, 1) 7\n",
      "(2, 2) 8\n",
      "(0, 0) 0\n",
      "(0, 1) 1\n",
      "(0, 2) 2\n",
      "(1, 0) 3\n",
      "(1, 1) 4\n",
      "(1, 2) 5\n",
      "(2, 0) 6\n",
      "(2, 1) 7\n",
      "(2, 2) 8\n"
     ]
    }
   ],
   "source": [
    "Z = np.arange(9).reshape(3,3)\n",
    "for index, value in np.ndenumerate(Z):\n",
    "    print(index, value)\n",
    "for index in np.ndindex(Z.shape):\n",
    "    print(index, Z[index])"
   ]
  },
  {
   "cell_type": "markdown",
   "metadata": {},
   "source": [
    "#### 56. Generate a generic 2D Gaussian-like array (★★☆) \n",
    "(**hint**: np.meshgrid, np.exp)"
   ]
  },
  {
   "cell_type": "code",
   "execution_count": 81,
   "metadata": {},
   "outputs": [
    {
     "name": "stdout",
     "output_type": "stream",
     "text": [
      "[[0.36787944 0.44822088 0.51979489 0.57375342 0.60279818 0.60279818\n",
      "  0.57375342 0.51979489 0.44822088 0.36787944]\n",
      " [0.44822088 0.54610814 0.63331324 0.69905581 0.73444367 0.73444367\n",
      "  0.69905581 0.63331324 0.54610814 0.44822088]\n",
      " [0.51979489 0.63331324 0.73444367 0.81068432 0.85172308 0.85172308\n",
      "  0.81068432 0.73444367 0.63331324 0.51979489]\n",
      " [0.57375342 0.69905581 0.81068432 0.89483932 0.9401382  0.9401382\n",
      "  0.89483932 0.81068432 0.69905581 0.57375342]\n",
      " [0.60279818 0.73444367 0.85172308 0.9401382  0.98773022 0.98773022\n",
      "  0.9401382  0.85172308 0.73444367 0.60279818]\n",
      " [0.60279818 0.73444367 0.85172308 0.9401382  0.98773022 0.98773022\n",
      "  0.9401382  0.85172308 0.73444367 0.60279818]\n",
      " [0.57375342 0.69905581 0.81068432 0.89483932 0.9401382  0.9401382\n",
      "  0.89483932 0.81068432 0.69905581 0.57375342]\n",
      " [0.51979489 0.63331324 0.73444367 0.81068432 0.85172308 0.85172308\n",
      "  0.81068432 0.73444367 0.63331324 0.51979489]\n",
      " [0.44822088 0.54610814 0.63331324 0.69905581 0.73444367 0.73444367\n",
      "  0.69905581 0.63331324 0.54610814 0.44822088]\n",
      " [0.36787944 0.44822088 0.51979489 0.57375342 0.60279818 0.60279818\n",
      "  0.57375342 0.51979489 0.44822088 0.36787944]]\n"
     ]
    }
   ],
   "source": [
    "X, Y = np.meshgrid(np.linspace(-1,1,10), np.linspace(-1,1,10))\n",
    "D = np.sqrt(X*X+Y*Y)\n",
    "sigma, mu = 1.0, 0.0\n",
    "G = np.exp(-( (D-mu)**2 / ( 2.0 * sigma**2 ) ) )\n",
    "print(G)"
   ]
  },
  {
   "cell_type": "markdown",
   "metadata": {},
   "source": [
    "#### 57. How to randomly place p elements in a 2D array? (★★☆) \n",
    "(**hint**: np.put, np.random.choice)"
   ]
  },
  {
   "cell_type": "code",
   "execution_count": 82,
   "metadata": {},
   "outputs": [
    {
     "name": "stdout",
     "output_type": "stream",
     "text": [
      "[[0. 0. 0. 0. 0. 0. 0. 0. 0. 1.]\n",
      " [0. 0. 0. 0. 0. 0. 0. 0. 0. 0.]\n",
      " [0. 0. 0. 0. 0. 0. 0. 0. 0. 0.]\n",
      " [0. 0. 0. 0. 1. 0. 0. 0. 0. 0.]\n",
      " [0. 0. 0. 0. 0. 0. 0. 0. 0. 0.]\n",
      " [0. 0. 0. 0. 0. 0. 0. 0. 0. 0.]\n",
      " [0. 0. 0. 0. 0. 1. 0. 0. 0. 0.]\n",
      " [0. 0. 0. 0. 0. 0. 0. 0. 0. 0.]\n",
      " [0. 0. 0. 0. 0. 0. 0. 0. 0. 0.]\n",
      " [0. 0. 0. 0. 0. 0. 0. 0. 0. 0.]]\n"
     ]
    }
   ],
   "source": [
    "n = 10\n",
    "p = 3\n",
    "Z = np.zeros((n,n))\n",
    "np.put(Z, np.random.choice(range(n*n), p, replace=False),1)\n",
    "print(Z)"
   ]
  },
  {
   "cell_type": "markdown",
   "metadata": {},
   "source": [
    "#### 58. Subtract the mean of each row of a matrix (★★☆) \n",
    "(**hint**: mean(axis=,keepdims=))"
   ]
  },
  {
   "cell_type": "code",
   "execution_count": 83,
   "metadata": {},
   "outputs": [
    {
     "name": "stdout",
     "output_type": "stream",
     "text": [
      "[[-0.53466227 -0.40149894  0.17544784  0.17623864  0.3703482   0.36808703\n",
      "   0.34992337  0.09949171 -0.56537621 -0.03799937]\n",
      " [ 0.33756251 -0.46591716 -0.21984915 -0.43065041  0.15013243 -0.1908968\n",
      "   0.45188401  0.3579095  -0.10046261  0.11028767]\n",
      " [-0.27682595 -0.14983442 -0.48740781 -0.02968615 -0.01080463  0.20711084\n",
      "   0.18882584  0.40476289 -0.20323404  0.35709342]\n",
      " [ 0.07901804 -0.51611152 -0.1445651   0.34546094  0.41174647  0.27441375\n",
      "   0.05830391  0.38024243 -0.39024193 -0.49826699]\n",
      " [-0.10127531 -0.3658207  -0.17607804 -0.30694155 -0.21935713 -0.06009217\n",
      "   0.41618468  0.3863636   0.20425837  0.22275824]]\n"
     ]
    }
   ],
   "source": [
    "X = np.random.rand(5, 10)\n",
    "Y = X - X.mean(axis=1, keepdims=True)\n",
    "print(Y)"
   ]
  },
  {
   "cell_type": "markdown",
   "metadata": {},
   "source": [
    "#### 59. How to sort an array by the nth column? (★★☆) \n",
    "(**hint**: argsort)"
   ]
  },
  {
   "cell_type": "code",
   "execution_count": 84,
   "metadata": {},
   "outputs": [
    {
     "name": "stdout",
     "output_type": "stream",
     "text": [
      "[[2 0 6]\n",
      " [4 5 7]\n",
      " [9 3 5]]\n",
      "[[2 0 6]\n",
      " [9 3 5]\n",
      " [4 5 7]]\n"
     ]
    }
   ],
   "source": [
    "Z = np.random.randint(0,10,(3,3))\n",
    "print(Z)\n",
    "print(Z[Z[:,1].argsort()])"
   ]
  },
  {
   "cell_type": "markdown",
   "metadata": {},
   "source": [
    "#### 60. How to tell if a given 2D array has null columns? (★★☆) \n",
    "(**hint**: any, ~)"
   ]
  },
  {
   "cell_type": "code",
   "execution_count": 85,
   "metadata": {},
   "outputs": [
    {
     "name": "stdout",
     "output_type": "stream",
     "text": [
      "False\n"
     ]
    }
   ],
   "source": [
    "Z = np.random.randint(0,3,(3,10))\n",
    "print((~Z.any(axis=0)).any())"
   ]
  },
  {
   "cell_type": "markdown",
   "metadata": {},
   "source": [
    "#### 61. Find the nearest value from a given value in an array (★★☆) \n",
    "(**hint**: np.abs, argmin, flat)"
   ]
  },
  {
   "cell_type": "code",
   "execution_count": 86,
   "metadata": {},
   "outputs": [
    {
     "name": "stdout",
     "output_type": "stream",
     "text": [
      "0.4793304287229866\n"
     ]
    }
   ],
   "source": [
    "Z = np.random.uniform(0,1,10)\n",
    "z = 0.5\n",
    "m = Z.flat[np.abs(Z - z).argmin()]\n",
    "print(m)"
   ]
  },
  {
   "cell_type": "markdown",
   "metadata": {},
   "source": [
    "#### 62. Considering two arrays with shape (1,3) and (3,1), how to compute their sum using an iterator? (★★☆) \n",
    "(**hint**: np.nditer)"
   ]
  },
  {
   "cell_type": "code",
   "execution_count": 87,
   "metadata": {},
   "outputs": [
    {
     "name": "stdout",
     "output_type": "stream",
     "text": [
      "[[0 1 2]\n",
      " [1 2 3]\n",
      " [2 3 4]]\n"
     ]
    }
   ],
   "source": [
    "A = np.arange(3).reshape(3,1)\n",
    "B = np.arange(3).reshape(1,3)\n",
    "it = np.nditer([A,B,None])\n",
    "for x,y,z in it: z[...] = x + y\n",
    "print(it.operands[2])"
   ]
  },
  {
   "cell_type": "markdown",
   "metadata": {},
   "source": [
    "#### 63. Create an array class that has a name attribute (★★☆) \n",
    "(**hint**: class method)"
   ]
  },
  {
   "cell_type": "code",
   "execution_count": 88,
   "metadata": {},
   "outputs": [
    {
     "name": "stdout",
     "output_type": "stream",
     "text": [
      "range_10\n"
     ]
    }
   ],
   "source": [
    "class NArray(np.ndarray):\n",
    "    def __new__(cls, array, name=\"no name\"):\n",
    "        obj = np.asarray(array).view(cls)\n",
    "        obj.name = name\n",
    "        return obj\n",
    "    def __array_finalize__(self, obj):\n",
    "        if obj is None: return\n",
    "        self.info = getattr(obj, 'name', \"no name\")\n",
    "\n",
    "Z = NArray(np.arange(10), \"range_10\")\n",
    "print (Z.name)"
   ]
  },
  {
   "cell_type": "markdown",
   "metadata": {},
   "source": [
    "#### 64. Consider a given vector, how to add 1 to each element indexed by a second vector (be careful with repeated indices)? (★★★) \n",
    "(**hint**: np.bincount | np.add.at)"
   ]
  },
  {
   "cell_type": "code",
   "execution_count": 89,
   "metadata": {},
   "outputs": [
    {
     "name": "stdout",
     "output_type": "stream",
     "text": [
      "[3. 3. 1. 3. 3. 7. 1. 3. 3. 3.]\n"
     ]
    }
   ],
   "source": [
    "Z = np.ones(10)\n",
    "I = np.random.randint(0,len(Z),20)\n",
    "Z += np.bincount(I, minlength=len(Z))\n",
    "print(Z)"
   ]
  },
  {
   "cell_type": "markdown",
   "metadata": {},
   "source": [
    "#### 65. How to accumulate elements of a vector (X) to an array (F) based on an index list (I)? (★★★) \n",
    "(**hint**: np.bincount)"
   ]
  },
  {
   "cell_type": "code",
   "execution_count": 90,
   "metadata": {},
   "outputs": [
    {
     "name": "stdout",
     "output_type": "stream",
     "text": [
      "[0. 7. 0. 6. 5. 0. 0. 0. 0. 3.]\n"
     ]
    }
   ],
   "source": [
    "X = [1,2,3,4,5,6]\n",
    "I = [1,3,9,3,4,1]\n",
    "F = np.bincount(I,X)\n",
    "print(F)"
   ]
  },
  {
   "cell_type": "markdown",
   "metadata": {},
   "source": [
    "#### 66. Considering a (w,h,3) image of (dtype=ubyte), compute the number of unique colors (★★★) \n",
    "(**hint**: np.unique)"
   ]
  },
  {
   "cell_type": "code",
   "execution_count": 91,
   "metadata": {},
   "outputs": [
    {
     "name": "stdout",
     "output_type": "stream",
     "text": [
      "64\n"
     ]
    }
   ],
   "source": [
    "w, h = 256, 256\n",
    "I = np.random.randint(0, 4, (h, w, 3)).astype(np.ubyte)\n",
    "colors = np.unique(I.reshape(-1, 3), axis=0)\n",
    "n = len(colors)\n",
    "print(n)"
   ]
  },
  {
   "cell_type": "markdown",
   "metadata": {},
   "source": [
    "#### 67. Considering a four dimensions array, how to get sum over the last two axis at once? (★★★) \n",
    "(**hint**: sum(axis=(-2,-1)))"
   ]
  },
  {
   "cell_type": "code",
   "execution_count": 92,
   "metadata": {},
   "outputs": [
    {
     "name": "stdout",
     "output_type": "stream",
     "text": [
      "[[51 70 49 58]\n",
      " [53 63 50 67]\n",
      " [62 57 54 62]]\n"
     ]
    }
   ],
   "source": [
    "A = np.random.randint(0,10,(3,4,3,4))\n",
    "sum = A.sum(axis=(-2,-1))\n",
    "print(sum)"
   ]
  },
  {
   "cell_type": "markdown",
   "metadata": {},
   "source": [
    "#### 68. Considering a one-dimensional vector D, how to compute means of subsets of D using a vector S of same size describing subset  indices? (★★★) \n",
    "(**hint**: np.bincount)"
   ]
  },
  {
   "cell_type": "code",
   "execution_count": 93,
   "metadata": {},
   "outputs": [
    {
     "name": "stdout",
     "output_type": "stream",
     "text": [
      "[0.42711901 0.46756167 0.60255245 0.49565263 0.4559605  0.6809168\n",
      " 0.62590431 0.37252478 0.41366857 0.31746943]\n"
     ]
    }
   ],
   "source": [
    "D = np.random.uniform(0,1,100)\n",
    "S = np.random.randint(0,10,100)\n",
    "D_sums = np.bincount(S, weights=D)\n",
    "D_counts = np.bincount(S)\n",
    "D_means = D_sums / D_counts\n",
    "print(D_means)"
   ]
  },
  {
   "cell_type": "markdown",
   "metadata": {},
   "source": [
    "#### 69. How to get the diagonal of a dot product? (★★★) \n",
    "(**hint**: np.diag)"
   ]
  },
  {
   "cell_type": "code",
   "execution_count": 94,
   "metadata": {},
   "outputs": [
    {
     "data": {
      "text/plain": [
       "array([0.98496884, 0.65694318, 1.02488016, 1.68066969, 1.54161354])"
      ]
     },
     "execution_count": 94,
     "metadata": {},
     "output_type": "execute_result"
    }
   ],
   "source": [
    "A = np.random.uniform(0,1,(5,5))\n",
    "B = np.random.uniform(0,1,(5,5))\n",
    "np.diag(np.dot(A, B))"
   ]
  },
  {
   "cell_type": "markdown",
   "metadata": {},
   "source": [
    "#### 70. Consider the vector \\[1, 2, 3, 4, 5\\], how to build a new vector with 3 consecutive zeros interleaved between each value? (★★★) \n",
    "(**hint**: array\\[::4\\])"
   ]
  },
  {
   "cell_type": "code",
   "execution_count": 95,
   "metadata": {},
   "outputs": [
    {
     "name": "stdout",
     "output_type": "stream",
     "text": [
      "[1. 0. 0. 0. 2. 0. 0. 0. 3. 0. 0. 0. 4. 0. 0. 0. 5.]\n"
     ]
    }
   ],
   "source": [
    "Z = np.array([1,2,3,4,5])\n",
    "nz = 3\n",
    "Z0 = np.zeros(len(Z) + (len(Z)-1)*(nz))\n",
    "Z0[::nz+1] = Z\n",
    "print(Z0)"
   ]
  },
  {
   "cell_type": "markdown",
   "metadata": {},
   "source": [
    "#### 71. Consider an array of dimension (5,5,3), how to mulitply it by an array with dimensions (5,5)? (★★★) \n",
    "(**hint**: array\\[:, :, None\\])"
   ]
  },
  {
   "cell_type": "code",
   "execution_count": 96,
   "metadata": {
    "collapsed": true
   },
   "outputs": [
    {
     "name": "stdout",
     "output_type": "stream",
     "text": [
      "[[[2. 2. 2.]\n",
      "  [2. 2. 2.]\n",
      "  [2. 2. 2.]\n",
      "  [2. 2. 2.]\n",
      "  [2. 2. 2.]]\n",
      "\n",
      " [[2. 2. 2.]\n",
      "  [2. 2. 2.]\n",
      "  [2. 2. 2.]\n",
      "  [2. 2. 2.]\n",
      "  [2. 2. 2.]]\n",
      "\n",
      " [[2. 2. 2.]\n",
      "  [2. 2. 2.]\n",
      "  [2. 2. 2.]\n",
      "  [2. 2. 2.]\n",
      "  [2. 2. 2.]]\n",
      "\n",
      " [[2. 2. 2.]\n",
      "  [2. 2. 2.]\n",
      "  [2. 2. 2.]\n",
      "  [2. 2. 2.]\n",
      "  [2. 2. 2.]]\n",
      "\n",
      " [[2. 2. 2.]\n",
      "  [2. 2. 2.]\n",
      "  [2. 2. 2.]\n",
      "  [2. 2. 2.]\n",
      "  [2. 2. 2.]]]\n"
     ]
    }
   ],
   "source": [
    "A = np.ones((5,5,3))\n",
    "B = 2*np.ones((5,5))\n",
    "print(A * B[:,:,None])"
   ]
  },
  {
   "cell_type": "markdown",
   "metadata": {},
   "source": [
    "#### 72. How to swap two rows of an array? (★★★) \n",
    "(**hint**: array\\[\\[\\]\\] = array\\[\\[\\]\\])"
   ]
  },
  {
   "cell_type": "code",
   "execution_count": 97,
   "metadata": {},
   "outputs": [
    {
     "name": "stdout",
     "output_type": "stream",
     "text": [
      "[[ 5  6  7  8  9]\n",
      " [ 0  1  2  3  4]\n",
      " [10 11 12 13 14]\n",
      " [15 16 17 18 19]\n",
      " [20 21 22 23 24]]\n"
     ]
    }
   ],
   "source": [
    "A = np.arange(25).reshape(5,5)\n",
    "A[[0,1]] = A[[1,0]]\n",
    "print(A)"
   ]
  },
  {
   "cell_type": "markdown",
   "metadata": {},
   "source": [
    "#### 73. Consider a set of 10 triplets describing 10 triangles (with shared vertices), find the set of unique line segments composing all the  triangles (★★★) \n",
    "(**hint**: repeat, np.roll, np.sort, view, np.unique)"
   ]
  },
  {
   "cell_type": "code",
   "execution_count": 98,
   "metadata": {},
   "outputs": [
    {
     "name": "stdout",
     "output_type": "stream",
     "text": [
      "[( 5, 69) ( 5, 73) ( 6, 39) ( 6, 96) ( 8, 10) ( 8, 82) (10, 82) (14, 23)\n",
      " (14, 27) (19, 42) (19, 88) (23, 27) (26, 52) (26, 64) (30, 31) (30, 78)\n",
      " (31, 78) (35, 82) (37, 62) (37, 68) (39, 96) (42, 66) (42, 88) (42, 97)\n",
      " (52, 64) (62, 68) (66, 97) (69, 73) (82, 82)]\n"
     ]
    }
   ],
   "source": [
    "faces = np.random.randint(0,100,(10,3))\n",
    "F = np.roll(faces.repeat(2,axis=1),-1,axis=1)\n",
    "F = F.reshape(len(F)*3,2)\n",
    "F = np.sort(F,axis=1)\n",
    "G = F.view( dtype=[('p0',F.dtype),('p1',F.dtype)] )\n",
    "G = np.unique(G)\n",
    "print(G)"
   ]
  },
  {
   "cell_type": "markdown",
   "metadata": {},
   "source": [
    "#### 74. Given an array C that is a bincount, how to produce an array A such that np.bincount(A) == C? (★★★) \n",
    "(**hint**: np.repeat)"
   ]
  },
  {
   "cell_type": "code",
   "execution_count": 99,
   "metadata": {},
   "outputs": [
    {
     "name": "stdout",
     "output_type": "stream",
     "text": [
      "[1 1 2 3 4 4 6]\n"
     ]
    }
   ],
   "source": [
    "C = np.bincount([1,1,2,3,4,4,6])\n",
    "A = np.repeat(np.arange(len(C)), C)\n",
    "print(A)"
   ]
  },
  {
   "cell_type": "markdown",
   "metadata": {},
   "source": [
    "#### 75. How to compute averages using a sliding window over an array? (★★★) \n",
    "(**hint**: np.cumsum)"
   ]
  },
  {
   "cell_type": "code",
   "execution_count": 100,
   "metadata": {},
   "outputs": [
    {
     "name": "stdout",
     "output_type": "stream",
     "text": [
      "[ 1.  2.  3.  4.  5.  6.  7.  8.  9. 10. 11. 12. 13. 14. 15. 16. 17. 18.]\n"
     ]
    }
   ],
   "source": [
    "def moving_average(a, n=3) :\n",
    "    ret = np.cumsum(a, dtype=float)\n",
    "    ret[n:] = ret[n:] - ret[:-n]\n",
    "    return ret[n - 1:] / n\n",
    "Z = np.arange(20)\n",
    "print(moving_average(Z, n=3))"
   ]
  },
  {
   "cell_type": "markdown",
   "metadata": {},
   "source": [
    "#### 76. Consider a one-dimensional array Z, build a two-dimensional array whose first row is (Z\\[0\\],Z\\[1\\],Z\\[2\\]) and each subsequent row is  shifted by 1 (last row should be (Z\\[-3\\],Z\\[-2\\],Z\\[-1\\]) (★★★) \n",
    "(**hint**: from numpy.lib import stride_tricks)"
   ]
  },
  {
   "cell_type": "code",
   "execution_count": 101,
   "metadata": {},
   "outputs": [
    {
     "name": "stdout",
     "output_type": "stream",
     "text": [
      "[[0 1 2]\n",
      " [1 2 3]\n",
      " [2 3 4]\n",
      " [3 4 5]\n",
      " [4 5 6]\n",
      " [5 6 7]\n",
      " [6 7 8]\n",
      " [7 8 9]]\n"
     ]
    }
   ],
   "source": [
    "from numpy.lib import stride_tricks\n",
    "\n",
    "def rolling(a, window):\n",
    "    shape = (a.size - window + 1, window)\n",
    "    strides = (a.strides[0], a.strides[0])\n",
    "    return stride_tricks.as_strided(a, shape=shape, strides=strides)\n",
    "Z = rolling(np.arange(10), 3)\n",
    "print(Z)"
   ]
  },
  {
   "cell_type": "markdown",
   "metadata": {},
   "source": [
    "#### 77. How to negate a boolean, or to change the sign of a float inplace? (★★★) \n",
    "(**hint**: np.logical_not, np.negative)"
   ]
  },
  {
   "cell_type": "code",
   "execution_count": 102,
   "metadata": {},
   "outputs": [
    {
     "name": "stdout",
     "output_type": "stream",
     "text": [
      "[1 0 0 0 1 1 0 0 0 0 1 1 1 0 0 1 0 0 0 1 0 0 1 1 1 1 1 1 1 0 1 0 0 0 0 0 0\n",
      " 1 1 1 0 0 1 1 0 0 0 1 0 1 1 1 0 1 0 0 0 1 1 1 0 0 0 1 1 0 1 1 1 1 1 1 1 0\n",
      " 1 0 0 0 1 1 0 1 1 0 1 1 1 1 0 0 0 0 1 0 1 0 1 1 1 0]\n",
      "[-6.67039376e-01  5.26689205e-02  2.07858572e-01  9.43405678e-01\n",
      "  3.20686093e-02 -3.98804589e-01  7.21689076e-01 -6.18546719e-01\n",
      " -7.67111504e-01  2.02693246e-01  3.06267355e-01 -1.81544880e-01\n",
      " -4.64131229e-01  4.52828281e-01  5.49064241e-01  3.58981879e-01\n",
      " -4.24775698e-01  3.76449266e-02  3.60150741e-01 -1.94205503e-01\n",
      "  1.70405550e-01 -6.08962874e-01  1.70742916e-01  9.81694369e-01\n",
      " -2.95819180e-01  9.85015053e-01 -3.36449749e-01 -9.65231734e-01\n",
      " -2.54508905e-01 -9.96929918e-01 -9.42998340e-01  4.48947463e-01\n",
      "  8.13114319e-01 -1.55171455e-01  8.41188034e-01 -9.44728710e-01\n",
      " -5.74018240e-01  4.48132133e-01  5.82799877e-01  4.20862387e-01\n",
      "  3.71612056e-01 -9.05982960e-01 -6.73632072e-01 -7.17406667e-01\n",
      "  3.86324283e-01 -6.08825510e-02 -2.38597349e-01 -4.48496904e-01\n",
      " -3.53529355e-01 -4.96068086e-02  8.22037317e-01 -9.43869314e-01\n",
      "  7.90020616e-01  5.30978110e-01 -5.44083754e-01 -6.06729650e-01\n",
      "  4.20174903e-01 -5.50778847e-01  9.01680659e-01  4.80438375e-01\n",
      "  4.74691184e-01  2.30557869e-05 -6.76316805e-01  8.66167766e-01\n",
      "  7.13991624e-01  5.60656993e-01 -4.54230102e-01 -7.92046973e-01\n",
      " -2.18802832e-01  1.70910710e-01  3.65854997e-01 -5.88360501e-01\n",
      " -4.36302241e-01  6.38098995e-01  6.08513834e-01 -4.75883301e-01\n",
      " -2.07414631e-01 -1.58559312e-01 -7.39438774e-01 -2.70249583e-01\n",
      "  3.14120750e-01  5.86319112e-01  1.88629484e-02 -5.03541491e-01\n",
      " -1.63634520e-01 -4.94724624e-01  5.49925148e-01 -8.44075173e-01\n",
      " -9.35686760e-01 -5.30619358e-01  2.65723383e-01 -7.96454052e-01\n",
      " -4.96199612e-01  2.65975948e-01  4.50334182e-01 -9.59386320e-02\n",
      "  5.24510546e-01  5.82226831e-01  5.59212493e-01  5.52075192e-01]\n"
     ]
    }
   ],
   "source": [
    "Z = np.random.randint(0,2,100)\n",
    "print(np.logical_not(Z, out=Z))\n",
    "\n",
    "Z = np.random.uniform(-1.0,1.0,100)\n",
    "print(np.negative(Z, out=Z))"
   ]
  },
  {
   "cell_type": "markdown",
   "metadata": {},
   "source": [
    "#### 78. Consider 2 sets of points P0,P1 describing lines (2d) and a point p, how to compute distance from p to each line i  (P0\\[i\\],P1\\[i\\])? (★★★)"
   ]
  },
  {
   "cell_type": "code",
   "execution_count": 103,
   "metadata": {},
   "outputs": [
    {
     "name": "stdout",
     "output_type": "stream",
     "text": [
      "[ 4.92828157  4.44883806  7.32616175  2.55906636  8.29499934 10.11075055\n",
      "  7.48120084  7.9808182   6.06627577  0.26889151]\n"
     ]
    }
   ],
   "source": [
    "def distance(P0, P1, p):\n",
    "    T = P1 - P0\n",
    "    L = (T**2).sum(axis=1)\n",
    "    U = -((P0[:,0]-p[...,0])*T[:,0] + (P0[:,1]-p[...,1])*T[:,1]) / L\n",
    "    U = U.reshape(len(U),1)\n",
    "    D = P0 + U*T - p\n",
    "    return np.sqrt((D**2).sum(axis=1))\n",
    "\n",
    "P0 = np.random.uniform(-10,10,(10,2))\n",
    "P1 = np.random.uniform(-10,10,(10,2))\n",
    "p  = np.random.uniform(-10,10,( 1,2))\n",
    "print(distance(P0, P1, p))"
   ]
  },
  {
   "cell_type": "markdown",
   "metadata": {},
   "source": [
    "#### 79. Consider 2 sets of points P0,P1 describing lines (2d) and a set of points P, how to compute distance from each point j (P\\[j\\]) to each line i (P0\\[i\\],P1\\[i\\])? (★★★)"
   ]
  },
  {
   "cell_type": "code",
   "execution_count": 104,
   "metadata": {},
   "outputs": [
    {
     "name": "stdout",
     "output_type": "stream",
     "text": [
      "[[ 0.67478413  7.52552649  5.19543906  5.786248    2.59359958  6.98103205\n",
      "  11.61431438  7.60217169  3.41329924  0.05476043]\n",
      " [13.48637547  9.28219953  6.4591483  10.56709418  3.54581622  4.1183942\n",
      "   6.95995142  2.87215702 14.89334582  9.45326248]\n",
      " [ 4.74881778 11.80242376  0.44709492  4.01911927  6.61432371  4.98814993\n",
      "   6.54190219  6.1028696   5.7379631   0.80274092]\n",
      " [ 8.79141611  4.18943688  0.12878699 12.74856677  1.25171395  1.88956239\n",
      "  12.96391844  1.22513635 12.27286878  8.69012399]\n",
      " [ 4.25616356  2.59441125  4.76127648 11.91656825  2.56187117  1.63739911\n",
      "  15.55175344  2.00338594  8.55601152  5.9495417 ]\n",
      " [ 4.73859481  3.59596481  7.5807128  17.62813147  8.78193516  1.36625289\n",
      "  21.42110538  1.47277194 11.2193867  10.07374617]\n",
      " [ 4.34777977 14.10399358  1.30953282  1.78597855  8.94084752  6.30950989\n",
      "   4.41085491  7.59150046  4.53825449  0.91156311]\n",
      " [ 0.96451887  5.69942945  5.90356188  7.54398484  0.74949002  5.95891101\n",
      "  13.31168436  6.44625661  4.33827622  1.3916877 ]\n",
      " [ 0.56907699 10.7806463   4.54293166  2.29336615  5.92649203  9.47442177\n",
      "   8.7565555  10.3064737   1.077117    2.92210113]\n",
      " [13.1932612   7.78950668  5.43606467 11.74190431  2.07166875  4.4647417\n",
      "   8.46974363  3.34796671 15.14865978 10.11354001]]\n"
     ]
    }
   ],
   "source": [
    "P0 = np.random.uniform(-10, 10, (10,2))\n",
    "P1 = np.random.uniform(-10,10,(10,2))\n",
    "p = np.random.uniform(-10, 10, (10,2))\n",
    "print(np.array([distance(P0,P1,p_i) for p_i in p]))"
   ]
  },
  {
   "cell_type": "markdown",
   "metadata": {},
   "source": [
    "#### 80. Consider an arbitrary array, write a function that extract a subpart with a fixed shape and centered on a given element (pad with a `fill` value when necessary) (★★★) \n",
    "(**hint**: minimum, maximum)"
   ]
  },
  {
   "cell_type": "code",
   "execution_count": 105,
   "metadata": {},
   "outputs": [
    {
     "name": "stdout",
     "output_type": "stream",
     "text": [
      "[[2 2 3 1 1 3 5 4 4 7]\n",
      " [7 6 8 5 0 0 3 6 1 0]\n",
      " [7 8 6 8 0 4 7 3 1 3]\n",
      " [9 7 6 6 2 2 0 1 8 3]\n",
      " [8 3 9 0 8 8 9 8 9 6]\n",
      " [8 8 4 2 2 2 4 8 4 4]\n",
      " [1 7 6 6 0 5 2 1 3 3]\n",
      " [4 1 8 3 0 9 2 9 0 1]\n",
      " [2 8 6 2 3 8 4 7 8 6]\n",
      " [8 1 6 3 6 5 1 3 2 9]]\n",
      "[[0 0 0 0 0]\n",
      " [0 2 2 3 1]\n",
      " [0 7 6 8 5]\n",
      " [0 7 8 6 8]\n",
      " [0 9 7 6 6]]\n"
     ]
    },
    {
     "name": "stderr",
     "output_type": "stream",
     "text": [
      "C:\\Users\\PandiyaDS\\AppData\\Local\\Temp\\ipykernel_17608\\1159162857.py:23: FutureWarning: Using a non-tuple sequence for multidimensional indexing is deprecated; use `arr[tuple(seq)]` instead of `arr[seq]`. In the future this will be interpreted as an array index, `arr[np.array(seq)]`, which will result either in an error or a different result.\n",
      "  R[r] = Z[z]\n"
     ]
    }
   ],
   "source": [
    "Z = np.random.randint(0,10,(10,10))\n",
    "shape = (5,5)\n",
    "fill  = 0\n",
    "position = (1,1)\n",
    "\n",
    "R = np.ones(shape, dtype=Z.dtype)*fill\n",
    "P  = np.array(list(position)).astype(int)\n",
    "Rs = np.array(list(R.shape)).astype(int)\n",
    "Zs = np.array(list(Z.shape)).astype(int)\n",
    "\n",
    "R_start = np.zeros((len(shape),)).astype(int)\n",
    "R_stop  = np.array(list(shape)).astype(int)\n",
    "Z_start = (P-Rs//2)\n",
    "Z_stop  = (P+Rs//2)+Rs%2\n",
    "\n",
    "R_start = (R_start - np.minimum(Z_start,0)).tolist()\n",
    "Z_start = (np.maximum(Z_start,0)).tolist()\n",
    "R_stop = np.maximum(R_start, (R_stop - np.maximum(Z_stop-Zs,0))).tolist()\n",
    "Z_stop = (np.minimum(Z_stop,Zs)).tolist()\n",
    "\n",
    "r = [slice(start,stop) for start,stop in zip(R_start,R_stop)]\n",
    "z = [slice(start,stop) for start,stop in zip(Z_start,Z_stop)]\n",
    "R[r] = Z[z]\n",
    "print(Z)\n",
    "print(R)"
   ]
  },
  {
   "cell_type": "markdown",
   "metadata": {},
   "source": [
    "#### 81. Consider an array Z = \\[1,2,3,4,5,6,7,8,9,10,11,12,13,14\\], how to generate an array R = \\[\\[1,2,3,4\\], \\[2,3,4,5\\], \\[3,4,5,6\\], ..., \\[11,12,13,14\\]\\]? (★★★) \n",
    "(**hint**: stride\\_tricks.as\\_strided)"
   ]
  },
  {
   "cell_type": "code",
   "execution_count": 106,
   "metadata": {},
   "outputs": [
    {
     "name": "stdout",
     "output_type": "stream",
     "text": [
      "[[ 1  2  3  4]\n",
      " [ 2  3  4  5]\n",
      " [ 3  4  5  6]\n",
      " [ 4  5  6  7]\n",
      " [ 5  6  7  8]\n",
      " [ 6  7  8  9]\n",
      " [ 7  8  9 10]\n",
      " [ 8  9 10 11]\n",
      " [ 9 10 11 12]\n",
      " [10 11 12 13]\n",
      " [11 12 13 14]]\n"
     ]
    }
   ],
   "source": [
    "Z = np.arange(1,15,dtype=np.uint32)\n",
    "R = stride_tricks.as_strided(Z,(11,4),(4,4))\n",
    "print(R)"
   ]
  },
  {
   "cell_type": "markdown",
   "metadata": {},
   "source": [
    "#### 82. Compute a matrix rank (★★★) \n",
    "(**hint**: np.linalg.svd) (suggestion: np.linalg.svd)"
   ]
  },
  {
   "cell_type": "code",
   "execution_count": 107,
   "metadata": {},
   "outputs": [
    {
     "name": "stdout",
     "output_type": "stream",
     "text": [
      "10\n"
     ]
    }
   ],
   "source": [
    "Z = np.random.uniform(0,1,(10,10))\n",
    "U, S, V = np.linalg.svd(Z)\n",
    "rank = np.sum(S > 1e-10)\n",
    "print(rank)"
   ]
  },
  {
   "cell_type": "markdown",
   "metadata": {},
   "source": [
    "#### 83. How to find the most frequent value in an array? \n",
    "(**hint**: np.bincount, argmax)"
   ]
  },
  {
   "cell_type": "code",
   "execution_count": 108,
   "metadata": {},
   "outputs": [
    {
     "name": "stdout",
     "output_type": "stream",
     "text": [
      "7\n"
     ]
    }
   ],
   "source": [
    "Z = np.random.randint(0,10,50)\n",
    "print(np.bincount(Z).argmax())"
   ]
  },
  {
   "cell_type": "markdown",
   "metadata": {},
   "source": [
    "#### 84. Extract all the contiguous 3x3 blocks from a random 10x10 matrix (★★★) \n",
    "(**hint**: stride\\_tricks.as\\_strided)"
   ]
  },
  {
   "cell_type": "code",
   "execution_count": 109,
   "metadata": {},
   "outputs": [
    {
     "name": "stdout",
     "output_type": "stream",
     "text": [
      "[[[[1 0 0]\n",
      "   [4 1 0]\n",
      "   [4 2 1]]\n",
      "\n",
      "  [[0 0 1]\n",
      "   [1 0 0]\n",
      "   [2 1 4]]\n",
      "\n",
      "  [[0 1 0]\n",
      "   [0 0 0]\n",
      "   [1 4 1]]\n",
      "\n",
      "  [[1 0 2]\n",
      "   [0 0 0]\n",
      "   [4 1 3]]\n",
      "\n",
      "  [[0 2 4]\n",
      "   [0 0 4]\n",
      "   [1 3 1]]\n",
      "\n",
      "  [[2 4 1]\n",
      "   [0 4 3]\n",
      "   [3 1 1]]\n",
      "\n",
      "  [[4 1 3]\n",
      "   [4 3 1]\n",
      "   [1 1 0]]\n",
      "\n",
      "  [[1 3 4]\n",
      "   [3 1 1]\n",
      "   [1 0 0]]]\n",
      "\n",
      "\n",
      " [[[4 1 0]\n",
      "   [4 2 1]\n",
      "   [2 1 1]]\n",
      "\n",
      "  [[1 0 0]\n",
      "   [2 1 4]\n",
      "   [1 1 4]]\n",
      "\n",
      "  [[0 0 0]\n",
      "   [1 4 1]\n",
      "   [1 4 1]]\n",
      "\n",
      "  [[0 0 0]\n",
      "   [4 1 3]\n",
      "   [4 1 0]]\n",
      "\n",
      "  [[0 0 4]\n",
      "   [1 3 1]\n",
      "   [1 0 1]]\n",
      "\n",
      "  [[0 4 3]\n",
      "   [3 1 1]\n",
      "   [0 1 3]]\n",
      "\n",
      "  [[4 3 1]\n",
      "   [1 1 0]\n",
      "   [1 3 4]]\n",
      "\n",
      "  [[3 1 1]\n",
      "   [1 0 0]\n",
      "   [3 4 1]]]\n",
      "\n",
      "\n",
      " [[[4 2 1]\n",
      "   [2 1 1]\n",
      "   [1 1 3]]\n",
      "\n",
      "  [[2 1 4]\n",
      "   [1 1 4]\n",
      "   [1 3 3]]\n",
      "\n",
      "  [[1 4 1]\n",
      "   [1 4 1]\n",
      "   [3 3 0]]\n",
      "\n",
      "  [[4 1 3]\n",
      "   [4 1 0]\n",
      "   [3 0 4]]\n",
      "\n",
      "  [[1 3 1]\n",
      "   [1 0 1]\n",
      "   [0 4 1]]\n",
      "\n",
      "  [[3 1 1]\n",
      "   [0 1 3]\n",
      "   [4 1 2]]\n",
      "\n",
      "  [[1 1 0]\n",
      "   [1 3 4]\n",
      "   [1 2 4]]\n",
      "\n",
      "  [[1 0 0]\n",
      "   [3 4 1]\n",
      "   [2 4 0]]]\n",
      "\n",
      "\n",
      " [[[2 1 1]\n",
      "   [1 1 3]\n",
      "   [4 0 0]]\n",
      "\n",
      "  [[1 1 4]\n",
      "   [1 3 3]\n",
      "   [0 0 2]]\n",
      "\n",
      "  [[1 4 1]\n",
      "   [3 3 0]\n",
      "   [0 2 0]]\n",
      "\n",
      "  [[4 1 0]\n",
      "   [3 0 4]\n",
      "   [2 0 1]]\n",
      "\n",
      "  [[1 0 1]\n",
      "   [0 4 1]\n",
      "   [0 1 3]]\n",
      "\n",
      "  [[0 1 3]\n",
      "   [4 1 2]\n",
      "   [1 3 0]]\n",
      "\n",
      "  [[1 3 4]\n",
      "   [1 2 4]\n",
      "   [3 0 3]]\n",
      "\n",
      "  [[3 4 1]\n",
      "   [2 4 0]\n",
      "   [0 3 2]]]\n",
      "\n",
      "\n",
      " [[[1 1 3]\n",
      "   [4 0 0]\n",
      "   [4 4 4]]\n",
      "\n",
      "  [[1 3 3]\n",
      "   [0 0 2]\n",
      "   [4 4 2]]\n",
      "\n",
      "  [[3 3 0]\n",
      "   [0 2 0]\n",
      "   [4 2 3]]\n",
      "\n",
      "  [[3 0 4]\n",
      "   [2 0 1]\n",
      "   [2 3 0]]\n",
      "\n",
      "  [[0 4 1]\n",
      "   [0 1 3]\n",
      "   [3 0 2]]\n",
      "\n",
      "  [[4 1 2]\n",
      "   [1 3 0]\n",
      "   [0 2 1]]\n",
      "\n",
      "  [[1 2 4]\n",
      "   [3 0 3]\n",
      "   [2 1 2]]\n",
      "\n",
      "  [[2 4 0]\n",
      "   [0 3 2]\n",
      "   [1 2 2]]]\n",
      "\n",
      "\n",
      " [[[4 0 0]\n",
      "   [4 4 4]\n",
      "   [4 1 2]]\n",
      "\n",
      "  [[0 0 2]\n",
      "   [4 4 2]\n",
      "   [1 2 3]]\n",
      "\n",
      "  [[0 2 0]\n",
      "   [4 2 3]\n",
      "   [2 3 3]]\n",
      "\n",
      "  [[2 0 1]\n",
      "   [2 3 0]\n",
      "   [3 3 1]]\n",
      "\n",
      "  [[0 1 3]\n",
      "   [3 0 2]\n",
      "   [3 1 0]]\n",
      "\n",
      "  [[1 3 0]\n",
      "   [0 2 1]\n",
      "   [1 0 3]]\n",
      "\n",
      "  [[3 0 3]\n",
      "   [2 1 2]\n",
      "   [0 3 4]]\n",
      "\n",
      "  [[0 3 2]\n",
      "   [1 2 2]\n",
      "   [3 4 4]]]\n",
      "\n",
      "\n",
      " [[[4 4 4]\n",
      "   [4 1 2]\n",
      "   [3 2 4]]\n",
      "\n",
      "  [[4 4 2]\n",
      "   [1 2 3]\n",
      "   [2 4 4]]\n",
      "\n",
      "  [[4 2 3]\n",
      "   [2 3 3]\n",
      "   [4 4 0]]\n",
      "\n",
      "  [[2 3 0]\n",
      "   [3 3 1]\n",
      "   [4 0 2]]\n",
      "\n",
      "  [[3 0 2]\n",
      "   [3 1 0]\n",
      "   [0 2 1]]\n",
      "\n",
      "  [[0 2 1]\n",
      "   [1 0 3]\n",
      "   [2 1 2]]\n",
      "\n",
      "  [[2 1 2]\n",
      "   [0 3 4]\n",
      "   [1 2 0]]\n",
      "\n",
      "  [[1 2 2]\n",
      "   [3 4 4]\n",
      "   [2 0 4]]]\n",
      "\n",
      "\n",
      " [[[4 1 2]\n",
      "   [3 2 4]\n",
      "   [3 1 1]]\n",
      "\n",
      "  [[1 2 3]\n",
      "   [2 4 4]\n",
      "   [1 1 3]]\n",
      "\n",
      "  [[2 3 3]\n",
      "   [4 4 0]\n",
      "   [1 3 1]]\n",
      "\n",
      "  [[3 3 1]\n",
      "   [4 0 2]\n",
      "   [3 1 1]]\n",
      "\n",
      "  [[3 1 0]\n",
      "   [0 2 1]\n",
      "   [1 1 4]]\n",
      "\n",
      "  [[1 0 3]\n",
      "   [2 1 2]\n",
      "   [1 4 3]]\n",
      "\n",
      "  [[0 3 4]\n",
      "   [1 2 0]\n",
      "   [4 3 0]]\n",
      "\n",
      "  [[3 4 4]\n",
      "   [2 0 4]\n",
      "   [3 0 4]]]]\n"
     ]
    }
   ],
   "source": [
    "Z = np.random.randint(0,5,(10,10))\n",
    "n = 3\n",
    "i = 1 + (Z.shape[0]-3)\n",
    "j = 1 + (Z.shape[1]-3)\n",
    "C = stride_tricks.as_strided(Z, shape=(i, j, n, n), strides=Z.strides + Z.strides)\n",
    "print(C)"
   ]
  },
  {
   "cell_type": "markdown",
   "metadata": {},
   "source": [
    "#### 85. Create a 2D array subclass such that Z\\[i,j\\] == Z\\[j,i\\] (★★★) \n",
    "(**hint**: class method)"
   ]
  },
  {
   "cell_type": "code",
   "execution_count": 110,
   "metadata": {},
   "outputs": [
    {
     "name": "stdout",
     "output_type": "stream",
     "text": [
      "[[ 3 11  1  7  4]\n",
      " [11  4 14  9 11]\n",
      " [ 1 14  6 42  6]\n",
      " [ 7  9 42  3 11]\n",
      " [ 4 11  6 11  4]]\n"
     ]
    }
   ],
   "source": [
    "class Symetric(np.ndarray):\n",
    "    def __setitem__(self, index, value):\n",
    "        i,j = index\n",
    "        super(Symetric, self).__setitem__((i,j), value)\n",
    "        super(Symetric, self).__setitem__((j,i), value)\n",
    "\n",
    "def symetric(Z):\n",
    "    return np.asarray(Z + Z.T - np.diag(Z.diagonal())).view(Symetric)\n",
    "\n",
    "S = symetric(np.random.randint(0,10,(5,5)))\n",
    "S[2,3] = 42\n",
    "print(S)"
   ]
  },
  {
   "cell_type": "markdown",
   "metadata": {},
   "source": [
    "#### 86. Consider a set of p matrices wich shape (n,n) and a set of p vectors with shape (n,1). How to compute the sum of of the p matrix products at once? (result has shape (n,1)) (★★★) \n",
    "(**hint**: np.tensordot)"
   ]
  },
  {
   "cell_type": "code",
   "execution_count": 111,
   "metadata": {},
   "outputs": [
    {
     "name": "stdout",
     "output_type": "stream",
     "text": [
      "[[200.]\n",
      " [200.]\n",
      " [200.]\n",
      " [200.]\n",
      " [200.]\n",
      " [200.]\n",
      " [200.]\n",
      " [200.]\n",
      " [200.]\n",
      " [200.]\n",
      " [200.]\n",
      " [200.]\n",
      " [200.]\n",
      " [200.]\n",
      " [200.]\n",
      " [200.]\n",
      " [200.]\n",
      " [200.]\n",
      " [200.]\n",
      " [200.]]\n"
     ]
    }
   ],
   "source": [
    "p, n = 10, 20\n",
    "M = np.ones((p,n,n))\n",
    "V = np.ones((p,n,1))\n",
    "S = np.tensordot(M, V, axes=[[0, 2], [0, 1]])\n",
    "print(S)"
   ]
  },
  {
   "cell_type": "markdown",
   "metadata": {},
   "source": [
    "#### 87. Consider a 16x16 array, how to get the block-sum (block size is 4x4)? (★★★) \n",
    "(**hint**: np.add.reduceat)"
   ]
  },
  {
   "cell_type": "code",
   "execution_count": 112,
   "metadata": {},
   "outputs": [
    {
     "name": "stdout",
     "output_type": "stream",
     "text": [
      "[[16. 16. 16. 16.]\n",
      " [16. 16. 16. 16.]\n",
      " [16. 16. 16. 16.]\n",
      " [16. 16. 16. 16.]]\n"
     ]
    }
   ],
   "source": [
    "Z = np.ones((16,16))\n",
    "k = 4\n",
    "S = np.add.reduceat(np.add.reduceat(Z, np.arange(0, Z.shape[0], k), axis=0),\n",
    "                                       np.arange(0, Z.shape[1], k), axis=1)\n",
    "print(S)"
   ]
  },
  {
   "cell_type": "markdown",
   "metadata": {},
   "source": [
    "#### 88. How to implement the Game of Life using numpy arrays? (★★★)"
   ]
  },
  {
   "cell_type": "code",
   "execution_count": 113,
   "metadata": {},
   "outputs": [
    {
     "name": "stdout",
     "output_type": "stream",
     "text": [
      "[[0 0 0 0 0 0 0 0 0 0 0 0 0 0 0 0 0 0 0 0 0 0 0 0 0 0 0 0 0 0 0 0 0 0 0 0\n",
      "  0 0 0 0 0 0 0 0 0 0 0 0 0 0]\n",
      " [0 0 0 0 0 0 0 0 0 0 0 0 0 0 0 0 0 0 0 0 0 0 0 0 0 0 0 0 0 0 1 0 0 0 0 0\n",
      "  0 0 0 0 0 0 0 0 0 0 0 0 0 0]\n",
      " [0 0 0 0 0 0 0 0 0 0 0 0 0 0 0 0 0 0 0 0 0 0 0 0 0 0 0 0 0 0 0 1 1 0 0 0\n",
      "  0 0 0 0 0 0 0 0 0 0 0 0 0 0]\n",
      " [0 0 0 0 0 0 0 0 0 0 0 0 0 0 0 0 0 0 0 0 0 0 0 0 0 0 0 0 0 0 0 0 1 0 0 0\n",
      "  0 0 0 0 0 0 0 0 0 0 0 1 0 0]\n",
      " [0 0 0 0 0 0 0 0 0 0 0 0 0 0 0 0 0 0 0 0 0 0 0 0 0 0 0 0 0 0 1 1 1 0 0 0\n",
      "  0 0 0 0 0 0 0 0 0 0 1 0 1 0]\n",
      " [0 0 0 0 0 0 0 0 0 0 0 0 0 0 0 0 0 0 0 0 0 0 0 0 0 0 0 0 0 0 0 0 0 0 0 0\n",
      "  0 0 0 0 0 0 0 0 0 0 0 1 1 0]\n",
      " [0 0 0 0 0 0 0 0 0 0 0 0 0 0 0 0 0 0 0 0 0 0 0 0 0 0 0 0 0 0 0 0 0 0 0 0\n",
      "  0 0 0 0 0 0 0 0 0 0 0 0 0 0]\n",
      " [0 0 0 0 0 0 0 0 0 0 1 0 0 0 0 0 0 0 0 0 0 0 0 0 0 0 0 0 0 0 0 0 0 0 1 0\n",
      "  0 0 0 0 0 0 0 0 0 0 0 0 0 0]\n",
      " [0 0 0 0 0 1 0 0 0 1 0 1 0 0 0 0 0 0 0 0 0 0 0 0 0 0 0 0 0 0 0 0 0 0 1 0\n",
      "  0 0 0 0 0 0 0 0 0 0 0 0 0 0]\n",
      " [0 0 0 0 0 1 0 0 0 1 0 0 1 0 0 0 0 0 0 0 0 0 0 0 0 0 0 0 0 0 0 0 0 0 1 0\n",
      "  0 0 0 0 0 0 0 0 0 0 0 0 0 0]\n",
      " [0 0 0 0 0 1 0 0 0 0 1 1 0 0 0 0 0 0 0 0 0 0 0 0 0 0 1 0 0 0 0 0 0 0 0 0\n",
      "  0 0 0 0 0 0 0 0 0 0 0 0 0 0]\n",
      " [0 0 0 0 0 0 0 0 0 0 0 0 0 0 0 0 0 0 0 0 0 0 0 0 0 0 1 1 0 0 0 0 0 0 0 0\n",
      "  0 0 0 0 0 0 0 0 0 0 0 0 0 0]\n",
      " [0 0 0 0 1 1 0 0 0 0 0 0 0 0 0 0 0 0 0 0 0 0 0 0 0 1 0 0 1 0 0 0 0 0 0 0\n",
      "  0 0 0 1 1 1 0 0 0 0 0 0 0 0]\n",
      " [0 0 0 1 1 0 0 0 1 0 0 0 0 0 0 0 1 1 1 0 0 0 0 0 0 0 0 0 0 0 0 0 0 0 0 0\n",
      "  0 0 0 1 1 1 0 0 0 0 0 0 0 0]\n",
      " [0 0 1 0 0 0 1 0 1 1 0 0 0 0 0 1 1 1 1 0 0 0 0 0 0 0 0 0 0 0 0 0 0 0 0 0\n",
      "  0 0 0 0 1 1 1 1 0 0 0 0 0 0]\n",
      " [0 0 1 0 0 0 0 0 1 0 0 0 0 0 1 1 1 0 1 1 0 0 0 0 0 0 0 1 0 0 1 0 0 0 0 0\n",
      "  1 0 1 0 0 0 1 0 0 0 0 0 0 0]\n",
      " [0 0 0 1 0 0 0 1 0 0 0 0 0 0 0 0 1 0 0 0 0 0 0 0 0 0 0 0 0 0 1 0 0 0 0 0\n",
      "  1 0 0 1 1 0 1 0 0 0 0 0 0 0]\n",
      " [0 0 0 1 0 0 0 1 0 0 0 1 0 1 1 1 0 0 0 0 0 0 0 0 0 0 0 0 1 1 1 0 0 0 0 0\n",
      "  1 0 0 1 1 0 0 0 0 0 0 0 0 0]\n",
      " [0 0 0 0 0 0 0 0 0 0 1 0 0 0 0 0 1 0 0 0 0 0 0 0 0 0 0 0 0 0 0 0 0 0 0 0\n",
      "  0 0 1 0 1 1 0 0 1 0 1 0 0 0]\n",
      " [0 0 0 1 0 0 1 0 0 0 0 1 1 1 1 0 0 0 0 0 1 0 0 0 0 0 0 0 0 0 0 0 0 0 0 1\n",
      "  0 0 0 0 1 0 0 0 0 0 1 0 0 0]\n",
      " [0 0 0 0 1 1 0 0 1 0 0 0 1 0 1 0 1 0 1 1 1 1 0 0 0 0 0 0 0 0 0 0 0 0 1 0\n",
      "  1 0 0 0 0 1 1 1 0 1 1 0 0 0]\n",
      " [0 0 0 0 0 0 0 0 1 0 0 0 0 0 0 1 1 0 1 0 0 0 0 0 0 0 0 0 0 1 1 0 1 0 0 0\n",
      "  0 1 0 0 0 0 0 0 0 0 1 1 0 0]\n",
      " [0 0 0 0 0 0 0 0 1 0 0 0 0 0 0 0 0 0 0 0 1 0 0 0 0 0 0 0 1 1 1 0 0 0 0 0\n",
      "  1 0 0 0 0 0 0 0 0 0 1 0 1 0]\n",
      " [0 0 0 0 0 0 0 0 0 0 0 0 0 0 0 0 0 1 0 1 0 0 0 0 0 1 0 0 0 0 0 0 1 0 0 1\n",
      "  0 0 0 0 0 0 0 0 0 0 0 0 1 0]\n",
      " [0 0 0 0 0 0 0 0 0 0 0 0 0 0 0 0 0 0 1 0 0 0 0 0 0 0 0 0 1 1 1 1 0 0 0 0\n",
      "  0 0 0 0 0 0 0 0 0 0 0 0 0 0]\n",
      " [0 0 0 0 0 0 0 0 0 0 0 0 0 0 0 0 0 0 0 0 0 0 0 1 0 0 0 0 0 0 1 0 0 0 0 0\n",
      "  0 0 0 0 0 0 1 1 1 0 0 0 0 0]\n",
      " [0 0 0 0 0 0 0 0 0 0 0 0 0 0 0 0 0 0 0 0 0 0 0 1 0 0 1 0 1 0 1 0 0 0 0 0\n",
      "  0 0 0 0 0 0 0 0 0 0 0 0 0 0]\n",
      " [0 0 0 0 0 0 0 0 0 0 0 0 0 0 0 0 0 0 0 0 0 0 0 1 0 0 0 0 0 0 1 0 0 1 0 0\n",
      "  0 0 0 0 0 0 0 0 0 0 0 0 0 0]\n",
      " [0 0 0 0 0 0 0 0 0 1 1 0 0 0 0 0 0 0 0 0 0 0 0 0 0 0 0 0 0 0 0 1 1 0 1 0\n",
      "  0 0 0 0 0 0 0 0 0 0 0 0 0 0]\n",
      " [0 0 0 0 0 0 0 0 0 0 0 0 1 0 0 0 0 0 0 0 0 0 1 0 0 1 1 0 0 0 0 0 1 1 0 0\n",
      "  0 0 0 0 0 0 0 0 0 0 0 0 0 0]\n",
      " [0 0 0 0 0 0 0 0 0 1 0 1 0 0 0 0 0 1 0 0 0 0 1 0 0 0 0 0 1 0 1 1 0 0 0 0\n",
      "  0 0 0 0 0 0 0 0 0 0 0 0 0 0]\n",
      " [0 0 0 0 0 0 0 1 1 0 1 1 0 0 0 0 1 0 1 0 0 0 0 1 0 0 0 0 0 0 0 0 0 0 0 0\n",
      "  0 0 0 0 0 0 0 0 1 1 1 0 0 0]\n",
      " [0 0 0 0 0 0 0 1 0 1 0 1 0 0 0 0 1 1 0 0 0 0 0 0 0 0 0 1 0 0 0 0 1 0 0 0\n",
      "  0 0 0 0 0 0 0 0 1 0 1 0 0 0]\n",
      " [0 0 0 0 0 0 0 1 0 1 0 0 0 0 0 0 0 1 0 0 0 0 0 0 0 0 1 0 1 0 0 0 1 0 0 0\n",
      "  0 0 0 0 0 0 0 0 1 1 1 0 0 0]\n",
      " [0 0 0 0 0 0 0 0 1 1 1 0 0 0 0 0 0 0 0 0 0 0 0 0 0 0 0 0 0 0 0 0 1 0 0 0\n",
      "  0 0 0 0 0 0 0 0 0 0 0 0 0 0]\n",
      " [0 0 0 0 0 0 0 0 0 0 0 0 0 0 0 0 0 0 0 0 0 0 0 0 0 0 1 0 0 1 0 0 1 0 0 0\n",
      "  0 0 0 0 0 0 0 0 0 0 0 0 0 0]\n",
      " [0 0 0 0 0 0 0 0 0 0 0 0 0 0 0 0 0 0 0 0 0 0 0 0 0 0 0 0 0 1 1 1 1 0 0 0\n",
      "  1 0 0 0 0 0 0 0 0 0 0 0 0 0]\n",
      " [0 0 0 0 0 0 0 0 0 0 0 0 0 0 0 0 0 0 0 0 0 0 0 0 0 0 0 0 1 0 1 1 0 0 1 1\n",
      "  0 1 0 0 0 1 0 0 0 0 0 0 0 0]\n",
      " [0 0 0 0 0 0 0 0 0 0 0 0 0 0 0 0 0 0 0 0 0 0 0 0 0 0 0 0 1 0 0 0 0 0 0 1\n",
      "  0 1 0 0 1 0 0 1 0 0 0 0 0 0]\n",
      " [0 0 0 0 0 0 0 0 0 0 0 0 0 0 0 0 0 0 0 0 0 0 0 0 0 0 0 0 0 0 0 0 0 0 0 0\n",
      "  1 0 0 1 1 0 0 1 1 0 0 0 0 0]\n",
      " [0 0 0 0 0 0 0 0 0 0 0 0 0 0 0 0 0 0 0 0 0 0 0 0 0 0 0 0 0 0 0 0 0 0 0 0\n",
      "  0 0 0 0 1 0 1 1 1 0 0 0 0 0]\n",
      " [0 0 0 0 0 0 0 0 0 0 0 0 0 0 0 0 0 0 0 0 0 0 0 0 0 0 0 0 0 0 0 0 0 0 0 0\n",
      "  0 0 0 0 0 1 1 0 0 0 0 0 0 0]\n",
      " [0 0 0 0 0 0 0 0 0 0 0 0 0 0 0 0 0 0 0 0 0 0 0 0 0 0 0 0 0 0 0 0 0 0 0 0\n",
      "  0 0 0 0 0 0 0 0 0 0 0 0 0 0]\n",
      " [0 0 0 0 0 0 0 0 0 0 0 0 0 0 0 0 0 0 0 0 0 0 0 0 0 0 0 0 0 0 0 0 0 0 0 0\n",
      "  0 0 0 0 0 0 0 0 0 0 0 0 0 0]\n",
      " [0 0 0 1 0 0 0 0 0 0 0 0 0 0 0 0 0 0 0 0 0 0 0 0 0 0 0 0 0 0 0 0 0 0 0 0\n",
      "  0 0 0 0 0 0 0 0 0 0 0 0 0 0]\n",
      " [0 0 1 0 1 0 0 0 0 0 0 0 0 0 0 0 0 0 0 0 0 0 0 0 0 0 0 0 0 0 0 0 0 0 0 0\n",
      "  0 0 0 0 0 0 0 0 0 0 0 0 0 0]\n",
      " [0 0 1 0 1 0 0 0 0 0 0 0 0 0 0 0 0 0 0 0 0 0 0 0 0 0 0 0 0 0 0 0 0 0 0 0\n",
      "  0 0 0 0 0 0 0 0 0 0 0 0 0 0]\n",
      " [0 0 0 1 0 0 0 0 0 0 0 0 0 0 0 0 0 0 0 0 0 0 0 0 0 0 0 0 0 0 0 0 0 0 0 0\n",
      "  0 0 0 0 0 0 0 0 0 0 0 0 0 0]\n",
      " [0 0 0 0 0 0 0 0 0 0 0 0 0 0 0 0 0 0 0 0 0 0 0 0 0 0 0 0 0 0 0 0 0 0 0 0\n",
      "  0 0 0 0 0 0 0 0 0 0 0 0 0 0]\n",
      " [0 0 0 0 0 0 0 0 0 0 0 0 0 0 0 0 0 0 0 0 0 0 0 0 0 0 0 0 0 0 0 0 0 0 0 0\n",
      "  0 0 0 0 0 0 0 0 0 0 0 0 0 0]]\n"
     ]
    }
   ],
   "source": [
    "def iterate(Z):\n",
    "    # Count neighbours\n",
    "    N = (Z[0:-2,0:-2] + Z[0:-2,1:-1] + Z[0:-2,2:] +\n",
    "         Z[1:-1,0:-2]                + Z[1:-1,2:] +\n",
    "         Z[2:  ,0:-2] + Z[2:  ,1:-1] + Z[2:  ,2:])\n",
    "\n",
    "    # Apply rules\n",
    "    birth = (N==3) & (Z[1:-1,1:-1]==0)\n",
    "    survive = ((N==2) | (N==3)) & (Z[1:-1,1:-1]==1)\n",
    "    Z[...] = 0\n",
    "    Z[1:-1,1:-1][birth | survive] = 1\n",
    "    return Z\n",
    "\n",
    "Z = np.random.randint(0,2,(50,50))\n",
    "for i in range(100): Z = iterate(Z)\n",
    "print(Z)"
   ]
  },
  {
   "cell_type": "markdown",
   "metadata": {},
   "source": [
    "#### 89. How to get the n largest values of an array (★★★) \n",
    "(**hint**: np.argsort | np.argpartition)"
   ]
  },
  {
   "cell_type": "code",
   "execution_count": 114,
   "metadata": {},
   "outputs": [
    {
     "name": "stdout",
     "output_type": "stream",
     "text": [
      "[9995 9996 9997 9998 9999]\n"
     ]
    }
   ],
   "source": [
    "Z = np.arange(10000)\n",
    "np.random.shuffle(Z)\n",
    "n = 5\n",
    "print (Z[np.argsort(Z)[-n:]])"
   ]
  },
  {
   "cell_type": "markdown",
   "metadata": {},
   "source": [
    "#### 90. Given an arbitrary number of vectors, build the cartesian product (every combinations of every item) (★★★) \n",
    "(**hint**: np.indices)"
   ]
  },
  {
   "cell_type": "code",
   "execution_count": 115,
   "metadata": {
    "scrolled": true
   },
   "outputs": [
    {
     "name": "stdout",
     "output_type": "stream",
     "text": [
      "[[1 4 6]\n",
      " [1 4 7]\n",
      " [1 5 6]\n",
      " [1 5 7]\n",
      " [2 4 6]\n",
      " [2 4 7]\n",
      " [2 5 6]\n",
      " [2 5 7]\n",
      " [3 4 6]\n",
      " [3 4 7]\n",
      " [3 5 6]\n",
      " [3 5 7]]\n"
     ]
    }
   ],
   "source": [
    "def cartesian(arrays):\n",
    "    arrays = [np.asarray(a) for a in arrays]\n",
    "    shape = (len(x) for x in arrays)\n",
    "\n",
    "    ix = np.indices(shape, dtype=int)\n",
    "    ix = ix.reshape(len(arrays), -1).T\n",
    "\n",
    "    for n, arr in enumerate(arrays):\n",
    "        ix[:, n] = arrays[n][ix[:, n]]\n",
    "\n",
    "    return ix\n",
    "\n",
    "print (cartesian(([1, 2, 3], [4, 5], [6, 7])))"
   ]
  },
  {
   "cell_type": "markdown",
   "metadata": {},
   "source": [
    "#### 91. How to create a record array from a regular array? (★★★) \n",
    "(**hint**: np.core.records.fromarrays)"
   ]
  },
  {
   "cell_type": "code",
   "execution_count": 116,
   "metadata": {},
   "outputs": [
    {
     "name": "stdout",
     "output_type": "stream",
     "text": [
      "[(b'Hello', 2.5, 3) (b'World', 3.6, 2)]\n"
     ]
    }
   ],
   "source": [
    "Z = np.array([(\"Hello\", 2.5, 3),\n",
    "              (\"World\", 3.6, 2)])\n",
    "R = np.core.records.fromarrays(Z.T,\n",
    "                               names='col1, col2, col3',\n",
    "                               formats = 'S8, f8, i8')\n",
    "print(R)"
   ]
  },
  {
   "cell_type": "markdown",
   "metadata": {},
   "source": [
    "#### 92. Consider a large vector Z, compute Z to the power of 3 using 3 different methods (★★★) \n",
    "(**hint**: np.power, \\*, np.einsum)"
   ]
  },
  {
   "cell_type": "code",
   "execution_count": 117,
   "metadata": {},
   "outputs": [
    {
     "name": "stdout",
     "output_type": "stream",
     "text": [
      "4.44 s ± 984 ms per loop (mean ± std. dev. of 7 runs, 1 loop each)\n",
      "The slowest run took 4.33 times longer than the fastest. This could mean that an intermediate result is being cached.\n",
      "978 ms ± 610 ms per loop (mean ± std. dev. of 7 runs, 1 loop each)\n",
      "284 ms ± 24.9 ms per loop (mean ± std. dev. of 7 runs, 1 loop each)\n"
     ]
    }
   ],
   "source": [
    "x = np.random.rand(int(5e7))\n",
    "\n",
    "%timeit np.power(x,3)\n",
    "%timeit x*x*x\n",
    "%timeit np.einsum('i,i,i->i',x,x,x)"
   ]
  },
  {
   "cell_type": "markdown",
   "metadata": {},
   "source": [
    "#### 93. Consider two arrays A and B of shape (8,3) and (2,2). How to find rows of A that contain elements of each row of B regardless of the order of the elements in B? (★★★) \n",
    "(**hint**: np.where)"
   ]
  },
  {
   "cell_type": "code",
   "execution_count": 118,
   "metadata": {},
   "outputs": [
    {
     "name": "stdout",
     "output_type": "stream",
     "text": [
      "[0 4 6]\n"
     ]
    }
   ],
   "source": [
    "A = np.random.randint(0,5,(8,3))\n",
    "B = np.random.randint(0,5,(2,2))\n",
    "\n",
    "C = (A[..., np.newaxis, np.newaxis] == B)\n",
    "rows = np.where(C.any((3,1)).all(1))[0]\n",
    "print(rows)"
   ]
  },
  {
   "cell_type": "markdown",
   "metadata": {},
   "source": [
    "#### 94. Considering a 10x3 matrix, extract rows with unequal values (e.g. \\[2,2,3\\]) (★★★)"
   ]
  },
  {
   "cell_type": "code",
   "execution_count": 119,
   "metadata": {},
   "outputs": [
    {
     "name": "stdout",
     "output_type": "stream",
     "text": [
      "[[2 2 2]\n",
      " [4 1 1]\n",
      " [1 2 3]\n",
      " [2 2 4]\n",
      " [3 2 0]\n",
      " [4 0 2]\n",
      " [0 4 3]\n",
      " [4 4 1]\n",
      " [4 0 2]\n",
      " [4 0 2]]\n",
      "[[4 1 1]\n",
      " [1 2 3]\n",
      " [2 2 4]\n",
      " [3 2 0]\n",
      " [4 0 2]\n",
      " [0 4 3]\n",
      " [4 4 1]\n",
      " [4 0 2]\n",
      " [4 0 2]]\n"
     ]
    }
   ],
   "source": [
    "Z = np.random.randint(0,5,(10,3))\n",
    "print(Z)\n",
    "E = np.all(Z[:,1:] == Z[:,:-1], axis=1)\n",
    "U = Z[~E]\n",
    "print(U)"
   ]
  },
  {
   "cell_type": "markdown",
   "metadata": {},
   "source": [
    "#### 95. Convert a vector of ints into a matrix binary representation (★★★) \n",
    "(**hint**: np.unpackbits)"
   ]
  },
  {
   "cell_type": "code",
   "execution_count": 120,
   "metadata": {},
   "outputs": [
    {
     "name": "stdout",
     "output_type": "stream",
     "text": [
      "[[0 0 0 0 0 0 0 0]\n",
      " [0 0 0 0 0 0 0 1]\n",
      " [0 0 0 0 0 0 1 0]\n",
      " [0 0 0 0 0 0 1 1]\n",
      " [0 0 0 0 1 1 1 1]\n",
      " [0 0 0 1 0 0 0 0]\n",
      " [0 0 1 0 0 0 0 0]\n",
      " [0 1 0 0 0 0 0 0]\n",
      " [1 0 0 0 0 0 0 0]]\n"
     ]
    }
   ],
   "source": [
    "I = np.array([0, 1, 2, 3, 15, 16, 32, 64, 128])\n",
    "B = ((I.reshape(-1,1) & (2**np.arange(8))) != 0).astype(int)\n",
    "print(B[:,::-1])"
   ]
  },
  {
   "cell_type": "markdown",
   "metadata": {},
   "source": [
    "#### 96. Given a two dimensional array, how to extract unique rows? (★★★) \n",
    "(**hint**: np.ascontiguousarray)"
   ]
  },
  {
   "cell_type": "code",
   "execution_count": 121,
   "metadata": {},
   "outputs": [
    {
     "name": "stdout",
     "output_type": "stream",
     "text": [
      "[[0 0 1]\n",
      " [0 1 1]\n",
      " [1 0 0]\n",
      " [1 0 1]]\n"
     ]
    }
   ],
   "source": [
    "Z = np.random.randint(0,2,(6,3))\n",
    "T = np.ascontiguousarray(Z).view(np.dtype((np.void, Z.dtype.itemsize * Z.shape[1])))\n",
    "_, idx = np.unique(T, return_index=True)\n",
    "uZ = Z[idx]\n",
    "print(uZ)"
   ]
  },
  {
   "cell_type": "markdown",
   "metadata": {},
   "source": [
    "#### 97. Considering 2 vectors A & B, write the einsum equivalent of inner, outer, sum, and mul function (★★★) \n",
    "(**hint**: np.einsum)"
   ]
  },
  {
   "cell_type": "code",
   "execution_count": 123,
   "metadata": {},
   "outputs": [
    {
     "name": "stdout",
     "output_type": "stream",
     "text": [
      "5.447025511701305\n",
      "[0.33826943 0.04602549 0.21549314 0.24835421 0.28203548 0.30826671\n",
      " 0.11668087 0.04963487 0.55655309 0.12587089]\n",
      "2.2871841825158654\n",
      "[[0.33826943 0.14126554 0.16529555 0.53851029 0.56377509 0.24060691\n",
      "  0.08143659 0.37791219 0.52923705 0.38615112]\n",
      " [0.11021101 0.04602549 0.05385467 0.17545116 0.18368264 0.07839175\n",
      "  0.02653272 0.12312695 0.17242986 0.12581127]\n",
      " [0.4409964  0.1841656  0.21549314 0.70204718 0.73498448 0.31367535\n",
      "  0.10616757 0.49267802 0.6899578  0.50341898]\n",
      " [0.15600563 0.0651499  0.07623224 0.24835421 0.26000602 0.1109649\n",
      "  0.03755754 0.17428837 0.24407751 0.17808806]\n",
      " [0.16922348 0.07066984 0.08269115 0.26939645 0.28203548 0.12036659\n",
      "  0.04073966 0.18905526 0.2647574  0.19317689]\n",
      " [0.43339238 0.18099007 0.21177744 0.68994191 0.72231129 0.30826671\n",
      "  0.10433694 0.48418287 0.67806099 0.49473862]\n",
      " [0.48466629 0.20240269 0.23683246 0.77156775 0.80776669 0.34473721\n",
      "  0.11668087 0.54146571 0.75828122 0.5532703 ]\n",
      " [0.04442821 0.01855377 0.02170987 0.07072778 0.07404605 0.03160124\n",
      "  0.01069586 0.04963487 0.06950984 0.05071697]\n",
      " [0.35572887 0.14855681 0.17382711 0.56630496 0.59287377 0.2530256\n",
      "  0.08563986 0.39741774 0.55655309 0.40608192]\n",
      " [0.11026324 0.04604731 0.0538802  0.17553431 0.1837697  0.0784289\n",
      "  0.0265453  0.12318531 0.17251158 0.12587089]]\n"
     ]
    }
   ],
   "source": [
    "A = np.random.uniform(0,1,10)\n",
    "B = np.random.uniform(0,1,10)\n",
    "\n",
    "print(np.einsum('i->', A))       # np.sum(A)\n",
    "print(np.einsum('i,i->i', A, B)) # A * B\n",
    "print(np.einsum('i,i', A, B))    # np.inner(A, B)\n",
    "print(np.einsum('i,j->ij', A, B))    # np.outer(A, B)"
   ]
  },
  {
   "cell_type": "markdown",
   "metadata": {},
   "source": [
    "#### 98. Considering a path described by two vectors (X,Y), how to sample it using equidistant samples (★★★)? \n",
    "(**hint**: np.cumsum, np.interp)"
   ]
  },
  {
   "cell_type": "code",
   "execution_count": 124,
   "metadata": {
    "collapsed": true
   },
   "outputs": [
    {
     "name": "stdout",
     "output_type": "stream",
     "text": [
      "[  0.           2.48788858   4.97577716   7.46366574   9.95155432\n",
      "  12.43944289  14.92733147  17.41522005  19.90310863  22.39099721\n",
      "  24.87888579  27.36677437  29.85466295  32.34255152  34.8304401\n",
      "  37.31832868  39.80621726  42.29410584  44.78199442  47.269883\n",
      "  49.75777158  52.24566016  54.73354873  57.22143731  59.70932589\n",
      "  62.19721447  64.68510305  67.17299163  69.66088021  72.14876879\n",
      "  74.63665736  77.12454594  79.61243452  82.1003231   84.58821168\n",
      "  87.07610026  89.56398884  92.05187742  94.539766    97.02765457\n",
      "  99.51554315 102.00343173 104.49132031 106.97920889 109.46709747\n",
      " 111.95498605 114.44287463 116.9307632  119.41865178 121.90654036\n",
      " 124.39442894 126.88231752 129.3702061  131.85809468 134.34598326\n",
      " 136.83387184 139.32176041 141.80964899 144.29753757 146.78542615\n",
      " 149.27331473 151.76120331 154.24909189 156.73698047 159.22486904\n",
      " 161.71275762 164.2006462  166.68853478 169.17642336 171.66431194\n",
      " 174.15220052 176.6400891  179.12797768 181.61586625 184.10375483\n",
      " 186.59164341 189.07953199 191.56742057 194.05530915 196.54319773\n",
      " 199.03108631 201.51897488 204.00686346 206.49475204 208.98264062\n",
      " 211.4705292  213.95841778 216.44630636 218.93419494 221.42208352\n",
      " 223.90997209 226.39786067 228.88574925 231.37363783 233.86152641\n",
      " 236.34941499 238.83730357 241.32519215 243.81308072 246.3009693\n",
      " 248.78885788 251.27674646 253.76463504 256.25252362 258.7404122\n",
      " 261.22830078 263.71618936 266.20407793 268.69196651 271.17985509\n",
      " 273.66774367 276.15563225 278.64352083 281.13140941 283.61929799\n",
      " 286.10718656 288.59507514 291.08296372 293.5708523  296.05874088\n",
      " 298.54662946 301.03451804 303.52240662 306.0102952  308.49818377\n",
      " 310.98607235 313.47396093 315.96184951 318.44973809 320.93762667\n",
      " 323.42551525 325.91340383 328.4012924  330.88918098 333.37706956\n",
      " 335.86495814 338.35284672 340.8407353  343.32862388 345.81651246\n",
      " 348.30440104 350.79228961 353.28017819 355.76806677 358.25595535\n",
      " 360.74384393 363.23173251 365.71962109 368.20750967 370.69539824\n",
      " 373.18328682 375.6711754  378.15906398 380.64695256 383.13484114\n",
      " 385.62272972 388.1106183  390.59850688 393.08639545 395.57428403\n",
      " 398.06217261 400.55006119 403.03794977 405.52583835 408.01372693\n",
      " 410.50161551 412.98950408 415.47739266 417.96528124 420.45316982\n",
      " 422.9410584  425.42894698 427.91683556 430.40472414 432.89261272\n",
      " 435.38050129 437.86838987 440.35627845 442.84416703 445.33205561\n",
      " 447.81994419 450.30783277 452.79572135 455.28360992 457.7714985\n",
      " 460.25938708 462.74727566 465.23516424 467.72305282 470.2109414\n",
      " 472.69882998 475.18671856 477.67460713 480.16249571 482.65038429\n",
      " 485.13827287 487.62616145 490.11405003 492.60193861 495.08982719] [ 0.00000000e+00 -3.73131229e-01 -2.59817608e+00 -3.26212050e+00\n",
      " -2.18442687e+00 -2.98929946e-02  2.42923642e+00  4.54913599e+00\n",
      "  5.92318348e+00  6.35117933e+00  5.82369277e+00  4.46259540e+00\n",
      "  2.47320794e+00  1.09577220e-01 -2.36575300e+00 -4.71261671e+00\n",
      " -6.72701769e+00 -8.25541575e+00 -9.18486120e+00 -9.46381505e+00\n",
      " -9.11085788e+00 -8.12875279e+00 -6.63306046e+00 -4.69271059e+00\n",
      " -2.44736165e+00 -2.05444585e-02  2.46101146e+00  4.86841760e+00\n",
      "  7.08937968e+00  9.02539126e+00  1.05948609e+01  1.17357250e+01\n",
      "  1.24068974e+01  1.25885805e+01  1.22815267e+01  1.15053927e+01\n",
      "  1.02963689e+01  8.70429550e+00  6.78948686e+00  4.61716636e+00\n",
      "  2.25853448e+00 -1.98731680e-01 -2.68040566e+00 -5.11543300e+00\n",
      " -7.41973991e+00 -9.53891040e+00 -1.14237629e+01 -1.29919305e+01\n",
      " -1.42355069e+01 -1.51243232e+01 -1.56061571e+01 -1.57219415e+01\n",
      " -1.54217066e+01 -1.47579136e+01 -1.37255236e+01 -1.23634834e+01\n",
      " -1.07024632e+01 -8.78327367e+00 -6.65029558e+00 -4.35514246e+00\n",
      " -1.94290275e+00  5.28038914e-01  3.00985904e+00  5.45450275e+00\n",
      "  7.80093594e+00  1.00179639e+01  1.20595602e+01  1.38732623e+01\n",
      "  1.54564938e+01  1.67497894e+01  1.77435802e+01  1.84439878e+01\n",
      "  1.87990820e+01  1.88271003e+01  1.85472755e+01  1.79378850e+01\n",
      "  1.70105456e+01  1.58085777e+01  1.43501808e+01  1.26222364e+01\n",
      "  1.06905445e+01  8.58498641e+00  6.33562529e+00  3.96179025e+00\n",
      "  1.51802643e+00 -9.61699044e-01 -3.44349301e+00 -5.88951759e+00\n",
      " -8.26006582e+00 -1.05270865e+01 -1.26610269e+01 -1.46343020e+01\n",
      " -1.64206033e+01 -1.79708499e+01 -1.92894561e+01 -2.03605967e+01\n",
      " -2.11716587e+01 -2.17133504e+01 -2.19797677e+01 -2.19626531e+01\n",
      " -2.16476737e+01 -2.10622561e+01 -2.02145809e+01 -1.91158467e+01\n",
      " -1.77800930e+01 -1.62239930e+01 -1.44666197e+01 -1.25291882e+01\n",
      " -1.04347777e+01 -8.20773276e+00 -5.86978851e+00 -3.45563299e+00\n",
      " -9.92556869e-01  1.49191203e+00  3.97031733e+00  6.41557503e+00\n",
      "  8.80126359e+00  1.11019001e+01  1.32931995e+01  1.53523150e+01\n",
      "  1.72580567e+01  1.89910866e+01  2.05340895e+01  2.18719167e+01\n",
      "  2.29917039e+01  2.38829603e+01  2.45376309e+01  2.49501314e+01\n",
      "  2.51173551e+01  2.50386548e+01  2.47157984e+01  2.41529019e+01\n",
      "  2.33563391e+01  2.23346314e+01  2.10983193e+01  1.96598169e+01\n",
      "  1.80332532e+01  1.62343003e+01  1.42799934e+01  1.21885425e+01\n",
      "  9.97914013e+00  7.67176574e+00  5.28699023e+00  2.84441658e+00\n",
      "  3.68190102e-01 -2.11846865e+00 -4.59426061e+00 -7.03829202e+00\n",
      " -9.43024209e+00 -1.17505186e+01 -1.39803999e+01 -1.61021634e+01\n",
      " -1.80991985e+01 -1.99561058e+01 -2.16587804e+01 -2.31850397e+01\n",
      " -2.45166960e+01 -2.56568097e+01 -2.65976904e+01 -2.73332424e+01\n",
      " -2.78589555e+01 -2.81718833e+01 -2.82706110e+01 -2.81552119e+01\n",
      " -2.78066635e+01 -2.72341677e+01 -2.64578863e+01 -2.54844118e+01\n",
      " -2.43214986e+01 -2.29779690e+01 -2.14636172e+01 -1.97837046e+01\n",
      " -1.79341987e+01 -1.59545785e+01 -1.38585628e+01 -1.16602783e+01\n",
      " -9.37416511e+00 -7.01488958e+00 -4.59184632e+00 -2.12995331e+00\n",
      "  3.50691071e-01  2.83498918e+00  5.30813450e+00  7.75565814e+00\n",
      "  1.01522531e+01  1.24813227e+01  1.47337756e+01  1.68973642e+01\n",
      "  1.89604991e+01  2.09071945e+01  2.26943693e+01  2.43420179e+01\n",
      "  2.58422998e+01  2.71881423e+01  2.83731992e+01  2.93376609e+01\n",
      "  3.01222558e+01  3.07280750e+01  3.11531219e+01  3.13960177e+01] [ 0.00000000e+00  1.74026724e+00  9.81816584e-01 -1.34251287e+00\n",
      " -3.53191891e+00 -4.70449474e+00 -4.59573427e+00 -3.33831870e+00\n",
      " -1.28956083e+00  1.14234685e+00  3.55645601e+00  5.62188218e+00\n",
      "  7.09389488e+00  7.82951803e+00  7.78700678e+00  6.99685666e+00\n",
      "  5.55535240e+00  3.60417006e+00  1.30506373e+00 -1.15819722e+00\n",
      " -3.61328132e+00 -5.89130465e+00 -7.87065053e+00 -9.41689057e+00\n",
      " -1.04714836e+01 -1.09903787e+01 -1.09354306e+01 -1.03330912e+01\n",
      " -9.22690166e+00 -7.67489830e+00 -5.75257980e+00 -3.54832201e+00\n",
      " -1.15854355e+00  1.31709956e+00  3.78023622e+00  6.13780326e+00\n",
      "  8.30540149e+00  1.02098724e+01  1.17910419e+01  1.29972950e+01\n",
      "  1.37774249e+01  1.41319792e+01  1.40585758e+01  1.35636816e+01\n",
      "  1.26345244e+01  1.13409083e+01  9.72216360e+00  7.79464305e+00\n",
      "  5.64544223e+00  3.32503222e+00  8.88107041e-01 -1.59329248e+00\n",
      " -4.05992507e+00 -6.45313746e+00 -8.71327144e+00 -1.07900854e+01\n",
      " -1.26380653e+01 -1.42147006e+01 -1.54892299e+01 -1.64390858e+01\n",
      " -1.70351433e+01 -1.72938948e+01 -1.71685631e+01 -1.67219979e+01\n",
      " -1.59044166e+01 -1.47824153e+01 -1.33665280e+01 -1.16678134e+01\n",
      " -9.75246391e+00 -7.63091465e+00 -5.35345831e+00 -2.96905840e+00\n",
      " -5.09631905e-01  1.97507060e+00  4.44430515e+00  6.85344809e+00\n",
      "  9.15903461e+00  1.13337844e+01  1.33467125e+01  1.51336120e+01\n",
      "  1.66966787e+01  1.80162922e+01  1.90746708e+01  1.98127969e+01\n",
      "  2.02634499e+01  2.04221761e+01  2.02877631e+01  1.98449702e+01\n",
      "  1.90974465e+01  1.80799531e+01  1.68069397e+01  1.52959771e+01\n",
      "  1.35665801e+01  1.16227312e+01  9.51601869e+00  7.27388893e+00\n",
      "  4.92519240e+00  2.49981337e+00  2.82932820e-02 -2.45817963e+00\n",
      " -4.92460367e+00 -7.34030894e+00 -9.67635928e+00 -1.19050601e+01\n",
      " -1.40002645e+01 -1.59376556e+01 -1.76950019e+01 -1.92523833e+01\n",
      " -2.05923861e+01 -2.16995543e+01 -2.25478860e+01 -2.31432552e+01\n",
      " -2.34800725e+01 -2.35556687e+01 -2.33702741e+01 -2.29269662e+01\n",
      " -2.22315865e+01 -2.12926288e+01 -2.01211000e+01 -1.87303570e+01\n",
      " -1.71359212e+01 -1.53552740e+01 -1.34076356e+01 -1.13137308e+01\n",
      " -9.09554383e+00 -6.77606668e+00 -4.37904252e+00 -1.92870828e+00\n",
      "  5.50461201e-01  3.03400451e+00  5.49771780e+00  7.91788934e+00\n",
      "  1.02715222e+01  1.25365431e+01  1.46919953e+01  1.67182148e+01\n",
      "  1.85969872e+01  2.03116866e+01  2.18473923e+01  2.31909872e+01\n",
      "  2.43312337e+01  2.52588296e+01  2.59664444e+01  2.64391214e+01\n",
      "  2.66748505e+01  2.66796333e+01  2.64545680e+01  2.60026765e+01\n",
      "  2.53288265e+01  2.44396400e+01  2.33433894e+01  2.20498837e+01\n",
      "  2.05703459e+01  1.89172843e+01  1.71043584e+01  1.51396391e+01\n",
      "  1.30387952e+01  1.08294252e+01  8.52903617e+00  6.15551380e+00\n",
      "  3.72697869e+00  1.26164946e+00 -1.22228693e+00 -3.70679651e+00\n",
      " -6.17014862e+00 -8.59028675e+00 -1.09516293e+01 -1.32379536e+01\n",
      " -1.54338179e+01 -1.75246263e+01 -1.94966815e+01 -2.13317519e+01\n",
      " -2.29952001e+01 -2.44987532e+01 -2.58335652e+01 -2.69919481e+01\n",
      " -2.79673583e+01 -2.87543764e+01 -2.93186910e+01 -2.96679958e+01\n",
      " -2.98181354e+01 -2.97693731e+01 -2.95229769e+01 -2.90811595e+01\n",
      " -2.84133854e+01 -2.75430665e+01 -2.64934034e+01 -2.52713717e+01\n",
      " -2.38845608e+01 -2.23353782e+01 -2.06051319e+01 -1.87442619e+01\n",
      " -1.67635423e+01 -1.46739620e+01 -1.24866789e+01 -1.01933401e+01\n",
      " -7.83474328e+00 -5.42495146e+00 -2.97607515e+00 -5.00072086e-01]\n"
     ]
    }
   ],
   "source": [
    "phi = np.arange(0, 10*np.pi, 0.1)\n",
    "a = 1\n",
    "x = a*phi*np.cos(phi)\n",
    "y = a*phi*np.sin(phi)\n",
    "\n",
    "dr = (np.diff(x)**2 + np.diff(y)**2)**.5 # segment lengths\n",
    "r = np.zeros_like(x)\n",
    "r[1:] = np.cumsum(dr)                # integrate path\n",
    "r_int = np.linspace(0, r.max(), 200) # regular spaced path\n",
    "x_int = np.interp(r_int, r, x)       # integrate path\n",
    "y_int = np.interp(r_int, r, y)\n",
    "print(r_int, x_int, y_int)"
   ]
  },
  {
   "cell_type": "markdown",
   "metadata": {},
   "source": [
    "#### 99. Given an integer n and a 2D array X, select from X the rows which can be interpreted as draws from a multinomial distribution with n degrees, i.e., the rows which only contain integers and which sum to n. (★★★) \n",
    "(**hint**: np.logical\\_and.reduce, np.mod)"
   ]
  },
  {
   "cell_type": "code",
   "execution_count": 125,
   "metadata": {},
   "outputs": [
    {
     "name": "stdout",
     "output_type": "stream",
     "text": [
      "[[2. 0. 1. 1.]]\n"
     ]
    }
   ],
   "source": [
    "X = np.asarray([[1.0, 0.0, 3.0, 8.0],\n",
    "                [2.0, 0.0, 1.0, 1.0],\n",
    "                [1.5, 2.5, 1.0, 0.0]])\n",
    "n = 4\n",
    "M = np.logical_and.reduce(np.mod(X, 1) == 0, axis=-1)\n",
    "M &= (X.sum(axis=-1) == n)\n",
    "print(X[M])"
   ]
  },
  {
   "cell_type": "markdown",
   "metadata": {},
   "source": [
    "#### 100. Compute bootstrapped 95% confidence intervals for the mean of a 1D array X (i.e., resample the elements of an array with replacement N times, compute the mean of each sample, and then compute percentiles over the means). (★★★) \n",
    "(**hint**: np.percentile)"
   ]
  },
  {
   "cell_type": "code",
   "execution_count": 126,
   "metadata": {},
   "outputs": [
    {
     "name": "stdout",
     "output_type": "stream",
     "text": [
      "[-0.19916443  0.14742579]\n"
     ]
    }
   ],
   "source": [
    "X = np.random.randn(100) # random 1D array\n",
    "N = 1000 # number of bootstrap samples\n",
    "idx = np.random.randint(0, X.size, (N, X.size))\n",
    "means = X[idx].mean(axis=1)\n",
    "confint = np.percentile(means, [2.5, 97.5])\n",
    "print(confint)"
   ]
  }
 ],
 "metadata": {
  "kernelspec": {
   "display_name": "Python 3.10.4 ('env1')",
   "language": "python",
   "name": "python3"
  },
  "language_info": {
   "codemirror_mode": {
    "name": "ipython",
    "version": 3
   },
   "file_extension": ".py",
   "mimetype": "text/x-python",
   "name": "python",
   "nbconvert_exporter": "python",
   "pygments_lexer": "ipython3",
   "version": "3.10.4"
  },
  "vscode": {
   "interpreter": {
    "hash": "5024435cbfb8faf8bbbcdcac495405647c340211599983c8ce8e312773b27794"
   }
  }
 },
 "nbformat": 4,
 "nbformat_minor": 1
}
