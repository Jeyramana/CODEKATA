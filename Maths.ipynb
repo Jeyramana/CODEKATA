{
 "cells": [
  {
   "cell_type": "markdown",
   "id": "7ce48fa4",
   "metadata": {},
   "source": [
    "# Mathematics"
   ]
  },
  {
   "cell_type": "markdown",
   "id": "c321d12e",
   "metadata": {},
   "source": [
    "P2: Palindromic Number"
   ]
  },
  {
   "cell_type": "code",
   "execution_count": 24,
   "id": "c661aaa6",
   "metadata": {},
   "outputs": [
    {
     "name": "stdout",
     "output_type": "stream",
     "text": [
      "['1']\n",
      "['2']\n",
      "['3']\n",
      "['4']\n",
      "['5']\n",
      "['6']\n",
      "['7']\n",
      "['8']\n",
      "['9']\n",
      "['1', '1']\n",
      "10\n"
     ]
    }
   ],
   "source": [
    "x = int(input())\n",
    "count = 0\n",
    "for i in range (1, x+1):\n",
    "    z = list(str(i))\n",
    "    y = z[::-1]\n",
    "    if z == y:\n",
    "        print(y)\n",
    "        count += 1\n",
    "print(count)"
   ]
  },
  {
   "cell_type": "markdown",
   "id": "d333c265",
   "metadata": {},
   "source": [
    "P7: Pair Count"
   ]
  },
  {
   "cell_type": "code",
   "execution_count": 49,
   "id": "639a7bd8",
   "metadata": {},
   "outputs": [
    {
     "name": "stdout",
     "output_type": "stream",
     "text": [
      "11\n"
     ]
    }
   ],
   "source": [
    "x = int(input())\n",
    "y = []\n",
    "z = []\n",
    "for i in range(1, x+1):\n",
    "    y.append(i)\n",
    "    z.append(i)\n",
    "num = 0\n",
    "for i in y:\n",
    "    for j in z:\n",
    "        if i+j == x:\n",
    "            num += 1\n",
    "            # print(i, j)\n",
    "print(num)\n"
   ]
  },
  {
   "cell_type": "markdown",
   "id": "f2d7a720",
   "metadata": {},
   "source": [
    "P5: Sum of Probability of getting 1 in n times. Formula."
   ]
  },
  {
   "cell_type": "code",
   "execution_count": 44,
   "id": "e95497e9",
   "metadata": {},
   "outputs": [
    {
     "name": "stdout",
     "output_type": "stream",
     "text": [
      "29 7776\n"
     ]
    }
   ],
   "source": [
    "n = int(input())\n",
    "face = 6\n",
    "if n == 1:\n",
    "    print(n, face**n)\n",
    "else:\n",
    "    P = (n*face) - 1\n",
    "    print(P, face**n)"
   ]
  },
  {
   "cell_type": "markdown",
   "id": "632d6cc9",
   "metadata": {},
   "source": [
    "P6: Coprime or not.   (I/O: 4 9 -> 1)"
   ]
  },
  {
   "cell_type": "code",
   "execution_count": 33,
   "id": "8c482c69",
   "metadata": {},
   "outputs": [
    {
     "name": "stdout",
     "output_type": "stream",
     "text": [
      "1\n"
     ]
    }
   ],
   "source": [
    "x = [int(x) for x in input().split(' ', 1)]\n",
    "count = 0\n",
    "for j in range(2,max(x)):\n",
    "    if max(x)%j == 0:\n",
    "        if min(x)%j == 0:\n",
    "            count += 1\n",
    "if count == 0:\n",
    "    print(1)\n",
    "else:\n",
    "    print(0)"
   ]
  },
  {
   "cell_type": "markdown",
   "id": "5ce8846c",
   "metadata": {},
   "source": [
    "P8: Money Saved"
   ]
  },
  {
   "cell_type": "code",
   "execution_count": 42,
   "id": "7965005b",
   "metadata": {},
   "outputs": [
    {
     "name": "stdout",
     "output_type": "stream",
     "text": [
      "2000\n"
     ]
    }
   ],
   "source": [
    "n = int(input())\n",
    "s = [0, 1000, 0, 1000]\n",
    "for i in range(1, n+1):\n",
    "    s[2] = s[0] + s[1]\n",
    "    s[0] = s[1]\n",
    "    s[1] = s[2]\n",
    "    s[2] = 0\n",
    "    s[3] += s[1]\n",
    "print(s[3])"
   ]
  },
  {
   "cell_type": "markdown",
   "id": "61a9e274",
   "metadata": {},
   "source": [
    "P10: Great Number"
   ]
  },
  {
   "cell_type": "code",
   "execution_count": 47,
   "id": "f0fbc781",
   "metadata": {},
   "outputs": [
    {
     "name": "stdout",
     "output_type": "stream",
     "text": [
      "Great\n"
     ]
    }
   ],
   "source": [
    "a = input()\n",
    "x = list(map(int, a))\n",
    "sum = 0\n",
    "mul = 1\n",
    "for i in x:\n",
    "    sum += i\n",
    "    mul *= i\n",
    "if sum + mul == int(a):\n",
    "    print('Great')\n",
    "else:\n",
    "    print('no')"
   ]
  },
  {
   "cell_type": "markdown",
   "id": "5edd8f4a",
   "metadata": {},
   "source": [
    "P12: Finiest no. n=t^3+(t+1)^3 and sort it."
   ]
  },
  {
   "cell_type": "code",
   "execution_count": 4,
   "id": "10951f19",
   "metadata": {},
   "outputs": [
    {
     "name": "stdout",
     "output_type": "stream",
     "text": [
      "9 35 189 1729 2331\n"
     ]
    }
   ],
   "source": [
    "# x = int(input())\n",
    "# a = [int(a) for a in input().split(' ', x-1)]\n",
    "x = 2\n",
    "a = [1729, 189, 345, 35, 9, 2331, 1]\n",
    "b = []\n",
    "\n",
    "for j in a:\n",
    "    t = 1\n",
    "    while (t != 0 and t <= j):\n",
    "        if (t**3)+((t+1)**3) == j:\n",
    "            # print(t, j)\n",
    "            b.append(j)\n",
    "            break\n",
    "        else:\n",
    "            t += 1\n",
    "b.sort()\n",
    "print(*b)"
   ]
  },
  {
   "cell_type": "markdown",
   "id": "7fdb0fd6",
   "metadata": {},
   "source": [
    "P13: Saturated No. if exactly 2 digit exists."
   ]
  },
  {
   "cell_type": "code",
   "execution_count": 11,
   "id": "12984165",
   "metadata": {},
   "outputs": [
    {
     "name": "stdout",
     "output_type": "stream",
     "text": [
      "Unsaturated\n"
     ]
    }
   ],
   "source": [
    "from collections import Counter\n",
    "# x = list(input())\n",
    "x = ['1', '2', '1', '3']\n",
    "d = dict(Counter(x))\n",
    "if len(d.keys()) == 2:\n",
    "    print('Saturated')\n",
    "else:\n",
    "    print('Unsaturated')"
   ]
  },
  {
   "cell_type": "markdown",
   "id": "9db80f15",
   "metadata": {},
   "source": [
    "P18: Count consecutive number (1)"
   ]
  },
  {
   "cell_type": "code",
   "execution_count": 45,
   "id": "8ed19fc4",
   "metadata": {},
   "outputs": [
    {
     "name": "stdout",
     "output_type": "stream",
     "text": [
      "5\n"
     ]
    }
   ],
   "source": [
    "# x = list(input())\n",
    "x = ['1', '0', '1', '0', '1', '1', '1', '1', '1']\n",
    "y = x[1:]\n",
    "count = 0\n",
    "# print(x)\n",
    "# print(y)\n",
    "for i in range(len(x)- 1):\n",
    "        if x[i] == y[i] and int(x[i]) == 1:\n",
    "            count += 1\n",
    "            # print(i, x[i],y[i])\n",
    "if count == 0:\n",
    "    print(-1)\n",
    "else:\n",
    "    print(count+1)\n",
    "\n",
    "\n"
   ]
  },
  {
   "cell_type": "markdown",
   "id": "442c4d87",
   "metadata": {},
   "source": [
    "P23: Print days with not more than 2 factors (prime no.)."
   ]
  },
  {
   "cell_type": "code",
   "execution_count": 37,
   "id": "133c8166",
   "metadata": {},
   "outputs": [
    {
     "name": "stdout",
     "output_type": "stream",
     "text": [
      "11\n"
     ]
    }
   ],
   "source": [
    "x, y = map(str, input().split(' '))\n",
    "y = int(y)\n",
    "x = x.upper()\n",
    "month1 = ['JANUARY', 'MARCH', 'MAY', 'JULY', 'AUGUST', 'OCTOBER', 'DECEMBER', 31]\n",
    "month2 = ['FEBRUARY', 28]\n",
    "month3 = ['APRIL', 'JUNE', 'SEPTEMBER', 'NOVEMBER', 30]\n",
    "month = [month1, month2, month3]\n",
    "count = 0\n",
    "for m in month:\n",
    "    if x in m:\n",
    "        for num in range(2,m[len(m)-1]+1):\n",
    "            prime = True\n",
    "            for i in range(2,num):\n",
    "                if (num%i==0):\n",
    "                    prime = False\n",
    "            if prime:\n",
    "                count += 1\n",
    "                # print(num)\n",
    "\n",
    "print(count)"
   ]
  },
  {
   "cell_type": "markdown",
   "id": "e222cf4b",
   "metadata": {},
   "source": [
    "P24: 1 9 36 Series"
   ]
  },
  {
   "cell_type": "code",
   "execution_count": 1,
   "id": "915b4484",
   "metadata": {},
   "outputs": [
    {
     "name": "stdout",
     "output_type": "stream",
     "text": [
      "1 9 36 81\n"
     ]
    }
   ],
   "source": [
    "x = int(input())\n",
    "y = []\n",
    "for i in range(1, x+1):\n",
    "    if i == 1:\n",
    "        y.append(i)\n",
    "    elif i != 1:\n",
    "        c = 3*(i-1)\n",
    "        y.append(c*c)\n",
    "print(*y)"
   ]
  },
  {
   "cell_type": "markdown",
   "id": "cbaddfed",
   "metadata": {},
   "source": [
    "P: Use Quadratic formula for x in 2 decimal."
   ]
  },
  {
   "cell_type": "code",
   "execution_count": null,
   "id": "54c19672",
   "metadata": {},
   "outputs": [
    {
     "name": "stdout",
     "output_type": "stream",
     "text": [
      "-2.00\n",
      "-3.00\n"
     ]
    }
   ],
   "source": [
    "import math\n",
    "# a, b, c = map(int, input().split(' '))\n",
    "a = 1\n",
    "b = 5\n",
    "c = 6\n",
    "x = (-b + math.sqrt(b**2 - 4*a*c)) / (2*a)\n",
    "print(\"{:.2f}\".format(x))\n",
    "x = (-b - math.sqrt(b**2 - 4*a*c)) / (2*a)\n",
    "print(\"{:.2f}\".format(x))"
   ]
  },
  {
   "cell_type": "markdown",
   "id": "e7c6593a",
   "metadata": {},
   "source": [
    "P: Area of Equilaterial triangle."
   ]
  },
  {
   "cell_type": "code",
   "execution_count": 5,
   "id": "6a008ebd",
   "metadata": {},
   "outputs": [
    {
     "name": "stdout",
     "output_type": "stream",
     "text": [
      "173.21\n"
     ]
    }
   ],
   "source": [
    "import math\n",
    "a = int(input())\n",
    "x = 0.25*math.sqrt(3)*a**2\n",
    "print(\"{:.2f}\".format(x)) "
   ]
  },
  {
   "cell_type": "markdown",
   "id": "8948b84d",
   "metadata": {},
   "source": [
    "P: Print total day in given month."
   ]
  },
  {
   "cell_type": "code",
   "execution_count": 7,
   "id": "fe7bebae",
   "metadata": {},
   "outputs": [
    {
     "name": "stdout",
     "output_type": "stream",
     "text": [
      "31\n"
     ]
    }
   ],
   "source": [
    "x = int(input())\n",
    "month1 = [1, 3, 5, 7, 8, 10, 12, '31']\n",
    "month2 = [2, '28']\n",
    "month3 = [4, 6, 9, 11, '30']\n",
    "month = [month1, month2, month3]\n",
    "count = 0\n",
    "for i in month:\n",
    "    if x in i:\n",
    "        print(int(i[-1]))\n",
    "        count += 1\n",
    "        break\n",
    "if count == 0:\n",
    "    print('Error')\n"
   ]
  },
  {
   "cell_type": "markdown",
   "id": "ef23b5e0",
   "metadata": {},
   "source": [
    "P: GCD (Greatest Common Divisor) of two number"
   ]
  },
  {
   "cell_type": "code",
   "execution_count": 3,
   "id": "1bd2ac68",
   "metadata": {},
   "outputs": [
    {
     "name": "stdout",
     "output_type": "stream",
     "text": [
      "1\n",
      "3\n",
      "9\n",
      "9\n"
     ]
    }
   ],
   "source": [
    "x, y = map(int, input().split(' ')) \n",
    "p = []\n",
    "if x != 0 and y != 0:\n",
    "    for i in range(1, max(x,y)+1):\n",
    "        if x%i == 0 and y%i == 0:\n",
    "            print(i)\n",
    "            p.append(i)\n",
    "if p == []:\n",
    "    print(-1)\n",
    "else: print(max(p))"
   ]
  },
  {
   "cell_type": "markdown",
   "id": "c23c0fa7",
   "metadata": {},
   "source": [
    "P: Smallest perfect power of 2^i > n"
   ]
  },
  {
   "cell_type": "code",
   "execution_count": 36,
   "id": "cad016e3",
   "metadata": {},
   "outputs": [
    {
     "name": "stdout",
     "output_type": "stream",
     "text": [
      "64\n"
     ]
    }
   ],
   "source": [
    "x = int(input())\n",
    "i = 1\n",
    "while (i != 0):\n",
    "    t = pow(2,i)\n",
    "    if t > x:\n",
    "        print(t)\n",
    "        break\n",
    "    else:\n",
    "        i += 1"
   ]
  },
  {
   "cell_type": "markdown",
   "id": "3bed37e0",
   "metadata": {},
   "source": [
    "P: Check for Composite Number."
   ]
  },
  {
   "cell_type": "code",
   "execution_count": 54,
   "id": "69303ffd",
   "metadata": {},
   "outputs": [
    {
     "name": "stdout",
     "output_type": "stream",
     "text": [
      "yes\n"
     ]
    }
   ],
   "source": [
    "x = int(input())\n",
    "compo = False\n",
    "for i in range(2,x):\n",
    "    if (x%i==0):\n",
    "        compo = True      \n",
    "if compo: \n",
    "    print('yes')\n",
    "else:\n",
    "    print('no')\n"
   ]
  },
  {
   "cell_type": "markdown",
   "id": "9b97c101",
   "metadata": {},
   "source": [
    "P: Check for right angled triangle for given sides."
   ]
  },
  {
   "cell_type": "code",
   "execution_count": 62,
   "id": "cd34548d",
   "metadata": {},
   "outputs": [
    {
     "name": "stdout",
     "output_type": "stream",
     "text": [
      "yes\n"
     ]
    }
   ],
   "source": [
    "x = [int(x) for x in input().split(' ', 2)]\n",
    "x.sort()\n",
    "L = x[0]**2 + x[1]**2\n",
    "R = x[2]**2\n",
    "if L == R:\n",
    "    print('yes')\n",
    "else:\n",
    "    print('no')\n"
   ]
  },
  {
   "cell_type": "markdown",
   "id": "c9607877",
   "metadata": {},
   "source": [
    "P: Area of triangle given control over decimals"
   ]
  },
  {
   "cell_type": "code",
   "execution_count": 67,
   "id": "c2675f3a",
   "metadata": {},
   "outputs": [
    {
     "name": "stdout",
     "output_type": "stream",
     "text": [
      "16\n"
     ]
    }
   ],
   "source": [
    "a, b = map(int, input().split(' '))\n",
    "area = 0.5 * a * b\n",
    "if area == int(area):\n",
    "    print(int(area))\n",
    "else: print(area)"
   ]
  },
  {
   "cell_type": "markdown",
   "id": "82d884ae",
   "metadata": {},
   "source": [
    "P: HCF of two numbers"
   ]
  },
  {
   "cell_type": "code",
   "execution_count": 106,
   "id": "10a1b466",
   "metadata": {},
   "outputs": [
    {
     "name": "stdout",
     "output_type": "stream",
     "text": [
      "15\n"
     ]
    }
   ],
   "source": [
    "# a, b = map(int, input().split(' '))\n",
    "a = 60\n",
    "b = 75\n",
    "c = 1\n",
    "i = 2\n",
    "while (i != 0):\n",
    "    if a%i == 0 and b%i == 0:\n",
    "        a = a//i\n",
    "        b = b//i\n",
    "        c *= i\n",
    "    elif i < max(a, b):\n",
    "        i += 1\n",
    "    else:\n",
    "        break\n",
    "print(c)"
   ]
  },
  {
   "cell_type": "markdown",
   "id": "163f50de",
   "metadata": {},
   "source": [
    "P: Leap Year"
   ]
  },
  {
   "cell_type": "code",
   "execution_count": 113,
   "id": "18195c43",
   "metadata": {},
   "outputs": [
    {
     "name": "stdout",
     "output_type": "stream",
     "text": [
      "Y\n"
     ]
    }
   ],
   "source": [
    "year = int(input())\n",
    "leap = False\n",
    "if year%4 == 0:\n",
    "    leap = True\n",
    "    if year%100 == 0:\n",
    "        leap = False\n",
    "        if year%400 == 0:\n",
    "            leap = True\n",
    "if leap:\n",
    "    print('Y')\n",
    "else:\n",
    "    print('N')\n"
   ]
  },
  {
   "cell_type": "markdown",
   "id": "2740bc06",
   "metadata": {},
   "source": [
    "P: Bitwise NOT opeator of number"
   ]
  },
  {
   "cell_type": "code",
   "execution_count": 116,
   "id": "4a4662c3",
   "metadata": {},
   "outputs": [
    {
     "name": "stdout",
     "output_type": "stream",
     "text": [
      "-6\n"
     ]
    }
   ],
   "source": [
    "x = int(input())\n",
    "print(~x)"
   ]
  },
  {
   "cell_type": "markdown",
   "id": "6b6cbdcc",
   "metadata": {},
   "source": [
    "P: Bitwise OR AND Operator"
   ]
  },
  {
   "cell_type": "code",
   "execution_count": null,
   "id": "b4f7491e",
   "metadata": {},
   "outputs": [],
   "source": [
    "x = int(input())\n",
    "y = [int(y) for y in input().split(' ',x-1)]\n",
    "ans = y[0]\n",
    "an = y[0]\n",
    "for i in range(1, len(y)):\n",
    "        ans = ans&y[i]\n",
    "        # an |= y[i]\n",
    "print(ans)\n",
    "# print(an)\n"
   ]
  },
  {
   "cell_type": "markdown",
   "id": "818e9893",
   "metadata": {},
   "source": [
    "P: Add integers without carry."
   ]
  },
  {
   "cell_type": "code",
   "execution_count": 139,
   "id": "043c10c2",
   "metadata": {},
   "outputs": [
    {
     "name": "stdout",
     "output_type": "stream",
     "text": [
      "[4, 4] [6, 6]\n",
      "0\n"
     ]
    }
   ],
   "source": [
    "x, y = map(str, input().split(' '))\n",
    "x = list(map(int, x))\n",
    "y = list(map(int, y))\n",
    "# print(x, y)\n",
    "z = []\n",
    "sum = 0\n",
    "for i in range(len(x)):\n",
    "    p = (x[i]+y[i])%10\n",
    "    z.append(p)\n",
    "    sum += p\n",
    "if sum > 0:\n",
    "    print(*z, sep=\"\")\n",
    "else: print(0)"
   ]
  },
  {
   "cell_type": "markdown",
   "id": "19928e0b",
   "metadata": {},
   "source": [
    "P: Check if the coordinates make a Square."
   ]
  },
  {
   "cell_type": "code",
   "execution_count": 6,
   "id": "a56dd4e1",
   "metadata": {},
   "outputs": [
    {
     "name": "stdout",
     "output_type": "stream",
     "text": [
      "yes\n"
     ]
    }
   ],
   "source": [
    "import math\n",
    "# x, y = [], []\n",
    "# for i in range(4):\n",
    "#     a, b = map(int, input().split(' '))\n",
    "#     x.append(a)\n",
    "#     y.append(b)\n",
    "x = [10, 10, 20, 20]\n",
    "y = [10, 20, 20, 10]\n",
    "length = []\n",
    "count = 0\n",
    "for i in range(4):\n",
    "    if i != 3:\n",
    "        s = math.sqrt((x[i+1]-x[i])**2 + (y[i+1]-y[i])**2)\n",
    "        length.append(s)\n",
    "    else:\n",
    "        s = math.sqrt((x[i]-x[0])**2 + (y[i]-y[0])**2)\n",
    "        length.append(s)\n",
    "for i in range(1,4):\n",
    "    if length[i-1] == length[i]:\n",
    "        count += 1\n",
    "if count == 3:\n",
    "    print('yes')\n",
    "else:\n",
    "    print('no')\n"
   ]
  },
  {
   "cell_type": "markdown",
   "id": "2c764d28",
   "metadata": {},
   "source": [
    "P25: Sum of digits & multiple of 3 is pure number"
   ]
  },
  {
   "cell_type": "code",
   "execution_count": 2,
   "id": "50358eb5",
   "metadata": {},
   "outputs": [
    {
     "name": "stdout",
     "output_type": "stream",
     "text": [
      "no\n"
     ]
    }
   ],
   "source": [
    "a = input()\n",
    "x = list(map(int, a))\n",
    "sum = 0\n",
    "for i in x:\n",
    "    sum += i\n",
    "if sum%3 == 0:\n",
    "    print('yes')\n",
    "else:\n",
    "    print('no')\n"
   ]
  },
  {
   "cell_type": "markdown",
   "id": "2850889b",
   "metadata": {},
   "source": [
    "P26: Next 2^i > n"
   ]
  },
  {
   "cell_type": "code",
   "execution_count": 1,
   "id": "da35dc12",
   "metadata": {},
   "outputs": [
    {
     "name": "stdout",
     "output_type": "stream",
     "text": [
      "8\n"
     ]
    }
   ],
   "source": [
    "a = int(input())\n",
    "i = 1\n",
    "while (i != 0):\n",
    "    if pow(2,i) > a:\n",
    "        print(pow(2,i))\n",
    "        break\n",
    "    else:\n",
    "        i += 1"
   ]
  },
  {
   "cell_type": "markdown",
   "id": "0e9bcfbf",
   "metadata": {},
   "source": [
    "P27: Series 2,6,12,20,30..."
   ]
  },
  {
   "cell_type": "code",
   "execution_count": 6,
   "id": "5fdc34f1",
   "metadata": {},
   "outputs": [
    {
     "name": "stdout",
     "output_type": "stream",
     "text": [
      "30\n"
     ]
    }
   ],
   "source": [
    "n = int(input())\n",
    "diff = 4\n",
    "a = [2]\n",
    "for i in range(1,n):\n",
    "    if i == 1:\n",
    "        a.append(a[i-1]+diff)\n",
    "    else:\n",
    "        diff += 2\n",
    "        a.append(a[i-1]+diff)\n",
    "print(a[-1])"
   ]
  },
  {
   "cell_type": "markdown",
   "id": "deef87fb",
   "metadata": {},
   "source": [
    "P28: Sum of n natural numbers."
   ]
  },
  {
   "cell_type": "code",
   "execution_count": 7,
   "id": "5bf75be2",
   "metadata": {},
   "outputs": [
    {
     "name": "stdout",
     "output_type": "stream",
     "text": [
      "6\n"
     ]
    }
   ],
   "source": [
    "n = int(input())\n",
    "sum = 0\n",
    "for i in range(1, n+1):\n",
    "    sum += i\n",
    "print(sum)"
   ]
  },
  {
   "cell_type": "markdown",
   "id": "78fb8bfe",
   "metadata": {},
   "source": [
    "P30: Odd digits in given integer"
   ]
  },
  {
   "cell_type": "code",
   "execution_count": 8,
   "id": "0484a1c4",
   "metadata": {},
   "outputs": [
    {
     "name": "stdout",
     "output_type": "stream",
     "text": [
      "1 3\n"
     ]
    }
   ],
   "source": [
    "x = list(map(int, input()))\n",
    "y = []\n",
    "for i in x:\n",
    "    if i%2 != 0:\n",
    "        y.append(i)\n",
    "if y == []:\n",
    "    print(-1)\n",
    "else:\n",
    "    print(*y)"
   ]
  },
  {
   "cell_type": "markdown",
   "id": "23e9cd5d",
   "metadata": {},
   "source": [
    "P32: Arasu Series 2, 5, 10, 17 ..."
   ]
  },
  {
   "cell_type": "code",
   "execution_count": 11,
   "id": "e1a25640",
   "metadata": {},
   "outputs": [
    {
     "name": "stdout",
     "output_type": "stream",
     "text": [
      "2 5 10 17\n"
     ]
    }
   ],
   "source": [
    "n = int(input())\n",
    "diff = 3\n",
    "a = [2]\n",
    "for i in range(1,n):\n",
    "    if i == 1:\n",
    "        a.append(a[i-1]+diff)\n",
    "    else:\n",
    "        diff += 2\n",
    "        a.append(a[i-1]+diff)\n",
    "print(*a)"
   ]
  },
  {
   "cell_type": "markdown",
   "id": "7b35b278",
   "metadata": {},
   "source": [
    "P33: Cuboid area and volume"
   ]
  },
  {
   "cell_type": "code",
   "execution_count": 1,
   "id": "680c445e",
   "metadata": {},
   "outputs": [
    {
     "name": "stdout",
     "output_type": "stream",
     "text": [
      "22 6\n"
     ]
    }
   ],
   "source": [
    "cuboid = [int(x) for x in input().split(' ', 2)]\n",
    "l, b, h = cuboid[0], cuboid[1], cuboid[2]\n",
    "area = 2*(l*b + b*h + h*l)\n",
    "volume = l*b*h\n",
    "print(area, volume)"
   ]
  },
  {
   "cell_type": "markdown",
   "id": "4ae9a060",
   "metadata": {},
   "source": [
    "P34: Reverse integer 10 -> 1"
   ]
  },
  {
   "cell_type": "code",
   "execution_count": 11,
   "id": "1dd7c2f8",
   "metadata": {},
   "outputs": [
    {
     "name": "stdout",
     "output_type": "stream",
     "text": [
      "[0, 5, 2, 6, 3]\n",
      "5263\n"
     ]
    }
   ],
   "source": [
    "x = list(map(int,input()))\n",
    "y = x[::-1]\n",
    "print(y)\n",
    "i = 0\n",
    "while (i<len(y)):\n",
    "    if y[0] == 0:\n",
    "        y.remove(y[i])\n",
    "    else:\n",
    "        i += 1\n",
    "print(*y,sep='')"
   ]
  },
  {
   "cell_type": "markdown",
   "id": "55ea5055",
   "metadata": {},
   "source": [
    "P35: Count list2 element in list1"
   ]
  },
  {
   "cell_type": "code",
   "execution_count": 13,
   "id": "266cc6b4",
   "metadata": {},
   "outputs": [
    {
     "name": "stdout",
     "output_type": "stream",
     "text": [
      "3 3 1 Not Present Not Present\n"
     ]
    }
   ],
   "source": [
    "from collections import Counter\n",
    "a1 = int(input())\n",
    "b1 = [int(x) for x in input().split(' ', a1-1)]\n",
    "a2 = int(input())\n",
    "b2 = [int(x) for x in input().split(' ', a2-1)]\n",
    "count = dict(Counter(b1))\n",
    "out = []\n",
    "for i in b2:\n",
    "    check = 0\n",
    "    for j, k in count.items():\n",
    "        if i == j:\n",
    "            out.append(k)\n",
    "            check += 1\n",
    "    if check == 0:\n",
    "        out.append('Not Present')\n",
    "print(*out)"
   ]
  },
  {
   "cell_type": "markdown",
   "id": "4298b9f0",
   "metadata": {},
   "source": [
    "P36: Print the index of element to change to be in sorted form. One change is allowed or -1"
   ]
  },
  {
   "cell_type": "code",
   "execution_count": 35,
   "id": "43cff6b5",
   "metadata": {},
   "outputs": [
    {
     "name": "stdout",
     "output_type": "stream",
     "text": [
      "[3, 10, 11, 14, 15]\n",
      "-1\n"
     ]
    }
   ],
   "source": [
    "# a = int(input())\n",
    "# b = [int(x) for x in input().split(' ', a-1)]\n",
    "a = 5\n",
    "b = [11, 10, 3, 14, 15]\n",
    "# b = [1, 2, 3, 4, 5, 6, 8]\n",
    "b_ascen = sorted(b)\n",
    "print(b_ascen)\n",
    "count = 0\n",
    "index = []\n",
    "for i in range(a):\n",
    "    if b[i] != b_ascen[i]:\n",
    "        count += 1\n",
    "        index.append(i)\n",
    "\n",
    "if index != []:\n",
    "    if abs(index[0]-index[1]) == 1:\n",
    "        print(index[0])\n",
    "    else: print(-1)    \n",
    "else:\n",
    "    print(-1)\n"
   ]
  },
  {
   "cell_type": "markdown",
   "id": "e02da714",
   "metadata": {},
   "source": [
    "P46: Float number to nearest greater integer"
   ]
  },
  {
   "cell_type": "code",
   "execution_count": 6,
   "id": "ca674054",
   "metadata": {},
   "outputs": [
    {
     "name": "stdout",
     "output_type": "stream",
     "text": [
      "2\n"
     ]
    }
   ],
   "source": [
    "import math\n",
    "print(int(math.ceil(1.1)))"
   ]
  },
  {
   "cell_type": "markdown",
   "id": "926e056c",
   "metadata": {},
   "source": [
    "P47: Factor of given number"
   ]
  },
  {
   "cell_type": "code",
   "execution_count": 1,
   "id": "fd257e69",
   "metadata": {},
   "outputs": [
    {
     "name": "stdout",
     "output_type": "stream",
     "text": [
      "1 2 3 6 9 18\n"
     ]
    }
   ],
   "source": [
    "x = int(input())\n",
    "factors = [1]\n",
    "for i in range(2, x+1):\n",
    "    if x%i == 0:\n",
    "        factors.append(i)\n",
    "print(*factors)\n"
   ]
  },
  {
   "cell_type": "markdown",
   "id": "f162ca97",
   "metadata": {},
   "source": [
    "P48: Print upto 5 decimals"
   ]
  },
  {
   "cell_type": "code",
   "execution_count": 24,
   "id": "b8bce834",
   "metadata": {},
   "outputs": [
    {
     "name": "stdout",
     "output_type": "stream",
     "text": [
      "17.20576\n"
     ]
    }
   ],
   "source": [
    "# l, b = map(float, input().split(' '))\n",
    "l, b = 2.5432, 6.7654\n",
    "area = l*b\n",
    "a = \"{:.6f}\".format(area)\n",
    "print(a[:-1])"
   ]
  },
  {
   "cell_type": "markdown",
   "id": "9e9942e5",
   "metadata": {},
   "source": [
    "P49: Lively number: all digits should be in same frequency"
   ]
  },
  {
   "cell_type": "code",
   "execution_count": 5,
   "id": "fc4ac2c5",
   "metadata": {},
   "outputs": [
    {
     "name": "stdout",
     "output_type": "stream",
     "text": [
      "1\n"
     ]
    }
   ],
   "source": [
    "from collections import Counter\n",
    "x = list(map(int, input()))\n",
    "d = dict(Counter(x))\n",
    "key = [key for key,value in d.items()]\n",
    "value = [value for key,value in d.items()]\n",
    "j = value[0]\n",
    "count = 0\n",
    "for i in value:\n",
    "    if i == j: count += 1\n",
    "if count == len(value):\n",
    "    print(1)\n",
    "else: print(0)"
   ]
  },
  {
   "cell_type": "markdown",
   "id": "38804f8c",
   "metadata": {},
   "source": [
    "P51: Stiff number = Sum of coprime"
   ]
  },
  {
   "cell_type": "code",
   "execution_count": 4,
   "id": "5201c112",
   "metadata": {},
   "outputs": [
    {
     "name": "stdout",
     "output_type": "stream",
     "text": [
      "[[1, 3], [2, 2], [3, 1]]\n",
      "[1, 3]\n",
      "[2, 2]\n",
      "[3, 1]\n",
      "Stiff\n"
     ]
    }
   ],
   "source": [
    "x = int(input())\n",
    "y = []\n",
    "z = []\n",
    "for i in range(1, x+1):\n",
    "    y.append(i)\n",
    "num = 0\n",
    "for i in y:\n",
    "    for j in y:\n",
    "        if i+j == x:\n",
    "            num += 1\n",
    "            k = [i, j]\n",
    "            z.append(k)\n",
    "print(z)\n",
    "coprime = False\n",
    "for i in range(num):\n",
    "    count = 0\n",
    "    for j in range(2,max(z[i])):\n",
    "        if max(z[i])%j == 0:\n",
    "            if min(z[i])%j == 0:\n",
    "                count += 1\n",
    "    if count == 0:\n",
    "        print(z[i])\n",
    "        coprime = True\n",
    "if coprime:\n",
    "    print('Stiff')\n",
    "else:\n",
    "    print('not stiff')"
   ]
  },
  {
   "cell_type": "markdown",
   "id": "f86dac14",
   "metadata": {},
   "source": [
    "P55: Factorization of number => 81 = 3*3*3*3"
   ]
  },
  {
   "cell_type": "code",
   "execution_count": 1,
   "id": "fe4b0e1d",
   "metadata": {},
   "outputs": [
    {
     "name": "stdout",
     "output_type": "stream",
     "text": [
      "[5, 5]\n"
     ]
    }
   ],
   "source": [
    "x = int(input())\n",
    "factors = []\n",
    "i = 2\n",
    "while(i < x):\n",
    "    if x%i == 0:\n",
    "        x = x//i\n",
    "        factors.append(i)\n",
    "    else:\n",
    "        i += 1\n",
    "factors.append(x)\n",
    "print(factors)\n",
    "# print(len(factors))\n"
   ]
  },
  {
   "cell_type": "markdown",
   "id": "e68f943d",
   "metadata": {},
   "source": [
    "P59: Factorial of number (n!)"
   ]
  },
  {
   "cell_type": "code",
   "execution_count": 10,
   "id": "a61cd1f9",
   "metadata": {},
   "outputs": [
    {
     "name": "stdout",
     "output_type": "stream",
     "text": [
      "5040\n"
     ]
    }
   ],
   "source": [
    "import math\n",
    "x = int(input())\n",
    "y = math.factorial(x)\n",
    "print(y)\n",
    "\n",
    "# j=1\n",
    "# for i in range(1, 6):\n",
    "#     j=j*i\n",
    "#     #print(j, i)\n",
    "# print(j)"
   ]
  },
  {
   "cell_type": "markdown",
   "id": "d7db91d5",
   "metadata": {},
   "source": [
    "P63: Series 3, 20, 63, 144, 275… Find the nth number"
   ]
  },
  {
   "cell_type": "code",
   "execution_count": 62,
   "id": "445c80bd",
   "metadata": {},
   "outputs": [
    {
     "name": "stdout",
     "output_type": "stream",
     "text": [
      "144\n"
     ]
    }
   ],
   "source": [
    "# n = int(input())\n",
    "n = 4\n",
    "mid1 = [3]\n",
    "mid2 = [3]\n",
    "result = []\n",
    "diff = 4\n",
    "for i in range(n):\n",
    "    temp = mid1[i] + diff\n",
    "    mid1.append(temp)\n",
    "    temp1 = mid2[i] + mid1[i+1]\n",
    "    mid2.append(temp1)\n",
    "# print(mid1)\n",
    "# print(mid2)\n",
    "for i in range(n+1):\n",
    "    result.append(mid2[i]*(i+1))\n",
    "print(result[n-1])\n"
   ]
  },
  {
   "cell_type": "markdown",
   "id": "84778a0c",
   "metadata": {},
   "source": [
    "P64: Find the length & breath from area and perimeter"
   ]
  },
  {
   "cell_type": "code",
   "execution_count": 5,
   "id": "41d27589",
   "metadata": {},
   "outputs": [
    {
     "name": "stdout",
     "output_type": "stream",
     "text": [
      "yes\n"
     ]
    }
   ],
   "source": [
    "# perimeter, area = map(int, input().split(' '))\n",
    "perimeter, area = 22, 30\n",
    "factors = False\n",
    "for i in range(1, perimeter+1):\n",
    "    for j in range(1, area+1):\n",
    "        if 2*(i+j) == perimeter and i*j == area:\n",
    "            print('yes')\n",
    "            factors = True\n",
    "            break\n",
    "    if factors: break\n",
    "if factors == False:\n",
    "    print('no')\n",
    "\n"
   ]
  },
  {
   "cell_type": "markdown",
   "id": "12acfe24",
   "metadata": {},
   "source": [
    "P65: Minimum factor that yeilds odd number as quotient."
   ]
  },
  {
   "cell_type": "code",
   "execution_count": 6,
   "id": "a279cd17",
   "metadata": {},
   "outputs": [
    {
     "name": "stdout",
     "output_type": "stream",
     "text": [
      "[1, 2, 2, 5, 11]\n",
      "1\n"
     ]
    }
   ],
   "source": [
    "# area = int(input())\n",
    "area = 9\n",
    "factors = [1]\n",
    "i = 2\n",
    "while(i < area):\n",
    "    if area%i == 0:\n",
    "        area = area//i\n",
    "        factors.append(i)\n",
    "    else:\n",
    "        i += 1\n",
    "factors.append(area)\n",
    "print(factors)\n",
    "y = []\n",
    "for i in factors:\n",
    "    if i%2 != 0:\n",
    "        y.append(i)\n",
    "y.sort()\n",
    "print(y[0])"
   ]
  },
  {
   "cell_type": "markdown",
   "id": "1a7c598f",
   "metadata": {},
   "source": [
    "P66: Find sine(30)"
   ]
  },
  {
   "cell_type": "code",
   "execution_count": 43,
   "id": "c202cb63",
   "metadata": {},
   "outputs": [
    {
     "name": "stdout",
     "output_type": "stream",
     "text": [
      "0.5\n"
     ]
    }
   ],
   "source": [
    "import math\n",
    "a = int(input())\n",
    "x = math.sin(math.radians(a))\n",
    "print(round(x,2))"
   ]
  },
  {
   "cell_type": "markdown",
   "id": "efa7b9f8",
   "metadata": {},
   "source": [
    "P67: Odd factors of number"
   ]
  },
  {
   "cell_type": "code",
   "execution_count": 52,
   "id": "8d50f7a4",
   "metadata": {},
   "outputs": [
    {
     "name": "stdout",
     "output_type": "stream",
     "text": [
      "1 2 3 4 6 12\n",
      "1 3\n"
     ]
    }
   ],
   "source": [
    "x = int(input())\n",
    "factors = [1]\n",
    "for i in range(2, x+1):\n",
    "    if x%i == 0:\n",
    "        factors.append(i)\n",
    "# print(*factors)\n",
    "odd_factors = []\n",
    "for i in factors:\n",
    "    if i%2 != 0:\n",
    "        odd_factors.append(i)\n",
    "print(*odd_factors)"
   ]
  },
  {
   "cell_type": "markdown",
   "id": "5307f632",
   "metadata": {},
   "source": [
    "P68: Check if 8 is power of 64"
   ]
  },
  {
   "cell_type": "code",
   "execution_count": 58,
   "id": "24e443db",
   "metadata": {},
   "outputs": [
    {
     "name": "stdout",
     "output_type": "stream",
     "text": [
      "no\n"
     ]
    }
   ],
   "source": [
    "# x, y = map(int, intput().split(' '))\n",
    "x, y = 120, 10\n",
    "i = 1\n",
    "while(i < x):\n",
    "    if pow(y, i) == x:\n",
    "        print('yes')\n",
    "        break\n",
    "    elif pow(y, i) > x:\n",
    "        print('no')\n",
    "        break\n",
    "    else:\n",
    "        i +=1"
   ]
  },
  {
   "cell_type": "markdown",
   "id": "14cd8a70",
   "metadata": {},
   "source": [
    "P69: Arithmetic Sum of series"
   ]
  },
  {
   "cell_type": "code",
   "execution_count": 60,
   "id": "5ea4b13b",
   "metadata": {},
   "outputs": [
    {
     "name": "stdout",
     "output_type": "stream",
     "text": [
      "3\n"
     ]
    }
   ],
   "source": [
    "# a, d, n = map(int, input().split(' '))\n",
    "a, d, n = 1, 1, 2\n",
    "sum = (n/2) * (2*a + (n-1)*d)\n",
    "print(int(sum))"
   ]
  },
  {
   "cell_type": "markdown",
   "id": "1e4aace8",
   "metadata": {},
   "source": [
    "P70: Check if the string is numeric"
   ]
  },
  {
   "cell_type": "code",
   "execution_count": 63,
   "id": "5bf48e9f",
   "metadata": {},
   "outputs": [
    {
     "name": "stdout",
     "output_type": "stream",
     "text": [
      "no\n"
     ]
    }
   ],
   "source": [
    "# x = input()\n",
    "x = 'guvigeeks'\n",
    "if x.isnumeric():\n",
    "    print('yes')\n",
    "else:\n",
    "    print('no')"
   ]
  },
  {
   "cell_type": "markdown",
   "id": "9b177990",
   "metadata": {},
   "source": [
    "P73: 10min to service car, n cars are waiting. Every k mins person arrive. How much time needed to wait for last person"
   ]
  },
  {
   "cell_type": "code",
   "execution_count": 18,
   "id": "59992b22",
   "metadata": {},
   "outputs": [
    {
     "name": "stdout",
     "output_type": "stream",
     "text": [
      "15\n"
     ]
    }
   ],
   "source": [
    "car, time = map(int, input().split(' '))\n",
    "waiting = (10 - time) * (car - 1)\n",
    "print(waiting)"
   ]
  },
  {
   "cell_type": "markdown",
   "id": "5c0291e6",
   "metadata": {},
   "source": [
    "P74: Hexadecimal to Decimal"
   ]
  },
  {
   "cell_type": "code",
   "execution_count": 8,
   "id": "2f3a5e48",
   "metadata": {},
   "outputs": [
    {
     "name": "stdout",
     "output_type": "stream",
     "text": [
      "659\n"
     ]
    }
   ],
   "source": [
    "hex = input()\n",
    "dec = int(hex, 16)\n",
    "print(dec)"
   ]
  },
  {
   "cell_type": "markdown",
   "id": "f5f490f6",
   "metadata": {},
   "source": [
    "P75: Binary to Decimal"
   ]
  },
  {
   "cell_type": "code",
   "execution_count": 9,
   "id": "0c6b318f",
   "metadata": {},
   "outputs": [
    {
     "name": "stdout",
     "output_type": "stream",
     "text": [
      "5\n"
     ]
    }
   ],
   "source": [
    "binary = input()\n",
    "integer = int(binary,2)\n",
    "print(integer)"
   ]
  },
  {
   "cell_type": "markdown",
   "id": "2ff8db63",
   "metadata": {},
   "source": [
    "P76: Highest factor of two numbers"
   ]
  },
  {
   "cell_type": "code",
   "execution_count": 18,
   "id": "c50641ac",
   "metadata": {},
   "outputs": [
    {
     "name": "stdout",
     "output_type": "stream",
     "text": [
      "5\n"
     ]
    }
   ],
   "source": [
    "x, y = map(int, input().split(' '))\n",
    "# x, y = 12, 24\n",
    "mm = max(x, y)\n",
    "i = 2\n",
    "factors = []\n",
    "while (i > 0):\n",
    "    if x%i == 0 and y%i == 0:\n",
    "        factors.append(i)\n",
    "        x = x//i\n",
    "        y = y//i\n",
    "    elif i == mm:\n",
    "        break\n",
    "    else:\n",
    "        i += 1\n",
    "factors.sort()\n",
    "print(factors[-1])"
   ]
  },
  {
   "cell_type": "markdown",
   "id": "44a5bb9d",
   "metadata": {},
   "source": [
    "P77: Permutation of nPr = n! / (n-r)!"
   ]
  },
  {
   "cell_type": "code",
   "execution_count": 1,
   "id": "b3bda3db",
   "metadata": {},
   "outputs": [
    {
     "name": "stdout",
     "output_type": "stream",
     "text": [
      "120\n"
     ]
    }
   ],
   "source": [
    "n, r = map(int, input().split(' '))\n",
    "def factorial(N):\n",
    "    # Your code goes here\n",
    "    j=1\n",
    "    for i in range(1, N+1):\n",
    "        j=j*i\n",
    "        #print(j, i)\n",
    "    return j\n",
    "\n",
    "perm = factorial(n) / factorial(n-r)\n",
    "print(int(perm))"
   ]
  },
  {
   "cell_type": "markdown",
   "id": "f9c2fdd0",
   "metadata": {},
   "source": [
    "P: Minimum no. of coins needed for sum"
   ]
  },
  {
   "cell_type": "code",
   "execution_count": 17,
   "id": "22d56151",
   "metadata": {},
   "outputs": [
    {
     "name": "stdout",
     "output_type": "stream",
     "text": [
      "3\n"
     ]
    }
   ],
   "source": [
    "# x, sum = map(int, input().split(' '))\n",
    "# coins = [int(x) for x in input().split(' ',x-1)]\n",
    "x, sum = 3, 11\n",
    "coins = [1, 3, 5]\n",
    "coins.sort(reverse=True)\n",
    "count = 0\n",
    "i = 0\n",
    "while (sum > 0):\n",
    "    if sum - coins[i] >= 0:\n",
    "        count += 1\n",
    "        sum = sum - coins[i]\n",
    "    elif i < len(coins)-1:\n",
    "        i += 1\n",
    "print(count)"
   ]
  },
  {
   "cell_type": "markdown",
   "id": "f7d44199",
   "metadata": {},
   "source": [
    "P: Roman army weakness w.r.t to postion and power ai > aj > ak"
   ]
  },
  {
   "cell_type": "code",
   "execution_count": 22,
   "id": "ec0ffa6f",
   "metadata": {},
   "outputs": [
    {
     "name": "stdout",
     "output_type": "stream",
     "text": [
      "[2, 3, 1] [3, 2, 1]\n",
      "0\n"
     ]
    }
   ],
   "source": [
    "x = int(input())\n",
    "y = [int(x) for x in input().split(' ',x-1)]\n",
    "z = sorted(y, reverse=True)\n",
    "if z == y:\n",
    "    print(1)\n",
    "else:\n",
    "    for i in range(x):\n",
    "        if y[i] < z[i]:\n",
    "            print(i)\n",
    "            break"
   ]
  },
  {
   "cell_type": "markdown",
   "id": "09acd90e",
   "metadata": {},
   "source": [
    "P78: Check for power of the number"
   ]
  },
  {
   "cell_type": "code",
   "execution_count": 5,
   "id": "745dea3d",
   "metadata": {},
   "outputs": [
    {
     "name": "stdout",
     "output_type": "stream",
     "text": [
      "yes\n"
     ]
    }
   ],
   "source": [
    "x = int(input())\n",
    "i = 1\n",
    "its_power = False\n",
    "while (i < x):\n",
    "    t = pow(2,i)\n",
    "    if t == x:\n",
    "        its_power = True\n",
    "        print('yes')\n",
    "        break\n",
    "    else:\n",
    "        i += 1\n",
    "if its_power == False:\n",
    "    print('no')"
   ]
  },
  {
   "cell_type": "markdown",
   "id": "94eb6a56",
   "metadata": {},
   "source": [
    "P84: Check for alternating array; Increasing & Decreasing"
   ]
  },
  {
   "cell_type": "code",
   "execution_count": 8,
   "id": "fd34518f",
   "metadata": {},
   "outputs": [
    {
     "name": "stdout",
     "output_type": "stream",
     "text": [
      "yes\n"
     ]
    }
   ],
   "source": [
    "# x = int(input())\n",
    "# y = [int(x) for x in input().split(' ',x-1)]\n",
    "x = 5\n",
    "y = [12, 14, 3, 7, 4]\n",
    "count = 0\n",
    "for i in range(1, x):\n",
    "    if y[i-1] < y[i]:\n",
    "        count += 1\n",
    "        continue\n",
    "    elif y[i-1] > y[i]:\n",
    "        count += 1\n",
    "        continue\n",
    "if count == x-1:\n",
    "    print('yes')\n",
    "else:\n",
    "    print('no')"
   ]
  },
  {
   "cell_type": "markdown",
   "id": "b408b871",
   "metadata": {},
   "source": [
    "P89: Print the value of a!/b!"
   ]
  },
  {
   "cell_type": "code",
   "execution_count": 11,
   "id": "a99e0d69",
   "metadata": {},
   "outputs": [
    {
     "name": "stdout",
     "output_type": "stream",
     "text": [
      "12\n"
     ]
    }
   ],
   "source": [
    "import math\n",
    "def factorial(x):\n",
    "    return math.factorial(x)\n",
    "\n",
    "a, b = map(int, input().split(' '))\n",
    "if a <=10000 and b <= 10000 and a-b <= 5:\n",
    "    y = factorial(a) / factorial(b)\n",
    "    print(int(y))"
   ]
  },
  {
   "cell_type": "markdown",
   "id": "127bde40",
   "metadata": {},
   "source": [
    "P92: Check if n is power of 2"
   ]
  },
  {
   "cell_type": "code",
   "execution_count": 13,
   "id": "351003a1",
   "metadata": {},
   "outputs": [
    {
     "name": "stdout",
     "output_type": "stream",
     "text": [
      "yes\n"
     ]
    }
   ],
   "source": [
    "# x = int(input())\n",
    "x = 64\n",
    "yes = False\n",
    "i = 1\n",
    "while(i < x):\n",
    "    if pow(2, i) == x:\n",
    "        yes = True\n",
    "        print('yes')\n",
    "        break\n",
    "    else:\n",
    "        i += 1\n",
    "if yes == False:\n",
    "    print('no')"
   ]
  },
  {
   "cell_type": "markdown",
   "id": "efe9f06e",
   "metadata": {},
   "source": [
    "P93: If sum of fist 2 digits exist in integer"
   ]
  },
  {
   "cell_type": "code",
   "execution_count": 13,
   "id": "36daff37",
   "metadata": {},
   "outputs": [
    {
     "name": "stdout",
     "output_type": "stream",
     "text": [
      "1\n"
     ]
    }
   ],
   "source": [
    "# x = list(map(int, input()))\n",
    "x = [9, 8, 1, 7]\n",
    "dig_sum = list(map(int, str(x[0] + x[1])))\n",
    "# print(dig_sum, x)\n",
    "count = 0\n",
    "for i in dig_sum:\n",
    "    if i in x:\n",
    "        count += 1\n",
    "if count == len(dig_sum):\n",
    "    print('1')\n",
    "else:\n",
    "    print('0')\n",
    "\n"
   ]
  },
  {
   "cell_type": "markdown",
   "id": "c427007e",
   "metadata": {},
   "source": [
    "P94: Count elements which total sum be less or equalt to b"
   ]
  },
  {
   "cell_type": "code",
   "execution_count": 14,
   "id": "7231c1ca",
   "metadata": {},
   "outputs": [
    {
     "name": "stdout",
     "output_type": "stream",
     "text": [
      "[1, 5, 10, 12, 111, 200, 1000]\n",
      "4\n"
     ]
    }
   ],
   "source": [
    "# a, b = map(int, input().split(' '))\n",
    "# c = [int(x) for x in input().split(' ', a-1)]\n",
    "a, b = 7, 50\n",
    "c = [1, 12, 5, 111, 200, 1000, 10]\n",
    "c.sort()\n",
    "print(c)\n",
    "count = 0\n",
    "for i in c:\n",
    "    if i < b:\n",
    "        b -= i\n",
    "        count += 1\n",
    "print(count)"
   ]
  },
  {
   "cell_type": "markdown",
   "id": "7fc74c2b",
   "metadata": {},
   "source": [
    "P95: ZX number, its the sum of 3 no. whose HCF is 1"
   ]
  },
  {
   "cell_type": "code",
   "execution_count": 6,
   "id": "15ee09f5",
   "metadata": {},
   "outputs": [
    {
     "name": "stdout",
     "output_type": "stream",
     "text": [
      "[1, 1, 5] [1, 2, 4] [1, 3, 3] [1, 4, 2] [1, 5, 1] [2, 1, 4] [2, 2, 3] [2, 3, 2] [2, 4, 1] [3, 1, 3] [3, 2, 2] [3, 3, 1] [4, 1, 2] [4, 2, 1] [5, 1, 1]\n"
     ]
    }
   ],
   "source": [
    "# x = int(input())\n",
    "x = 7\n",
    "def coprime(a, b, c):\n",
    "    count = 0\n",
    "    for j in range(2,max(a, b, c)):\n",
    "        if a%j == 0 and b%j == 0 and c%j == 0:\n",
    "            count += 1\n",
    "    if count == 0:\n",
    "        return True\n",
    "    else:\n",
    "        return False\n",
    "\n",
    "result = []\n",
    "for a in range(1, x):\n",
    "    for b in range(1, x):\n",
    "        for c in range(1, x):\n",
    "            if a + b + c == x:\n",
    "                if coprime(a, b, c):\n",
    "                    temp = [a,b,c]\n",
    "                    result.append(temp)\n",
    "                \n",
    "# result[0].sort()\n",
    "if result != []:\n",
    "    print(*result)\n",
    "else:\n",
    "    print(0)\n",
    "\n",
    "                    \n"
   ]
  },
  {
   "cell_type": "code",
   "execution_count": 9,
   "id": "44585524",
   "metadata": {},
   "outputs": [
    {
     "name": "stdout",
     "output_type": "stream",
     "text": [
      "2 4 3\n"
     ]
    }
   ],
   "source": [
    "x = int(input())\n",
    "result = []\n",
    "for a in range(1, x):\n",
    "    for b in range(1, x):\n",
    "        for c in range(1, x):\n",
    "            if a + b + c == x:\n",
    "                count = 0\n",
    "                for j in range(2,max(a, b, c)):\n",
    "                    if a%j != 0 and b%j != 0 and c%j != 0:\n",
    "                        count += 1\n",
    "                if count == 0:\n",
    "                    temp = [a, b, c]\n",
    "                    result.append(temp)\n",
    "# result[0].sort()\n",
    "if result != []:\n",
    "    print(*result[1])\n",
    "else:\n",
    "    print(0)"
   ]
  },
  {
   "cell_type": "markdown",
   "id": "eb3d49f3",
   "metadata": {},
   "source": [
    "P96: Combination formula"
   ]
  },
  {
   "cell_type": "code",
   "execution_count": 38,
   "id": "da356cf3",
   "metadata": {},
   "outputs": [
    {
     "name": "stdout",
     "output_type": "stream",
     "text": [
      "10\n"
     ]
    }
   ],
   "source": [
    "n, r = map(int, input().split(' '))\n",
    "def factorial(N):\n",
    "    j=1\n",
    "    for i in range(1, N+1):\n",
    "        j=j*i\n",
    "    return j\n",
    "\n",
    "combi = factorial(n) / (factorial(r) * factorial(n-r))\n",
    "print(int(combi))"
   ]
  },
  {
   "cell_type": "markdown",
   "id": "d398a7a9",
   "metadata": {},
   "source": [
    "P98: Find 3 number, such that sum of factorial equal to n \n",
    "      (https://forum.guvi.in/posts/3948/codekata)"
   ]
  },
  {
   "cell_type": "code",
   "execution_count": 10,
   "id": "bd50135c",
   "metadata": {},
   "outputs": [
    {
     "name": "stdout",
     "output_type": "stream",
     "text": [
      "-1\n"
     ]
    }
   ],
   "source": [
    "import itertools\n",
    "n = int(input())\n",
    "result = []\n",
    "def factorial(N):\n",
    "    j=1\n",
    "    for i in range(1, N+1):\n",
    "        j=j*i\n",
    "    return j\n",
    "\n",
    "def summation(m, n):\n",
    "    sum = 0\n",
    "    for i in m:\n",
    "        sum += factorial(i)\n",
    "    if sum == n:\n",
    "        # print(sum)\n",
    "        return True\n",
    "    # elif sum > n: print(*m, sum)\n",
    "    else:\n",
    "        return False\n",
    "\n",
    "for i, j, k in itertools.product(range(1,10), range(1,10), range(1,10)):\n",
    "    m = [i, j, k]\n",
    "    if summation(m, n):\n",
    "        result = m\n",
    "        break\n",
    "if result != []:\n",
    "    print(*result, sep='')\n",
    "else:\n",
    "    print(-1)"
   ]
  },
  {
   "cell_type": "markdown",
   "id": "1408657e",
   "metadata": {},
   "source": [
    "P100: Check 'HYP' Number, all the digits should be prime"
   ]
  },
  {
   "cell_type": "code",
   "execution_count": 10,
   "id": "5cf49c09",
   "metadata": {},
   "outputs": [
    {
     "name": "stdout",
     "output_type": "stream",
     "text": [
      "2277\n"
     ]
    }
   ],
   "source": [
    "x = int(input())\n",
    "p = []\n",
    "z = 1\n",
    "while(True):\n",
    "    z += 1\n",
    "    a = str(z)\n",
    "    a = list(map(int, a))\n",
    "    prime = True\n",
    "    count = 0\n",
    "    for num in a:             #Check for each digit to be prime\n",
    "        if num > 1:\n",
    "            for i in range(2,num):\n",
    "                if (num%i == 0):\n",
    "                    prime = False\n",
    "            if prime: count += 1\n",
    "    if count == len(a):\n",
    "        p.append(z)\n",
    "    if len(p) == x:\n",
    "        break\n",
    "print(p[x-1])"
   ]
  },
  {
   "cell_type": "markdown",
   "id": "3ed0d9c3",
   "metadata": {},
   "source": [
    "P102: Shift the index of array by a (clockwise)"
   ]
  },
  {
   "cell_type": "code",
   "execution_count": 21,
   "metadata": {},
   "outputs": [
    {
     "name": "stdout",
     "output_type": "stream",
     "text": [
      "nterHu\n"
     ]
    }
   ],
   "source": [
    "# y, z = input().split(' ')\n",
    "y, z = 'Hunter', 2\n",
    "z = int(z)\n",
    "y = list(y)\n",
    "x = len(y)\n",
    "\n",
    "k1 = y[:z]\n",
    "k2 = y[z:]\n",
    "k3 = k2 + k1\n",
    "print(*k3, sep='') \n"
   ]
  },
  {
   "cell_type": "code",
   "execution_count": 24,
   "id": "93d053b1",
   "metadata": {},
   "outputs": [
    {
     "name": "stdout",
     "output_type": "stream",
     "text": [
      "E\n"
     ]
    }
   ],
   "source": [
    "x = list(map(int, input()))\n",
    "k = []\n",
    "for i in x:\n",
    "    if i%2 != 0:\n",
    "        k.append(i)\n",
    "sum = 0\n",
    "for i in k:\n",
    "    sum += i\n",
    "\n",
    "if sum%2 == 0:\n",
    "    print('E')\n",
    "else:\n",
    "    print('O')"
   ]
  },
  {
   "cell_type": "markdown",
   "id": "eb8f52ed",
   "metadata": {},
   "source": [
    "P111: Sum of product of diagonals of matrix"
   ]
  },
  {
   "cell_type": "code",
   "execution_count": 14,
   "id": "e1e9ae6d",
   "metadata": {},
   "outputs": [
    {
     "name": "stdout",
     "output_type": "stream",
     "text": [
      "1 2 2\n",
      "2 4 4\n",
      "2 12 3\n",
      "1 14 7\n",
      "26\n"
     ]
    }
   ],
   "source": [
    "import itertools\n",
    "# N = int(input())\n",
    "# mat = []\n",
    "# for i in range(N):\n",
    "#     k = [int(x) for x in input().split(' ', N-1)]\n",
    "#     mat.append(k)\n",
    "N = 2\n",
    "mat = [[2, 4], [3, 7]]\n",
    "dia1 = 1\n",
    "dia2 = 1\n",
    "for i, j in itertools.product(range(N), range(N)):\n",
    "    if i == j:\n",
    "        dia1 *= mat[i][j]\n",
    "        print('1',dia1, mat[i][j])\n",
    "    if i+j == N-1:\n",
    "        dia2 *= mat[i][j]\n",
    "        print('2',dia2, mat[i][j])\n",
    "sum = dia1 + dia2\n",
    "print(sum)"
   ]
  },
  {
   "cell_type": "markdown",
   "id": "968cf496",
   "metadata": {},
   "source": [
    "P113: Bitwise XOR -> Integer -> Binary ->  Count '1'"
   ]
  },
  {
   "cell_type": "code",
   "execution_count": 19,
   "id": "653e21be",
   "metadata": {},
   "outputs": [
    {
     "name": "stdout",
     "output_type": "stream",
     "text": [
      "4\n"
     ]
    }
   ],
   "source": [
    "import numpy as np\n",
    "# y = [int(x) for x in input().split(' ')]\n",
    "y = [10, 5]\n",
    "bxor = y[0]\n",
    "for i in range(1, len(y)):\n",
    "        bxor = np.bitwise_xor(bxor, y[i])\n",
    "binary = str(format(bxor, 'b'))\n",
    "print(binary.count('1'))"
   ]
  },
  {
   "cell_type": "markdown",
   "id": "33be6e82",
   "metadata": {},
   "source": [
    "P125: Catalan Number Series"
   ]
  },
  {
   "cell_type": "code",
   "execution_count": 4,
   "id": "5567fd2e",
   "metadata": {},
   "outputs": [
    {
     "name": "stdout",
     "output_type": "stream",
     "text": [
      "1 1 2 5 14 42 132 429 1430 4862 16796\n"
     ]
    }
   ],
   "source": [
    "# Catalan Number\n",
    "\n",
    "n = int(input())\n",
    "def catalan(n):\n",
    "    if n <= 1:\n",
    "        return 1\n",
    "    result_sum = 0\n",
    "    for i in range(n):\n",
    "        result_sum += catalan(i) * catalan(n-i-1)\n",
    "    return result_sum\n",
    "\n",
    "nums = []\n",
    "\n",
    "for i in range(n+1):\n",
    "    nums.append(catalan(i))\n",
    "print(*nums)"
   ]
  },
  {
   "cell_type": "markdown",
   "id": "a89c2c15",
   "metadata": {},
   "source": [
    "P127: Correct the series"
   ]
  },
  {
   "cell_type": "code",
   "execution_count": 18,
   "id": "bfbe1b5a",
   "metadata": {},
   "outputs": [
    {
     "name": "stdout",
     "output_type": "stream",
     "text": [
      "-7 -7 -7 -7 -7 -7 -7 -7 -7\n"
     ]
    }
   ],
   "source": [
    "x = int(input())\n",
    "y = list(input().split(' '))\n",
    "if y[-1] == '':\n",
    "    y = y[:-1]\n",
    "y = list(map(int, y))\n",
    "result = []\n",
    "if y[0] == y[1]:\n",
    "    for i in range(1, x+1):\n",
    "        result.append(y[0])\n",
    "elif y[0] == pow(2,1) and y[-1] == pow(2,x):\n",
    "    for i in range(1, x+1):\n",
    "        result.append(pow(2,i))\n",
    "\n",
    "print(*result)"
   ]
  },
  {
   "cell_type": "markdown",
   "id": "eb6f58ee",
   "metadata": {},
   "source": [
    "P131: Matrix: Products of Sum of diagonal elements"
   ]
  },
  {
   "cell_type": "code",
   "execution_count": 21,
   "id": "74d8995b",
   "metadata": {},
   "outputs": [
    {
     "name": "stdout",
     "output_type": "stream",
     "text": [
      "63\n"
     ]
    }
   ],
   "source": [
    "import itertools\n",
    "# N = int(input())\n",
    "# mat = []\n",
    "# for i in range(N):\n",
    "#     k = [int(x) for x in input().split(' ', N-1)]\n",
    "#     mat.append(k)\n",
    "N = 2\n",
    "mat = [[2, 4], [3, 7]]\n",
    "dia1 = 0\n",
    "dia2 = 0\n",
    "for i, j in itertools.product(range(N), range(N)):\n",
    "    if i == j:\n",
    "        dia1 += mat[i][j]\n",
    "        # print('1',dia1, mat[i][j])\n",
    "    if i+j == N-1:\n",
    "        dia2 += mat[i][j]\n",
    "        # print('2',dia2, mat[i][j])\n",
    "product = dia1 * dia2\n",
    "print(product)"
   ]
  },
  {
   "cell_type": "markdown",
   "id": "13480f41",
   "metadata": {},
   "source": [
    "P132: Print the smallest number with sum of digits N"
   ]
  },
  {
   "cell_type": "code",
   "execution_count": null,
   "id": "ac442dd0",
   "metadata": {},
   "outputs": [],
   "source": [
    "x = list(map(int, input()))\n",
    "result = []\n",
    "result.append(sum(x))\n",
    "for i in range(x[0]):\n",
    "    result.append(9)\n",
    "print(*result, sep='')"
   ]
  },
  {
   "cell_type": "markdown",
   "id": "42af503f",
   "metadata": {},
   "source": [
    "P133: Check if the sum of the digits is a Palindrome"
   ]
  },
  {
   "cell_type": "code",
   "execution_count": 25,
   "id": "74ae4a2e",
   "metadata": {},
   "outputs": [
    {
     "name": "stdout",
     "output_type": "stream",
     "text": [
      "yes\n"
     ]
    }
   ],
   "source": [
    "x = list(input())\n",
    "x = list(map(int, x))\n",
    "s = sum(x)\n",
    "z = list(str(s))\n",
    "y = z[::-1]\n",
    "if z == y:\n",
    "    print('yes')\n",
    "else:\n",
    "    print('no')\n"
   ]
  },
  {
   "cell_type": "markdown",
   "id": "f760cc09",
   "metadata": {},
   "source": [
    "P134: Find the number of pairs such ai + aj = ak for all i < j < k."
   ]
  },
  {
   "cell_type": "code",
   "execution_count": 26,
   "id": "7bfc244b",
   "metadata": {},
   "outputs": [
    {
     "name": "stdout",
     "output_type": "stream",
     "text": [
      "3\n"
     ]
    }
   ],
   "source": [
    "x = int(input())\n",
    "y = [int(x) for x in input().split(' ', x-1)]\n",
    "found = False\n",
    "for i in range(x):\n",
    "    if i+2 <= x-1:\n",
    "        if y[i] + y[i+1] == y[i+2]:\n",
    "            found = True\n",
    "            print(i+1)\n",
    "if found == False:\n",
    "    print(0)"
   ]
  },
  {
   "cell_type": "markdown",
   "id": "4ad2a1c7",
   "metadata": {},
   "source": [
    "P135: Clock Angle Problem"
   ]
  },
  {
   "cell_type": "code",
   "execution_count": 27,
   "id": "67c5e0aa",
   "metadata": {},
   "outputs": [
    {
     "name": "stdout",
     "output_type": "stream",
     "text": [
      "75\n"
     ]
    }
   ],
   "source": [
    "hh, mm = map(int, input().split(' '))\n",
    "h = (hh * 360) // 12 + (mm * 360) // (12 * 60)\n",
    "m = (mm * 360) // (60)\n",
    "angle = abs(h - m)\n",
    "if angle > 180:\n",
    "    angle = 360 - angle\n",
    "print(angle)"
   ]
  },
  {
   "cell_type": "markdown",
   "id": "a3a28801",
   "metadata": {},
   "source": [
    "P136: Print Series 1, 6, 120 ..."
   ]
  },
  {
   "cell_type": "code",
   "execution_count": 6,
   "id": "50d370d0",
   "metadata": {},
   "outputs": [
    {
     "name": "stdout",
     "output_type": "stream",
     "text": [
      "[1, 2, 3, 4, 5, 6]\n",
      "[2, 6]\n"
     ]
    }
   ],
   "source": [
    "x = int(input())\n",
    "result = []\n",
    "ll = [y for y in range(1, x+1)]\n",
    "# print(ll)\n",
    "i = 1\n",
    "j = 0\n",
    "while(True):\n",
    "    mul = 1\n",
    "    for k in range(i):\n",
    "        mul *= ll[j]\n",
    "        j += 1\n",
    "    result.append(mul)\n",
    "    if j < x:\n",
    "        i += 1\n",
    "    else:\n",
    "        break\n",
    "\n",
    "print(*result)"
   ]
  },
  {
   "cell_type": "markdown",
   "id": "c3965158",
   "metadata": {},
   "source": [
    " P137: Rotate index in left by z numbers"
   ]
  },
  {
   "cell_type": "code",
   "execution_count": null,
   "id": "6787746b",
   "metadata": {},
   "outputs": [],
   "source": [
    "x, z = map(int, input().split(' '))\n",
    "y = [int(x) for x in input().split(' ', x-1)]\n",
    "if z > x:\n",
    "    z = z - x\n",
    "temp = y[:z]\n",
    "y[:] = y[z:]\n",
    "y = y + temp\n",
    "print(*y)\n"
   ]
  },
  {
   "cell_type": "markdown",
   "id": "a9637937",
   "metadata": {},
   "source": [
    "P138: Find the sum of minimum two numbers formed by the digits"
   ]
  },
  {
   "cell_type": "code",
   "execution_count": null,
   "id": "2f195173",
   "metadata": {},
   "outputs": [],
   "source": [
    "# x = int(input())\n",
    "# y = [int(y) for y in input().split(' ', x-1)]\n",
    "y = [6, 8, 4, 5, 2, 3]\n",
    "y.sort()\n",
    "list1, list2 = [], []\n",
    "for i in range(len(y)):\n",
    "    if i%2 == 0:\n",
    "        list1.append(y[i])\n",
    "    else:\n",
    "        list2.append(y[i])\n",
    "# print(list1, list2)\n",
    "list1 = int(''.join(map(str,list1)))\n",
    "list2 = int(''.join(map(str,list2)))\n",
    "print(list1+list2)"
   ]
  },
  {
   "cell_type": "markdown",
   "id": "9447751c",
   "metadata": {},
   "source": [
    " P139: Print Inverted right triangle"
   ]
  },
  {
   "cell_type": "code",
   "execution_count": null,
   "id": "a465dd0b",
   "metadata": {},
   "outputs": [],
   "source": [
    "# x = int(input())\n",
    "x = 3\n",
    "diff = 1\n",
    "for i in range(x, 0, -1):\n",
    "    print(*[1 for x in range(i)])\n"
   ]
  },
  {
   "cell_type": "markdown",
   "id": "77c26e24",
   "metadata": {},
   "source": [
    "P141: Find the index of nearest smaller or equal number k"
   ]
  },
  {
   "cell_type": "code",
   "execution_count": 1,
   "id": "3decbd23",
   "metadata": {},
   "outputs": [
    {
     "name": "stdout",
     "output_type": "stream",
     "text": [
      "2\n"
     ]
    }
   ],
   "source": [
    "x, k = map(int, input().split(' '))\n",
    "y = [int(x) for x in input().split(' ', x-1)]\n",
    "y.sort()\n",
    "if k in y:\n",
    "    id = y.index(k)\n",
    "    z = id\n",
    "    print(z)\n",
    "else:\n",
    "    y.append(k)\n",
    "    y.sort()\n",
    "    id = y.index(k)\n",
    "    z = id-1\n",
    "    print(z)"
   ]
  },
  {
   "cell_type": "markdown",
   "id": "6c583d1b",
   "metadata": {},
   "source": [
    " P143: Minimum currency needed for sum"
   ]
  },
  {
   "cell_type": "code",
   "execution_count": null,
   "id": "ba0ad2a5",
   "metadata": {},
   "outputs": [],
   "source": [
    "# sum = int(input()) \n",
    "sum = 689\n",
    "coins = [1000, 500, 100, 50, 10, 1]\n",
    "coins.sort(reverse=True)\n",
    "count = 0\n",
    "i = 0\n",
    "while (sum > 0):\n",
    "    if sum - coins[i] >= 0:\n",
    "        count += 1\n",
    "        sum = sum - coins[i]\n",
    "    elif i < len(coins)-1:\n",
    "        i += 1\n",
    "print(count)\n"
   ]
  },
  {
   "cell_type": "markdown",
   "id": "4ff89b02",
   "metadata": {},
   "source": [
    " P144: Find the high grader"
   ]
  },
  {
   "cell_type": "code",
   "execution_count": null,
   "id": "0f03591f",
   "metadata": {},
   "outputs": [],
   "source": [
    "# x = []\n",
    "# for i in range(2):\n",
    "#     x.append(list(input().split('#')))\n",
    "x = [['arun', '12', '12', '12'], ['deepak', '13', '12', '12']]\n",
    "st_sum = []\n",
    "for i in range(2):\n",
    "    st_sum.append(x[i][0])\n",
    "    ssum = 0\n",
    "    for j in range(1, 4): \n",
    "        x[i][j] = int(x[i][j])\n",
    "        ssum += x[i][j]\n",
    "    st_sum.append(ssum)\n",
    "id = st_sum.index(max(st_sum[1], st_sum[3]))\n",
    "print(st_sum[id-1])\n"
   ]
  },
  {
   "cell_type": "markdown",
   "id": "e4e2b3f7",
   "metadata": {},
   "source": [
    " P146: Count occurance of N in range(L, R)"
   ]
  },
  {
   "cell_type": "code",
   "execution_count": null,
   "id": "b0b7cf90",
   "metadata": {},
   "outputs": [],
   "source": [
    "# L, R, N = map(int, input().split(' '))\n",
    "L, R, N = 81, 90, 0\n",
    "N = str(N)\n",
    "count = 0\n",
    "for i in range(L, R+1):\n",
    "    st = str(i)\n",
    "    if st == N or N in st:\n",
    "        count += 1\n",
    "print(count)\n"
   ]
  },
  {
   "cell_type": "markdown",
   "id": "8f8893c6",
   "metadata": {},
   "source": [
    " P147: Count the pillars which can be seen"
   ]
  },
  {
   "cell_type": "code",
   "execution_count": null,
   "id": "0349f06c",
   "metadata": {},
   "outputs": [],
   "source": [
    "# N = int(input())\n",
    "# x = [int(x) for x in input().split(' ', N-1)]\n",
    "x = [11, 5, 9, 6, 7]\n",
    "count = 0\n",
    "maxi = 0\n",
    "for i in range(len(x)):\n",
    "    if i == 0:\n",
    "        maxi = x[i]\n",
    "        count += 1\n",
    "    elif maxi < x[i]:\n",
    "        maxi = x[i]\n",
    "        count += 1\n",
    "    else:\n",
    "        break\n",
    "print(count)\n"
   ]
  },
  {
   "cell_type": "markdown",
   "id": "b1ae3780",
   "metadata": {},
   "source": [
    " P148: Count no. b/w L, R such that sum of digits = Prime"
   ]
  },
  {
   "cell_type": "code",
   "execution_count": null,
   "id": "359980b1",
   "metadata": {},
   "outputs": [],
   "source": [
    "L, R = map(int, input().split(' '))\n",
    "def check_prime(num):\n",
    "    prime = True\n",
    "    for i in range(2,num):\n",
    "        if (num%i == 0):\n",
    "            prime = False\n",
    "    if prime: return True\n",
    "    else: return False\n",
    "\n",
    "count = 0\n",
    "for i in range(L, R):\n",
    "    temp = str(i)\n",
    "    num = sum(list(map(int, temp)))\n",
    "    if num != 1 and check_prime(num):\n",
    "        # print(num, i)\n",
    "        count += 1\n",
    "print(count)\n"
   ]
  },
  {
   "cell_type": "markdown",
   "id": "6bbd934d",
   "metadata": {},
   "source": [
    " P149: Count pairs such that sum of 2 prime = N"
   ]
  },
  {
   "cell_type": "code",
   "execution_count": null,
   "id": "62ccc2fa",
   "metadata": {},
   "outputs": [],
   "source": [
    "N = int(input())\n",
    "p = []\n",
    "for i in range(2, N):\n",
    "    prime = True\n",
    "    for j in range(2,i):\n",
    "        if (i%j == 0):\n",
    "            prime = False\n",
    "    if prime: \n",
    "        p.append(i)         \n",
    "# print(p)\n",
    "count = 0\n",
    "for i in range(len(p)):\n",
    "    for j in range(i, len(p)):\n",
    "        if p[i] + p[j] == N:\n",
    "            count += 1\n",
    "            # print(p[i], p[j])\n",
    "print(count)\n"
   ]
  },
  {
   "cell_type": "markdown",
   "id": "7bda0443",
   "metadata": {},
   "source": [
    " P150: Matrix add dia + right"
   ]
  },
  {
   "cell_type": "code",
   "execution_count": null,
   "id": "4f8bf7ac",
   "metadata": {},
   "outputs": [],
   "source": [
    "import itertools\n",
    "# N, M = map(int, input().split(' '))\n",
    "# mat = []\n",
    "# for i in range(N):\n",
    "#     temp = [int(x) for x in input().split(' ', M-1)]\n",
    "#     mat.append(temp)\n",
    "N = 2\n",
    "mat = [[2, 4], [3, 7]]\n",
    "dia1 = 0\n",
    "for i, j in itertools.product(range(N), range(N)):\n",
    "    if i == j:\n",
    "        dia1 += mat[i][j]\n",
    "        try:\n",
    "            dia1 += mat[i][j+1]\n",
    "        except:\n",
    "            None\n",
    "        # print('1',dia1, mat[i][j])\n",
    "print(dia1)\n"
   ]
  },
  {
   "cell_type": "markdown",
   "id": "5efcade7",
   "metadata": {},
   "source": [
    " P151: Possible outcomes of N (13 faced) dices thrown (Modulo)"
   ]
  },
  {
   "cell_type": "code",
   "execution_count": null,
   "id": "6e7f16a7",
   "metadata": {},
   "outputs": [],
   "source": [
    "N = int(input())\n",
    "M = 1000000007\n",
    "f = 13\n",
    "result = 1\n",
    "for i in range(N):\n",
    "    result = (result * f) % M\n",
    "print(result)\n",
    "\n"
   ]
  },
  {
   "cell_type": "markdown",
   "id": "3047a448",
   "metadata": {},
   "source": [
    "P152: Count of numbers in the range [a,b] in which there are prime number of 1's in their binary representation."
   ]
  },
  {
   "cell_type": "code",
   "execution_count": 2,
   "id": "677471be",
   "metadata": {},
   "outputs": [
    {
     "name": "stdout",
     "output_type": "stream",
     "text": [
      "7\n"
     ]
    }
   ],
   "source": [
    "L, R = map(int, input().split(' '))\n",
    "prime = []\n",
    "for i in range(L, R):\n",
    "    prime_value = True\n",
    "    if i == 1:\n",
    "        continue\n",
    "    for j in range(2, i):\n",
    "        if i%j == 0:\n",
    "            prime_value = False\n",
    "    if prime_value:\n",
    "        prime.append(i)\n",
    "\n",
    "count_1s = 0\n",
    "for i in prime:\n",
    "    x = format(i, 'b')\n",
    "    count_1s += x.count('1')\n",
    "print(count_1s)"
   ]
  },
  {
   "cell_type": "markdown",
   "id": "9410a009",
   "metadata": {},
   "source": [
    " P153: Clockwise z times shift / rotate element in array (O(n))"
   ]
  },
  {
   "cell_type": "code",
   "execution_count": null,
   "id": "97ccbdbe",
   "metadata": {},
   "outputs": [],
   "source": [
    "# n, z = map(int, input().split(' '))\n",
    "# y = [int(x) for x in input().split(' ', n-1)]\n",
    "n, z = 14, 117\n",
    "y = [15, 26, 35, 98, 61, 1230, 75, 96, 63, 21, 1654, 98654, 320145, 987]\n",
    "if z > n:\n",
    "    temp = z % n\n",
    "    z = n - temp\n",
    "k1 = y[:z]\n",
    "k2 = y[z:]\n",
    "k3 = k2 + k1\n",
    "print(*k3) \n",
    "\n"
   ]
  },
  {
   "cell_type": "markdown",
   "id": "c2871178",
   "metadata": {},
   "source": [
    " P154: Check if string length is coprime"
   ]
  },
  {
   "cell_type": "code",
   "execution_count": null,
   "id": "3014b6a5",
   "metadata": {},
   "outputs": [],
   "source": [
    "S, X = input().split(' ')\n",
    "s, x = len(S), len(X)\n",
    "count = 0\n",
    "for j in range(2,max(s,x)):\n",
    "    if max(s, x)%j == 0:\n",
    "        if min(s, x)%j == 0:\n",
    "            count += 1\n",
    "if count == 0:\n",
    "    print('yes')\n",
    "else:\n",
    "    print('no')\n"
   ]
  },
  {
   "cell_type": "markdown",
   "id": "67a43417",
   "metadata": {},
   "source": [
    " P155: Find the factorial of that big integer"
   ]
  },
  {
   "cell_type": "code",
   "execution_count": null,
   "id": "1fffa458",
   "metadata": {},
   "outputs": [],
   "source": [
    "N = int(input())\n",
    "result = 1\n",
    "for i in range(1, N+1):\n",
    "    result = (result * i)\n",
    "print(result)\n"
   ]
  },
  {
   "cell_type": "markdown",
   "id": "7daa6269",
   "metadata": {},
   "source": [
    " P156: Find least difference pair in same order"
   ]
  },
  {
   "cell_type": "code",
   "execution_count": null,
   "id": "0a86043a",
   "metadata": {},
   "outputs": [],
   "source": [
    "N = int(input())\n",
    "y = [float(x) for x in input().split(' ', N-1)]\n",
    "x = sorted(y)\n",
    "mini_diff = x[0]\n",
    "sub_arr = [0]\n",
    "for i in range(1, N):\n",
    "    temp = min(mini_diff, abs(x[i-1]-x[i]))\n",
    "    if mini_diff > temp:\n",
    "        mini_diff = temp\n",
    "        sub_arr = []\n",
    "        sub_arr.append(x[i-1])\n",
    "        sub_arr.append(x[i])\n",
    "# print(*sub_arr)\n",
    "result = []\n",
    "for i in y:\n",
    "    if i in sub_arr:\n",
    "        result.append(i)\n",
    "print(*result)\n",
    "\n",
    "\n"
   ]
  },
  {
   "cell_type": "markdown",
   "id": "7fbecb7b",
   "metadata": {},
   "source": [
    " P157: Find the first repeated number"
   ]
  },
  {
   "cell_type": "code",
   "execution_count": null,
   "id": "7eb69a83",
   "metadata": {},
   "outputs": [],
   "source": [
    "N = int(input())\n",
    "y = [int(x) for x in input().split(' ', N-1)]\n",
    "found = False\n",
    "for i in range(N-1):\n",
    "    if y[i] in y[i+1:]:\n",
    "        found = True\n",
    "        print(y[i])\n",
    "        break\n",
    "if found == False:\n",
    "    print('unique')"
   ]
  },
  {
   "cell_type": "markdown",
   "id": "e3f5dac6",
   "metadata": {},
   "source": [
    "P158: Minimum number to be given (x - (2^n))"
   ]
  },
  {
   "cell_type": "code",
   "execution_count": null,
   "id": "c44d3462",
   "metadata": {},
   "outputs": [],
   "source": [
    "# x = int(input())\n",
    "x = 18\n",
    "result = 0\n",
    "if x >= 3 and x <= 100000:\n",
    "    i = 1\n",
    "    while (True):\n",
    "        if pow(2, i) > x:\n",
    "            result = x - pow(2, i-1)\n",
    "            break\n",
    "        else:\n",
    "            i += 1\n",
    "print(result)"
   ]
  },
  {
   "cell_type": "markdown",
   "id": "1ad7b026",
   "metadata": {},
   "source": [
    "P159: Any entry which is 0 change the entire column and row to zero"
   ]
  },
  {
   "cell_type": "code",
   "execution_count": null,
   "id": "d450edef",
   "metadata": {},
   "outputs": [],
   "source": [
    "import itertools\n",
    "# N, M = map(int, input().split(' '))\n",
    "# mat = []\n",
    "# for i in range(N):\n",
    "#     k = [int(x) for x in input().split(' ', M-1)]\n",
    "#     mat.append(k)\n",
    "N, M = 2, 3\n",
    "mat = [[1, 0, 1], [1, 1, 1]]\n",
    "# N, M = 3, 3\n",
    "# mat = [[1, 0, 1], [1, 1, 1], [1, 1, 0]]\n",
    "\n",
    "# for i in range(N):\n",
    "#     print(*mat[i])\n",
    "\n",
    "# print('\\nCorrected\\n')\n",
    "def zero_maker(mat, i, j):\n",
    "    for k, l in itertools.product(range(N), range(M)):\n",
    "        if k in i or l in j:\n",
    "            mat[k][l] = 0\n",
    "\n",
    "rows, colns = [], []\n",
    "\n",
    "for i, j in itertools.product(range(N), range(M)):\n",
    "    if mat[i][j] == 0:\n",
    "        # print(mat[i][j], i, j)\n",
    "        rows.append(i)\n",
    "        colns.append(j)\n",
    "\n",
    "zero_maker(mat, rows, colns)\n",
    "    \n",
    "for i in range(N):\n",
    "    print(*mat[i])"
   ]
  },
  {
   "cell_type": "markdown",
   "id": "b85f584b",
   "metadata": {},
   "source": [
    " P160: Counter (t=1 -> 3; t=2 -> 2; t=3 -> 1 and counter:3*2; t=4: 6"
   ]
  },
  {
   "cell_type": "code",
   "execution_count": null,
   "id": "921e0f89",
   "metadata": {},
   "outputs": [
    {
     "name": "stdout",
     "output_type": "stream",
     "text": [
      "6\n"
     ]
    }
   ],
   "source": [
    "# x = int(input())\n",
    "x = 4\n",
    "initial = 3\n",
    "initial_dec = initial+1\n",
    "counter = -1\n",
    "for i in range(x):\n",
    "    counter += 1\n",
    "    if  counter == initial:\n",
    "        counter = 0\n",
    "        initial = initial*2\n",
    "        initial_dec = initial+1\n",
    "        # print('changed: ',i,  initial, counter)\n",
    "    initial_dec -= 1\n",
    "    # print(i, initial_dec)\n",
    "print(initial_dec)\n"
   ]
  },
  {
   "cell_type": "markdown",
   "id": "3b43da2e",
   "metadata": {},
   "source": [
    " P162: Find three prime numbers with given sum (12 = 2+3+7)"
   ]
  },
  {
   "cell_type": "code",
   "execution_count": null,
   "id": "d0acc5eb",
   "metadata": {},
   "outputs": [
    {
     "name": "stdout",
     "output_type": "stream",
     "text": [
      "2 2 2\n"
     ]
    }
   ],
   "source": [
    "# x = int(input())\n",
    "x = 6\n",
    "p = []\n",
    "num = 1\n",
    "while(True):\n",
    "    num += 1\n",
    "    prime = True\n",
    "    for i in range(2,num):\n",
    "        if (num%i == 0):\n",
    "            prime = False\n",
    "    if prime: p.append(num)         \n",
    "    if len(p) == x:\n",
    "        break\n",
    "# print(p)\n",
    "\n",
    "# Logic third in prime if third = x - first - second\n",
    "first = 0\n",
    "second = 0\n",
    "third = 0\n",
    "found = False\n",
    "result = []\n",
    "for i in p:\n",
    "    first = i\n",
    "    for j in p:\n",
    "        second = j\n",
    "        third = x - first - second\n",
    "        if third in p:\n",
    "            found = True\n",
    "            result = [first, second, third]\n",
    "            break\n",
    "    if found: \n",
    "        break\n",
    "print(*result)\n",
    "    \n",
    "\n",
    "\n",
    "\n",
    "    \n",
    "\n"
   ]
  },
  {
   "cell_type": "markdown",
   "id": "42f31de0",
   "metadata": {},
   "source": [
    " P163: Number of nodes in binary heap tree for height h"
   ]
  },
  {
   "cell_type": "code",
   "execution_count": null,
   "id": "d03d723c",
   "metadata": {},
   "outputs": [],
   "source": [
    "h = int(input())\n",
    "n = pow(2, h+1) - 1\n",
    "print(n)\n"
   ]
  },
  {
   "cell_type": "markdown",
   "id": "1a8d5d81",
   "metadata": {},
   "source": [
    " P 164: Least Interest Amount"
   ]
  },
  {
   "cell_type": "code",
   "execution_count": null,
   "id": "5adad896",
   "metadata": {},
   "outputs": [],
   "source": [
    "# principal = int(input())\n",
    "# tenure = int(input())\n",
    "# bank_a = int(input())\n",
    "# bank_a_year = []\n",
    "# bank_a_interest = []\n",
    "# for i in range(bank_a):\n",
    "#     i, j = map(float, input().split())\n",
    "#     bank_a_year.append(i)\n",
    "#     bank_a_interest.append(j)\n",
    "# bank_b = int(input())\n",
    "# bank_b_year = []\n",
    "# bank_b_interest = []\n",
    "# for i in range(bank_b):\n",
    "#     i, j = map(float, input().split())\n",
    "#     bank_b_year.append(i)\n",
    "#     bank_b_interest.append(j)\n",
    "\n",
    "principal = 10000\n",
    "bank_a = 3\n",
    "bank_b = 3\n",
    "bank_a_year, bank_a_interest = [5.0, 10.0, 5.0], [9.5, 9.6, 8.5]\n",
    "bank_b_year, bank_b_interest = [10.0, 5.0, 5.0], [6.9, 8.5, 7.9]\n",
    "\n",
    "# bank_a_year, bank_a_interest = [14, 6, 6], [8.5, 7.4, 9.6]\n",
    "# bank_b_year, bank_b_interest = [13, 3, 10], [9.5, 6.9, 5.6]\n",
    "\n",
    "\n",
    "def emi(principal, m_rate, l_period):\n",
    "    emi = (principal * m_rate) * ( pow(1 + m_rate, l_period) / (pow(1 + m_rate, l_period) - 1))\n",
    "    return emi\n",
    "\n",
    "bank_a_tot_emi = 0\n",
    "bank_b_tot_emi = 0\n",
    "for i in range(bank_a):\n",
    "    m_rate = bank_a_interest[i] / 12\n",
    "    l_period = bank_a_year[i] * 12\n",
    "    bank_a_tot_emi += emi(principal, m_rate, l_period)\n",
    "for i in range(bank_b):\n",
    "    m_rate = bank_b_interest[i] / 12\n",
    "    l_period = bank_b_year[i] * 12\n",
    "    bank_b_tot_emi += emi(principal, m_rate, l_period)\n",
    "\n",
    "print(bank_a_tot_emi , bank_b_tot_emi)\n",
    "if bank_a_tot_emi < bank_b_tot_emi:\n",
    "    print('Bank A')\n",
    "else:\n",
    "    print('Bank B')\n"
   ]
  },
  {
   "cell_type": "markdown",
   "id": "8c9e5cdb",
   "metadata": {},
   "source": [
    " P165: Find number of prime numbers between range L & R"
   ]
  },
  {
   "cell_type": "code",
   "execution_count": null,
   "id": "dc89d0e3",
   "metadata": {},
   "outputs": [],
   "source": [
    "q = int(input())\n",
    "x, y = map(int, input().split())\n",
    "\n",
    "p = []\n",
    "num = x\n",
    "while(True and y >= 2):\n",
    "    if num > 1:\n",
    "        prime = True\n",
    "        for i in range(2,num):\n",
    "            if (num%i == 0):\n",
    "                prime = False\n",
    "        if prime: p.append(num)         \n",
    "        if num >= y:\n",
    "            break\n",
    "    num += 1\n",
    "# print(p)\n",
    "if len(p) >= 1:\n",
    "    print(len(p))\n",
    "else:\n",
    "    print(0)\n"
   ]
  },
  {
   "cell_type": "markdown",
   "id": "255fd6d0",
   "metadata": {},
   "source": [
    " P166: Check if numbers i, j, k exists such that i^2 + j^2 = k^2"
   ]
  },
  {
   "cell_type": "code",
   "execution_count": null,
   "id": "dc93055f",
   "metadata": {},
   "outputs": [],
   "source": [
    "from itertools import product\n",
    "result = []\n",
    "test = int(input())\n",
    "for i in range(test):\n",
    "    n = int(input())\n",
    "    arr = [int(x) for x in input().split(' ', n-1)]\n",
    "# arr = [1, 2, 3, 4, 5]\n",
    "    found = False\n",
    "    for i, j, k in product(arr, arr, arr):\n",
    "        if pow(i, 2) + pow(j, 2) == pow(k, 2):\n",
    "            found = True\n",
    "            result.append('Yes')\n",
    "            break\n",
    "    if found == False:\n",
    "        result.append('No')\n",
    "for i in range(test):\n",
    "    print(*result[i], sep='')"
   ]
  },
  {
   "cell_type": "markdown",
   "id": "82ce95ff",
   "metadata": {},
   "source": [
    " P169: LCM"
   ]
  },
  {
   "cell_type": "code",
   "execution_count": null,
   "id": "0ca0007f",
   "metadata": {},
   "outputs": [],
   "source": [
    "y = [int(x) for x in input().split()]\n",
    "y = [1, 2, 3, 4, 5]\n",
    "greater = max(y)\n",
    "while(True):\n",
    "    count = 0\n",
    "    for i in y:\n",
    "        if greater%i == 0:\n",
    "            count += 1\n",
    "    if count == len(y):\n",
    "        print(greater)\n",
    "        break\n",
    "    else:\n",
    "        greater += 1"
   ]
  },
  {
   "cell_type": "markdown",
   "id": "e6aa5af2",
   "metadata": {},
   "source": [
    " P170: Find smallest no. bigger than smallest in array, and no. should be no combination of sum of array element"
   ]
  },
  {
   "cell_type": "code",
   "execution_count": null,
   "id": "bec7536f",
   "metadata": {},
   "outputs": [],
   "source": [
    "y = [1, 2, 10, 12, 13]\n",
    "y.sort()\n",
    "result = []\n",
    "notin = []\n",
    "i = 0\n",
    "perform = True\n",
    "while(True):\n",
    "    if perform:\n",
    "        result.append(y[0])\n",
    "        y.remove(y[0])\n",
    "    # print(i, result, y)\n",
    "    if result[i] + 1 != y[0]:\n",
    "        # print('in 1')\n",
    "        if sum(result) != result[i] + 1:\n",
    "            print(result[i] + 1)\n",
    "            break\n",
    "        else:\n",
    "            result.append(result[i] + 1)\n",
    "            perform = False\n",
    "            i += 1\n",
    "    else:\n",
    "        perform = True\n",
    "        i += 1"
   ]
  },
  {
   "cell_type": "markdown",
   "id": "23cb80e2",
   "metadata": {},
   "source": [
    " P171: Sum of permutated numbers"
   ]
  },
  {
   "cell_type": "code",
   "execution_count": null,
   "id": "d9d86c3d",
   "metadata": {},
   "outputs": [],
   "source": [
    "from itertools import permutations\n",
    "x = list(input())\n",
    "sum = 0\n",
    "for i in permutations(x):\n",
    "    sum += int(''.join(i))\n",
    "    # print(i, sum)\n",
    "print(sum)"
   ]
  },
  {
   "cell_type": "markdown",
   "id": "da082a0b",
   "metadata": {},
   "source": [
    " P173: Add the missing text in left or right"
   ]
  },
  {
   "cell_type": "code",
   "execution_count": null,
   "id": "f98a8f17",
   "metadata": {},
   "outputs": [],
   "source": [
    "x = input().split('|')\n",
    "y = input()\n",
    "L = len(x[0])\n",
    "R = len(x[1])\n",
    "\n",
    "if L < R:\n",
    "    x[0] += y\n",
    "else:\n",
    "    x[1] += y\n",
    "print(f'{x[0]}|{x[1]}')\n"
   ]
  },
  {
   "cell_type": "markdown",
   "id": "a96a87c5",
   "metadata": {},
   "source": [
    " P174: Divide no. without using *, /, %"
   ]
  },
  {
   "cell_type": "code",
   "execution_count": null,
   "id": "9502230e",
   "metadata": {},
   "outputs": [],
   "source": [
    "x, y = map(int, input().split())\n",
    "if x > y:\n",
    "    i = 1\n",
    "    while(True):\n",
    "        if y*i < x:\n",
    "            i += 1\n",
    "        else:\n",
    "            print(i)\n",
    "            break\n",
    "else:\n",
    "    print(x)\n"
   ]
  },
  {
   "cell_type": "code",
   "execution_count": null,
   "id": "784613c3",
   "metadata": {},
   "outputs": [],
   "source": []
  }
 ],
 "metadata": {
  "interpreter": {
   "hash": "5024435cbfb8faf8bbbcdcac495405647c340211599983c8ce8e312773b27794"
  },
  "kernelspec": {
   "display_name": "Python 3.9.12 ('env1')",
   "language": "python",
   "name": "python3"
  },
  "language_info": {
   "codemirror_mode": {
    "name": "ipython",
    "version": 3
   },
   "file_extension": ".py",
   "mimetype": "text/x-python",
   "name": "python",
   "nbconvert_exporter": "python",
   "pygments_lexer": "ipython3",
   "version": "3.9.12"
  }
 },
 "nbformat": 4,
 "nbformat_minor": 5
}
