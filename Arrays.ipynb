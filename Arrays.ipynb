{
 "cells": [
  {
   "cell_type": "markdown",
   "metadata": {},
   "source": [
    "# Arrays"
   ]
  },
  {
   "cell_type": "markdown",
   "metadata": {},
   "source": [
    "P1: Beautiful array, sum of all elements divisible by 2,3,5."
   ]
  },
  {
   "cell_type": "code",
   "execution_count": null,
   "metadata": {},
   "outputs": [],
   "source": [
    "x = int(input())\n",
    "a = [int(a) for a in input().split(' ', x-1)]\n",
    "sum = 0\n",
    "for i in a:\n",
    "    sum += i\n",
    "if i%2 ==0 and i%3 ==0 and i%5 ==0:\n",
    "    print(1)\n",
    "else:\n",
    "    print(0)"
   ]
  },
  {
   "cell_type": "markdown",
   "metadata": {},
   "source": [
    "P2: Print twice occuring elements"
   ]
  },
  {
   "cell_type": "code",
   "execution_count": null,
   "metadata": {},
   "outputs": [
    {
     "name": "stdout",
     "output_type": "stream",
     "text": [
      "{13: 3, 12: 2}\n",
      "12\n"
     ]
    }
   ],
   "source": [
    "from collections import Counter\n",
    "x = int(input())\n",
    "a = [int(a) for a in input().split(' ', x-1)]\n",
    "c = dict(Counter(a))\n",
    "c = [key for key, value in c.items() if value == 2]\n",
    "print(*c)\n"
   ]
  },
  {
   "cell_type": "markdown",
   "metadata": {},
   "source": [
    "P5: Find duplicate element"
   ]
  },
  {
   "cell_type": "code",
   "execution_count": null,
   "metadata": {},
   "outputs": [
    {
     "name": "stdout",
     "output_type": "stream",
     "text": [
      "1\n"
     ]
    }
   ],
   "source": [
    "from collections import Counter\n",
    "x = int(input())\n",
    "a = [int(a) for a in input().split(' ', x-1)]\n",
    "c = dict(Counter(a))\n",
    "c = [key for key, value in c.items() if value > 1]\n",
    "print(*c)"
   ]
  },
  {
   "cell_type": "markdown",
   "metadata": {},
   "source": [
    "P6: List with increasing frequency (f) of elements. If f is same then print ascending order list. Sort dictionary by key & value."
   ]
  },
  {
   "cell_type": "code",
   "execution_count": null,
   "metadata": {},
   "outputs": [
    {
     "name": "stdout",
     "output_type": "stream",
     "text": [
      "{13: 2, 3: 2, 1: 3} 3\n",
      "3 13 1\n"
     ]
    }
   ],
   "source": [
    "from collections import Counter\n",
    "# x = int(input())\n",
    "# a = [int(a) for a in input().split(' ', x-1)]\n",
    "x = 7\n",
    "a = [1, 1, 13, 13, 1, 3, 3]\n",
    "c = dict(Counter(a))\n",
    "c = dict(sorted(c.items(), key = lambda x: x[1], reverse = False))\n",
    "print(c, max(c.values()))\n",
    "f = {}\n",
    "for i, j in c.items():\n",
    "    if j > max(c.values()) - 1:\n",
    "        f[i] = j\n",
    "z = dict(c.items() - f.items())\n",
    "# print(c)\n",
    "z = dict(sorted(z.items(), key = lambda x: x[0], reverse = False))\n",
    "# print(z)\n",
    "z.update(f)\n",
    "# print(z)\n",
    "l = list(z)\n",
    "print(*l)"
   ]
  },
  {
   "cell_type": "markdown",
   "metadata": {},
   "source": [
    "P7: Print next smallest in array else -1"
   ]
  },
  {
   "cell_type": "code",
   "execution_count": null,
   "metadata": {},
   "outputs": [
    {
     "name": "stdout",
     "output_type": "stream",
     "text": [
      "-1 -1 -1 -1 -1\n"
     ]
    }
   ],
   "source": [
    "# x = int(input())\n",
    "# a = [int(a) for a in input().split(' ', x-1)]\n",
    "x = 5\n",
    "a = [1, 2, 3, 4, 5]\n",
    "c = []\n",
    "for i in range(x-1):\n",
    "    for j in range(i+1, x):\n",
    "        if a[j] < a[i]:\n",
    "            c.append(a[j])\n",
    "            break\n",
    "        elif i == x-2 and a[j] > a[i]:\n",
    "            # print(c)\n",
    "            c.append(-1)\n",
    "            c.append(-1)\n",
    "        elif j == x-1:\n",
    "            c.append(-1)\n",
    "            # print(c)\n",
    "print(*c)\n",
    "        "
   ]
  },
  {
   "cell_type": "markdown",
   "metadata": {},
   "source": [
    "P9: Similar marks with index"
   ]
  },
  {
   "cell_type": "code",
   "execution_count": null,
   "metadata": {},
   "outputs": [
    {
     "name": "stdout",
     "output_type": "stream",
     "text": [
      "2 4\n"
     ]
    }
   ],
   "source": [
    "# a, b = map(int, input().split(' '))\n",
    "# c = [int(x) for x in input().split(' ', a-1)]\n",
    "a = 5\n",
    "b = 10\n",
    "c = [1, 2, 10, 5, 10]\n",
    "d = []\n",
    "for i in range(a):\n",
    "    if c[i] == b:\n",
    "        d.append(i)\n",
    "if d == []:\n",
    "    print(-1)\n",
    "else:\n",
    "    print(*d)\n"
   ]
  },
  {
   "cell_type": "markdown",
   "metadata": {},
   "source": [
    "P10: Sort even index"
   ]
  },
  {
   "cell_type": "code",
   "execution_count": null,
   "metadata": {},
   "outputs": [
    {
     "name": "stdout",
     "output_type": "stream",
     "text": [
      "[1, 3, 6]\n",
      "1 9 3 44 6\n"
     ]
    }
   ],
   "source": [
    "# x = int(input())\n",
    "# a = [int(a) for a in input().split(' ', x-1)]\n",
    "x = 5\n",
    "a = [3, 9, 1, 44, 6]\n",
    "b = []\n",
    "for i in range(x):\n",
    "    if i == 0 or i%2 == 0:\n",
    "        b.append(a[i])\n",
    "b.sort()\n",
    "for i in range(x):\n",
    "    if i == 0:\n",
    "        a[i] = b[i]\n",
    "    elif i%2 == 0:\n",
    "        a[i] = b[i//2]\n",
    "print(*a)"
   ]
  },
  {
   "cell_type": "markdown",
   "metadata": {},
   "source": [
    "P11: Between window size find the first negative integer."
   ]
  },
  {
   "cell_type": "code",
   "execution_count": null,
   "metadata": {},
   "outputs": [
    {
     "name": "stdout",
     "output_type": "stream",
     "text": [
      "0 0 0 0 0\n"
     ]
    }
   ],
   "source": [
    "# x = int(input())\n",
    "# y = [int(y) for y in input().split(' ', x-1)]\n",
    "# z = int(input())\n",
    "x = 7\n",
    "y = [1, 2, 3, 4, 5, 6, 7]\n",
    "z = 3\n",
    "neg = []\n",
    "for i in range(x):\n",
    "    if i < x-2:\n",
    "        for j in range(z):\n",
    "            if y[i+j] < 0:\n",
    "                neg.append(y[i+j])\n",
    "                break\n",
    "            elif j == z-1:\n",
    "                neg.append(0)\n",
    "print(*neg)"
   ]
  },
  {
   "cell_type": "markdown",
   "metadata": {},
   "source": [
    "P12: Between window find the first 0 index."
   ]
  },
  {
   "cell_type": "code",
   "execution_count": null,
   "metadata": {},
   "outputs": [
    {
     "name": "stdout",
     "output_type": "stream",
     "text": [
      "2 2 -1 -1 6 6\n"
     ]
    }
   ],
   "source": [
    "# x, b = map(int, input().split(' '))\n",
    "# y = [int(x) for x in input().split(' ', a-1)]\n",
    "x = 7\n",
    "b = 2\n",
    "y = [1, 0, 6, 7, 4, 0, 9]\n",
    "neg = []\n",
    "for i in range(x):\n",
    "    if i < x-1:\n",
    "        for j in range(b):\n",
    "            if y[i+j] == 0:\n",
    "                neg.append(i+j+1)\n",
    "                break\n",
    "            elif j == b-1:\n",
    "                neg.append(-1)\n",
    "print(*neg)"
   ]
  },
  {
   "cell_type": "markdown",
   "metadata": {},
   "source": [
    "P13: Concatenate sorted arrays."
   ]
  },
  {
   "cell_type": "code",
   "execution_count": null,
   "metadata": {},
   "outputs": [
    {
     "name": "stdout",
     "output_type": "stream",
     "text": [
      "1 2 3 7 8 9\n"
     ]
    }
   ],
   "source": [
    "x = int(input())\n",
    "w = []\n",
    "for i in range(x):\n",
    "    y = int(input())\n",
    "    z = [int(k) for k in input().split(' ',y-1)]\n",
    "    z.sort()\n",
    "    w += z\n",
    "print(*w)"
   ]
  },
  {
   "cell_type": "markdown",
   "metadata": {},
   "source": [
    "P14: Least ocurring in descending order."
   ]
  },
  {
   "cell_type": "code",
   "execution_count": null,
   "metadata": {},
   "outputs": [
    {
     "name": "stdout",
     "output_type": "stream",
     "text": [
      "{1: 1, 6: 2, 4: 2, 56: 3, 2: 1} 1\n",
      "2 1\n"
     ]
    }
   ],
   "source": [
    "from collections import Counter\n",
    "# x = int(input())\n",
    "# y = [int(y) for y in input().split(' ', x-1)]\n",
    "x = 9\n",
    "y = [1, 6, 4, 56, 56, 56, 6, 4, 2]\n",
    "d = dict(Counter(y))\n",
    "# print(d, min(d.values()))\n",
    "z = []\n",
    "for i, j in d.items():\n",
    "    if j == min(d.values()):\n",
    "        z.append(i)\n",
    "z.sort()\n",
    "z.reverse()\n",
    "print(*z)"
   ]
  },
  {
   "cell_type": "markdown",
   "metadata": {},
   "source": [
    "P17: Sort 2D Array"
   ]
  },
  {
   "cell_type": "code",
   "execution_count": null,
   "metadata": {},
   "outputs": [
    {
     "name": "stdout",
     "output_type": "stream",
     "text": [
      "[12, 21, 23, 32, 34, 45, 78, 87, 89]\n",
      "12 21 23\n",
      "32 34 45\n",
      "78 87 89\n"
     ]
    }
   ],
   "source": [
    "x, y = map(int, input().split(' '))\n",
    "c = []\n",
    "for i in range(x):\n",
    "    z = [int(z) for z in input().split(' ', y-1)]\n",
    "    c += z\n",
    "c.sort()\n",
    "count = 0\n",
    "for i in range(x):\n",
    "    d = []\n",
    "    for j in range(y):\n",
    "        d.append(c[count])\n",
    "        count += 1\n",
    "    print(*d)\n"
   ]
  },
  {
   "cell_type": "markdown",
   "metadata": {},
   "source": [
    "P19: Difference between max & min element index."
   ]
  },
  {
   "cell_type": "code",
   "execution_count": null,
   "metadata": {},
   "outputs": [
    {
     "name": "stdout",
     "output_type": "stream",
     "text": [
      "-2\n"
     ]
    }
   ],
   "source": [
    "# x = int(input())\n",
    "# y = [int(y) for y in input().split(' ', x-1)]\n",
    "x = 5\n",
    "y = [1, 6, 4, 0, 3]\n",
    "max = [0, 0]\n",
    "min = [0, 0]\n",
    "for i in y:\n",
    "    if i <= min[0]:\n",
    "        min[0] = i\n",
    "        min[1] = y.index(i)\n",
    "    elif i > max[0]:\n",
    "        max[0] = i\n",
    "        max[1] = y.index(i)\n",
    "# print(max, min)\n",
    "print(max[1]- min[1])"
   ]
  },
  {
   "cell_type": "markdown",
   "metadata": {},
   "source": [
    "P20: Convert list to dictionary & Sort Dictionary by value."
   ]
  },
  {
   "cell_type": "code",
   "execution_count": null,
   "metadata": {},
   "outputs": [
    {
     "name": "stdout",
     "output_type": "stream",
     "text": [
      "varshini\n",
      "Karthik\n",
      "rohan\n"
     ]
    }
   ],
   "source": [
    "# x = int(input())\n",
    "# y = [str(y) for y in input().split(' ', x*2-1)]\n",
    "x = 3\n",
    "y = ['Karthik', '23000', 'rohan', '81734', 'varshini', '12343']\n",
    "d = {y[i]:int(y[i+1]) for i in range(0, len(y),2)}\n",
    "c = dict(sorted(d.items(), key = lambda x: x[1]))\n",
    "for i, j in c.items():\n",
    "    print(i)"
   ]
  },
  {
   "cell_type": "markdown",
   "metadata": {},
   "source": [
    "P22: Print array of a[i] = a[a[i]]"
   ]
  },
  {
   "cell_type": "code",
   "execution_count": null,
   "metadata": {},
   "outputs": [
    {
     "name": "stdout",
     "output_type": "stream",
     "text": [
      "3 4 2 0 1\n"
     ]
    }
   ],
   "source": [
    "# x = int(input())\n",
    "# y = [str(y) for y in input().split(' ', x*2-1)]\n",
    "x = 5\n",
    "y = [4, 0, 2, 1, 3]\n",
    "z = []\n",
    "for i in range(x):\n",
    "    temp = y[i]\n",
    "    z.append(y[temp])\n",
    "print(*z)"
   ]
  },
  {
   "cell_type": "markdown",
   "metadata": {},
   "source": [
    "P23: Circular array, find the diff. b/w consecutive elements."
   ]
  },
  {
   "cell_type": "code",
   "execution_count": null,
   "metadata": {},
   "outputs": [
    {
     "name": "stdout",
     "output_type": "stream",
     "text": [
      "1 1 1 1 1\n"
     ]
    }
   ],
   "source": [
    "x = 5\n",
    "k = 15\n",
    "y = [45, 25, 53, 98, 15]\n",
    "# x, k = map(int, input().split(' '))\n",
    "# y = [int(x) for x in input().split(' ', x-1)]\n",
    "\n",
    "p = []\n",
    "for i in range(x):\n",
    "    if i != x-1 and abs(y[i]-y[i+1]) > k:\n",
    "        p.append(1)\n",
    "    elif i == x-1 and abs(y[i]-y[0]) > k:\n",
    "        p.append(1)\n",
    "    else:\n",
    "        p.append(0)\n",
    "print(*p)"
   ]
  },
  {
   "cell_type": "markdown",
   "metadata": {},
   "source": [
    "P24: Add sorted and reverse sorted arrays."
   ]
  },
  {
   "cell_type": "code",
   "execution_count": null,
   "metadata": {},
   "outputs": [
    {
     "name": "stdout",
     "output_type": "stream",
     "text": [
      "15 16 23 357 65 10\n"
     ]
    }
   ],
   "source": [
    "# n, m = map(int, input().split(' '))\n",
    "# x = [int(x) for x in input().split(' ', n-1)]\n",
    "# y = [int(x) for x in input().split(' ', m-1)]\n",
    "n, m = 3, 3\n",
    "x = [23, 15, 16]\n",
    "y = [357, 65, 10]\n",
    "x.sort()\n",
    "y.sort(reverse=True)\n",
    "z = x + y\n",
    "print(*z)"
   ]
  },
  {
   "cell_type": "markdown",
   "metadata": {},
   "source": [
    "P26: Air / Water trap between walls"
   ]
  },
  {
   "cell_type": "code",
   "execution_count": null,
   "metadata": {},
   "outputs": [
    {
     "name": "stdout",
     "output_type": "stream",
     "text": [
      "7\n"
     ]
    }
   ],
   "source": [
    "# x = int(input())\n",
    "# y = [int(y) for y in input().split(' ', x-1)]\n",
    "x = 4\n",
    "y = [7, 4, 3, 9]\n",
    "max = 0\n",
    "gap = 0\n",
    "for i in range(x-1):\n",
    "    if y[i] > max:\n",
    "        max = y[i]\n",
    "    gap += (max - y[i])\n",
    "print(gap)"
   ]
  },
  {
   "cell_type": "markdown",
   "metadata": {},
   "source": [
    "P28: Least repeating element in array in descending order"
   ]
  },
  {
   "cell_type": "code",
   "execution_count": null,
   "metadata": {},
   "outputs": [
    {
     "name": "stdout",
     "output_type": "stream",
     "text": [
      "2 1\n"
     ]
    }
   ],
   "source": [
    "from collections import Counter\n",
    "# x = int(input())\n",
    "# a = [int(a) for a in input().split(' ', x-1)]\n",
    "x = 7\n",
    "a = [1, 6, 4, 56, 56, 56, 6, 4, 2]\n",
    "c = dict(Counter(a))\n",
    "# print(c)\n",
    "d = [key for key, value in c.items() if value == 1]\n",
    "if d == []:\n",
    "    print(*c.keys())\n",
    "else:\n",
    "    d.sort(reverse=True)\n",
    "    print(*d)"
   ]
  },
  {
   "cell_type": "markdown",
   "metadata": {},
   "source": [
    "P43: Print singly ocurring / repeating number"
   ]
  },
  {
   "cell_type": "code",
   "execution_count": null,
   "metadata": {},
   "outputs": [],
   "source": [
    "from collections import Counter\n",
    "x = int(input())\n",
    "a = [int(a) for a in input().split(' ', x-1)]\n",
    "c = dict(Counter(a))\n",
    "# print(c)\n",
    "d = [key for key, value in c.items() if value == 1]\n",
    "if d == []:\n",
    "    print(0)\n",
    "else:\n",
    "    d.sort(reverse=True)\n",
    "    print(*d)"
   ]
  },
  {
   "cell_type": "markdown",
   "metadata": {},
   "source": [
    "P29: Sum of square of digits in integer"
   ]
  },
  {
   "cell_type": "code",
   "execution_count": null,
   "metadata": {},
   "outputs": [
    {
     "name": "stdout",
     "output_type": "stream",
     "text": [
      "5\n"
     ]
    }
   ],
   "source": [
    "x = list(map(int, input()))\n",
    "sum = 0\n",
    "for i in x:\n",
    "    sum += i**2\n",
    "print(sum)"
   ]
  },
  {
   "cell_type": "markdown",
   "metadata": {},
   "source": [
    "P33: Query to store & display minimum value else -1"
   ]
  },
  {
   "cell_type": "code",
   "execution_count": null,
   "metadata": {},
   "outputs": [
    {
     "name": "stdout",
     "output_type": "stream",
     "text": [
      "60 58\n"
     ]
    }
   ],
   "source": [
    "x = int(input())\n",
    "a = []\n",
    "b = []\n",
    "for i in range(x):\n",
    "    y = list(map(str, input().split(' ')))\n",
    "    if int(y[0]) == 1: a.append(int(y[1]))\n",
    "    elif int(y[0]) == 2: \n",
    "        if i == 0: b.append(-1)\n",
    "        else: b.append(min(a))\n",
    "if b == []:\n",
    "    print(-1)\n",
    "else:\n",
    "    print(*b)"
   ]
  },
  {
   "cell_type": "markdown",
   "metadata": {},
   "source": [
    "P34: Count 1 & 0 in 2D Matrix"
   ]
  },
  {
   "cell_type": "code",
   "execution_count": null,
   "metadata": {},
   "outputs": [
    {
     "name": "stdout",
     "output_type": "stream",
     "text": [
      "{1: 2, 0: 1}\n",
      "RAM: 2\n",
      "SITA: 1\n"
     ]
    }
   ],
   "source": [
    "from collections import Counter\n",
    "x, z = map(int, input().split(' '))\n",
    "a = []\n",
    "for i in range(x):\n",
    "    y = [int(y) for y in input().split(' ', z-1)]\n",
    "    a += y\n",
    "d = dict(Counter(a))\n",
    "# print(d)\n",
    "for i, j in d.items():\n",
    "    if i == 0:\n",
    "        print('RAM:',j)\n",
    "    elif i == 1:\n",
    "        print('SITA:',j)"
   ]
  },
  {
   "cell_type": "markdown",
   "metadata": {},
   "source": [
    "P36: Goal rate = goal(team) - sum(last 3 goals)"
   ]
  },
  {
   "cell_type": "code",
   "execution_count": null,
   "metadata": {},
   "outputs": [
    {
     "name": "stdout",
     "output_type": "stream",
     "text": [
      "-3 -13 -23 -86 -87\n"
     ]
    }
   ],
   "source": [
    "x = int(input())\n",
    "team = [int(y) for y in input().split(' ', x-1)]\n",
    "sum = team[-1] + team[-2] + team[-3]\n",
    "rate = []\n",
    "for i in team:\n",
    "    rate.append(i-sum)\n",
    "print(*rate)\n"
   ]
  },
  {
   "cell_type": "markdown",
   "metadata": {},
   "source": [
    "P37: Sort list by value and print its index"
   ]
  },
  {
   "cell_type": "code",
   "execution_count": null,
   "metadata": {},
   "outputs": [
    {
     "name": "stdout",
     "output_type": "stream",
     "text": [
      "{1: 0, 5: 1, 4: 2}\n",
      "1 2 0\n"
     ]
    }
   ],
   "source": [
    "# x = int(input())\n",
    "# y = [int(y) for y in input().split(' ', x-1)]\n",
    "y = [1, 5, 4]\n",
    "d = {y[i]:y.index(y[i]) for i in range(len(y))}\n",
    "c = dict(sorted(d.items(), key = lambda y:y[0], reverse=True))\n",
    "print(*c.values())"
   ]
  },
  {
   "cell_type": "markdown",
   "metadata": {},
   "source": [
    "P39: Add array & sort. Sum the 2 middle elements"
   ]
  },
  {
   "cell_type": "code",
   "execution_count": null,
   "metadata": {},
   "outputs": [
    {
     "name": "stdout",
     "output_type": "stream",
     "text": [
      "11\n"
     ]
    }
   ],
   "source": [
    "# x = int(input())\n",
    "# a = [int(a) for a in input().split(' ', x-1)]\n",
    "# b = [int(b) for b in input().split(' ', x-1)]\n",
    "a = [1, 9, 16, 25, 46]\n",
    "b = [2, 3, 4, 5, 6]\n",
    "c = a + b\n",
    "c.sort()\n",
    "sum = c[(len(c)//2)-1]  + c[len(c)//2]\n",
    "print(sum)\n"
   ]
  },
  {
   "cell_type": "markdown",
   "metadata": {},
   "source": [
    "P40: Majestic array if first and last 3 elements sum are equal"
   ]
  },
  {
   "cell_type": "code",
   "execution_count": null,
   "metadata": {},
   "outputs": [
    {
     "name": "stdout",
     "output_type": "stream",
     "text": [
      "1\n"
     ]
    }
   ],
   "source": [
    "# x = int(input())\n",
    "# a = [int(a) for a in input().split(' ', x-1)]\n",
    "a = [1, 2, 3, 4, 6, 0, 0]\n",
    "sum1 = 0\n",
    "sum2 = 0\n",
    "for i in range(3):\n",
    "    sum1 += a[i]\n",
    "    sum2 += a[-(i+1)]\n",
    "if sum1 == sum2:\n",
    "    print(1)\n",
    "else: print(0)"
   ]
  },
  {
   "cell_type": "markdown",
   "metadata": {},
   "source": [
    "P42: Count string in sentence"
   ]
  },
  {
   "cell_type": "code",
   "execution_count": null,
   "metadata": {},
   "outputs": [
    {
     "name": "stdout",
     "output_type": "stream",
     "text": [
      "1\n"
     ]
    }
   ],
   "source": [
    "# x = input()\n",
    "# y = input()\n",
    "x = 'I enjoy doing codekata'\n",
    "y = 'codekata'\n",
    "count = x.count(y)\n",
    "if count == 0: print(-1)\n",
    "else: print(count)"
   ]
  },
  {
   "cell_type": "markdown",
   "metadata": {},
   "source": [
    "P44: Find the lowest element index"
   ]
  },
  {
   "cell_type": "code",
   "execution_count": null,
   "metadata": {},
   "outputs": [
    {
     "name": "stdout",
     "output_type": "stream",
     "text": [
      "1\n"
     ]
    }
   ],
   "source": [
    "# x = int(input())\n",
    "# if x>=1 and x<=100: \n",
    "#     y = [int(y) for y in input().split(' ', x-1) if int(y) <= 100000]\n",
    "x = 3\n",
    "y =[11200, 10000, 12030]\n",
    "# d = {y[i]:y.index(y[i]) for i in range(x)}\n",
    "# c = dict(sorted(d.items(), key = lambda y:y[0]))\n",
    "# v = list(c.values())\n",
    "# print('Dealer',v[0],sep='')\n",
    "\n",
    "v = min(y)\n",
    "print(y.index(v))\n"
   ]
  },
  {
   "cell_type": "markdown",
   "metadata": {},
   "source": [
    "P45: Find the maximum sum of subarray"
   ]
  },
  {
   "cell_type": "code",
   "execution_count": null,
   "metadata": {},
   "outputs": [
    {
     "name": "stdout",
     "output_type": "stream",
     "text": [
      "-1\n"
     ]
    }
   ],
   "source": [
    "# x = int(input())\n",
    "# y = [int(y) for y in input().split(' ', x-1)]\n",
    "x = 5\n",
    "# y = [1, 2, 3, -2, 5]\n",
    "y = [-1, -2, -3, -4]\n",
    "sum = 0\n",
    "for i in range(x):\n",
    "    if i > 0 and sum > 0:\n",
    "        sum += y[i]\n",
    "    elif i == 0:\n",
    "        sum += y[i]\n",
    "print(sum)"
   ]
  },
  {
   "cell_type": "markdown",
   "metadata": {},
   "source": [
    "P96: Find the minimum sum of the array"
   ]
  },
  {
   "cell_type": "code",
   "execution_count": null,
   "metadata": {},
   "outputs": [],
   "source": [
    "# x = int(input())\n",
    "# y = [int(y) for y in input().split(' ', x-1)]\n",
    "x = 5\n",
    "# y = [1, 2, 3, -2, 5]\n",
    "y = [-1, -2, -3, -4, -5]\n",
    "sum = 0\n",
    "for i in range(x):\n",
    "    if y[i] < 0:\n",
    "        sum += y[i]\n",
    "if sum == 0:\n",
    "    sum = min(y)\n",
    "print(sum)"
   ]
  },
  {
   "cell_type": "markdown",
   "metadata": {},
   "source": [
    "P46: Common element in two lists"
   ]
  },
  {
   "cell_type": "code",
   "execution_count": null,
   "metadata": {},
   "outputs": [
    {
     "name": "stdout",
     "output_type": "stream",
     "text": [
      "1\n"
     ]
    }
   ],
   "source": [
    "# x = int(input())\n",
    "# a = [int(x) for x in input().split(' ',x-1)]\n",
    "# b = [int(x) for x in input().split(' ',x-1)]\n",
    "x = 5\n",
    "a = [1, 1, 1, 1, 1]\n",
    "b = [1, 2, 3, 4, 5]\n",
    "unique = []\n",
    "for i in a:\n",
    "    if i in b and i not in unique:\n",
    "        unique.append(i)\n",
    "if unique == []:\n",
    "    print(-1)\n",
    "else: print(*unique)"
   ]
  },
  {
   "cell_type": "markdown",
   "metadata": {},
   "source": [
    "P47: Find the second highest number"
   ]
  },
  {
   "cell_type": "code",
   "execution_count": null,
   "metadata": {},
   "outputs": [
    {
     "name": "stdout",
     "output_type": "stream",
     "text": [
      "9\n"
     ]
    }
   ],
   "source": [
    "# x = int(input())\n",
    "# a = [int(x) for x in input().split(' ',x-1)]\n",
    "x = 10\n",
    "a = [1, 9, 8, 7, 6, 5, 2, 3, 4, 10]\n",
    "a.sort()\n",
    "print(a[-2])"
   ]
  },
  {
   "cell_type": "markdown",
   "metadata": {},
   "source": [
    "P49: Right Angled Triangle Shape"
   ]
  },
  {
   "cell_type": "code",
   "execution_count": null,
   "metadata": {},
   "outputs": [
    {
     "name": "stdout",
     "output_type": "stream",
     "text": [
      "1\n",
      "1 1 1\n",
      "1 1 1 1 1\n"
     ]
    }
   ],
   "source": [
    "# x = int(input())\n",
    "x = 3\n",
    "diff = 1\n",
    "for i in range(1, x+1):\n",
    "    if i>1: diff += 2\n",
    "    print(*[1 for x in range(diff)])\n"
   ]
  },
  {
   "cell_type": "markdown",
   "metadata": {},
   "source": [
    "P50: Check for clockwise or anti-clock wise rotated strings"
   ]
  },
  {
   "cell_type": "code",
   "execution_count": null,
   "metadata": {},
   "outputs": [
    {
     "name": "stdout",
     "output_type": "stream",
     "text": [
      "1\n"
     ]
    }
   ],
   "source": [
    "# str1 = ['a', 'm', 'a', 'z', 'o', 'n']\n",
    "# str2 = ['a', 'z', 'o', 'n', 'a', 'm']\n",
    "# str3 = ['o', 'n', 'a', 'm', 'a', 'z']\n",
    "str1 = 'amazon'\n",
    "str2 = 'azonam'\n",
    "# str1 = input()\n",
    "# str2 = input()\n",
    "str3, str4 = '', ''\n",
    "l = len(str1)\n",
    "str3 = str3 + str2[l-2:] + str2[:l-2]\n",
    "str4 = str4 + str2[2:] + str2[:2]\n",
    "if str1 == str3 or str1 == str4:\n",
    "    print(1)\n",
    "else: print(0)\n"
   ]
  },
  {
   "cell_type": "markdown",
   "metadata": {},
   "source": [
    "P52: Calculate no. of swap in array to be in order"
   ]
  },
  {
   "cell_type": "code",
   "execution_count": null,
   "metadata": {},
   "outputs": [
    {
     "name": "stdout",
     "output_type": "stream",
     "text": [
      "2\n"
     ]
    }
   ],
   "source": [
    "# x = int(input())\n",
    "# y = [int(y) for y in input().split(' ',x-1)]\n",
    "x = 5\n",
    "y = [4, 3, 2, 1]\n",
    "y1 = sorted(y)\n",
    "y2 = sorted(y, reverse=True)\n",
    "# print(y, y1, y2)\n",
    "count = [0, 0]\n",
    "for i in range(len(y)):\n",
    "    # print(y[i], y1[i])\n",
    "    if y[i] != y1[i]: \n",
    "        count[0] += 1\n",
    "    if y[i] != y2[i]: \n",
    "        count[1] += 1\n",
    "print(count[0]//2)    # Consider only ascending order"
   ]
  },
  {
   "cell_type": "markdown",
   "metadata": {},
   "source": [
    "P53: Store 1's in between 0 element in array"
   ]
  },
  {
   "cell_type": "code",
   "execution_count": null,
   "metadata": {},
   "outputs": [
    {
     "name": "stdout",
     "output_type": "stream",
     "text": [
      "1 1 1\n"
     ]
    }
   ],
   "source": [
    "# x = int(input())\n",
    "# y = [int(y) for y in input().split(' ',x-1)]\n",
    "x = 10\n",
    "y = [1, 1, 1, 0, 1, 0, 1, 1, 0, 1]\n",
    "store = []\n",
    "temp = []\n",
    "count = 0\n",
    "open = False\n",
    "for i in range(x):\n",
    "    if y[i] == 0:\n",
    "        open = True\n",
    "        count += 1\n",
    "        store += temp\n",
    "        temp = []\n",
    "    \n",
    "    if open == True and y[i] == 1:\n",
    "        temp.append(y[i])\n",
    "if count > 1:\n",
    "    print(*store)\n",
    "else: print(-1)\n",
    "    "
   ]
  },
  {
   "cell_type": "markdown",
   "metadata": {},
   "source": [
    "P54: Length of Longest repeating element"
   ]
  },
  {
   "cell_type": "code",
   "execution_count": null,
   "metadata": {},
   "outputs": [
    {
     "name": "stdout",
     "output_type": "stream",
     "text": [
      "{1: 1, 2: 1, 3: 1, 4: 1, 5: 1}\n",
      "{1: 1, 2: 1, 3: 1, 4: 1, 5: 1}\n",
      "[]\n",
      "-1\n"
     ]
    }
   ],
   "source": [
    "from collections import Counter\n",
    "# x = int(input())\n",
    "# y = [int(y) for y in input().split(' ',x-1)]\n",
    "x = 8\n",
    "y = [1, 2, 2, 2, 3, 4, 5, 6]\n",
    "d = dict(Counter(y))\n",
    "print(d)\n",
    "z = dict(sorted(d.items(), key = lambda x: x[1], reverse = False))\n",
    "print(z)\n",
    "c = [value for key, value in z.items() if value > 1]\n",
    "print(c)\n",
    "if c == []: print(-1)\n",
    "else: print(c[-1])"
   ]
  },
  {
   "cell_type": "markdown",
   "metadata": {},
   "source": [
    "P55: Find element index in array"
   ]
  },
  {
   "cell_type": "code",
   "execution_count": null,
   "metadata": {},
   "outputs": [
    {
     "name": "stdout",
     "output_type": "stream",
     "text": [
      "3\n"
     ]
    }
   ],
   "source": [
    "# x, y = map(int, input().split(' '))\n",
    "# z = [int(y) for y in input().split(' ',x-1)]\n",
    "x, y = 5, 1\n",
    "z = [3, 2, 1, 2, 3]\n",
    "store = []\n",
    "for i in range(x):\n",
    "    if z[i] == y:\n",
    "        store.append(i+1)\n",
    "        break\n",
    "if store == []:\n",
    "    print(-1)\n",
    "else:\n",
    "    print(store[0])"
   ]
  },
  {
   "cell_type": "markdown",
   "metadata": {},
   "source": [
    "P56: Maximum sum of two consecutive integer"
   ]
  },
  {
   "cell_type": "code",
   "execution_count": null,
   "metadata": {},
   "outputs": [
    {
     "name": "stdout",
     "output_type": "stream",
     "text": [
      "14\n"
     ]
    }
   ],
   "source": [
    "# x = int(input())\n",
    "# y = [int(y) for y in input().split(' ',x-1)]\n",
    "x = 5\n",
    "y = [1, 5, 6, 8, 3]\n",
    "store = []\n",
    "for i in range(1, x):\n",
    "    store.append(y[i]+y[i-1])\n",
    "print(max(store))"
   ]
  },
  {
   "cell_type": "markdown",
   "metadata": {},
   "source": [
    "P57: Maximum of two consecutive numbers"
   ]
  },
  {
   "cell_type": "code",
   "execution_count": null,
   "metadata": {},
   "outputs": [
    {
     "name": "stdout",
     "output_type": "stream",
     "text": [
      "1 3 3 5\n"
     ]
    }
   ],
   "source": [
    "# x = int(input())\n",
    "# y = [int(y) for y in input().split(' ',x-1)]\n",
    "x = 5\n",
    "y = [1, 1, 3, 0, 5]\n",
    "store = []\n",
    "for i in range(1, x):\n",
    "    store.append(max(y[i],y[i-1]))\n",
    "print(*store)"
   ]
  },
  {
   "cell_type": "markdown",
   "metadata": {},
   "source": [
    "P59: Sort and store array alternatively [max1, min1, max2, min2, ...]"
   ]
  },
  {
   "cell_type": "code",
   "execution_count": null,
   "metadata": {},
   "outputs": [
    {
     "name": "stdout",
     "output_type": "stream",
     "text": [
      "19 1 16 7 11\n"
     ]
    }
   ],
   "source": [
    "# x = int(input())\n",
    "# y = [int(y) for y in input().split(' ',x-1)]\n",
    "x = 5\n",
    "y = [1, 7, 11, 16, 19]\n",
    "if x%2 == 0:\n",
    "    l = x//2\n",
    "else:\n",
    "    odd = True\n",
    "    l = x//2 + 1\n",
    "y.sort(reverse=True)\n",
    "store = []\n",
    "for i in range(l):\n",
    "    store.append(y[i])\n",
    "    store.append(y[-(i+1)])\n",
    "if odd: store.remove(store[-1])\n",
    "print(*store)\n"
   ]
  },
  {
   "cell_type": "markdown",
   "metadata": {},
   "source": [
    "P60: Check the year of sudden defeat"
   ]
  },
  {
   "cell_type": "code",
   "execution_count": null,
   "metadata": {},
   "outputs": [
    {
     "name": "stdout",
     "output_type": "stream",
     "text": [
      "1985\n",
      "1995\n",
      "2005\n"
     ]
    }
   ],
   "source": [
    "# x = int(input())\n",
    "# y = [int(y) for y in input().split(' ',x-1)]\n",
    "# z = [str(z) for z in input().split(' ',x-1)]\n",
    "x = 6\n",
    "y = [1980, 2005, 1990, 1985, 1995, 2000]\n",
    "z = ['KRR', 'BSP', 'BSP', 'BSP', 'KRR', 'KRR']\n",
    "d = {y[i]:z[i] for i in range(x)}\n",
    "c = dict(sorted(d.items(), key = lambda x: x[0]))\n",
    "y = [key for key, value in c.items()]\n",
    "z = [value for key, value in c.items()]\n",
    "# print(y, z, sep='\\n')\n",
    "for i in range(1, x):\n",
    "    if z[i] != z[i-1]:\n",
    "        print(y[i])"
   ]
  },
  {
   "cell_type": "markdown",
   "metadata": {},
   "source": [
    "P62: Display element less than k. (Note: Input with inital space ['', 1,2,3,4,1])"
   ]
  },
  {
   "cell_type": "code",
   "execution_count": null,
   "metadata": {},
   "outputs": [
    {
     "name": "stdout",
     "output_type": "stream",
     "text": [
      "1 1 1\n"
     ]
    }
   ],
   "source": [
    "x, y = map(int, input().split(' '))\n",
    "z = [str(z) for z in input().split(' ')]\n",
    "z.remove('')\n",
    "z = list(map(int, z))\n",
    "# x, y = 5, 3\n",
    "# z = [1, 2, 1, 4, 1]\n",
    "result = []\n",
    "for i in z:\n",
    "    if i < y:\n",
    "        result.append(i)\n",
    "        result.sort()\n",
    "if result == []:\n",
    "    print(-1)\n",
    "else:\n",
    "    print(*result)\n"
   ]
  },
  {
   "cell_type": "markdown",
   "metadata": {},
   "source": [
    "P63: Delete last k elements"
   ]
  },
  {
   "cell_type": "code",
   "execution_count": null,
   "metadata": {},
   "outputs": [
    {
     "name": "stdout",
     "output_type": "stream",
     "text": [
      "[1]\n"
     ]
    }
   ],
   "source": [
    "x, y = map(int, input().split(' '))\n",
    "z = [int(z) for z in input().split(' ')]\n",
    "del z[-y:]\n",
    "print(*z)"
   ]
  },
  {
   "cell_type": "markdown",
   "metadata": {},
   "source": [
    "P64: Index of newly added element in sorted list"
   ]
  },
  {
   "cell_type": "code",
   "execution_count": null,
   "metadata": {},
   "outputs": [
    {
     "name": "stdout",
     "output_type": "stream",
     "text": [
      "6 4\n"
     ]
    }
   ],
   "source": [
    "a = 7\n",
    "b = [95, 68, 62, 58, 55, 41, 30]\n",
    "c = 2\n",
    "d = [45, 61]\n",
    "a = int(input())\n",
    "b = [int(b) for b in input().split(' ',a-1)]\n",
    "c = int(input())\n",
    "d = [int(d) for d in input().split(' ',c-1)]\n",
    "result = []\n",
    "for i in range(c):\n",
    "    b.append(d[i])\n",
    "    b.sort(reverse=True)\n",
    "    result.append(b.index(d[i])+1)\n",
    "print(*result)\n"
   ]
  },
  {
   "cell_type": "markdown",
   "metadata": {},
   "source": [
    "P66: Check if 3 points are collinear. Area of triangle = 0"
   ]
  },
  {
   "cell_type": "code",
   "execution_count": null,
   "metadata": {},
   "outputs": [
    {
     "name": "stdout",
     "output_type": "stream",
     "text": [
      "0.5\n",
      "no\n"
     ]
    }
   ],
   "source": [
    "# x1, y1 = map(int, input().split(' '))\n",
    "# x2, y2 = map(int, input().split(' '))\n",
    "# x3, y3 = map(int, input().split(' '))\n",
    "x1, y1 = 0, 1\n",
    "x2, y2 = 1, 0\n",
    "x3, y3 = 0, 2\n",
    "area = 0.5 * (x1 * (y2 - y3) + x2 * (y3 - y1) + x3 * (y1 - y2))\n",
    "print(area)\n",
    "if area == 0:\n",
    "    print('yes')\n",
    "else:\n",
    "    print('no')"
   ]
  },
  {
   "cell_type": "markdown",
   "metadata": {},
   "source": [
    "P68: Check for number in matrix in array form"
   ]
  },
  {
   "cell_type": "code",
   "execution_count": null,
   "metadata": {},
   "outputs": [
    {
     "name": "stdout",
     "output_type": "stream",
     "text": [
      "no\n"
     ]
    }
   ],
   "source": [
    "# row, col = map(int, input().split(' '))\n",
    "# matrix = [int(b) for b in input().split(' ', row*col)]\n",
    "# pris = int(input())\n",
    "row, col = 2, 5\n",
    "matrix = [2, 3, 0, 7, 1, 5, 3, 4, 1, 8]\n",
    "pris = 11\n",
    "d = matrix.count(pris)\n",
    "if d == 0:\n",
    "    print('no')\n",
    "else:\n",
    "    print('yes')\n"
   ]
  },
  {
   "cell_type": "markdown",
   "metadata": {},
   "source": [
    "P71: Remove extra spaces inside sentence"
   ]
  },
  {
   "cell_type": "code",
   "execution_count": null,
   "metadata": {},
   "outputs": [
    {
     "name": "stdout",
     "output_type": "stream",
     "text": [
      "guvi geeks\n"
     ]
    }
   ],
   "source": [
    "str = list(input())\n",
    "# print(str)\n",
    "count = str.count(' ')\n",
    "# print(count)\n",
    "while (count > 1):\n",
    "    i = str.index(' ')\n",
    "    str.remove(str[i])\n",
    "    count -= 1\n",
    "print(*str, sep='')"
   ]
  },
  {
   "cell_type": "markdown",
   "metadata": {},
   "source": [
    "P72: Count Anagram of y[0]"
   ]
  },
  {
   "cell_type": "code",
   "execution_count": null,
   "metadata": {},
   "outputs": [
    {
     "name": "stdout",
     "output_type": "stream",
     "text": [
      "kaabli\n",
      "kababa\n",
      "kabail\n",
      "3\n"
     ]
    }
   ],
   "source": [
    "# x = int(input())\n",
    "# y = []\n",
    "# for i in range(x):\n",
    "#     y.append(input())\n",
    "x = 5\n",
    "y = ['kabali','kaabli','kababa','kab','kabail']\n",
    "count = 0\n",
    "l = len(y[0])\n",
    "for i in range(1, x):\n",
    "    temp = list(y[i])\n",
    "    if len(y[0]) == len(temp):\n",
    "        while (temp != []):\n",
    "            if temp[0] in y[0]:\n",
    "                temp.remove(temp[0])\n",
    "            else:\n",
    "                break\n",
    "        if temp == []:\n",
    "            count += 1\n",
    "            # print(y[i])\n",
    "print(count)    \n",
    "\n"
   ]
  },
  {
   "cell_type": "markdown",
   "metadata": {},
   "source": [
    "P73: Shift the index of array by a (clockwise)"
   ]
  },
  {
   "cell_type": "code",
   "execution_count": null,
   "metadata": {},
   "outputs": [
    {
     "name": "stdout",
     "output_type": "stream",
     "text": [
      "2 3 7\n"
     ]
    }
   ],
   "source": [
    "# x, a = map(int, input().split(' '))\n",
    "# y = [int(y) for y in input().split(' ',x-1)]\n",
    "x, z = 3, 2\n",
    "y = [7, 2, 3]\n",
    "k = []\n",
    "for i in range(x):\n",
    "    if i < z:\n",
    "        k.append(y[(x-z)+i])\n",
    "    elif i >= z:\n",
    "        k.append(y[i-z])\n",
    "print(*k, sep=' ')"
   ]
  },
  {
   "cell_type": "markdown",
   "metadata": {},
   "source": [
    "P74: Integer to Binary"
   ]
  },
  {
   "cell_type": "code",
   "execution_count": null,
   "metadata": {},
   "outputs": [
    {
     "name": "stdout",
     "output_type": "stream",
     "text": [
      "100010100\n"
     ]
    }
   ],
   "source": [
    "x = int(input())\n",
    "binary = int(format(x, 'b'))\n",
    "print(binary)"
   ]
  },
  {
   "cell_type": "markdown",
   "metadata": {},
   "source": [
    "P76: Binary to Integer to Octal number"
   ]
  },
  {
   "cell_type": "code",
   "execution_count": null,
   "metadata": {},
   "outputs": [
    {
     "name": "stdout",
     "output_type": "stream",
     "text": [
      "100 144\n"
     ]
    }
   ],
   "source": [
    "binary = str(input())\n",
    "integer = int(binary,2)\n",
    "octal = format(integer, 'o')\n",
    "print(octal)"
   ]
  },
  {
   "cell_type": "markdown",
   "metadata": {},
   "source": [
    "P77: Digit with maximum frequency"
   ]
  },
  {
   "cell_type": "code",
   "execution_count": null,
   "metadata": {},
   "outputs": [
    {
     "name": "stdout",
     "output_type": "stream",
     "text": [
      "4\n"
     ]
    }
   ],
   "source": [
    "from collections import Counter\n",
    "# x = int(input())\n",
    "# a = [int(a) for a in input().split(' ', x-1)]\n",
    "x = 7\n",
    "a = [1, 2, 3, 4, 4, 4, 5]\n",
    "c = dict(Counter(a))\n",
    "c = dict(sorted(c.items(), key = lambda x: x[1], reverse = False))\n",
    "# print(c, max(c.values()))\n",
    "f = {}\n",
    "for i, j in c.items():\n",
    "    if j == max(c.values()):\n",
    "        f[i] = j\n",
    "print(*f)\n"
   ]
  },
  {
   "cell_type": "markdown",
   "metadata": {},
   "source": [
    "P78: Find the kth smallest number in array if available"
   ]
  },
  {
   "cell_type": "code",
   "execution_count": null,
   "metadata": {},
   "outputs": [
    {
     "name": "stdout",
     "output_type": "stream",
     "text": [
      "-1\n"
     ]
    }
   ],
   "source": [
    "# a, b = map(int, input().split(' '))\n",
    "# x = [int(x) for x in input().split(' ', a-1)]\n",
    "x = [1, 1, 1, 1, 5]\n",
    "b = 4\n",
    "z = sorted(list(set(x)))\n",
    "if len(z) >= b:\n",
    "    print(z[b-1])\n",
    "else:\n",
    "    print(-1)"
   ]
  },
  {
   "cell_type": "markdown",
   "metadata": {},
   "source": [
    "P79: Check for case sensitivity of two strings"
   ]
  },
  {
   "cell_type": "code",
   "execution_count": null,
   "metadata": {},
   "outputs": [
    {
     "name": "stdout",
     "output_type": "stream",
     "text": [
      "yes\n"
     ]
    }
   ],
   "source": [
    "a, b = map(str, input().split(' '))\n",
    "if len(a) == len(b):\n",
    "    count = 0\n",
    "    for i in range(len(a)):\n",
    "        if a[i] == b[i]:\n",
    "            count += 1\n",
    "    if count == len(a):\n",
    "        print('yes')\n",
    "    else:\n",
    "        print('no')\n",
    "else:\n",
    "    print('no')"
   ]
  },
  {
   "cell_type": "markdown",
   "metadata": {},
   "source": [
    "P80: Count digit in integer"
   ]
  },
  {
   "cell_type": "code",
   "execution_count": null,
   "metadata": {},
   "outputs": [
    {
     "name": "stdout",
     "output_type": "stream",
     "text": [
      "0\n"
     ]
    }
   ],
   "source": [
    "a, b = map(str, input().split(' '))\n",
    "count = a.count(b)\n",
    "if count == 0:\n",
    "    print(-1)\n",
    "else:\n",
    "     print(count)\n"
   ]
  },
  {
   "cell_type": "markdown",
   "metadata": {},
   "source": [
    "P81: Find in odd no. in even series OR find even no. in odd series"
   ]
  },
  {
   "cell_type": "code",
   "execution_count": null,
   "metadata": {},
   "outputs": [
    {
     "name": "stdout",
     "output_type": "stream",
     "text": [
      "4\n"
     ]
    }
   ],
   "source": [
    "# a = int(input())\n",
    "# x = [int(x) for x in input().split(' ', a-1)]\n",
    "a = 5\n",
    "x = [1, 3, 4, 7, 9]\n",
    "even = []\n",
    "odd = []\n",
    "for i in range(1, a*2):\n",
    "    if i%2 == 0 and len(even) < a:\n",
    "        even.append(i)\n",
    "    elif len(odd) < a:\n",
    "        odd.append(i)\n",
    "# print(even, odd)\n",
    "x = set(x)\n",
    "even = set(even)\n",
    "odd = set(odd)\n",
    "inter1 = x.intersection(even)\n",
    "inter2 = x.intersection(odd)\n",
    "# print(inter1, inter2)\n",
    "if len(inter2) == max(len(inter1), len(inter2)):\n",
    "    i = x - odd\n",
    "    if i == set() : print(-1)\n",
    "    else: print(*i)\n",
    "else:\n",
    "    i = x - even\n",
    "    if i == set(): print(-1)\n",
    "    else: print(*i)\n",
    "    \n"
   ]
  },
  {
   "cell_type": "markdown",
   "metadata": {},
   "source": [
    "P82: Find given no. in array and print the count"
   ]
  },
  {
   "cell_type": "code",
   "execution_count": null,
   "metadata": {},
   "outputs": [
    {
     "name": "stdout",
     "output_type": "stream",
     "text": [
      "yes 2\n"
     ]
    }
   ],
   "source": [
    "from collections import Counter\n",
    "# x, y = map(int, input().split(' '))\n",
    "# z = [int(z) for z in input().split(' ',x-1)]\n",
    "x, y = 5, 3\n",
    "z = [3, 3, 4, 4, 7]\n",
    "z = dict(Counter(z))\n",
    "found = False\n",
    "for i, j in z.items():\n",
    "    if i == y:\n",
    "        found = True\n",
    "        print('yes', j)\n",
    "        break\n",
    "if found == False:\n",
    "    print('no')"
   ]
  },
  {
   "cell_type": "markdown",
   "metadata": {},
   "source": [
    "P87: Check for consecutive strings in array"
   ]
  },
  {
   "cell_type": "code",
   "execution_count": null,
   "metadata": {},
   "outputs": [
    {
     "name": "stdout",
     "output_type": "stream",
     "text": [
      "yes\n"
     ]
    }
   ],
   "source": [
    "# x, y = map(int, input().split(' '))\n",
    "# z = []\n",
    "# for i in range(x):\n",
    "#     z.append(input())\n",
    "x, y = 5, 3\n",
    "z = ['code','overload','vishal','vishal','vishal']\n",
    "count = 1\n",
    "for i in range(1, x):\n",
    "    if z[i-1] == z[i]:\n",
    "        count += 1\n",
    "if count == y:\n",
    "    print('yes')\n",
    "else:\n",
    "    print('no')"
   ]
  },
  {
   "cell_type": "markdown",
   "metadata": {},
   "source": [
    "P88: Sort the array in ascending order w.r.t weight"
   ]
  },
  {
   "cell_type": "code",
   "execution_count": null,
   "metadata": {},
   "outputs": [
    {
     "name": "stdout",
     "output_type": "stream",
     "text": [
      "5 4 3 2 1\n"
     ]
    }
   ],
   "source": [
    "# x = int(input())\n",
    "# y = [int(z) for z in input().split(' ',x-1)]\n",
    "# z = [int(z) for z in input().split(' ',x-1)]\n",
    "x = 5\n",
    "y = [1, 2, 3, 4, 5]\n",
    "z = [5, 4, 3, 2, 1]\n",
    "d = {y[i]:z[i] for i in range(x)}\n",
    "d = dict(sorted(d.items(), key = lambda x:x[1]))\n",
    "keys = [key for key, value in d.items()]\n",
    "print(*keys)"
   ]
  },
  {
   "cell_type": "code",
   "execution_count": null,
   "metadata": {},
   "outputs": [
    {
     "name": "stdout",
     "output_type": "stream",
     "text": [
      "2 4\n"
     ]
    }
   ],
   "source": [
    "# x = int(input())\n",
    "# y = [int(z) for z in input().split(' ',x-1)]\n",
    "x = 4\n",
    "y = [2, 4, 4, 2]\n",
    "z = set(y)\n",
    "print(*z)"
   ]
  },
  {
   "cell_type": "markdown",
   "metadata": {},
   "source": [
    "P91: Count 1's in binary representation of integer"
   ]
  },
  {
   "cell_type": "code",
   "execution_count": null,
   "metadata": {},
   "outputs": [
    {
     "name": "stdout",
     "output_type": "stream",
     "text": [
      "3\n"
     ]
    }
   ],
   "source": [
    "# x = int(input())\n",
    "x = 276\n",
    "binary = list(format(x, 'b'))\n",
    "count = binary.count('1')\n",
    "print(count)"
   ]
  },
  {
   "cell_type": "markdown",
   "metadata": {},
   "source": [
    "P92: Check for mirror images of array"
   ]
  },
  {
   "cell_type": "code",
   "execution_count": null,
   "metadata": {},
   "outputs": [
    {
     "name": "stdout",
     "output_type": "stream",
     "text": [
      "yes\n"
     ]
    }
   ],
   "source": [
    "# x = int(input())\n",
    "# y = [int(z) for z in input().split(' ',x-1)]\n",
    "# z = [int(z) for z in input().split(' ',x-1)]\n",
    "x = 4\n",
    "y = [1, 2, 3, 4]\n",
    "z = [4, 3, 2, 1]\n",
    "if y[::-1] == z:\n",
    "    print('yes')\n",
    "else:\n",
    "    print('no')"
   ]
  },
  {
   "cell_type": "markdown",
   "metadata": {},
   "source": [
    "P93: Maximum number that can be formed by given integer digits"
   ]
  },
  {
   "cell_type": "code",
   "execution_count": null,
   "metadata": {},
   "outputs": [
    {
     "name": "stdout",
     "output_type": "stream",
     "text": [
      "4321\n"
     ]
    }
   ],
   "source": [
    "x = list(map(int, input()))\n",
    "x.sort(reverse=True)\n",
    "print(*x,sep='')"
   ]
  },
  {
   "cell_type": "markdown",
   "metadata": {},
   "source": [
    "P98: Print the sum of each digit to the power of number of digits"
   ]
  },
  {
   "cell_type": "code",
   "execution_count": null,
   "metadata": {},
   "outputs": [
    {
     "name": "stdout",
     "output_type": "stream",
     "text": [
      "354\n"
     ]
    }
   ],
   "source": [
    "x = list(map(int, input()))\n",
    "l = len(x)\n",
    "sum = 0\n",
    "for i in x:\n",
    "    sum += pow(i,l)\n",
    "print(sum)"
   ]
  },
  {
   "cell_type": "markdown",
   "metadata": {},
   "source": [
    "P100: Maximum subarrays that can be formed by N size array"
   ]
  },
  {
   "cell_type": "code",
   "execution_count": null,
   "metadata": {},
   "outputs": [],
   "source": [
    "x = int(input())\n",
    "y = [int(x) for x in input().split(' ', x-1)]\n",
    "max_num = x * (x + 1)/2\n",
    "print(max_num)"
   ]
  },
  {
   "cell_type": "markdown",
   "metadata": {},
   "source": [
    "P104: GCD (Greatest Common Divisor) of given array"
   ]
  },
  {
   "cell_type": "code",
   "execution_count": null,
   "metadata": {},
   "outputs": [
    {
     "name": "stdout",
     "output_type": "stream",
     "text": [
      "2\n"
     ]
    }
   ],
   "source": [
    "x = int(input())\n",
    "y = [int(x) for x in input().split(' ', x-1)]\n",
    "\n",
    "p = []\n",
    "if 0 not in y:\n",
    "    for i in range(1, max(y)+1):\n",
    "        count = 0\n",
    "        for j in range(len(y)):\n",
    "            if y[j]%i == 0:\n",
    "                count += 1\n",
    "        if count == len(y):\n",
    "            p.append(i)\n",
    "if p == []:\n",
    "    print(-1)\n",
    "else: print(max(p))"
   ]
  },
  {
   "cell_type": "markdown",
   "metadata": {},
   "source": [
    "P105: Find Maximum Sum of strictly Increasing Subarray"
   ]
  },
  {
   "cell_type": "code",
   "execution_count": null,
   "metadata": {},
   "outputs": [],
   "source": [
    "# x = int(input())\n",
    "# y = [int(y) for y in input().split(' ', x-1)]\n",
    "y = [2, 1, 4, 7, 3, 6]\n",
    "maxi = []\n",
    "sub_arr = []\n",
    "for i in range(len(y)):\n",
    "    try:\n",
    "        if y[i] < y[i+1]:\n",
    "            sub_arr.append(y[i])\n",
    "        else:\n",
    "            sub_arr.append(y[i])\n",
    "            maxi.append(sub_arr)\n",
    "            sub_arr = []\n",
    "    except:\n",
    "        sub_arr.append(y[i])\n",
    "        maxi.append(sub_arr)\n",
    "# print(maxi)\n",
    "result = []\n",
    "for i in maxi:\n",
    "    result.append(sum(i))\n",
    "print(max(result))"
   ]
  },
  {
   "cell_type": "markdown",
   "metadata": {},
   "source": [
    "P106: Sort by middle index of the array. (Middle index should come first)"
   ]
  },
  {
   "cell_type": "code",
   "execution_count": null,
   "metadata": {},
   "outputs": [
    {
     "name": "stdout",
     "output_type": "stream",
     "text": [
      "3 2 4 1 5\n"
     ]
    }
   ],
   "source": [
    "# x = int(input())\n",
    "# y = [int(x) for x in input().split(' ', x-1)]\n",
    "x = 5\n",
    "y = [1, 2, 3, 4, 5 ]\n",
    "z = []\n",
    "i = 0\n",
    "while (i < x):\n",
    "    if len(y) > 2:\n",
    "        if len(y)%2 != 0:\n",
    "            mid = len(y)//2\n",
    "        else:\n",
    "            mid = len(y)//2 - 1\n",
    "        z.append(y[mid])\n",
    "        y.remove(y[mid])\n",
    "    elif len(y) == 2:\n",
    "        z.append(y[0])\n",
    "        z.append(y[1])\n",
    "        break\n",
    "print(*z)"
   ]
  },
  {
   "cell_type": "markdown",
   "metadata": {},
   "source": [
    "P107: Reverse Saturated order of strings (reverse all string in the sentence)"
   ]
  },
  {
   "cell_type": "code",
   "execution_count": null,
   "metadata": {},
   "outputs": [
    {
     "name": "stdout",
     "output_type": "stream",
     "text": [
      "['I', 'am', 'kohli', 'fan']\n",
      "I ma ilhok naf\n"
     ]
    }
   ],
   "source": [
    "x = list(input().split(' '))\n",
    "for i in range(len(x)):\n",
    "    x[i] = x[i][::-1]\n",
    "print(*x)"
   ]
  },
  {
   "cell_type": "markdown",
   "metadata": {},
   "source": [
    "P108: Length of consecutive elements with diff of 1"
   ]
  },
  {
   "cell_type": "code",
   "execution_count": null,
   "metadata": {},
   "outputs": [
    {
     "name": "stdout",
     "output_type": "stream",
     "text": [
      "[75, 76, 77, 87, 73, 96]\n",
      "[73, 75, 76, 77, 87, 96]\n",
      "3\n"
     ]
    }
   ],
   "source": [
    "# x = int(input())\n",
    "# y = [int(x) for x in input().split(' ', x-1)]\n",
    "y = [1, 6, 5, 3, 2, 4, 10, 12]\n",
    "y.sort()\n",
    "z = []\n",
    "for i in range(1, len(y)):\n",
    "    if abs(y[i-1] - y[i]) == 1:\n",
    "        if z == []:\n",
    "            z.append(y[i-1])\n",
    "            z.append(y[i])\n",
    "        else:\n",
    "            z.append(i)\n",
    "print(len(z))"
   ]
  },
  {
   "cell_type": "markdown",
   "metadata": {},
   "source": [
    "P109: Find the missing element index"
   ]
  },
  {
   "cell_type": "code",
   "execution_count": null,
   "metadata": {},
   "outputs": [],
   "source": [
    "x = int(input())\n",
    "z = []\n",
    "for i in range(x):\n",
    "    a = int(input())\n",
    "    b = [int(x) for x in input().split(' ', a-1)]\n",
    "    c = [int(x) for x in input().split(' ', a-2)]\n",
    "    for i in range(a):\n",
    "        if b[i] not in c:\n",
    "            z.append(i)\n",
    "for i in z:\n",
    "    print(i)"
   ]
  },
  {
   "cell_type": "markdown",
   "metadata": {},
   "source": [
    "P110: LCM (Least Common Multiple) of given array of number. Smallest no. that is divisible by all the array number"
   ]
  },
  {
   "cell_type": "code",
   "execution_count": null,
   "metadata": {},
   "outputs": [
    {
     "name": "stdout",
     "output_type": "stream",
     "text": [
      "130\n"
     ]
    }
   ],
   "source": [
    "# x = int(input())\n",
    "# y = [int(x) for x in input().split(' ')]\n",
    "x = 2\n",
    "y = [10, 130]\n",
    "greater = max(y)\n",
    "while(True):\n",
    "    count = 0\n",
    "    for i in y:\n",
    "        if greater%i == 0:\n",
    "            count += 1\n",
    "    if count == len(y):\n",
    "        print(greater)\n",
    "        break\n",
    "    else:\n",
    "        greater += 1"
   ]
  },
  {
   "cell_type": "markdown",
   "metadata": {},
   "source": [
    "P111: Count the rotation made in ascending ordered array"
   ]
  },
  {
   "cell_type": "code",
   "execution_count": null,
   "metadata": {},
   "outputs": [
    {
     "name": "stdout",
     "output_type": "stream",
     "text": [
      "2\n"
     ]
    }
   ],
   "source": [
    "# x = int(input())\n",
    "# y = [int(y) for y in input().split(' ',x-1)]\n",
    "x = 6\n",
    "y = [15, 18, 2, 3, 6, 12]\n",
    "w = y\n",
    "y = sorted(y)\n",
    "z = 0\n",
    "if w != y:\n",
    "    while(z < x+1):\n",
    "        k = []\n",
    "        if w != k:\n",
    "            z += 1\n",
    "            for i in range(x):\n",
    "                if i < z:\n",
    "                    k.append(y[(x-z)+i])\n",
    "                elif i >= z:\n",
    "                    k.append(y[i-z])\n",
    "        if w == k:\n",
    "            print(z)\n",
    "            break\n",
    "if z == x or w == y:\n",
    "    print(-1)"
   ]
  },
  {
   "cell_type": "markdown",
   "metadata": {},
   "source": [
    "P112: Find the kth smallest element in array"
   ]
  },
  {
   "cell_type": "code",
   "execution_count": null,
   "metadata": {},
   "outputs": [
    {
     "name": "stdout",
     "output_type": "stream",
     "text": [
      "6 [7, 10, 4, 3, 3, 4] 1\n",
      "[3, 4, 7, 10]\n",
      "[3]\n",
      "3\n"
     ]
    }
   ],
   "source": [
    "x = int(input())\n",
    "result = []\n",
    "for i in range(x):\n",
    "    a = int(input())\n",
    "    b = [int(y) for y in input().split(' ',a-1)]\n",
    "    c = int(input())\n",
    "    print(a, b, c)\n",
    "    d = list(sorted(set(b)))\n",
    "    print(d)\n",
    "    result.append(d[c-1])\n",
    "print(result)\n",
    "for i in result:\n",
    "    print(i)"
   ]
  },
  {
   "cell_type": "markdown",
   "metadata": {},
   "source": [
    "P113: Count no. of Swap needed for ascending order array"
   ]
  },
  {
   "cell_type": "code",
   "execution_count": null,
   "metadata": {},
   "outputs": [
    {
     "name": "stdout",
     "output_type": "stream",
     "text": [
      "3\n"
     ]
    }
   ],
   "source": [
    "# x = int(input())\n",
    "# y = [int(y) for y in input().split(' ',x-1)]\n",
    "x = 5\n",
    "y = [1, 4, 5, 3, 2]\n",
    "y1 = sorted(y) # Ascending order only\n",
    "# y1 = sorted(y, reverse=True)  #Descending order only\n",
    "swap = 0\n",
    "for i in range(len(y1)):\n",
    "    if y[i] != y1[i]:\n",
    "        id = y.index(y1[i])\n",
    "        temp = y[i]\n",
    "        y[i] = y[id]\n",
    "        y[id] = temp\n",
    "        if y[i] == y1[i]:\n",
    "            swap += 1\n",
    "print(swap)"
   ]
  },
  {
   "cell_type": "markdown",
   "metadata": {},
   "source": [
    "P114: Find the maximum length of increasing continuous sub-array"
   ]
  },
  {
   "cell_type": "code",
   "execution_count": null,
   "metadata": {},
   "outputs": [],
   "source": [
    "# x = int(input())\n",
    "# y = [int(y) for y in input().split(' ', x-1)]\n",
    "# y = [2, 1, 4, 7, 3, 6]\n",
    "y = [8, 6, 4, 2, 1]\n",
    "maxi = []\n",
    "sub_arr = []\n",
    "for i in range(len(y)):\n",
    "    try:\n",
    "        if y[i] < y[i+1]:\n",
    "            sub_arr.append(y[i])\n",
    "        else:\n",
    "            sub_arr.append(y[i])\n",
    "            maxi.append(sub_arr)\n",
    "            sub_arr = []\n",
    "    except:\n",
    "        sub_arr.append(y[i])\n",
    "        maxi.append(sub_arr)\n",
    "# print(maxi)\n",
    "result = []\n",
    "for i in maxi:\n",
    "    result.append(len(i))\n",
    "if max(result) < 2:\n",
    "    print(-1)\n",
    "else:\n",
    "    print(max(result))"
   ]
  },
  {
   "cell_type": "markdown",
   "metadata": {},
   "source": [
    "P: Nth Prime Number"
   ]
  },
  {
   "cell_type": "code",
   "execution_count": null,
   "metadata": {},
   "outputs": [
    {
     "name": "stdout",
     "output_type": "stream",
     "text": [
      "1 2\n",
      "2 3\n",
      "3 5\n",
      "4 7\n",
      "5 11\n"
     ]
    }
   ],
   "source": [
    "x = int(input())\n",
    "p = []\n",
    "num = 1\n",
    "while(True):\n",
    "    num += 1\n",
    "    prime = True\n",
    "    for i in range(2,num):\n",
    "        if (num%i == 0):\n",
    "            prime = False\n",
    "    if prime: p.append(num)         \n",
    "    if len(p) == x:\n",
    "        break\n",
    "# print(p[x-1])\n",
    "for i in range(len(p)):\n",
    "    print(i+1, p[i])"
   ]
  },
  {
   "cell_type": "markdown",
   "metadata": {},
   "source": [
    "P: Check if given no. is Prime"
   ]
  },
  {
   "cell_type": "code",
   "execution_count": null,
   "metadata": {},
   "outputs": [
    {
     "name": "stdout",
     "output_type": "stream",
     "text": [
      "not prime\n"
     ]
    }
   ],
   "source": [
    "prime = True\n",
    "# num = int(input())\n",
    "num = 2277\n",
    "for i in range(2,num):    #Check for whole integer to be prime\n",
    "        if (num%i == 0):\n",
    "            prime = False\n",
    "            # print(num, i)\n",
    "if prime: \n",
    "    print('yes prime')\n",
    "else:\n",
    "    print('not prime')"
   ]
  },
  {
   "cell_type": "markdown",
   "metadata": {},
   "source": [
    "P116: Check 'HYP' Number, all the digits should be prime"
   ]
  },
  {
   "cell_type": "code",
   "execution_count": null,
   "metadata": {},
   "outputs": [],
   "source": [
    "x = int(input())\n",
    "p = []\n",
    "z = 1\n",
    "while(True):\n",
    "    z += 1\n",
    "    a = str(z)\n",
    "    a = list(map(int, a))\n",
    "    prime = True\n",
    "    count = 0\n",
    "    for num in a:             #Check for each digit to be prime\n",
    "        for i in range(2,num):\n",
    "            if (num%i == 0):\n",
    "                prime = False\n",
    "        if prime: count += 1\n",
    "\n",
    "    # prime = True\n",
    "    # count1 = False\n",
    "    # for i in range(2,z):    #Check for whole integer to be prime\n",
    "    #     if (num%i == 0):\n",
    "    #         prime = False\n",
    "    # if prime: count1 = True\n",
    "\n",
    "    # if count == len(a) and count1 == True:\n",
    "    if count == len(a):\n",
    "        p.append(z)\n",
    "    if len(p) == x:\n",
    "        break\n",
    "# for i in range(len(p)):\n",
    "#     print(i+1, p[i])\n",
    "\n",
    "print(p[x-1])"
   ]
  },
  {
   "cell_type": "markdown",
   "metadata": {},
   "source": [
    "P117: Reverse strings except first & last character"
   ]
  },
  {
   "cell_type": "code",
   "execution_count": null,
   "metadata": {},
   "outputs": [
    {
     "name": "stdout",
     "output_type": "stream",
     "text": [
      "i eojny ctakedoa\n"
     ]
    }
   ],
   "source": [
    "x = list(input().split(' '))\n",
    "for i in range(len(x)):\n",
    "    if len(x[i]) > 1:\n",
    "        temp = x[i][0]\n",
    "        temp1 = x[i][-1] \n",
    "        x[i] = x[i][1:-1]\n",
    "        x[i] = x[i][::-1]\n",
    "        x[i] = temp + x[i] + temp1\n",
    "print(*x)"
   ]
  },
  {
   "cell_type": "markdown",
   "metadata": {},
   "source": [
    "P118: Print Prime Factors of given number"
   ]
  },
  {
   "cell_type": "code",
   "execution_count": null,
   "metadata": {},
   "outputs": [
    {
     "name": "stdout",
     "output_type": "stream",
     "text": [
      "2 5\n"
     ]
    }
   ],
   "source": [
    "def prime_fun(num):\n",
    "    prime = True\n",
    "    #Check for whole integer to be prime\n",
    "    for i in range(2,num):    \n",
    "            if (num%i == 0):\n",
    "                prime = False\n",
    "    if prime and num != 1: \n",
    "        return True\n",
    "\n",
    "x = int(input())\n",
    "#Check for factors\n",
    "factors = [1]                 \n",
    "for i in range(2, x+1):\n",
    "    if x%i == 0:\n",
    "        factors.append(i)\n",
    "\n",
    "prime_factors = []\n",
    "for i in factors:\n",
    "    if prime_fun(i):\n",
    "        prime_factors.append(i)\n",
    "print(*prime_factors)\n",
    "\n"
   ]
  },
  {
   "cell_type": "markdown",
   "metadata": {},
   "source": [
    "P120: Find common elements in two arrays"
   ]
  },
  {
   "cell_type": "code",
   "execution_count": null,
   "metadata": {},
   "outputs": [
    {
     "name": "stdout",
     "output_type": "stream",
     "text": [
      "1 [1, 1, 2, 3, 4, 5] []\n",
      "1 [1, 2, 3, 4, 5] [1]\n",
      "1 1\n"
     ]
    }
   ],
   "source": [
    "a, b = map(int, input().split(' '))\n",
    "c = [int(x) for x in input().split(' ', a+b-1)]\n",
    "y = c[:a]\n",
    "z = c[a:]\n",
    "# print(c, y, z, sep='\\n')\n",
    "x = []\n",
    "# y = (1, 2, 3, 4, 5)\n",
    "# z = (1, 2, 3, 4)\n",
    "if len(y) > len(z):\n",
    "    for i in range(len(z)):\n",
    "        if z[i] in y[i:]:\n",
    "            # print(z[i], y[i:], x)\n",
    "            x.append(z[i])\n",
    "x.sort()\n",
    "print(*x)"
   ]
  },
  {
   "cell_type": "markdown",
   "metadata": {},
   "source": [
    "P121: Find if all the strings are case sensitive"
   ]
  },
  {
   "cell_type": "code",
   "execution_count": null,
   "metadata": {},
   "outputs": [
    {
     "name": "stdout",
     "output_type": "stream",
     "text": [
      "no\n"
     ]
    }
   ],
   "source": [
    "x = list('Vishal_Sundar prepared this question')\n",
    "# x = list(input())\n",
    "count = 0\n",
    "for i in x:\n",
    "    if i.isupper() or i.islower():\n",
    "        count += 1\n",
    "if count == len(x):\n",
    "    print('yes')\n",
    "else:\n",
    "    print('no')\n"
   ]
  },
  {
   "cell_type": "markdown",
   "metadata": {},
   "source": [
    "P122: Check for two numbers in array which sum to X"
   ]
  },
  {
   "cell_type": "code",
   "execution_count": null,
   "metadata": {},
   "outputs": [
    {
     "name": "stdout",
     "output_type": "stream",
     "text": [
      "yes\n"
     ]
    }
   ],
   "source": [
    "# a, b = map(int, input().split(' '))\n",
    "# x = [int(x) for x in input().split(' ', a-1)]\n",
    "a, b = 4, 4\n",
    "x = [2, 2, 0, 0]\n",
    "sum_exist = False\n",
    "for i in range(len(x)):\n",
    "    for j in x[i:]:\n",
    "        if x[i] + j == b:\n",
    "            sum_exist = True\n",
    "            print('yes')\n",
    "            break\n",
    "    if sum_exist: break\n",
    "if sum_exist == False:\n",
    "    print('no')\n",
    "\n"
   ]
  },
  {
   "cell_type": "markdown",
   "metadata": {},
   "source": [
    "P124: Count pairs such that i < j and A[i] < A[j]"
   ]
  },
  {
   "cell_type": "code",
   "execution_count": null,
   "metadata": {},
   "outputs": [
    {
     "name": "stdout",
     "output_type": "stream",
     "text": [
      "10\n"
     ]
    }
   ],
   "source": [
    "# a = int(input())\n",
    "# b = [int(x) for x in input().split(' ', a-1)]\n",
    "a = 5\n",
    "b = [1, 2, 3, 4, 5]\n",
    "result = []\n",
    "for i in range(a):\n",
    "    for j in range(i+1, a):\n",
    "        if i < j and b[i] < b[j]:\n",
    "            temp = [b[i], b[j]]\n",
    "            if temp not in result:\n",
    "                result.append(temp)\n",
    "if result == []:\n",
    "    print(-1)\n",
    "else:\n",
    "    print(len(result))"
   ]
  },
  {
   "cell_type": "markdown",
   "metadata": {},
   "source": [
    "P128: Check for index of element such that A[i] occurs A[i+1] times in array"
   ]
  },
  {
   "cell_type": "code",
   "execution_count": null,
   "metadata": {},
   "outputs": [
    {
     "name": "stdout",
     "output_type": "stream",
     "text": [
      "[(1, 4), (2, 1), (4, 1)]\n",
      "3\n"
     ]
    }
   ],
   "source": [
    "from collections import Counter\n",
    "# x = int(input())\n",
    "# c = [int(x) for x in input().split(' ')]\n",
    "# c = [92, 511, 815, 272, 50, 336, 818]\n",
    "c = [1, 2, 1, 4, 1, 1]\n",
    "x = len(c)\n",
    "d = dict(Counter(c))\n",
    "key = [key for key, value in d.items()]\n",
    "value = [value for key, value in d.items()]\n",
    "z = list(zip(key, value))\n",
    "print(z)\n",
    "present = False\n",
    "for i, j in zip(key, value):\n",
    "    for k in range(1, x):\n",
    "        if c[k-1] == i and c[k] == j:\n",
    "            present = True\n",
    "            print(k)\n",
    "            break\n",
    "    if present:\n",
    "        break\n",
    "if present == False:\n",
    "    print(0)\n"
   ]
  },
  {
   "cell_type": "markdown",
   "metadata": {},
   "source": [
    "P131: Find prime no. a & b such that a*b = n"
   ]
  },
  {
   "cell_type": "code",
   "execution_count": null,
   "metadata": {},
   "outputs": [
    {
     "name": "stdout",
     "output_type": "stream",
     "text": [
      "13 5\n"
     ]
    }
   ],
   "source": [
    "x = int(input())\n",
    "p = []\n",
    "num = 1\n",
    "while(True):\n",
    "    num += 1\n",
    "    prime = True\n",
    "    for i in range(2,num):\n",
    "        if (num%i == 0):\n",
    "            prime = False\n",
    "    if prime: p.append(num)         \n",
    "    if p[-1] >= x:\n",
    "        p.remove(p[-1])\n",
    "        break\n",
    "\n",
    "result = []\n",
    "for i in range(len(p)):\n",
    "    comb_ext = False\n",
    "    for j in p[i+1:]:\n",
    "        if p[i] * j == x:\n",
    "            comb_ext = True\n",
    "            result.append(p[i])\n",
    "            result.append(j)\n",
    "            break\n",
    "    if comb_ext:\n",
    "        break\n",
    "if result != []:\n",
    "    result = sorted(result, reverse=True)\n",
    "    print(*result)\n",
    "else:\n",
    "    print(-1)"
   ]
  },
  {
   "cell_type": "markdown",
   "metadata": {},
   "source": [
    "P132: Check if all digits in integer exist in range (0, k)"
   ]
  },
  {
   "cell_type": "code",
   "execution_count": null,
   "metadata": {},
   "outputs": [
    {
     "name": "stdout",
     "output_type": "stream",
     "text": [
      "yes\n"
     ]
    }
   ],
   "source": [
    "x, k = input().split(' ')\n",
    "x = list(map(int, x))\n",
    "k = int(k)\n",
    "count = 0\n",
    "for i in range(k+1):\n",
    "    if i in x:\n",
    "        count += 1\n",
    "if count == k+1:\n",
    "    print('yes')\n",
    "else:\n",
    "    print('no')\n"
   ]
  },
  {
   "cell_type": "markdown",
   "metadata": {},
   "source": [
    "P138: Find sum of max (i, i+1) consecutive elements in original array"
   ]
  },
  {
   "cell_type": "code",
   "execution_count": null,
   "metadata": {},
   "outputs": [
    {
     "name": "stdout",
     "output_type": "stream",
     "text": [
      "14\n"
     ]
    }
   ],
   "source": [
    "# x = int(input())\n",
    "# y = [int(x) for x in input().split(' ',x-1)]\n",
    "x = 5\n",
    "y = [1, 2, 3, 4, 5]\n",
    "l = []\n",
    "for j in range(len(y)):\n",
    "    try:\n",
    "        l.append(max(y[j],y[j+1]))\n",
    "    except :\n",
    "        None   \n",
    "k = sum(l)\n",
    "print(k)"
   ]
  },
  {
   "cell_type": "markdown",
   "metadata": {},
   "source": [
    "P133: Find min. sum of max.(i, i+1) consecutive elements in all possible arrays"
   ]
  },
  {
   "cell_type": "code",
   "execution_count": null,
   "metadata": {},
   "outputs": [
    {
     "name": "stdout",
     "output_type": "stream",
     "text": [
      "18\n"
     ]
    }
   ],
   "source": [
    "import itertools\n",
    "# x = int(input())\n",
    "# y = [int(x) for x in input().split(' ',x-1)]\n",
    "x = 5\n",
    "y = [1, 2, 3, 4, 5]\n",
    "m = 0\n",
    "for i in itertools.permutations(y):\n",
    "    l = []\n",
    "    for j in range(len(i)):\n",
    "        try:\n",
    "            l.append(max(i[j],i[j+1]))\n",
    "        except :\n",
    "            None   \n",
    "    k = sum(l)\n",
    "    m = max(m,k)\n",
    "print(m)"
   ]
  },
  {
   "cell_type": "markdown",
   "metadata": {},
   "source": [
    "P134: Show the index of original array element after sorting it"
   ]
  },
  {
   "cell_type": "code",
   "execution_count": null,
   "metadata": {},
   "outputs": [
    {
     "name": "stdout",
     "output_type": "stream",
     "text": [
      "5 4 3 2 1\n"
     ]
    }
   ],
   "source": [
    "# x = int(input())\n",
    "# y = [int(x) for x in input().split(' ',x-1)]\n",
    "x = 5\n",
    "y = [5, 4, 3, 2, 1]\n",
    "ids = []\n",
    "for i in range(x):\n",
    "    ids.append(i+1)\n",
    "d = {y[i]:ids[i] for i in range(x)}\n",
    "d = dict(sorted(d.items(), key=lambda x:x[0]))\n",
    "print(*d.values())\n"
   ]
  },
  {
   "cell_type": "markdown",
   "metadata": {},
   "source": [
    "P135: Prefix sum array"
   ]
  },
  {
   "cell_type": "code",
   "execution_count": null,
   "metadata": {},
   "outputs": [
    {
     "name": "stdout",
     "output_type": "stream",
     "text": [
      "2 6 10 12\n"
     ]
    }
   ],
   "source": [
    "# x = int(input())\n",
    "# y = [int(x) for x in input().split(' ', x-1)]\n",
    "x = 5\n",
    "# y = [1, 2, 3, 4, 5]\n",
    "y = [2, 4, 4, 2]\n",
    "k = []\n",
    "for i in range(len(y)):\n",
    "    if i == 0:\n",
    "        k.append(y[i])\n",
    "    else:\n",
    "        temp = k[i-1] + y[i]\n",
    "        k.append(temp)\n",
    "print(*k)"
   ]
  },
  {
   "cell_type": "markdown",
   "metadata": {},
   "source": [
    "P136: Suffix sum array "
   ]
  },
  {
   "cell_type": "code",
   "execution_count": null,
   "metadata": {},
   "outputs": [
    {
     "name": "stdout",
     "output_type": "stream",
     "text": [
      "12 10 6 2\n"
     ]
    }
   ],
   "source": [
    "# x = int(input())\n",
    "# y = [int(x) for x in input().split(' ', x-1)]\n",
    "x = 4\n",
    "y = [2, 4, 4, 2]\n",
    "k = []\n",
    "for i in range(1, x+1):\n",
    "    if i == 1:\n",
    "        k.append(y[-i])\n",
    "    else:\n",
    "        temp = k[i-2] + y[-i]\n",
    "        k.append(temp)\n",
    "k = k[::-1]\n",
    "print(*k)"
   ]
  },
  {
   "cell_type": "markdown",
   "metadata": {},
   "source": [
    "P143: Sum of Prefix and Suffix of each element (Sum = Prefix + Suffix)"
   ]
  },
  {
   "cell_type": "code",
   "execution_count": null,
   "metadata": {},
   "outputs": [
    {
     "name": "stdout",
     "output_type": "stream",
     "text": [
      "14 16 16 14\n"
     ]
    }
   ],
   "source": [
    "# x = int(input())\n",
    "# y = [int(y) for y in input().split(' ',x-1)]\n",
    "y = [2, 4, 4, 2]\n",
    "#Prefix\n",
    "k1 = []\n",
    "for i in range(len(y)):\n",
    "    if i == 0:\n",
    "        k1.append(y[i])\n",
    "    else:\n",
    "        temp = k1[i-1] + y[i]\n",
    "        k1.append(temp)\n",
    "\n",
    "#Suffix\n",
    "k = []\n",
    "for i in range(1, len(y)+1):\n",
    "    if i == 1:\n",
    "        k.append(y[-i])\n",
    "    else:\n",
    "        temp = k[i-2] + y[-i]\n",
    "        k.append(temp)\n",
    "k = k[::-1]\n",
    "result = [k1[i]+k[i] for i in range(len(y))]\n",
    "print(*result)"
   ]
  },
  {
   "cell_type": "markdown",
   "metadata": {},
   "source": [
    "P140: Bitwise XOR of array"
   ]
  },
  {
   "cell_type": "code",
   "execution_count": null,
   "metadata": {},
   "outputs": [
    {
     "name": "stdout",
     "output_type": "stream",
     "text": [
      "4 7 0\n"
     ]
    }
   ],
   "source": [
    "import numpy as np\n",
    "# x = int(input())\n",
    "# y = [int(y) for y in input().split(' ',x-1)]\n",
    "y = [1, 2, 3, 4]\n",
    "bxor = y[0]\n",
    "bor = y[0]\n",
    "band = y[0]\n",
    "for i in range(1, len(y)):\n",
    "        bxor = np.bitwise_xor(bxor, y[i])\n",
    "        bor = np.bitwise_or(bor, y[i])\n",
    "        band = np.bitwise_and(band, y[i])\n",
    "print(bxor, bor, band)\n",
    "\n"
   ]
  },
  {
   "cell_type": "markdown",
   "metadata": {},
   "source": [
    "P144: Print Sum of Odd numbers between x, y"
   ]
  },
  {
   "cell_type": "code",
   "execution_count": null,
   "metadata": {},
   "outputs": [
    {
     "name": "stdout",
     "output_type": "stream",
     "text": [
      "5 5\n",
      "7 12\n",
      "12\n"
     ]
    }
   ],
   "source": [
    "x, y = map(int, input().split(' '))\n",
    "sum = 0\n",
    "for i in range(x, y+1):\n",
    "    if i%2 != 0:\n",
    "        sum += i\n",
    "        # print(i, sum)\n",
    "print(sum)"
   ]
  },
  {
   "cell_type": "markdown",
   "metadata": {},
   "source": [
    "P145: Check for Even / Odd for the Product of whole list"
   ]
  },
  {
   "cell_type": "code",
   "execution_count": null,
   "metadata": {},
   "outputs": [
    {
     "name": "stdout",
     "output_type": "stream",
     "text": [
      "64\n",
      "even\n"
     ]
    }
   ],
   "source": [
    "import numpy as np\n",
    "# x = int(input())\n",
    "# y = [int(y) for y in input().split(' ',x-1)]\n",
    "y = [2, 4, 4, 2]\n",
    "if len(y) > 1:\n",
    "    product = np.prod(y)\n",
    "    # print(product)\n",
    "else:\n",
    "    product = y[0]\n",
    "if product%2 == 0:\n",
    "    print('even')\n",
    "else:\n",
    "    print('odd')"
   ]
  },
  {
   "cell_type": "markdown",
   "metadata": {},
   "source": [
    "P147: Print elements in range (l,r)"
   ]
  },
  {
   "cell_type": "code",
   "execution_count": null,
   "metadata": {},
   "outputs": [
    {
     "name": "stdout",
     "output_type": "stream",
     "text": [
      "2\n"
     ]
    }
   ],
   "source": [
    "# n, l, r = map(int, input().split(' '))\n",
    "# x = [int(x) for x in input().split(' ', n-1)]\n",
    "x = [1, 2, 3, 4, 5]\n",
    "y = x[l:r]\n",
    "print(min(y))"
   ]
  },
  {
   "cell_type": "markdown",
   "metadata": {},
   "source": [
    "P149: Print prefix sum for array, if N is odd, print prefix sum for even positions"
   ]
  },
  {
   "cell_type": "code",
   "execution_count": null,
   "metadata": {},
   "outputs": [
    {
     "name": "stdout",
     "output_type": "stream",
     "text": [
      "2 6 10 12\n"
     ]
    }
   ],
   "source": [
    "# x = int(input())\n",
    "# y = [int(x) for x in input().split(' ', x-1)]\n",
    "x = 4\n",
    "y = [2, 4, 4, 2]\n",
    "k = []\n",
    "\n",
    "for i in range(len(y)):\n",
    "    if i == 0:\n",
    "        k.append(y[i])\n",
    "    else:\n",
    "        temp = k[i-1] + y[i]\n",
    "        k.append(temp)\n",
    "\n",
    "if x%2 != 0:\n",
    "    for i in range(len(y)):\n",
    "        if i%2 == 0:\n",
    "            k[i] = y[i]\n",
    "print(*k)"
   ]
  },
  {
   "cell_type": "markdown",
   "metadata": {},
   "source": [
    "P150: Check if array is permutation of numbers (1 to N)"
   ]
  },
  {
   "cell_type": "code",
   "execution_count": null,
   "metadata": {},
   "outputs": [
    {
     "name": "stdout",
     "output_type": "stream",
     "text": [
      "yes\n"
     ]
    }
   ],
   "source": [
    "# x = int(input())\n",
    "# y = [int(x) for x in input().split(' ', x-1)]\n",
    "x = 5\n",
    "y = [1, 2, 3, 4, 5]\n",
    "\n",
    "def permutation(arr, n):\n",
    "    s = set()\n",
    "    max_num = 0\n",
    "    for i in range(n):\n",
    "        s.add(arr[i])\n",
    "        max_num = max(max_num, arr[i])\n",
    "    if max_num != n:\n",
    "        return False\n",
    "    if len(s) == n:\n",
    "        return True\n",
    "\n",
    "if permutation(y, x):\n",
    "    print('yes')\n",
    "else:\n",
    "    print('no')\n"
   ]
  },
  {
   "cell_type": "markdown",
   "metadata": {},
   "source": [
    "P151: Sort array such that first half is ascending and then descending"
   ]
  },
  {
   "cell_type": "code",
   "execution_count": null,
   "metadata": {},
   "outputs": [
    {
     "name": "stdout",
     "output_type": "stream",
     "text": [
      "[6, 5, 4, 3, 2, 1]\n",
      "4 5 6 3 2 1\n"
     ]
    }
   ],
   "source": [
    "# x = int(input())\n",
    "# y = [int(x) for x in input().split(' ', x-1)]\n",
    "x = 6\n",
    "if x%2 == 0:\n",
    "    mid = x//2\n",
    "else:\n",
    "    mid = x//2 + 1\n",
    "y = [1, 2, 3, 4, 5, 6]\n",
    "y.sort(reverse=True)\n",
    "print(y)\n",
    "y[:mid] = y[:mid][::-1]\n",
    "print(*y)"
   ]
  },
  {
   "cell_type": "markdown",
   "metadata": {},
   "source": [
    "P152: Minimum difference between consecutive numbers in array"
   ]
  },
  {
   "cell_type": "code",
   "execution_count": null,
   "metadata": {},
   "outputs": [
    {
     "name": "stdout",
     "output_type": "stream",
     "text": [
      "0\n"
     ]
    }
   ],
   "source": [
    "# x = int(input())\n",
    "# y = [int(x) for x in input().split(' ', x-1)]\n",
    "x = 5\n",
    "y = [1, 9, 3, 4, 1]\n",
    "\n",
    "def abs_mini(arr, n):\n",
    "    arr.sort()\n",
    "    min_num = arr[0]\n",
    "    for i in range(1, n):\n",
    "        diff = abs(arr[i]-arr[i-1])\n",
    "        min_num = min(min_num, diff)\n",
    "    return min_num\n",
    "\n",
    "result =  abs_mini(y, x)\n",
    "print(result)"
   ]
  },
  {
   "cell_type": "markdown",
   "metadata": {},
   "source": [
    "P153: Smallest divisible no. by all the elements in array"
   ]
  },
  {
   "cell_type": "code",
   "execution_count": null,
   "metadata": {},
   "outputs": [
    {
     "name": "stdout",
     "output_type": "stream",
     "text": [
      "60\n"
     ]
    }
   ],
   "source": [
    "# x = int(input())\n",
    "# y = [int(x) for x in input().split(' ', x-1)]\n",
    "x = 5\n",
    "y = [1, 2, 3, 4, 5]\n",
    "\n",
    "def divisible(y, i):\n",
    "    arr = list(map(lambda y: i%y, y))\n",
    "    return arr\n",
    "i = 1\n",
    "while (i != 0):\n",
    "    arr = divisible(y, i)\n",
    "    if sum(arr) == 0:\n",
    "        print(i)\n",
    "        break\n",
    "    else:\n",
    "        i += 1"
   ]
  },
  {
   "cell_type": "markdown",
   "metadata": {},
   "source": [
    "P156: Check if element exist, else find the nearest smaller number"
   ]
  },
  {
   "cell_type": "code",
   "execution_count": null,
   "metadata": {},
   "outputs": [
    {
     "name": "stdout",
     "output_type": "stream",
     "text": [
      "701\n"
     ]
    }
   ],
   "source": [
    "# x, y = map(int, input().split(' '))\n",
    "# z = [int(x) for x in input().split(' ', x-1)]\n",
    "x, y = 5, -1\n",
    "z = [1, 2, 3, 4, 5]\n",
    "\n",
    "def checker(z, y):\n",
    "    arr = z + [y]\n",
    "    arr.sort()\n",
    "    id = arr.index(y)\n",
    "    smaller = id - 1\n",
    "    if smaller >= 0:\n",
    "        return arr[smaller]\n",
    "    else:\n",
    "        return None\n",
    "\n",
    "if y in z:\n",
    "    print(y)\n",
    "elif checker(z, y) != None:\n",
    "    print(checker(z, y))\n",
    "else:\n",
    "    print(-1)\n"
   ]
  },
  {
   "cell_type": "markdown",
   "metadata": {},
   "source": [
    " P158: Check for element if prefix sum and suffix sum exist in array"
   ]
  },
  {
   "cell_type": "code",
   "execution_count": null,
   "metadata": {},
   "outputs": [
    {
     "name": "stdout",
     "output_type": "stream",
     "text": [
      "yes\n"
     ]
    }
   ],
   "source": [
    "# x = int(input())\n",
    "# y = [int(y) for y in input().split(' ',x-1)]\n",
    "y = [1, 1, 1, 1, 1]\n",
    "#Prefix\n",
    "k1 = []\n",
    "for i in range(len(y)):\n",
    "    if i == 0:\n",
    "        k1.append(y[i])\n",
    "    else:\n",
    "        temp = k1[i-1] + y[i]\n",
    "        k1.append(temp)\n",
    "\n",
    "#Suffix\n",
    "k = []\n",
    "for i in range(1, len(y)+1):\n",
    "    if i == 1:\n",
    "        k.append(y[-i])\n",
    "    else:\n",
    "        temp = k[i-2] + y[-i]\n",
    "        k.append(temp)\n",
    "k = k[::-1]\n",
    "\n",
    "found = False\n",
    "for i in range(len(y)):\n",
    "    if k1[i] == k[i]:\n",
    "        found = True\n",
    "        print('yes')\n",
    "        break\n",
    "\n",
    "if found == False:\n",
    "    print('no')\n",
    "\n",
    "\n"
   ]
  },
  {
   "cell_type": "markdown",
   "metadata": {},
   "source": [
    " P159: Count vowels and sort the string in descending order"
   ]
  },
  {
   "cell_type": "code",
   "execution_count": null,
   "metadata": {},
   "outputs": [
    {
     "name": "stdout",
     "output_type": "stream",
     "text": [
      "overload\n",
      "code\n",
      "vishal\n",
      "sundar\n",
      "anish\n"
     ]
    }
   ],
   "source": [
    "# x = int(input())\n",
    "# y = []\n",
    "# for i in range(x):\n",
    "#     y.append(input())\n",
    "x = 5\n",
    "y = ['code','overload','vishal','sundar','anish']\n",
    "vowels = ['a', 'e', 'i', 'o', 'u']\n",
    "counts = []\n",
    "for i in range(5):\n",
    "    count = 0\n",
    "    for j in y[i]:\n",
    "        if j in vowels:\n",
    "            count += 1\n",
    "    counts.append(count)\n",
    "d = {y[i]:counts[i] for i in range(x)}\n",
    "d = dict(sorted(d.items(), key=lambda x:x[1], reverse=True))\n",
    "print(*d.keys(), sep='\\n')\n",
    "\n",
    "\n"
   ]
  },
  {
   "cell_type": "markdown",
   "metadata": {},
   "source": [
    " P160: Count pairs of ai < aj in array"
   ]
  },
  {
   "cell_type": "code",
   "execution_count": null,
   "metadata": {},
   "outputs": [
    {
     "name": "stdout",
     "output_type": "stream",
     "text": [
      "1\n"
     ]
    }
   ],
   "source": [
    "import itertools as it\n",
    "# x = int(input())\n",
    "# y = [int(y) for y in input().split(' ',x-1)]\n",
    "y = [1, 2, 1]\n",
    "count = 0\n",
    "for i in range(len(y)-1):\n",
    "    for j in range(i+1, len(y)):\n",
    "        if y[i] > y[j]:\n",
    "            count += 1\n",
    "print(count)\n"
   ]
  },
  {
   "cell_type": "markdown",
   "metadata": {},
   "source": [
    " P161: Merge arrays and sort it"
   ]
  },
  {
   "cell_type": "code",
   "execution_count": null,
   "metadata": {},
   "outputs": [
    {
     "ename": "ValueError",
     "evalue": "invalid literal for int() with base 10: ''",
     "output_type": "error",
     "traceback": [
      "\u001b[1;31m---------------------------------------------------------------------------\u001b[0m\n",
      "\u001b[1;31mValueError\u001b[0m                                Traceback (most recent call last)\n",
      "\u001b[1;32mc:\\Users\\PandiyaDS\\Desktop\\Data_Science\\CODEKATA\\try.ipynb Cell 8'\u001b[0m in \u001b[0;36m<cell line: 1>\u001b[1;34m()\u001b[0m\n",
      "\u001b[1;32m----> <a href='vscode-notebook-cell:/c%3A/Users/PandiyaDS/Desktop/Data_Science/CODEKATA/try.ipynb#ch0000007?line=0'>1</a>\u001b[0m x \u001b[39m=\u001b[39m \u001b[39mint\u001b[39;49m(\u001b[39minput\u001b[39;49m())\n",
      "\u001b[0;32m      <a href='vscode-notebook-cell:/c%3A/Users/PandiyaDS/Desktop/Data_Science/CODEKATA/try.ipynb#ch0000007?line=1'>2</a>\u001b[0m y \u001b[39m=\u001b[39m []\n",
      "\u001b[0;32m      <a href='vscode-notebook-cell:/c%3A/Users/PandiyaDS/Desktop/Data_Science/CODEKATA/try.ipynb#ch0000007?line=2'>3</a>\u001b[0m \u001b[39mfor\u001b[39;00m i \u001b[39min\u001b[39;00m \u001b[39mrange\u001b[39m(x):\n",
      "\n",
      "\u001b[1;31mValueError\u001b[0m: invalid literal for int() with base 10: ''"
     ]
    }
   ],
   "source": [
    "x = int(input())\n",
    "y = []\n",
    "for i in range(x):\n",
    "    z = [int(x) for x in input().split(' ')]\n",
    "    y = y + z\n",
    "y.sort()\n",
    "print(*y)\n"
   ]
  },
  {
   "cell_type": "markdown",
   "metadata": {},
   "source": [
    " P163: Find the max"
   ]
  },
  {
   "cell_type": "code",
   "execution_count": null,
   "metadata": {},
   "outputs": [],
   "source": [
    "# x = int(input())\n",
    "# y = [int(y) for y in input().split(' ',x-1)]\n",
    "y = [1, 15, 25, 45, 42, 21, 17, 12, 11]\n",
    "mm = max(y)\n",
    "id = y.index(mm)\n",
    "print(id)\n"
   ]
  },
  {
   "cell_type": "markdown",
   "metadata": {},
   "source": [
    " P164: Find the missing number in N range list"
   ]
  },
  {
   "cell_type": "code",
   "execution_count": null,
   "metadata": {},
   "outputs": [],
   "source": [
    "# x = int(input())\n",
    "# y = [int(y) for y in input().split(' ',)]\n",
    "z = []\n",
    "for i in range(1, x+1): z.append(i)\n",
    "for i in z:\n",
    "    if i not in y:\n",
    "        print(i)\n",
    "        break\n",
    "\n"
   ]
  },
  {
   "cell_type": "markdown",
   "metadata": {},
   "source": [
    " P165: Insert element in array and find its index"
   ]
  },
  {
   "cell_type": "code",
   "execution_count": null,
   "metadata": {},
   "outputs": [],
   "source": [
    "a = int(input())\n",
    "b = [int(y) for y in input().split(' ',)]\n",
    "c = int(input())\n",
    "d = [int(y) for y in input().split(' ',)]\n",
    "z = []\n",
    "for i in d:\n",
    "    b.append(i)\n",
    "    b.sort(reverse=True)\n",
    "    z.append(b.index(i) + 1)\n",
    "print(*z)\n"
   ]
  },
  {
   "cell_type": "markdown",
   "metadata": {},
   "source": [
    " P166: Similar to P151"
   ]
  },
  {
   "cell_type": "code",
   "execution_count": null,
   "metadata": {},
   "outputs": [],
   "source": [
    "# x, k = map(int, input().split(' '))\n",
    "# y = [int(x) for x in input().split(' ', x-1)]\n",
    "x, k = 5, 2\n",
    "y = [4, 3, 1, 2, 4]\n",
    "y.sort(reverse=True)\n",
    "y[:(k+1)] = y[:(k+1)][::-1]\n",
    "print(*y)\n"
   ]
  },
  {
   "cell_type": "markdown",
   "metadata": {},
   "source": [
    " P167: Check if both strings have base alphabets"
   ]
  },
  {
   "cell_type": "code",
   "execution_count": null,
   "metadata": {},
   "outputs": [],
   "source": [
    "x = list(input().split(' '))\n",
    "def counter(x, y):\n",
    "    count = 0\n",
    "    for i in x:\n",
    "        if i in y: count += 1\n",
    "    if count == len(x):\n",
    "        print('true')\n",
    "    else:\n",
    "        print('false')\n",
    "\n",
    "if len(x[0]) > len(x[1]):\n",
    "    counter(x[0], x[1])\n",
    "else:\n",
    "    counter(x[1], x[0])\n"
   ]
  },
  {
   "cell_type": "markdown",
   "metadata": {},
   "source": [
    " P168: Find smaller number given to you"
   ]
  },
  {
   "cell_type": "code",
   "execution_count": null,
   "metadata": {},
   "outputs": [],
   "source": [
    "x, k = map(int, input().split(' '))\n",
    "y = [int(x) for x in input().split(' ', x-1)]\n",
    "y.sort()\n",
    "if k in y:\n",
    "    print(1)\n",
    "    id = y.index(k)\n",
    "    z = y[id-1]\n",
    "    print(z)\n",
    "else:\n",
    "    print(2)\n",
    "    y.append(k)\n",
    "    y.sort()\n",
    "    id = y.index(k)\n",
    "    z = y[id-1]\n",
    "    print(z)\n"
   ]
  },
  {
   "cell_type": "markdown",
   "metadata": {},
   "source": [
    "P169: Equalize the collected money"
   ]
  },
  {
   "cell_type": "code",
   "execution_count": null,
   "metadata": {},
   "outputs": [],
   "source": [
    "# x = int(input())\n",
    "# A = [int(a) for a in input().split(' ', x-1)]\n",
    "# B = [int(a) for a in input().split(' ', x-1)]\n",
    "x = 4\n",
    "A = [5, 7, 4, 6] \n",
    "B = [1, 2, 3, 8]\n",
    "found = True\n",
    "for i in range(x):\n",
    "    temp = A[i]\n",
    "    A[i] = B[i]\n",
    "    B[i] = temp\n",
    "    if sum(A) == sum(B):\n",
    "        found = True\n",
    "        print('yes')\n",
    "        break\n",
    "if found == False:\n",
    "    print('no')"
   ]
  },
  {
   "cell_type": "markdown",
   "metadata": {},
   "source": [
    " P170: Print Even factors"
   ]
  },
  {
   "cell_type": "code",
   "execution_count": null,
   "metadata": {},
   "outputs": [],
   "source": [
    "x = int(input())\n",
    "factors = []                 \n",
    "for i in range(2, x+1):\n",
    "    if x%i == 0 and i%2 == 0:\n",
    "        factors.append(i)\n",
    "if factors != []:\n",
    "    print(*factors)\n",
    "else:\n",
    "    print(-1)"
   ]
  },
  {
   "cell_type": "markdown",
   "metadata": {},
   "source": [
    " P171: Print the repeated elements"
   ]
  },
  {
   "cell_type": "code",
   "execution_count": null,
   "metadata": {},
   "outputs": [],
   "source": [
    "from audioop import reverse\n",
    "from collections import Counter\n",
    "x = int(input())\n",
    "y = [int(x) for x in input().split(' ')]\n",
    "d = dict(Counter(y))\n",
    "key = [k for k, v in d.items() if v > 1]\n",
    "if key != []:\n",
    "    key.sort()\n",
    "    print(*key)\n",
    "else:\n",
    "    print('unique')\n"
   ]
  },
  {
   "cell_type": "markdown",
   "metadata": {},
   "source": [
    " P172: Sort array & sum element 1 & 2"
   ]
  },
  {
   "cell_type": "code",
   "execution_count": null,
   "metadata": {},
   "outputs": [],
   "source": [
    "x = int(input())\n",
    "y = [int(x) for x in input().split(' ')]\n",
    "y.sort()\n",
    "sum = y[0] + y[1]\n",
    "print(sum)\n"
   ]
  },
  {
   "cell_type": "markdown",
   "metadata": {},
   "source": [
    " P173: Find Smallest number greater than N"
   ]
  },
  {
   "cell_type": "code",
   "execution_count": null,
   "metadata": {},
   "outputs": [],
   "source": [
    "x = int(input())\n",
    "def make_num(y):\n",
    "    result = [d * 10**i for i, d in enumerate(y[::-1])]\n",
    "    return sum(result)\n",
    "def exchange(a, b, y):\n",
    "    temp = y[a]\n",
    "    y[a] = y[b]\n",
    "    y[b] = temp\n",
    "    return y\n",
    "\n",
    "y = list(str(x))\n",
    "y = list(map(int, y))\n",
    "found = False\n",
    "for i in range(len(y)):\n",
    "    if i <= len(y)-2 and y[-(i+1)] > y[-(i+2)]:\n",
    "        y = exchange(-1, -2, y)\n",
    "        result = make_num(y)\n",
    "        if result > x:\n",
    "            found = True\n",
    "            print(result)\n",
    "            break\n",
    "if found == False:\n",
    "    print('impossible')\n"
   ]
  },
  {
   "cell_type": "markdown",
   "metadata": {},
   "source": [
    " P174: Largest number from given digits"
   ]
  },
  {
   "cell_type": "code",
   "execution_count": null,
   "metadata": {},
   "outputs": [],
   "source": [
    "def make_num(y):\n",
    "    result = [d * 10**i for i, d in enumerate(y[::-1])]\n",
    "    return sum(result)\n",
    "x = int(input())\n",
    "y = [int(x) for x in input().split(' ')]\n",
    "y.sort(reverse=True)\n",
    "result = make_num(y)\n",
    "print(result)\n"
   ]
  },
  {
   "cell_type": "markdown",
   "metadata": {},
   "source": [
    " P175: Find the maximum sum of subarray (Kadane's Algorithm)"
   ]
  },
  {
   "cell_type": "code",
   "execution_count": null,
   "metadata": {},
   "outputs": [],
   "source": [
    "# x = int(input())\n",
    "# y = [int(y) for y in input().split(' ', x-1)]\n",
    "# y = [1, 2, 3, 4, 5, 6, 7]\n",
    "y = [1, -2, 1, -3, 4, 5]\n",
    "m_sum = 0\n",
    "result = []\n",
    "sub_array = []\n",
    "for i in range(len(y)):\n",
    "    m_sum = max(m_sum+y[i], 0)\n",
    "    result.append(m_sum)\n",
    "    if m_sum == 0:\n",
    "        sub_array = []\n",
    "    else:\n",
    "        sub_array.append(y[i])\n",
    "print(m_sum, result, sub_array, sep='\\n')\n",
    "# print(m_sum)\n"
   ]
  },
  {
   "cell_type": "markdown",
   "metadata": {},
   "source": [
    " P176: If Palindrome, perform elimination at end of string"
   ]
  },
  {
   "cell_type": "code",
   "execution_count": null,
   "metadata": {},
   "outputs": [],
   "source": [
    "x = list(input())\n",
    "y = x[::-1]\n",
    "if y == x:\n",
    "    print(*x[:-1], sep='')\n",
    "else:\n",
    "    print(*x, sep='')\n"
   ]
  },
  {
   "cell_type": "markdown",
   "metadata": {},
   "source": [
    " P177: Sort the data w.r.t to subject Math, CS, English"
   ]
  },
  {
   "cell_type": "code",
   "execution_count": null,
   "metadata": {},
   "outputs": [],
   "source": [
    "# x = int(input())\n",
    "# main_d = {}\n",
    "# for i in range(x):\n",
    "#     st, cs, mth, eng = map(str, input().split(' '))\n",
    "#     main_d[st] = [int(cs), int(mth), int(eng)]\n",
    "def flatten(y):\n",
    "    result = []\n",
    "    for i in y:\n",
    "        temp = []\n",
    "        temp.append(i[0])\n",
    "        for j in i[1]:\n",
    "            temp.append(j)\n",
    "        result.append(temp)\n",
    "    return result\n",
    "\n",
    "main_d = {'A': [34, 89, 98], 'B': [98, 87, 98], 'C': [87, 67, 98]}\n",
    "mth_sot = dict(sorted(main_d.items(), key=lambda x:x[1][1], reverse=True))\n",
    "# print(mth_sot)\n",
    "store = [[key, value] for key,value in mth_sot.items()]\n",
    "result = flatten(store)\n",
    "for i in result:\n",
    "    print(*i)"
   ]
  },
  {
   "cell_type": "markdown",
   "metadata": {},
   "source": [
    " P178: Print even elements in odd inded and vice versa"
   ]
  },
  {
   "cell_type": "code",
   "execution_count": null,
   "metadata": {},
   "outputs": [],
   "source": [
    "# x = int(input())\n",
    "# y = [int(y) for y in input().split(' ', x-1)]\n",
    "y = [2, 3, 4, 5, 6]\n",
    "result = []\n",
    "for i in range(len(y)):\n",
    "    if i%2 != 0 and y[i]%2 == 0:\n",
    "        result.append(y[i])\n",
    "    elif i%2 == 0 and y[i]%2 != 0:\n",
    "        result.append(y[i])\n",
    "if result != []:\n",
    "    print(*result)\n",
    "else:\n",
    "    print(-1)\n"
   ]
  },
  {
   "cell_type": "markdown",
   "metadata": {},
   "source": [
    " P180: Print if i == y[i]"
   ]
  },
  {
   "cell_type": "code",
   "execution_count": null,
   "metadata": {},
   "outputs": [],
   "source": [
    "# x = int(input())\n",
    "# y = [int(y) for y in input().split(' ', x-1)]\n",
    "y = [6, 7, 3, 3, 4, 5]\n",
    "result = []\n",
    "for i in range(len(y)):\n",
    "    if i == y[i]:\n",
    "        result.append(y[i])\n",
    "if result != []:\n",
    "    print(*result)\n",
    "else:\n",
    "    print(-1)\n"
   ]
  },
  {
   "cell_type": "markdown",
   "metadata": {},
   "source": [
    " P182: Sort descending order for repeating numbers"
   ]
  },
  {
   "cell_type": "code",
   "execution_count": null,
   "metadata": {},
   "outputs": [],
   "source": [
    "from collections import Counter\n",
    "# x = int(input())\n",
    "# y = [int(y) for y in input().split(' ', x-1)]\n",
    "y = [3, 3, 4, 4, 7]\n",
    "d = dict(Counter(y))\n",
    "d = dict(sorted(d.items(), key=lambda x:x[1], reverse=True))\n",
    "result = [key for key, v in d.items() if v > 1]\n",
    "result1 = [key for key, v in d.items() if v == 1]\n",
    "result.sort(reverse=True)\n",
    "result1.sort(reverse=True)\n",
    "print(*(result+result1))\n"
   ]
  },
  {
   "cell_type": "markdown",
   "metadata": {},
   "source": [
    " P183: Search elements such that i+j = y (Brute method)"
   ]
  },
  {
   "cell_type": "code",
   "execution_count": null,
   "metadata": {},
   "outputs": [
    {
     "ename": "ValueError",
     "evalue": "invalid literal for int() with base 10: ''",
     "output_type": "error",
     "traceback": [
      "\u001b[1;31m---------------------------------------------------------------------------\u001b[0m\n",
      "\u001b[1;31mValueError\u001b[0m                                Traceback (most recent call last)\n",
      "\u001b[1;32mc:\\Users\\PandiyaDS\\Desktop\\Data_Science\\CODEKATA\\try.ipynb Cell 2'\u001b[0m in \u001b[0;36m<cell line: 1>\u001b[1;34m()\u001b[0m\n",
      "\u001b[1;32m----> <a href='vscode-notebook-cell:/c%3A/Users/PandiyaDS/Desktop/Data_Science/CODEKATA/try.ipynb#ch0000001?line=0'>1</a>\u001b[0m x, y \u001b[39m=\u001b[39m \u001b[39mmap\u001b[39m(\u001b[39mint\u001b[39m, \u001b[39minput\u001b[39m()\u001b[39m.\u001b[39msplit(\u001b[39m'\u001b[39m\u001b[39m \u001b[39m\u001b[39m'\u001b[39m))\n",
      "\u001b[0;32m      <a href='vscode-notebook-cell:/c%3A/Users/PandiyaDS/Desktop/Data_Science/CODEKATA/try.ipynb#ch0000001?line=1'>2</a>\u001b[0m z \u001b[39m=\u001b[39m [\u001b[39mint\u001b[39m(x) \u001b[39mfor\u001b[39;00m x \u001b[39min\u001b[39;00m \u001b[39minput\u001b[39m()\u001b[39m.\u001b[39msplit(\u001b[39m'\u001b[39m\u001b[39m \u001b[39m\u001b[39m'\u001b[39m, x\u001b[39m-\u001b[39m\u001b[39m1\u001b[39m)]\n",
      "\u001b[0;32m      <a href='vscode-notebook-cell:/c%3A/Users/PandiyaDS/Desktop/Data_Science/CODEKATA/try.ipynb#ch0000001?line=2'>3</a>\u001b[0m found \u001b[39m=\u001b[39m \u001b[39mFalse\u001b[39;00m\n",
      "\n",
      "\u001b[1;31mValueError\u001b[0m: invalid literal for int() with base 10: ''"
     ]
    }
   ],
   "source": [
    "x, y = map(int, input().split(' '))\n",
    "z = [int(x) for x in input().split(' ', x-1)]\n",
    "found = False\n",
    "for i in range(x-1):\n",
    "    for j in range(i+1, x):\n",
    "        if z[i] + z[j] == y:\n",
    "            found = True\n",
    "            print('yes')\n",
    "            break\n",
    "    if found:\n",
    "        break\n",
    "if found == False:\n",
    "    print('no')\n"
   ]
  },
  {
   "cell_type": "markdown",
   "metadata": {},
   "source": [
    " P184: Count 1's in Binary rep. for prime no. in range(L,R)"
   ]
  },
  {
   "cell_type": "code",
   "execution_count": null,
   "metadata": {},
   "outputs": [
    {
     "name": "stdout",
     "output_type": "stream",
     "text": [
      "[3, 5, 7]\n",
      "11\n",
      "101\n",
      "111\n",
      "7\n"
     ]
    }
   ],
   "source": [
    "L, R = map(int, input().split(' '))\n",
    "prime = []\n",
    "for i in range(L, R):\n",
    "    prime_value = True\n",
    "    if i == 1:\n",
    "        continue\n",
    "    for j in range(2, i):\n",
    "        if i%j == 0:\n",
    "            prime_value = False\n",
    "    if prime_value:\n",
    "        prime.append(i)\n",
    "print(prime)\n",
    "count_1s = 0\n",
    "for i in prime:\n",
    "    x = format(i, 'b')\n",
    "    print(x)\n",
    "    count_1s += x.count('1')\n",
    "print(count_1s)\n",
    "     \n"
   ]
  },
  {
   "cell_type": "markdown",
   "metadata": {},
   "source": [
    " P185: Count if N*j exists in array"
   ]
  },
  {
   "cell_type": "code",
   "execution_count": null,
   "metadata": {},
   "outputs": [],
   "source": [
    "# N = int(input())\n",
    "# y = [int(x) for x in input().split(' ', x-1)]\n",
    "N = 5\n",
    "y = [1, 2, 3, 4, 5]\n",
    "count = 0\n",
    "for i in range(N):\n",
    "    j = i + 1\n",
    "    if N*j in y:\n",
    "        count += 1\n",
    "print(count)\n",
    "\n"
   ]
  },
  {
   "cell_type": "markdown",
   "metadata": {},
   "source": [
    " P186: Check the common elements in arrays"
   ]
  },
  {
   "cell_type": "code",
   "execution_count": null,
   "metadata": {},
   "outputs": [],
   "source": [
    "from collections import Counter\n",
    "N, K = map(int, input().split(' '))\n",
    "y = []\n",
    "for i in range(N):\n",
    "    temp = [int(x) for x in input().split(' ', K-1)]\n",
    "    y = y + temp\n",
    "\n",
    "d = dict(Counter(y))\n",
    "key = [k for k, v in d.items() if v == N]\n",
    "print(*key)\n",
    "\n"
   ]
  },
  {
   "cell_type": "markdown",
   "metadata": {},
   "source": [
    " P187: Check if arr B as subset of arr A"
   ]
  },
  {
   "cell_type": "code",
   "execution_count": null,
   "metadata": {},
   "outputs": [],
   "source": [
    "N, K = map(int, input().split(' '))\n",
    "x = [int(x) for x in input().split(' ', N-1)]\n",
    "y = [int(x) for x in input().split(' ', K-1)]\n",
    "if N > K:\n",
    "    count = 0\n",
    "    for i in y:\n",
    "        if i in x:\n",
    "            count += 1\n",
    "    if count == K:\n",
    "        print('yes')\n",
    "    else:\n",
    "        print('no')\n",
    "else:\n",
    "        print('no')\n"
   ]
  },
  {
   "cell_type": "markdown",
   "metadata": {},
   "source": [
    " P188: Find products of arrays except i for i position"
   ]
  },
  {
   "cell_type": "code",
   "execution_count": null,
   "metadata": {},
   "outputs": [],
   "source": [
    "# N = int(input())\n",
    "# x = [int(x) for x in input().split(' ', N-1)]\n",
    "x = [1, 2, 3, 4, 5]\n",
    "\n",
    "def product(arr):\n",
    "    prod = 1\n",
    "    for i in arr:\n",
    "        prod *= i\n",
    "    return prod\n",
    "\n",
    "result = []\n",
    "\n",
    "for i in range(len(x)):\n",
    "    tem = []\n",
    "    tem += x\n",
    "    tem.remove(x[i])\n",
    "    result.append(product(tem))\n",
    "print(*result)\n",
    "\n"
   ]
  },
  {
   "cell_type": "markdown",
   "metadata": {},
   "source": [
    " P189: Find the non-repeated element"
   ]
  },
  {
   "cell_type": "code",
   "execution_count": null,
   "metadata": {},
   "outputs": [],
   "source": [
    "from collections import Counter\n",
    "# N = int(input())\n",
    "# x = [int(x) for x in input().split(' ', N-1)]\n",
    "x = [30, 5, 5, 30, -45]\n",
    "d = dict(Counter(x))\n",
    "key = [k for k, v in d.items() if v == 1]\n",
    "print(*key)\n"
   ]
  },
  {
   "cell_type": "markdown",
   "metadata": {},
   "source": [
    " P190: Find the kth largest element in array"
   ]
  },
  {
   "cell_type": "code",
   "execution_count": null,
   "metadata": {},
   "outputs": [],
   "source": [
    "N, K = map(int, input().split(' '))\n",
    "x = [int(x) for x in input().split(' ', N-1)]\n",
    "x.sort(reverse=True)\n",
    "print(x[K-1])\n"
   ]
  },
  {
   "cell_type": "markdown",
   "metadata": {},
   "source": [
    " P192: Print prime numbers until R"
   ]
  },
  {
   "cell_type": "code",
   "execution_count": null,
   "metadata": {},
   "outputs": [],
   "source": [
    "R = int(input())\n",
    "prime = []\n",
    "for i in range(2, R):\n",
    "    prime_value = True\n",
    "    for j in range(2, i):\n",
    "        if i%j == 0:\n",
    "            prime_value = False\n",
    "    if prime_value:\n",
    "        prime.append(i)\n",
    "print(*prime)\n",
    "\n"
   ]
  },
  {
   "cell_type": "markdown",
   "metadata": {},
   "source": [
    " P193: Smallest number in the given list after each input"
   ]
  },
  {
   "cell_type": "code",
   "execution_count": null,
   "metadata": {},
   "outputs": [],
   "source": [
    "# R = int(input())\n",
    "# x = [int(x) for x in input().split(' ', R-1)]\n",
    "x = [3, 2, 4, 1]\n",
    "mini = 0\n",
    "min_array = []\n",
    "for i in range(len(x)):\n",
    "    if i == 0:\n",
    "        mini = x[i]\n",
    "    else:\n",
    "        mini = min(mini, x[i])\n",
    "    min_array.append(mini)\n",
    "print(*min_array)\n",
    "\n"
   ]
  },
  {
   "cell_type": "markdown",
   "metadata": {},
   "source": [
    " P194: Count pairs which satisfies ai < aj for i < j"
   ]
  },
  {
   "cell_type": "code",
   "execution_count": null,
   "metadata": {},
   "outputs": [],
   "source": [
    "# R = int(input())\n",
    "# x = [int(x) for x in input().split(' ', R-1)]\n",
    "x = [1, 4, 2, 3, 5]\n",
    "count = 0\n",
    "for i in range(len(x)-1):\n",
    "    for j in range(i+1, len(x)):\n",
    "        if i < j and x[i] < x[j]:\n",
    "            count += 1\n",
    "print(count)"
   ]
  },
  {
   "cell_type": "markdown",
   "metadata": {},
   "source": [
    "P195: Count the no. of anagrams group"
   ]
  },
  {
   "cell_type": "code",
   "execution_count": null,
   "metadata": {},
   "outputs": [],
   "source": [
    "# x = int(input())\n",
    "# y = [str(x) for x in input().split(' ')]\n",
    "y = ['rat', 'art', 'cat', 'act', 'dog', 'god', 'tar', 'pat']\n",
    "temp = []\n",
    "result = []\n",
    "i = 0\n",
    "while(i < len(y)):\n",
    "    if y[i] not in temp:\n",
    "        temp.append(y[i])\n",
    "        ss = []\n",
    "        ss.append(y[i])\n",
    "        \n",
    "        for x in y[i+1:]:\n",
    "            count = 0\n",
    "            if len(y[i]) == len(x):\n",
    "                for j in y[i]:\n",
    "                    if j in x:\n",
    "                        count += 1\n",
    "            if count == len(y[i]):\n",
    "                temp.append(x)\n",
    "                ss.append(x)\n",
    "        result.append(ss)\n",
    "        i += 1\n",
    "    else:\n",
    "        i += 1\n",
    "count = 0\n",
    "for i in result:\n",
    "    if len(i) > 1:\n",
    "        count += 1\n",
    "print(count)"
   ]
  },
  {
   "cell_type": "markdown",
   "metadata": {},
   "source": [
    "P196: Print the number of ways of taking k elements from the first n elements."
   ]
  },
  {
   "cell_type": "code",
   "execution_count": null,
   "metadata": {},
   "outputs": [],
   "source": [
    "n, r = map(int, input().split(' '))\n",
    "def factorial(N):\n",
    "    # Your code goes here\n",
    "    j=1\n",
    "    for i in range(1, N+1):\n",
    "        j=j*i\n",
    "        #print(j, i)\n",
    "    return j\n",
    "perm = factorial(n) / factorial(n-r)\n",
    "print(int(perm))"
   ]
  },
  {
   "cell_type": "markdown",
   "metadata": {},
   "source": [
    "P200: Sum of ASCII value of whole string"
   ]
  },
  {
   "cell_type": "code",
   "execution_count": null,
   "metadata": {},
   "outputs": [],
   "source": [
    "x = list(input())\n",
    "sum = 0\n",
    "for i in x:\n",
    "    sum += ord(i)\n",
    "print(sum)"
   ]
  },
  {
   "cell_type": "markdown",
   "metadata": {},
   "source": [
    "P203: Rotate the array z times anti-clockwise"
   ]
  },
  {
   "cell_type": "code",
   "execution_count": null,
   "metadata": {},
   "outputs": [],
   "source": [
    "x, z = map(int, input().split(' '))\n",
    "y = list(input().split(' ',x-1))\n",
    "k1 = y[:z]\n",
    "k2 = y[z:]\n",
    "k3 = k2 + k1\n",
    "print(*k3) "
   ]
  },
  {
   "cell_type": "markdown",
   "metadata": {},
   "source": [
    " P204: Recursivly find the Kth element until N < K"
   ]
  },
  {
   "cell_type": "code",
   "execution_count": null,
   "metadata": {},
   "outputs": [],
   "source": [
    "x = int(input())\n",
    "arr = []\n",
    "result = 0\n",
    "def reducer(N, K):\n",
    "    ar = []\n",
    "    if len(N) >= K:\n",
    "        for i in range(K-1, len(N), K):\n",
    "            # print(N[i])\n",
    "            ar.append(N[i])\n",
    "    if len(ar) >= K:\n",
    "        # print(ar)\n",
    "        reducer(ar, K)\n",
    "    else:\n",
    "        # print('->', ar[0], type(ar))\n",
    "        print(ar[0])\n",
    "\n",
    "for i in range(x):\n",
    "    n, K = map(int, input().split())\n",
    "    N = [i for i in range(1, n+1)]\n",
    "    # print(N)\n",
    "    reducer(N, K)\n",
    "    # print(ar, type(ar))\n",
    "\n",
    "\n"
   ]
  },
  {
   "cell_type": "markdown",
   "metadata": {},
   "source": [
    "P205: Sort the array if element K exists"
   ]
  },
  {
   "cell_type": "code",
   "execution_count": null,
   "metadata": {},
   "outputs": [],
   "source": [
    "x, y = map(int, input().split())\n",
    "A = [int(a) for a in input().split(' ', x-1)]\n",
    "if y in A:\n",
    "    print(*sorted(A))\n",
    "else:\n",
    "    print('not possible')"
   ]
  },
  {
   "cell_type": "markdown",
   "metadata": {},
   "source": [
    " P207: Remove element k occurance"
   ]
  },
  {
   "cell_type": "code",
   "execution_count": null,
   "metadata": {},
   "outputs": [],
   "source": [
    "\n",
    "a, b = map(int, input().split(' '))\n",
    "x = [int(x) for x in input().split(' ')]\n",
    "new_x = []\n",
    "for i in x:\n",
    "    if i != b:\n",
    "        new_x.append(i)\n",
    "if new_x != []:\n",
    "    print(*new_x)\n",
    "else:\n",
    "    print('empty')\n"
   ]
  },
  {
   "cell_type": "markdown",
   "metadata": {},
   "source": [
    " P208: Print the maximum repeating number"
   ]
  },
  {
   "cell_type": "code",
   "execution_count": null,
   "metadata": {},
   "outputs": [],
   "source": [
    "from collections import Counter\n",
    "import itertools\n",
    "x = int(input())\n",
    "y = [int(x) for x in input().split(' ')]\n",
    "d = dict(Counter(y))\n",
    "d = dict(sorted(d.items(), key=lambda x:x[1], reverse=True))\n",
    "c = [key for key, value in d.items()]\n",
    "print(c[0])\n"
   ]
  },
  {
   "cell_type": "markdown",
   "metadata": {},
   "source": [
    " P210: Union of two arrays with distinct elements."
   ]
  },
  {
   "cell_type": "code",
   "execution_count": null,
   "metadata": {},
   "outputs": [],
   "source": [
    "a = int(input())\n",
    "b = [int(x) for x in input().split(' ')]\n",
    "c = int(input())\n",
    "d = [int(x) for x in input().split(' ')]\n",
    "result = b\n",
    "for i in d:\n",
    "    if i not in result:\n",
    "        result.append(i)\n",
    "result.sort()\n",
    "print(*result)\n"
   ]
  },
  {
   "cell_type": "markdown",
   "metadata": {},
   "source": [
    " P211: Find two elements such that their sum is equal or closest to zero"
   ]
  },
  {
   "cell_type": "code",
   "execution_count": null,
   "metadata": {},
   "outputs": [],
   "source": [
    "# a = int(input())\n",
    "# b = [int(x) for x in input().split(' ', a-1)]\n",
    "# b =[-1, 2, 3, 1, 0]\n",
    "# b = [-2, -3, 0, 5, 1]\n",
    "b = [-1, 2, 2, 3, 7]\n",
    "b.sort()\n",
    "min_test = sum(b)*10\n",
    "min_pair = []\n",
    "\n",
    "# print(b, min_test)\n",
    "for i in range(len(b[:-1])):\n",
    "    for j in range(i+1, len(b)):\n",
    "        # print(b[i] , b[j], abs(b[i] + b[j]))\n",
    "        if abs(b[i] + b[j]) < min_test:\n",
    "            min_pair = []\n",
    "            min_test = abs(b[i] + b[j])\n",
    "            min_pair.append(b[i])\n",
    "            min_pair.append(b[j])\n",
    "            # print(b[i] , b[j], min_test)\n",
    "print(*min_pair)\n",
    "            \n"
   ]
  },
  {
   "cell_type": "markdown",
   "metadata": {},
   "source": [
    " P212: Expand the string with square brackets"
   ]
  },
  {
   "cell_type": "code",
   "execution_count": null,
   "metadata": {},
   "outputs": [],
   "source": [
    "x = list(input())\n",
    "# x = ['3', '[', 'b', '[', '2', '[', 'a', 'a', ']', ']', ']']\n",
    "def looper(arr):\n",
    "    # print(arr)\n",
    "    i = 0\n",
    "    multiplier = 1\n",
    "    string = ''\n",
    "    returner = False\n",
    "    while (i < len(arr)):\n",
    "        if arr[i].isdigit():\n",
    "            # print(i, arr[i])\n",
    "            multiplier = int(arr[i])\n",
    "            i += 1\n",
    "        elif arr[i] == '[':\n",
    "            # print(i, arr[i])\n",
    "            loop_string, ids = looper(arr[i+1:])\n",
    "            # print('connector', string, multiplier, loop_string)\n",
    "            string = string + multiplier * (loop_string)\n",
    "            i += ids \n",
    "            # print(string, i)\n",
    "        elif arr[i].isalpha():\n",
    "            # print(i, arr[i])\n",
    "            string = string + arr[i]\n",
    "            # print('strings: ', string)\n",
    "            i += 1\n",
    "        elif arr[i] == ']':\n",
    "            # print(i, arr[i])\n",
    "            returner = True\n",
    "            return string, i+1\n",
    "    if returner == False:\n",
    "        # print(string)\n",
    "        return string\n",
    "        \n",
    "result_string = looper(x)\n",
    "if type(result_string) == str:\n",
    "    print(result_string)\n",
    "else:\n",
    "    print(*result_string[0], sep='')\n"
   ]
  },
  {
   "cell_type": "markdown",
   "metadata": {},
   "source": [
    " P214: Print least occuring element"
   ]
  },
  {
   "cell_type": "code",
   "execution_count": null,
   "metadata": {},
   "outputs": [],
   "source": [
    "from collections import Counter\n",
    "# x = int(input())\n",
    "# y = [int(y) for y in input().split(' ')]\n",
    "y = [1, 2, 1, 3, 2]\n",
    "d = dict(Counter(y))\n",
    "k = [k for k, v in d.items() if v == 1]\n",
    "print(*k)\n"
   ]
  },
  {
   "cell_type": "markdown",
   "metadata": {},
   "source": [
    " P215: Match a2 with a1 array and sort the remaining"
   ]
  },
  {
   "cell_type": "code",
   "execution_count": null,
   "metadata": {},
   "outputs": [],
   "source": [
    "# n, m = map(int, input().split(' '))\n",
    "# a1 = [int(x) for x in input().split(' ', n-1)]\n",
    "# a2 = [int(x) for x in input().split(' ', m-1)]\n",
    "\n",
    "a1 = [2, 1, 2, 5, 7, 1, 9, 3, 6, 8, 8]\n",
    "a2 = [2, 1, 8, 3]\n",
    "result = []\n",
    "for i in a2:\n",
    "    while (i in a1):\n",
    "        result.append(i)\n",
    "        a1.remove(i)\n",
    "a1.sort()\n",
    "result = result + a1\n",
    "print(*result)\n"
   ]
  },
  {
   "cell_type": "markdown",
   "metadata": {},
   "source": [
    " P216: Print all permutations of the string"
   ]
  },
  {
   "cell_type": "code",
   "execution_count": null,
   "metadata": {},
   "outputs": [],
   "source": [
    "import itertools\n",
    "# y = [str(x) for x in input().split(' ')]\n",
    "\n",
    "y = ['a', 'b']\n",
    "for i in itertools.permutations(y):\n",
    "    print(''.join(map(str, i)))\n"
   ]
  },
  {
   "cell_type": "markdown",
   "metadata": {},
   "source": [
    " P217: Reverse every word in the string"
   ]
  },
  {
   "cell_type": "code",
   "execution_count": null,
   "metadata": {},
   "outputs": [],
   "source": [
    "# y = list(input().split(' '))\n",
    "y = ['Hello', 'World']\n",
    "result = []\n",
    "for i in y:\n",
    "    result.append(i[::-1])\n",
    "print(*result)"
   ]
  },
  {
   "cell_type": "markdown",
   "metadata": {},
   "source": [
    " P218: Find if array repeat or not"
   ]
  },
  {
   "cell_type": "code",
   "execution_count": null,
   "metadata": {},
   "outputs": [],
   "source": [
    "# N = int(input())\n",
    "# arr = []\n",
    "# for i in range(N):\n",
    "#     a = int(input())\n",
    "#     r = [int(x) for x in input().split(' ', a-1)]\n",
    "#     arr.append(r)\n",
    "arr = [[1, 8, 3, 1, 2], [9], [9]]\n",
    "found = False\n",
    "for i in range(len(arr)-1):\n",
    "    for j in range(i+1, len(arr)):\n",
    "        if arr[i] == arr[j]:\n",
    "            found = True\n",
    "            print('YES')\n",
    "            break\n",
    "if found == False:\n",
    "    print('NO')"
   ]
  },
  {
   "cell_type": "markdown",
   "metadata": {},
   "source": [
    "P220 : Partition of teams with minium weight difference (Dynamics Programming)"
   ]
  },
  {
   "cell_type": "code",
   "execution_count": null,
   "metadata": {},
   "outputs": [],
   "source": []
  },
  {
   "cell_type": "markdown",
   "metadata": {},
   "source": [
    "P222 : Find two number with sum closest to zero."
   ]
  },
  {
   "cell_type": "code",
   "execution_count": 17,
   "metadata": {},
   "outputs": [
    {
     "name": "stdout",
     "output_type": "stream",
     "text": [
      "15 -20\n"
     ]
    }
   ],
   "source": [
    "# n = int(input())\n",
    "# num = list(map(int, input().split(' ', n-1)))\n",
    "n = 5\n",
    "num = [15, 5, -20, 30, -45]\n",
    "sum_min = max(num)\n",
    "sum_pair = []\n",
    "for i in range(n):\n",
    "    for j in num[i+1:]:\n",
    "        temp = num[i] + j\n",
    "        if abs(temp) < sum_min:\n",
    "            sum_pair = []\n",
    "            sum_min = temp\n",
    "            sum_pair += [num[i], j]\n",
    "print(*sum_pair)"
   ]
  },
  {
   "cell_type": "markdown",
   "metadata": {},
   "source": [
    "P224: Count the number of ways, the person can reach the top. Person can climb either 1 stair or 2 stairs at a time.\n",
    "\n",
    "> ![](2022-10-17-18-32-41.png)"
   ]
  },
  {
   "cell_type": "code",
   "execution_count": 19,
   "metadata": {},
   "outputs": [
    {
     "name": "stdout",
     "output_type": "stream",
     "text": [
      "13\n"
     ]
    }
   ],
   "source": [
    "def MinSteps(N):\n",
    "    if N == 1: \n",
    "        return 1 # 1 jump only\n",
    "    elif N == 2:  \n",
    "        return 2 # [1, 1] and [2] so 2 ways\n",
    "    \n",
    "    prev1 = 2\n",
    "    prev2 = 1\n",
    "    curr = 0\n",
    "    for i in range(3, N+1):\n",
    "        curr = prev1 + prev2\n",
    "        prev2 = prev1\n",
    "        prev1 = curr\n",
    "    return curr\n",
    "print(MinSteps(int(input())))"
   ]
  }
 ],
 "metadata": {
  "interpreter": {
   "hash": "5024435cbfb8faf8bbbcdcac495405647c340211599983c8ce8e312773b27794"
  },
  "kernelspec": {
   "display_name": "Python 3 (ipykernel)",
   "language": "python",
   "name": "python3"
  },
  "language_info": {
   "codemirror_mode": {
    "name": "ipython",
    "version": 3
   },
   "file_extension": ".py",
   "mimetype": "text/x-python",
   "name": "python",
   "nbconvert_exporter": "python",
   "pygments_lexer": "ipython3",
   "version": "3.10.4"
  }
 },
 "nbformat": 4,
 "nbformat_minor": 4
}
